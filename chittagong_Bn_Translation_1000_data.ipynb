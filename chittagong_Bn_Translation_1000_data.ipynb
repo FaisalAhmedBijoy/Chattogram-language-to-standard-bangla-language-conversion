{
  "cells": [
    {
      "cell_type": "markdown",
      "metadata": {
        "id": "view-in-github"
      },
      "source": [
        "<a href=\"https://colab.research.google.com/github/FaisalAhmedBijoy/Chattogram-language-to-standard-bangla-language-conversion/blob/master/chittagong_Bn_Translation.ipynb\" target=\"_parent\"><img src=\"https://colab.research.google.com/assets/colab-badge.svg\" alt=\"Open In Colab\"/></a>"
      ],
      "id": "view-in-github"
    },
    {
      "cell_type": "markdown",
      "source": [
        "## 1. Import Libraries"
      ],
      "metadata": {
        "id": "qjXsmyPcJnZt"
      },
      "id": "qjXsmyPcJnZt"
    },
    {
      "cell_type": "code",
      "execution_count": 1,
      "id": "ad758c64",
      "metadata": {
        "id": "ad758c64"
      },
      "outputs": [],
      "source": [
        "import math\n",
        "import torchtext\n",
        "import torch\n",
        "import torch.nn as nn\n",
        "from torch import Tensor\n",
        "from collections import Counter\n",
        "from torchtext.vocab import Vocab\n",
        "from torch.utils.data import DataLoader\n",
        "from torch.nn.utils.rnn import pad_sequence\n",
        "\n",
        "import io\n",
        "import time\n",
        "import pickle\n",
        "import numpy as np\n",
        "import pandas as pd\n",
        "import sentencepiece as spm\n",
        "\n",
        "from torch.nn import TransformerEncoder, TransformerDecoder, TransformerEncoderLayer, TransformerDecoderLayer\n",
        "torch.manual_seed(0)\n",
        "device = torch.device('cuda' if torch.cuda.is_available() else 'cpu')"
      ]
    },
    {
      "cell_type": "code",
      "source": [
        "print('device: ',device)"
      ],
      "metadata": {
        "colab": {
          "base_uri": "https://localhost:8080/"
        },
        "id": "o735S2fNZpbS",
        "outputId": "d50627b2-6749-4a9a-a703-7362a8a30048"
      },
      "id": "o735S2fNZpbS",
      "execution_count": null,
      "outputs": [
        {
          "output_type": "stream",
          "name": "stdout",
          "text": [
            "device:  cuda\n"
          ]
        }
      ]
    },
    {
      "cell_type": "markdown",
      "source": [
        "## 2. Access Google Drive"
      ],
      "metadata": {
        "id": "buP6RIxTmJXc"
      },
      "id": "buP6RIxTmJXc"
    },
    {
      "cell_type": "code",
      "source": [
        "from google.colab import drive\n",
        "drive.mount('/content/drive')"
      ],
      "metadata": {
        "colab": {
          "base_uri": "https://localhost:8080/"
        },
        "id": "QwYe2-6IuCmO",
        "outputId": "74fcc338-c1cc-422e-ba16-a211fc30ad26"
      },
      "id": "QwYe2-6IuCmO",
      "execution_count": 2,
      "outputs": [
        {
          "output_type": "stream",
          "name": "stdout",
          "text": [
            "Mounted at /content/drive\n"
          ]
        }
      ]
    },
    {
      "cell_type": "code",
      "source": [],
      "metadata": {
        "id": "SsvDJvwdupNt"
      },
      "id": "SsvDJvwdupNt",
      "execution_count": null,
      "outputs": []
    },
    {
      "cell_type": "markdown",
      "source": [
        "## 3. Analysis the Dataset"
      ],
      "metadata": {
        "id": "dNyjyE-fCLYU"
      },
      "id": "dNyjyE-fCLYU"
    },
    {
      "cell_type": "code",
      "source": [],
      "metadata": {
        "id": "D9CxIpUBvvv7"
      },
      "id": "D9CxIpUBvvv7",
      "execution_count": null,
      "outputs": []
    },
    {
      "cell_type": "code",
      "source": [
        "dataset_path='/content/drive/MyDrive/Chattogram_language/data/Chattogram_Sentense.csv'\n",
        "df=pd.read_csv(dataset_path)\n",
        "df.head()"
      ],
      "metadata": {
        "colab": {
          "base_uri": "https://localhost:8080/",
          "height": 241
        },
        "id": "FqsVMH-dvy0z",
        "outputId": "d9493b52-0750-4b00-a232-00b3e009cf03"
      },
      "id": "FqsVMH-dvy0z",
      "execution_count": 4,
      "outputs": [
        {
          "output_type": "execute_result",
          "data": {
            "text/plain": [
              "  Original Chattogram Sentense Original Chattogram language English  \\\n",
              "0                    অনেরা কডে                                onera   \n",
              "1              অলপল গরি এইজ্জু                                olpol   \n",
              "2          ফ্ইর বানাইবা ফানলার                                 foir   \n",
              "3                আজিয়া বিইয়্যা                                ajiya   \n",
              "4               কালিয়া মেজ্জান                               kaliya   \n",
              "\n",
              "       Bangali_Sentense English Sentense English Maning Sentense  \n",
              "0          আপনারা কোথায়           APNARA                     YOU  \n",
              "1     আগোছালো করে রাখসো          AGOSALO                 TIDY UP  \n",
              "2  ভিক্ষুক বানাবা মনেহয়           BIKKUK                  CADGER  \n",
              "3             আজকে বিয়ে             AJKE                   TODAY  \n",
              "4          কালকে মেজবান            KALKE                TOMORROW  "
            ],
            "text/html": [
              "\n",
              "  <div id=\"df-9228132d-11f5-4e0f-9874-073dceee3104\" class=\"colab-df-container\">\n",
              "    <div>\n",
              "<style scoped>\n",
              "    .dataframe tbody tr th:only-of-type {\n",
              "        vertical-align: middle;\n",
              "    }\n",
              "\n",
              "    .dataframe tbody tr th {\n",
              "        vertical-align: top;\n",
              "    }\n",
              "\n",
              "    .dataframe thead th {\n",
              "        text-align: right;\n",
              "    }\n",
              "</style>\n",
              "<table border=\"1\" class=\"dataframe\">\n",
              "  <thead>\n",
              "    <tr style=\"text-align: right;\">\n",
              "      <th></th>\n",
              "      <th>Original Chattogram Sentense</th>\n",
              "      <th>Original Chattogram language English</th>\n",
              "      <th>Bangali_Sentense</th>\n",
              "      <th>English Sentense</th>\n",
              "      <th>English Maning Sentense</th>\n",
              "    </tr>\n",
              "  </thead>\n",
              "  <tbody>\n",
              "    <tr>\n",
              "      <th>0</th>\n",
              "      <td>অনেরা কডে</td>\n",
              "      <td>onera</td>\n",
              "      <td>আপনারা কোথায়</td>\n",
              "      <td>APNARA</td>\n",
              "      <td>YOU</td>\n",
              "    </tr>\n",
              "    <tr>\n",
              "      <th>1</th>\n",
              "      <td>অলপল গরি এইজ্জু</td>\n",
              "      <td>olpol</td>\n",
              "      <td>আগোছালো করে রাখসো</td>\n",
              "      <td>AGOSALO</td>\n",
              "      <td>TIDY UP</td>\n",
              "    </tr>\n",
              "    <tr>\n",
              "      <th>2</th>\n",
              "      <td>ফ্ইর বানাইবা ফানলার</td>\n",
              "      <td>foir</td>\n",
              "      <td>ভিক্ষুক বানাবা মনেহয়</td>\n",
              "      <td>BIKKUK</td>\n",
              "      <td>CADGER</td>\n",
              "    </tr>\n",
              "    <tr>\n",
              "      <th>3</th>\n",
              "      <td>আজিয়া বিইয়্যা</td>\n",
              "      <td>ajiya</td>\n",
              "      <td>আজকে বিয়ে</td>\n",
              "      <td>AJKE</td>\n",
              "      <td>TODAY</td>\n",
              "    </tr>\n",
              "    <tr>\n",
              "      <th>4</th>\n",
              "      <td>কালিয়া মেজ্জান</td>\n",
              "      <td>kaliya</td>\n",
              "      <td>কালকে মেজবান</td>\n",
              "      <td>KALKE</td>\n",
              "      <td>TOMORROW</td>\n",
              "    </tr>\n",
              "  </tbody>\n",
              "</table>\n",
              "</div>\n",
              "    <div class=\"colab-df-buttons\">\n",
              "\n",
              "  <div class=\"colab-df-container\">\n",
              "    <button class=\"colab-df-convert\" onclick=\"convertToInteractive('df-9228132d-11f5-4e0f-9874-073dceee3104')\"\n",
              "            title=\"Convert this dataframe to an interactive table.\"\n",
              "            style=\"display:none;\">\n",
              "\n",
              "  <svg xmlns=\"http://www.w3.org/2000/svg\" height=\"24px\" viewBox=\"0 -960 960 960\">\n",
              "    <path d=\"M120-120v-720h720v720H120Zm60-500h600v-160H180v160Zm220 220h160v-160H400v160Zm0 220h160v-160H400v160ZM180-400h160v-160H180v160Zm440 0h160v-160H620v160ZM180-180h160v-160H180v160Zm440 0h160v-160H620v160Z\"/>\n",
              "  </svg>\n",
              "    </button>\n",
              "\n",
              "  <style>\n",
              "    .colab-df-container {\n",
              "      display:flex;\n",
              "      gap: 12px;\n",
              "    }\n",
              "\n",
              "    .colab-df-convert {\n",
              "      background-color: #E8F0FE;\n",
              "      border: none;\n",
              "      border-radius: 50%;\n",
              "      cursor: pointer;\n",
              "      display: none;\n",
              "      fill: #1967D2;\n",
              "      height: 32px;\n",
              "      padding: 0 0 0 0;\n",
              "      width: 32px;\n",
              "    }\n",
              "\n",
              "    .colab-df-convert:hover {\n",
              "      background-color: #E2EBFA;\n",
              "      box-shadow: 0px 1px 2px rgba(60, 64, 67, 0.3), 0px 1px 3px 1px rgba(60, 64, 67, 0.15);\n",
              "      fill: #174EA6;\n",
              "    }\n",
              "\n",
              "    .colab-df-buttons div {\n",
              "      margin-bottom: 4px;\n",
              "    }\n",
              "\n",
              "    [theme=dark] .colab-df-convert {\n",
              "      background-color: #3B4455;\n",
              "      fill: #D2E3FC;\n",
              "    }\n",
              "\n",
              "    [theme=dark] .colab-df-convert:hover {\n",
              "      background-color: #434B5C;\n",
              "      box-shadow: 0px 1px 3px 1px rgba(0, 0, 0, 0.15);\n",
              "      filter: drop-shadow(0px 1px 2px rgba(0, 0, 0, 0.3));\n",
              "      fill: #FFFFFF;\n",
              "    }\n",
              "  </style>\n",
              "\n",
              "    <script>\n",
              "      const buttonEl =\n",
              "        document.querySelector('#df-9228132d-11f5-4e0f-9874-073dceee3104 button.colab-df-convert');\n",
              "      buttonEl.style.display =\n",
              "        google.colab.kernel.accessAllowed ? 'block' : 'none';\n",
              "\n",
              "      async function convertToInteractive(key) {\n",
              "        const element = document.querySelector('#df-9228132d-11f5-4e0f-9874-073dceee3104');\n",
              "        const dataTable =\n",
              "          await google.colab.kernel.invokeFunction('convertToInteractive',\n",
              "                                                    [key], {});\n",
              "        if (!dataTable) return;\n",
              "\n",
              "        const docLinkHtml = 'Like what you see? Visit the ' +\n",
              "          '<a target=\"_blank\" href=https://colab.research.google.com/notebooks/data_table.ipynb>data table notebook</a>'\n",
              "          + ' to learn more about interactive tables.';\n",
              "        element.innerHTML = '';\n",
              "        dataTable['output_type'] = 'display_data';\n",
              "        await google.colab.output.renderOutput(dataTable, element);\n",
              "        const docLink = document.createElement('div');\n",
              "        docLink.innerHTML = docLinkHtml;\n",
              "        element.appendChild(docLink);\n",
              "      }\n",
              "    </script>\n",
              "  </div>\n",
              "\n",
              "\n",
              "<div id=\"df-cdfc922c-b860-4579-b2cd-ae9937cf36e5\">\n",
              "  <button class=\"colab-df-quickchart\" onclick=\"quickchart('df-cdfc922c-b860-4579-b2cd-ae9937cf36e5')\"\n",
              "            title=\"Suggest charts\"\n",
              "            style=\"display:none;\">\n",
              "\n",
              "<svg xmlns=\"http://www.w3.org/2000/svg\" height=\"24px\"viewBox=\"0 0 24 24\"\n",
              "     width=\"24px\">\n",
              "    <g>\n",
              "        <path d=\"M19 3H5c-1.1 0-2 .9-2 2v14c0 1.1.9 2 2 2h14c1.1 0 2-.9 2-2V5c0-1.1-.9-2-2-2zM9 17H7v-7h2v7zm4 0h-2V7h2v10zm4 0h-2v-4h2v4z\"/>\n",
              "    </g>\n",
              "</svg>\n",
              "  </button>\n",
              "\n",
              "<style>\n",
              "  .colab-df-quickchart {\n",
              "      --bg-color: #E8F0FE;\n",
              "      --fill-color: #1967D2;\n",
              "      --hover-bg-color: #E2EBFA;\n",
              "      --hover-fill-color: #174EA6;\n",
              "      --disabled-fill-color: #AAA;\n",
              "      --disabled-bg-color: #DDD;\n",
              "  }\n",
              "\n",
              "  [theme=dark] .colab-df-quickchart {\n",
              "      --bg-color: #3B4455;\n",
              "      --fill-color: #D2E3FC;\n",
              "      --hover-bg-color: #434B5C;\n",
              "      --hover-fill-color: #FFFFFF;\n",
              "      --disabled-bg-color: #3B4455;\n",
              "      --disabled-fill-color: #666;\n",
              "  }\n",
              "\n",
              "  .colab-df-quickchart {\n",
              "    background-color: var(--bg-color);\n",
              "    border: none;\n",
              "    border-radius: 50%;\n",
              "    cursor: pointer;\n",
              "    display: none;\n",
              "    fill: var(--fill-color);\n",
              "    height: 32px;\n",
              "    padding: 0;\n",
              "    width: 32px;\n",
              "  }\n",
              "\n",
              "  .colab-df-quickchart:hover {\n",
              "    background-color: var(--hover-bg-color);\n",
              "    box-shadow: 0 1px 2px rgba(60, 64, 67, 0.3), 0 1px 3px 1px rgba(60, 64, 67, 0.15);\n",
              "    fill: var(--button-hover-fill-color);\n",
              "  }\n",
              "\n",
              "  .colab-df-quickchart-complete:disabled,\n",
              "  .colab-df-quickchart-complete:disabled:hover {\n",
              "    background-color: var(--disabled-bg-color);\n",
              "    fill: var(--disabled-fill-color);\n",
              "    box-shadow: none;\n",
              "  }\n",
              "\n",
              "  .colab-df-spinner {\n",
              "    border: 2px solid var(--fill-color);\n",
              "    border-color: transparent;\n",
              "    border-bottom-color: var(--fill-color);\n",
              "    animation:\n",
              "      spin 1s steps(1) infinite;\n",
              "  }\n",
              "\n",
              "  @keyframes spin {\n",
              "    0% {\n",
              "      border-color: transparent;\n",
              "      border-bottom-color: var(--fill-color);\n",
              "      border-left-color: var(--fill-color);\n",
              "    }\n",
              "    20% {\n",
              "      border-color: transparent;\n",
              "      border-left-color: var(--fill-color);\n",
              "      border-top-color: var(--fill-color);\n",
              "    }\n",
              "    30% {\n",
              "      border-color: transparent;\n",
              "      border-left-color: var(--fill-color);\n",
              "      border-top-color: var(--fill-color);\n",
              "      border-right-color: var(--fill-color);\n",
              "    }\n",
              "    40% {\n",
              "      border-color: transparent;\n",
              "      border-right-color: var(--fill-color);\n",
              "      border-top-color: var(--fill-color);\n",
              "    }\n",
              "    60% {\n",
              "      border-color: transparent;\n",
              "      border-right-color: var(--fill-color);\n",
              "    }\n",
              "    80% {\n",
              "      border-color: transparent;\n",
              "      border-right-color: var(--fill-color);\n",
              "      border-bottom-color: var(--fill-color);\n",
              "    }\n",
              "    90% {\n",
              "      border-color: transparent;\n",
              "      border-bottom-color: var(--fill-color);\n",
              "    }\n",
              "  }\n",
              "</style>\n",
              "\n",
              "  <script>\n",
              "    async function quickchart(key) {\n",
              "      const quickchartButtonEl =\n",
              "        document.querySelector('#' + key + ' button');\n",
              "      quickchartButtonEl.disabled = true;  // To prevent multiple clicks.\n",
              "      quickchartButtonEl.classList.add('colab-df-spinner');\n",
              "      try {\n",
              "        const charts = await google.colab.kernel.invokeFunction(\n",
              "            'suggestCharts', [key], {});\n",
              "      } catch (error) {\n",
              "        console.error('Error during call to suggestCharts:', error);\n",
              "      }\n",
              "      quickchartButtonEl.classList.remove('colab-df-spinner');\n",
              "      quickchartButtonEl.classList.add('colab-df-quickchart-complete');\n",
              "    }\n",
              "    (() => {\n",
              "      let quickchartButtonEl =\n",
              "        document.querySelector('#df-cdfc922c-b860-4579-b2cd-ae9937cf36e5 button');\n",
              "      quickchartButtonEl.style.display =\n",
              "        google.colab.kernel.accessAllowed ? 'block' : 'none';\n",
              "    })();\n",
              "  </script>\n",
              "</div>\n",
              "\n",
              "    </div>\n",
              "  </div>\n"
            ],
            "application/vnd.google.colaboratory.intrinsic+json": {
              "type": "dataframe",
              "variable_name": "df",
              "summary": "{\n  \"name\": \"df\",\n  \"rows\": 16625,\n  \"fields\": [\n    {\n      \"column\": \"Original Chattogram Sentense\",\n      \"properties\": {\n        \"dtype\": \"string\",\n        \"num_unique_values\": 11772,\n        \"samples\": [\n          \"\\u0995\\u09c7\\u0981\\u09a1\\u09be \\u0987\\u099a\\u09be\",\n          \"\\u09af\\u09c7\\u09df\\u09be\\u09a8\\u09cd\\u200c\",\n          \"\\u0987\\u09df\\u09be\\u09a8 \\u0995\\u0997\\u09be\\u09a8? -\\u098f\\u0995\\u0995\\u09be\\u09a8\"\n        ],\n        \"semantic_type\": \"\",\n        \"description\": \"\"\n      }\n    },\n    {\n      \"column\": \"Original Chattogram language English\",\n      \"properties\": {\n        \"dtype\": \"category\",\n        \"num_unique_values\": 110,\n        \"samples\": [\n          \"sore sore bhut ditu jaiu gui\",\n          \"tui\",\n          \"kaliya\"\n        ],\n        \"semantic_type\": \"\",\n        \"description\": \"\"\n      }\n    },\n    {\n      \"column\": \"Bangali_Sentense\",\n      \"properties\": {\n        \"dtype\": \"string\",\n        \"num_unique_values\": 10538,\n        \"samples\": [\n          \"\\u099b\\u09c7\\u09b2\\u09c7\\u09b0 \\u09aa\\u0995\\u09cd\\u09b7 \\u09aa\\u09be\\u0997\\u09b2 \\u09b9\\u09df\\u09c7 \\u09af\\u09be\\u09ac\\u09c7\",\n          \"\\u0995\\u09be\\u099b\\u09c7 \\u0986\\u09b8\\u0964\",\n          \"\\u099c\\u09b2\\u09aa\\u099f\\u09bf\"\n        ],\n        \"semantic_type\": \"\",\n        \"description\": \"\"\n      }\n    },\n    {\n      \"column\": \"English Sentense\",\n      \"properties\": {\n        \"dtype\": \"category\",\n        \"num_unique_values\": 38,\n        \"samples\": [\n          \"DUI SOTO TAKA DIYA AYTA KINCHI\",\n          \"aydike takan\",\n          \"KALKE\"\n        ],\n        \"semantic_type\": \"\",\n        \"description\": \"\"\n      }\n    },\n    {\n      \"column\": \"English Maning Sentense\",\n      \"properties\": {\n        \"dtype\": \"category\",\n        \"num_unique_values\": 36,\n        \"samples\": [\n          \"your name have in the poster.\",\n          \"STRAIGHT\",\n          \"HAVE ANY MONEY?\"\n        ],\n        \"semantic_type\": \"\",\n        \"description\": \"\"\n      }\n    }\n  ]\n}"
            }
          },
          "metadata": {},
          "execution_count": 4
        }
      ]
    },
    {
      "cell_type": "code",
      "source": [
        "df.info()"
      ],
      "metadata": {
        "colab": {
          "base_uri": "https://localhost:8080/"
        },
        "id": "JMVfTCAOmw9k",
        "outputId": "b70f798a-ea00-4ae4-d2be-8d028bd5732b"
      },
      "id": "JMVfTCAOmw9k",
      "execution_count": 5,
      "outputs": [
        {
          "output_type": "stream",
          "name": "stdout",
          "text": [
            "<class 'pandas.core.frame.DataFrame'>\n",
            "RangeIndex: 16625 entries, 0 to 16624\n",
            "Data columns (total 5 columns):\n",
            " #   Column                                Non-Null Count  Dtype \n",
            "---  ------                                --------------  ----- \n",
            " 0   Original Chattogram Sentense          16625 non-null  object\n",
            " 1   Original Chattogram language English  110 non-null    object\n",
            " 2   Bangali_Sentense                      16620 non-null  object\n",
            " 3   English Sentense                      39 non-null     object\n",
            " 4   English Maning Sentense               39 non-null     object\n",
            "dtypes: object(5)\n",
            "memory usage: 649.5+ KB\n"
          ]
        }
      ]
    },
    {
      "cell_type": "markdown",
      "source": [
        "### Check unique values in dataframe"
      ],
      "metadata": {
        "id": "qK4RdKxqnjwc"
      },
      "id": "qK4RdKxqnjwc"
    },
    {
      "cell_type": "code",
      "source": [
        "def report_data_types_uniques_check(df):\n",
        "    col = []\n",
        "    d_type = []\n",
        "    uniques = []\n",
        "    n_uniques = []\n",
        "\n",
        "    for i in df.columns:\n",
        "        col.append(i)\n",
        "        d_type.append(df[i].dtypes)\n",
        "        uniques.append(df[i].unique()[:5])\n",
        "        n_uniques.append(df[i].nunique())\n",
        "\n",
        "    return pd.DataFrame({'Column': col, 'd_type': d_type, 'unique_sample': uniques, 'n_uniques': n_uniques})"
      ],
      "metadata": {
        "id": "mqRtGJ2tm7z3"
      },
      "id": "mqRtGJ2tm7z3",
      "execution_count": 6,
      "outputs": []
    },
    {
      "cell_type": "code",
      "source": [
        "report_data_types_uniques_check(df)"
      ],
      "metadata": {
        "colab": {
          "base_uri": "https://localhost:8080/",
          "height": 206
        },
        "id": "zf2mchi3m-wY",
        "outputId": "1fa443b9-ac89-4e9e-987a-ac95bf09222a"
      },
      "id": "zf2mchi3m-wY",
      "execution_count": 7,
      "outputs": [
        {
          "output_type": "execute_result",
          "data": {
            "text/plain": [
              "                                 Column  d_type  \\\n",
              "0          Original Chattogram Sentense  object   \n",
              "1  Original Chattogram language English  object   \n",
              "2                      Bangali_Sentense  object   \n",
              "3                      English Sentense  object   \n",
              "4               English Maning Sentense  object   \n",
              "\n",
              "                                       unique_sample  n_uniques  \n",
              "0  [অনেরা কডে, অলপল গরি এইজ্জু, ফ্ইর বানাইবা ফানল...      11772  \n",
              "1                [onera, olpol, foir, ajiya, kaliya]        110  \n",
              "2  [আপনারা কোথায়, আগোছালো করে রাখসো, ভিক্ষুক বানা...      10538  \n",
              "3             [APNARA, AGOSALO, BIKKUK, AJKE, KALKE]         38  \n",
              "4            [YOU, TIDY UP, CADGER, TODAY, TOMORROW]         36  "
            ],
            "text/html": [
              "\n",
              "  <div id=\"df-56547cfe-7e74-4f2d-9c2a-6e620220fc4a\" class=\"colab-df-container\">\n",
              "    <div>\n",
              "<style scoped>\n",
              "    .dataframe tbody tr th:only-of-type {\n",
              "        vertical-align: middle;\n",
              "    }\n",
              "\n",
              "    .dataframe tbody tr th {\n",
              "        vertical-align: top;\n",
              "    }\n",
              "\n",
              "    .dataframe thead th {\n",
              "        text-align: right;\n",
              "    }\n",
              "</style>\n",
              "<table border=\"1\" class=\"dataframe\">\n",
              "  <thead>\n",
              "    <tr style=\"text-align: right;\">\n",
              "      <th></th>\n",
              "      <th>Column</th>\n",
              "      <th>d_type</th>\n",
              "      <th>unique_sample</th>\n",
              "      <th>n_uniques</th>\n",
              "    </tr>\n",
              "  </thead>\n",
              "  <tbody>\n",
              "    <tr>\n",
              "      <th>0</th>\n",
              "      <td>Original Chattogram Sentense</td>\n",
              "      <td>object</td>\n",
              "      <td>[অনেরা কডে, অলপল গরি এইজ্জু, ফ্ইর বানাইবা ফানল...</td>\n",
              "      <td>11772</td>\n",
              "    </tr>\n",
              "    <tr>\n",
              "      <th>1</th>\n",
              "      <td>Original Chattogram language English</td>\n",
              "      <td>object</td>\n",
              "      <td>[onera, olpol, foir, ajiya, kaliya]</td>\n",
              "      <td>110</td>\n",
              "    </tr>\n",
              "    <tr>\n",
              "      <th>2</th>\n",
              "      <td>Bangali_Sentense</td>\n",
              "      <td>object</td>\n",
              "      <td>[আপনারা কোথায়, আগোছালো করে রাখসো, ভিক্ষুক বানা...</td>\n",
              "      <td>10538</td>\n",
              "    </tr>\n",
              "    <tr>\n",
              "      <th>3</th>\n",
              "      <td>English Sentense</td>\n",
              "      <td>object</td>\n",
              "      <td>[APNARA, AGOSALO, BIKKUK, AJKE, KALKE]</td>\n",
              "      <td>38</td>\n",
              "    </tr>\n",
              "    <tr>\n",
              "      <th>4</th>\n",
              "      <td>English Maning Sentense</td>\n",
              "      <td>object</td>\n",
              "      <td>[YOU, TIDY UP, CADGER, TODAY, TOMORROW]</td>\n",
              "      <td>36</td>\n",
              "    </tr>\n",
              "  </tbody>\n",
              "</table>\n",
              "</div>\n",
              "    <div class=\"colab-df-buttons\">\n",
              "\n",
              "  <div class=\"colab-df-container\">\n",
              "    <button class=\"colab-df-convert\" onclick=\"convertToInteractive('df-56547cfe-7e74-4f2d-9c2a-6e620220fc4a')\"\n",
              "            title=\"Convert this dataframe to an interactive table.\"\n",
              "            style=\"display:none;\">\n",
              "\n",
              "  <svg xmlns=\"http://www.w3.org/2000/svg\" height=\"24px\" viewBox=\"0 -960 960 960\">\n",
              "    <path d=\"M120-120v-720h720v720H120Zm60-500h600v-160H180v160Zm220 220h160v-160H400v160Zm0 220h160v-160H400v160ZM180-400h160v-160H180v160Zm440 0h160v-160H620v160ZM180-180h160v-160H180v160Zm440 0h160v-160H620v160Z\"/>\n",
              "  </svg>\n",
              "    </button>\n",
              "\n",
              "  <style>\n",
              "    .colab-df-container {\n",
              "      display:flex;\n",
              "      gap: 12px;\n",
              "    }\n",
              "\n",
              "    .colab-df-convert {\n",
              "      background-color: #E8F0FE;\n",
              "      border: none;\n",
              "      border-radius: 50%;\n",
              "      cursor: pointer;\n",
              "      display: none;\n",
              "      fill: #1967D2;\n",
              "      height: 32px;\n",
              "      padding: 0 0 0 0;\n",
              "      width: 32px;\n",
              "    }\n",
              "\n",
              "    .colab-df-convert:hover {\n",
              "      background-color: #E2EBFA;\n",
              "      box-shadow: 0px 1px 2px rgba(60, 64, 67, 0.3), 0px 1px 3px 1px rgba(60, 64, 67, 0.15);\n",
              "      fill: #174EA6;\n",
              "    }\n",
              "\n",
              "    .colab-df-buttons div {\n",
              "      margin-bottom: 4px;\n",
              "    }\n",
              "\n",
              "    [theme=dark] .colab-df-convert {\n",
              "      background-color: #3B4455;\n",
              "      fill: #D2E3FC;\n",
              "    }\n",
              "\n",
              "    [theme=dark] .colab-df-convert:hover {\n",
              "      background-color: #434B5C;\n",
              "      box-shadow: 0px 1px 3px 1px rgba(0, 0, 0, 0.15);\n",
              "      filter: drop-shadow(0px 1px 2px rgba(0, 0, 0, 0.3));\n",
              "      fill: #FFFFFF;\n",
              "    }\n",
              "  </style>\n",
              "\n",
              "    <script>\n",
              "      const buttonEl =\n",
              "        document.querySelector('#df-56547cfe-7e74-4f2d-9c2a-6e620220fc4a button.colab-df-convert');\n",
              "      buttonEl.style.display =\n",
              "        google.colab.kernel.accessAllowed ? 'block' : 'none';\n",
              "\n",
              "      async function convertToInteractive(key) {\n",
              "        const element = document.querySelector('#df-56547cfe-7e74-4f2d-9c2a-6e620220fc4a');\n",
              "        const dataTable =\n",
              "          await google.colab.kernel.invokeFunction('convertToInteractive',\n",
              "                                                    [key], {});\n",
              "        if (!dataTable) return;\n",
              "\n",
              "        const docLinkHtml = 'Like what you see? Visit the ' +\n",
              "          '<a target=\"_blank\" href=https://colab.research.google.com/notebooks/data_table.ipynb>data table notebook</a>'\n",
              "          + ' to learn more about interactive tables.';\n",
              "        element.innerHTML = '';\n",
              "        dataTable['output_type'] = 'display_data';\n",
              "        await google.colab.output.renderOutput(dataTable, element);\n",
              "        const docLink = document.createElement('div');\n",
              "        docLink.innerHTML = docLinkHtml;\n",
              "        element.appendChild(docLink);\n",
              "      }\n",
              "    </script>\n",
              "  </div>\n",
              "\n",
              "\n",
              "<div id=\"df-ef2686ee-9b6d-453b-914d-7a3f68e0b74c\">\n",
              "  <button class=\"colab-df-quickchart\" onclick=\"quickchart('df-ef2686ee-9b6d-453b-914d-7a3f68e0b74c')\"\n",
              "            title=\"Suggest charts\"\n",
              "            style=\"display:none;\">\n",
              "\n",
              "<svg xmlns=\"http://www.w3.org/2000/svg\" height=\"24px\"viewBox=\"0 0 24 24\"\n",
              "     width=\"24px\">\n",
              "    <g>\n",
              "        <path d=\"M19 3H5c-1.1 0-2 .9-2 2v14c0 1.1.9 2 2 2h14c1.1 0 2-.9 2-2V5c0-1.1-.9-2-2-2zM9 17H7v-7h2v7zm4 0h-2V7h2v10zm4 0h-2v-4h2v4z\"/>\n",
              "    </g>\n",
              "</svg>\n",
              "  </button>\n",
              "\n",
              "<style>\n",
              "  .colab-df-quickchart {\n",
              "      --bg-color: #E8F0FE;\n",
              "      --fill-color: #1967D2;\n",
              "      --hover-bg-color: #E2EBFA;\n",
              "      --hover-fill-color: #174EA6;\n",
              "      --disabled-fill-color: #AAA;\n",
              "      --disabled-bg-color: #DDD;\n",
              "  }\n",
              "\n",
              "  [theme=dark] .colab-df-quickchart {\n",
              "      --bg-color: #3B4455;\n",
              "      --fill-color: #D2E3FC;\n",
              "      --hover-bg-color: #434B5C;\n",
              "      --hover-fill-color: #FFFFFF;\n",
              "      --disabled-bg-color: #3B4455;\n",
              "      --disabled-fill-color: #666;\n",
              "  }\n",
              "\n",
              "  .colab-df-quickchart {\n",
              "    background-color: var(--bg-color);\n",
              "    border: none;\n",
              "    border-radius: 50%;\n",
              "    cursor: pointer;\n",
              "    display: none;\n",
              "    fill: var(--fill-color);\n",
              "    height: 32px;\n",
              "    padding: 0;\n",
              "    width: 32px;\n",
              "  }\n",
              "\n",
              "  .colab-df-quickchart:hover {\n",
              "    background-color: var(--hover-bg-color);\n",
              "    box-shadow: 0 1px 2px rgba(60, 64, 67, 0.3), 0 1px 3px 1px rgba(60, 64, 67, 0.15);\n",
              "    fill: var(--button-hover-fill-color);\n",
              "  }\n",
              "\n",
              "  .colab-df-quickchart-complete:disabled,\n",
              "  .colab-df-quickchart-complete:disabled:hover {\n",
              "    background-color: var(--disabled-bg-color);\n",
              "    fill: var(--disabled-fill-color);\n",
              "    box-shadow: none;\n",
              "  }\n",
              "\n",
              "  .colab-df-spinner {\n",
              "    border: 2px solid var(--fill-color);\n",
              "    border-color: transparent;\n",
              "    border-bottom-color: var(--fill-color);\n",
              "    animation:\n",
              "      spin 1s steps(1) infinite;\n",
              "  }\n",
              "\n",
              "  @keyframes spin {\n",
              "    0% {\n",
              "      border-color: transparent;\n",
              "      border-bottom-color: var(--fill-color);\n",
              "      border-left-color: var(--fill-color);\n",
              "    }\n",
              "    20% {\n",
              "      border-color: transparent;\n",
              "      border-left-color: var(--fill-color);\n",
              "      border-top-color: var(--fill-color);\n",
              "    }\n",
              "    30% {\n",
              "      border-color: transparent;\n",
              "      border-left-color: var(--fill-color);\n",
              "      border-top-color: var(--fill-color);\n",
              "      border-right-color: var(--fill-color);\n",
              "    }\n",
              "    40% {\n",
              "      border-color: transparent;\n",
              "      border-right-color: var(--fill-color);\n",
              "      border-top-color: var(--fill-color);\n",
              "    }\n",
              "    60% {\n",
              "      border-color: transparent;\n",
              "      border-right-color: var(--fill-color);\n",
              "    }\n",
              "    80% {\n",
              "      border-color: transparent;\n",
              "      border-right-color: var(--fill-color);\n",
              "      border-bottom-color: var(--fill-color);\n",
              "    }\n",
              "    90% {\n",
              "      border-color: transparent;\n",
              "      border-bottom-color: var(--fill-color);\n",
              "    }\n",
              "  }\n",
              "</style>\n",
              "\n",
              "  <script>\n",
              "    async function quickchart(key) {\n",
              "      const quickchartButtonEl =\n",
              "        document.querySelector('#' + key + ' button');\n",
              "      quickchartButtonEl.disabled = true;  // To prevent multiple clicks.\n",
              "      quickchartButtonEl.classList.add('colab-df-spinner');\n",
              "      try {\n",
              "        const charts = await google.colab.kernel.invokeFunction(\n",
              "            'suggestCharts', [key], {});\n",
              "      } catch (error) {\n",
              "        console.error('Error during call to suggestCharts:', error);\n",
              "      }\n",
              "      quickchartButtonEl.classList.remove('colab-df-spinner');\n",
              "      quickchartButtonEl.classList.add('colab-df-quickchart-complete');\n",
              "    }\n",
              "    (() => {\n",
              "      let quickchartButtonEl =\n",
              "        document.querySelector('#df-ef2686ee-9b6d-453b-914d-7a3f68e0b74c button');\n",
              "      quickchartButtonEl.style.display =\n",
              "        google.colab.kernel.accessAllowed ? 'block' : 'none';\n",
              "    })();\n",
              "  </script>\n",
              "</div>\n",
              "\n",
              "    </div>\n",
              "  </div>\n"
            ],
            "application/vnd.google.colaboratory.intrinsic+json": {
              "type": "dataframe",
              "summary": "{\n  \"name\": \"report_data_types_uniques_check(df)\",\n  \"rows\": 5,\n  \"fields\": [\n    {\n      \"column\": \"Column\",\n      \"properties\": {\n        \"dtype\": \"string\",\n        \"num_unique_values\": 5,\n        \"samples\": [\n          \"Original Chattogram language English\",\n          \"English Maning Sentense\",\n          \"Bangali_Sentense\"\n        ],\n        \"semantic_type\": \"\",\n        \"description\": \"\"\n      }\n    },\n    {\n      \"column\": \"d_type\",\n      \"properties\": {\n        \"dtype\": \"category\",\n        \"num_unique_values\": 1,\n        \"samples\": [\n          \"object\"\n        ],\n        \"semantic_type\": \"\",\n        \"description\": \"\"\n      }\n    },\n    {\n      \"column\": \"unique_sample\",\n      \"properties\": {\n        \"dtype\": \"object\",\n        \"semantic_type\": \"\",\n        \"description\": \"\"\n      }\n    },\n    {\n      \"column\": \"n_uniques\",\n      \"properties\": {\n        \"dtype\": \"number\",\n        \"std\": 6091,\n        \"min\": 36,\n        \"max\": 11772,\n        \"num_unique_values\": 5,\n        \"samples\": [\n          110\n        ],\n        \"semantic_type\": \"\",\n        \"description\": \"\"\n      }\n    }\n  ]\n}"
            }
          },
          "metadata": {},
          "execution_count": 7
        }
      ]
    },
    {
      "cell_type": "code",
      "source": [
        "# check missing values\n",
        "df.isnull().sum()"
      ],
      "metadata": {
        "colab": {
          "base_uri": "https://localhost:8080/"
        },
        "id": "QomYiowGnFGD",
        "outputId": "9f0a7bdf-359d-4ae0-e671-b42ee5bdb5a7"
      },
      "id": "QomYiowGnFGD",
      "execution_count": 8,
      "outputs": [
        {
          "output_type": "execute_result",
          "data": {
            "text/plain": [
              "Original Chattogram Sentense                0\n",
              "Original Chattogram language English    16515\n",
              "Bangali_Sentense                            5\n",
              "English Sentense                        16586\n",
              "English Maning Sentense                 16586\n",
              "dtype: int64"
            ]
          },
          "metadata": {},
          "execution_count": 8
        }
      ]
    },
    {
      "cell_type": "markdown",
      "source": [
        "### Select top 800 data for the project"
      ],
      "metadata": {
        "id": "N0Kt7B_tCUy8"
      },
      "id": "N0Kt7B_tCUy8"
    },
    {
      "cell_type": "code",
      "source": [
        "top_1000_df=df.head(1000)\n",
        "top_1000_df.head()"
      ],
      "metadata": {
        "colab": {
          "base_uri": "https://localhost:8080/",
          "height": 241
        },
        "id": "7TFNL3Pkv7Iz",
        "outputId": "ef225103-138b-4c97-8613-5dcd3d924438"
      },
      "id": "7TFNL3Pkv7Iz",
      "execution_count": 9,
      "outputs": [
        {
          "output_type": "execute_result",
          "data": {
            "text/plain": [
              "  Original Chattogram Sentense Original Chattogram language English  \\\n",
              "0                    অনেরা কডে                                onera   \n",
              "1              অলপল গরি এইজ্জু                                olpol   \n",
              "2          ফ্ইর বানাইবা ফানলার                                 foir   \n",
              "3                আজিয়া বিইয়্যা                                ajiya   \n",
              "4               কালিয়া মেজ্জান                               kaliya   \n",
              "\n",
              "       Bangali_Sentense English Sentense English Maning Sentense  \n",
              "0          আপনারা কোথায়           APNARA                     YOU  \n",
              "1     আগোছালো করে রাখসো          AGOSALO                 TIDY UP  \n",
              "2  ভিক্ষুক বানাবা মনেহয়           BIKKUK                  CADGER  \n",
              "3             আজকে বিয়ে             AJKE                   TODAY  \n",
              "4          কালকে মেজবান            KALKE                TOMORROW  "
            ],
            "text/html": [
              "\n",
              "  <div id=\"df-98b706a7-7274-42c5-8083-7daee912fbe5\" class=\"colab-df-container\">\n",
              "    <div>\n",
              "<style scoped>\n",
              "    .dataframe tbody tr th:only-of-type {\n",
              "        vertical-align: middle;\n",
              "    }\n",
              "\n",
              "    .dataframe tbody tr th {\n",
              "        vertical-align: top;\n",
              "    }\n",
              "\n",
              "    .dataframe thead th {\n",
              "        text-align: right;\n",
              "    }\n",
              "</style>\n",
              "<table border=\"1\" class=\"dataframe\">\n",
              "  <thead>\n",
              "    <tr style=\"text-align: right;\">\n",
              "      <th></th>\n",
              "      <th>Original Chattogram Sentense</th>\n",
              "      <th>Original Chattogram language English</th>\n",
              "      <th>Bangali_Sentense</th>\n",
              "      <th>English Sentense</th>\n",
              "      <th>English Maning Sentense</th>\n",
              "    </tr>\n",
              "  </thead>\n",
              "  <tbody>\n",
              "    <tr>\n",
              "      <th>0</th>\n",
              "      <td>অনেরা কডে</td>\n",
              "      <td>onera</td>\n",
              "      <td>আপনারা কোথায়</td>\n",
              "      <td>APNARA</td>\n",
              "      <td>YOU</td>\n",
              "    </tr>\n",
              "    <tr>\n",
              "      <th>1</th>\n",
              "      <td>অলপল গরি এইজ্জু</td>\n",
              "      <td>olpol</td>\n",
              "      <td>আগোছালো করে রাখসো</td>\n",
              "      <td>AGOSALO</td>\n",
              "      <td>TIDY UP</td>\n",
              "    </tr>\n",
              "    <tr>\n",
              "      <th>2</th>\n",
              "      <td>ফ্ইর বানাইবা ফানলার</td>\n",
              "      <td>foir</td>\n",
              "      <td>ভিক্ষুক বানাবা মনেহয়</td>\n",
              "      <td>BIKKUK</td>\n",
              "      <td>CADGER</td>\n",
              "    </tr>\n",
              "    <tr>\n",
              "      <th>3</th>\n",
              "      <td>আজিয়া বিইয়্যা</td>\n",
              "      <td>ajiya</td>\n",
              "      <td>আজকে বিয়ে</td>\n",
              "      <td>AJKE</td>\n",
              "      <td>TODAY</td>\n",
              "    </tr>\n",
              "    <tr>\n",
              "      <th>4</th>\n",
              "      <td>কালিয়া মেজ্জান</td>\n",
              "      <td>kaliya</td>\n",
              "      <td>কালকে মেজবান</td>\n",
              "      <td>KALKE</td>\n",
              "      <td>TOMORROW</td>\n",
              "    </tr>\n",
              "  </tbody>\n",
              "</table>\n",
              "</div>\n",
              "    <div class=\"colab-df-buttons\">\n",
              "\n",
              "  <div class=\"colab-df-container\">\n",
              "    <button class=\"colab-df-convert\" onclick=\"convertToInteractive('df-98b706a7-7274-42c5-8083-7daee912fbe5')\"\n",
              "            title=\"Convert this dataframe to an interactive table.\"\n",
              "            style=\"display:none;\">\n",
              "\n",
              "  <svg xmlns=\"http://www.w3.org/2000/svg\" height=\"24px\" viewBox=\"0 -960 960 960\">\n",
              "    <path d=\"M120-120v-720h720v720H120Zm60-500h600v-160H180v160Zm220 220h160v-160H400v160Zm0 220h160v-160H400v160ZM180-400h160v-160H180v160Zm440 0h160v-160H620v160ZM180-180h160v-160H180v160Zm440 0h160v-160H620v160Z\"/>\n",
              "  </svg>\n",
              "    </button>\n",
              "\n",
              "  <style>\n",
              "    .colab-df-container {\n",
              "      display:flex;\n",
              "      gap: 12px;\n",
              "    }\n",
              "\n",
              "    .colab-df-convert {\n",
              "      background-color: #E8F0FE;\n",
              "      border: none;\n",
              "      border-radius: 50%;\n",
              "      cursor: pointer;\n",
              "      display: none;\n",
              "      fill: #1967D2;\n",
              "      height: 32px;\n",
              "      padding: 0 0 0 0;\n",
              "      width: 32px;\n",
              "    }\n",
              "\n",
              "    .colab-df-convert:hover {\n",
              "      background-color: #E2EBFA;\n",
              "      box-shadow: 0px 1px 2px rgba(60, 64, 67, 0.3), 0px 1px 3px 1px rgba(60, 64, 67, 0.15);\n",
              "      fill: #174EA6;\n",
              "    }\n",
              "\n",
              "    .colab-df-buttons div {\n",
              "      margin-bottom: 4px;\n",
              "    }\n",
              "\n",
              "    [theme=dark] .colab-df-convert {\n",
              "      background-color: #3B4455;\n",
              "      fill: #D2E3FC;\n",
              "    }\n",
              "\n",
              "    [theme=dark] .colab-df-convert:hover {\n",
              "      background-color: #434B5C;\n",
              "      box-shadow: 0px 1px 3px 1px rgba(0, 0, 0, 0.15);\n",
              "      filter: drop-shadow(0px 1px 2px rgba(0, 0, 0, 0.3));\n",
              "      fill: #FFFFFF;\n",
              "    }\n",
              "  </style>\n",
              "\n",
              "    <script>\n",
              "      const buttonEl =\n",
              "        document.querySelector('#df-98b706a7-7274-42c5-8083-7daee912fbe5 button.colab-df-convert');\n",
              "      buttonEl.style.display =\n",
              "        google.colab.kernel.accessAllowed ? 'block' : 'none';\n",
              "\n",
              "      async function convertToInteractive(key) {\n",
              "        const element = document.querySelector('#df-98b706a7-7274-42c5-8083-7daee912fbe5');\n",
              "        const dataTable =\n",
              "          await google.colab.kernel.invokeFunction('convertToInteractive',\n",
              "                                                    [key], {});\n",
              "        if (!dataTable) return;\n",
              "\n",
              "        const docLinkHtml = 'Like what you see? Visit the ' +\n",
              "          '<a target=\"_blank\" href=https://colab.research.google.com/notebooks/data_table.ipynb>data table notebook</a>'\n",
              "          + ' to learn more about interactive tables.';\n",
              "        element.innerHTML = '';\n",
              "        dataTable['output_type'] = 'display_data';\n",
              "        await google.colab.output.renderOutput(dataTable, element);\n",
              "        const docLink = document.createElement('div');\n",
              "        docLink.innerHTML = docLinkHtml;\n",
              "        element.appendChild(docLink);\n",
              "      }\n",
              "    </script>\n",
              "  </div>\n",
              "\n",
              "\n",
              "<div id=\"df-1431d01c-abf2-471f-bf1a-577521fde16f\">\n",
              "  <button class=\"colab-df-quickchart\" onclick=\"quickchart('df-1431d01c-abf2-471f-bf1a-577521fde16f')\"\n",
              "            title=\"Suggest charts\"\n",
              "            style=\"display:none;\">\n",
              "\n",
              "<svg xmlns=\"http://www.w3.org/2000/svg\" height=\"24px\"viewBox=\"0 0 24 24\"\n",
              "     width=\"24px\">\n",
              "    <g>\n",
              "        <path d=\"M19 3H5c-1.1 0-2 .9-2 2v14c0 1.1.9 2 2 2h14c1.1 0 2-.9 2-2V5c0-1.1-.9-2-2-2zM9 17H7v-7h2v7zm4 0h-2V7h2v10zm4 0h-2v-4h2v4z\"/>\n",
              "    </g>\n",
              "</svg>\n",
              "  </button>\n",
              "\n",
              "<style>\n",
              "  .colab-df-quickchart {\n",
              "      --bg-color: #E8F0FE;\n",
              "      --fill-color: #1967D2;\n",
              "      --hover-bg-color: #E2EBFA;\n",
              "      --hover-fill-color: #174EA6;\n",
              "      --disabled-fill-color: #AAA;\n",
              "      --disabled-bg-color: #DDD;\n",
              "  }\n",
              "\n",
              "  [theme=dark] .colab-df-quickchart {\n",
              "      --bg-color: #3B4455;\n",
              "      --fill-color: #D2E3FC;\n",
              "      --hover-bg-color: #434B5C;\n",
              "      --hover-fill-color: #FFFFFF;\n",
              "      --disabled-bg-color: #3B4455;\n",
              "      --disabled-fill-color: #666;\n",
              "  }\n",
              "\n",
              "  .colab-df-quickchart {\n",
              "    background-color: var(--bg-color);\n",
              "    border: none;\n",
              "    border-radius: 50%;\n",
              "    cursor: pointer;\n",
              "    display: none;\n",
              "    fill: var(--fill-color);\n",
              "    height: 32px;\n",
              "    padding: 0;\n",
              "    width: 32px;\n",
              "  }\n",
              "\n",
              "  .colab-df-quickchart:hover {\n",
              "    background-color: var(--hover-bg-color);\n",
              "    box-shadow: 0 1px 2px rgba(60, 64, 67, 0.3), 0 1px 3px 1px rgba(60, 64, 67, 0.15);\n",
              "    fill: var(--button-hover-fill-color);\n",
              "  }\n",
              "\n",
              "  .colab-df-quickchart-complete:disabled,\n",
              "  .colab-df-quickchart-complete:disabled:hover {\n",
              "    background-color: var(--disabled-bg-color);\n",
              "    fill: var(--disabled-fill-color);\n",
              "    box-shadow: none;\n",
              "  }\n",
              "\n",
              "  .colab-df-spinner {\n",
              "    border: 2px solid var(--fill-color);\n",
              "    border-color: transparent;\n",
              "    border-bottom-color: var(--fill-color);\n",
              "    animation:\n",
              "      spin 1s steps(1) infinite;\n",
              "  }\n",
              "\n",
              "  @keyframes spin {\n",
              "    0% {\n",
              "      border-color: transparent;\n",
              "      border-bottom-color: var(--fill-color);\n",
              "      border-left-color: var(--fill-color);\n",
              "    }\n",
              "    20% {\n",
              "      border-color: transparent;\n",
              "      border-left-color: var(--fill-color);\n",
              "      border-top-color: var(--fill-color);\n",
              "    }\n",
              "    30% {\n",
              "      border-color: transparent;\n",
              "      border-left-color: var(--fill-color);\n",
              "      border-top-color: var(--fill-color);\n",
              "      border-right-color: var(--fill-color);\n",
              "    }\n",
              "    40% {\n",
              "      border-color: transparent;\n",
              "      border-right-color: var(--fill-color);\n",
              "      border-top-color: var(--fill-color);\n",
              "    }\n",
              "    60% {\n",
              "      border-color: transparent;\n",
              "      border-right-color: var(--fill-color);\n",
              "    }\n",
              "    80% {\n",
              "      border-color: transparent;\n",
              "      border-right-color: var(--fill-color);\n",
              "      border-bottom-color: var(--fill-color);\n",
              "    }\n",
              "    90% {\n",
              "      border-color: transparent;\n",
              "      border-bottom-color: var(--fill-color);\n",
              "    }\n",
              "  }\n",
              "</style>\n",
              "\n",
              "  <script>\n",
              "    async function quickchart(key) {\n",
              "      const quickchartButtonEl =\n",
              "        document.querySelector('#' + key + ' button');\n",
              "      quickchartButtonEl.disabled = true;  // To prevent multiple clicks.\n",
              "      quickchartButtonEl.classList.add('colab-df-spinner');\n",
              "      try {\n",
              "        const charts = await google.colab.kernel.invokeFunction(\n",
              "            'suggestCharts', [key], {});\n",
              "      } catch (error) {\n",
              "        console.error('Error during call to suggestCharts:', error);\n",
              "      }\n",
              "      quickchartButtonEl.classList.remove('colab-df-spinner');\n",
              "      quickchartButtonEl.classList.add('colab-df-quickchart-complete');\n",
              "    }\n",
              "    (() => {\n",
              "      let quickchartButtonEl =\n",
              "        document.querySelector('#df-1431d01c-abf2-471f-bf1a-577521fde16f button');\n",
              "      quickchartButtonEl.style.display =\n",
              "        google.colab.kernel.accessAllowed ? 'block' : 'none';\n",
              "    })();\n",
              "  </script>\n",
              "</div>\n",
              "\n",
              "    </div>\n",
              "  </div>\n"
            ],
            "application/vnd.google.colaboratory.intrinsic+json": {
              "type": "dataframe",
              "variable_name": "top_1000_df",
              "summary": "{\n  \"name\": \"top_1000_df\",\n  \"rows\": 1000,\n  \"fields\": [\n    {\n      \"column\": \"Original Chattogram Sentense\",\n      \"properties\": {\n        \"dtype\": \"string\",\n        \"num_unique_values\": 990,\n        \"samples\": [\n          \"\\u09ad\\u09be\\u0987\\u09ab\\u09c1\\u09a4 \\u09b8\\u09b0\\u09c7 \\u09b8\\u09b0\\u09c7 \\u0986\\u0987 \\u09af\\u09be\\u0987\\u099a\\u0997\\u09c1\\u0987\",\n          \"\\u098f\\u09cd\\u09af\\u0981\\u09a1\\u09be\\u09ae \\u099b\\u09be\\u09dc\\u09be \\u0997\\u0989\\u09b0\",\n          \"\\u0986\\u09b0\\u09be\\u09b0\\u09c7 \\u0995\\u09c0 \\u09ae\\u09a8\\u09c7 \\u0997\\u09b0\\u099c\\u09cd\\u099c\\u09bf\\u09a6\\u09c7\"\n        ],\n        \"semantic_type\": \"\",\n        \"description\": \"\"\n      }\n    },\n    {\n      \"column\": \"Original Chattogram language English\",\n      \"properties\": {\n        \"dtype\": \"category\",\n        \"num_unique_values\": 109,\n        \"samples\": [\n          \"sore sore bhut ditu jaiu gui\",\n          \"tui\",\n          \"kaliya\"\n        ],\n        \"semantic_type\": \"\",\n        \"description\": \"\"\n      }\n    },\n    {\n      \"column\": \"Bangali_Sentense\",\n      \"properties\": {\n        \"dtype\": \"string\",\n        \"num_unique_values\": 982,\n        \"samples\": [\n          \"\\u09ad\\u09be\\u09b2\\u09cb \\u09b9\\u09df\\u09c7 \\u09af\\u09be\\u0993\",\n          \"\\u09ac\\u09c7\\u09b6\\u09bf \\u0985\\u09b8\\u09c1\\u09b8\\u09cd\\u09a5 \",\n          \"\\u0985\\u09a8\\u09c7\\u0995 \\u09aa\\u09c1\\u09b0\\u09cb\\u09a8\\u09cb \\u0987\\u09a4\\u09bf\\u09b9\\u09be\\u09b8\"\n        ],\n        \"semantic_type\": \"\",\n        \"description\": \"\"\n      }\n    },\n    {\n      \"column\": \"English Sentense\",\n      \"properties\": {\n        \"dtype\": \"category\",\n        \"num_unique_values\": 38,\n        \"samples\": [\n          \"DUI SOTO TAKA DIYA AYTA KINCHI\",\n          \"aydike takan\",\n          \"KALKE\"\n        ],\n        \"semantic_type\": \"\",\n        \"description\": \"\"\n      }\n    },\n    {\n      \"column\": \"English Maning Sentense\",\n      \"properties\": {\n        \"dtype\": \"category\",\n        \"num_unique_values\": 36,\n        \"samples\": [\n          \"your name have in the poster.\",\n          \"STRAIGHT\",\n          \"HAVE ANY MONEY?\"\n        ],\n        \"semantic_type\": \"\",\n        \"description\": \"\"\n      }\n    }\n  ]\n}"
            }
          },
          "metadata": {},
          "execution_count": 9
        }
      ]
    },
    {
      "cell_type": "code",
      "source": [
        "top_1000_df.describe()"
      ],
      "metadata": {
        "colab": {
          "base_uri": "https://localhost:8080/",
          "height": 209
        },
        "id": "pRCjA8xGC3Bj",
        "outputId": "79e72e36-4a97-41aa-ff1f-f3aaef07e193"
      },
      "id": "pRCjA8xGC3Bj",
      "execution_count": 10,
      "outputs": [
        {
          "output_type": "execute_result",
          "data": {
            "text/plain": [
              "       Original Chattogram Sentense Original Chattogram language English  \\\n",
              "count                          1000                                  109   \n",
              "unique                          990                                  109   \n",
              "top         ডাক চিক্কুরে পাড়া ফাডের        ajeye roja kaliye eid tor ma    \n",
              "freq                              3                                    1   \n",
              "\n",
              "       Bangali_Sentense English Sentense English Maning Sentense  \n",
              "count              1000               39                      39  \n",
              "unique              982               38                      36  \n",
              "top           কী হয়েছে             ASBEN                     YOU  \n",
              "freq                  3                2                       3  "
            ],
            "text/html": [
              "\n",
              "  <div id=\"df-94a6f970-8c17-4934-95d3-501483e8b286\" class=\"colab-df-container\">\n",
              "    <div>\n",
              "<style scoped>\n",
              "    .dataframe tbody tr th:only-of-type {\n",
              "        vertical-align: middle;\n",
              "    }\n",
              "\n",
              "    .dataframe tbody tr th {\n",
              "        vertical-align: top;\n",
              "    }\n",
              "\n",
              "    .dataframe thead th {\n",
              "        text-align: right;\n",
              "    }\n",
              "</style>\n",
              "<table border=\"1\" class=\"dataframe\">\n",
              "  <thead>\n",
              "    <tr style=\"text-align: right;\">\n",
              "      <th></th>\n",
              "      <th>Original Chattogram Sentense</th>\n",
              "      <th>Original Chattogram language English</th>\n",
              "      <th>Bangali_Sentense</th>\n",
              "      <th>English Sentense</th>\n",
              "      <th>English Maning Sentense</th>\n",
              "    </tr>\n",
              "  </thead>\n",
              "  <tbody>\n",
              "    <tr>\n",
              "      <th>count</th>\n",
              "      <td>1000</td>\n",
              "      <td>109</td>\n",
              "      <td>1000</td>\n",
              "      <td>39</td>\n",
              "      <td>39</td>\n",
              "    </tr>\n",
              "    <tr>\n",
              "      <th>unique</th>\n",
              "      <td>990</td>\n",
              "      <td>109</td>\n",
              "      <td>982</td>\n",
              "      <td>38</td>\n",
              "      <td>36</td>\n",
              "    </tr>\n",
              "    <tr>\n",
              "      <th>top</th>\n",
              "      <td>ডাক চিক্কুরে পাড়া ফাডের</td>\n",
              "      <td>ajeye roja kaliye eid tor ma</td>\n",
              "      <td>কী হয়েছে</td>\n",
              "      <td>ASBEN</td>\n",
              "      <td>YOU</td>\n",
              "    </tr>\n",
              "    <tr>\n",
              "      <th>freq</th>\n",
              "      <td>3</td>\n",
              "      <td>1</td>\n",
              "      <td>3</td>\n",
              "      <td>2</td>\n",
              "      <td>3</td>\n",
              "    </tr>\n",
              "  </tbody>\n",
              "</table>\n",
              "</div>\n",
              "    <div class=\"colab-df-buttons\">\n",
              "\n",
              "  <div class=\"colab-df-container\">\n",
              "    <button class=\"colab-df-convert\" onclick=\"convertToInteractive('df-94a6f970-8c17-4934-95d3-501483e8b286')\"\n",
              "            title=\"Convert this dataframe to an interactive table.\"\n",
              "            style=\"display:none;\">\n",
              "\n",
              "  <svg xmlns=\"http://www.w3.org/2000/svg\" height=\"24px\" viewBox=\"0 -960 960 960\">\n",
              "    <path d=\"M120-120v-720h720v720H120Zm60-500h600v-160H180v160Zm220 220h160v-160H400v160Zm0 220h160v-160H400v160ZM180-400h160v-160H180v160Zm440 0h160v-160H620v160ZM180-180h160v-160H180v160Zm440 0h160v-160H620v160Z\"/>\n",
              "  </svg>\n",
              "    </button>\n",
              "\n",
              "  <style>\n",
              "    .colab-df-container {\n",
              "      display:flex;\n",
              "      gap: 12px;\n",
              "    }\n",
              "\n",
              "    .colab-df-convert {\n",
              "      background-color: #E8F0FE;\n",
              "      border: none;\n",
              "      border-radius: 50%;\n",
              "      cursor: pointer;\n",
              "      display: none;\n",
              "      fill: #1967D2;\n",
              "      height: 32px;\n",
              "      padding: 0 0 0 0;\n",
              "      width: 32px;\n",
              "    }\n",
              "\n",
              "    .colab-df-convert:hover {\n",
              "      background-color: #E2EBFA;\n",
              "      box-shadow: 0px 1px 2px rgba(60, 64, 67, 0.3), 0px 1px 3px 1px rgba(60, 64, 67, 0.15);\n",
              "      fill: #174EA6;\n",
              "    }\n",
              "\n",
              "    .colab-df-buttons div {\n",
              "      margin-bottom: 4px;\n",
              "    }\n",
              "\n",
              "    [theme=dark] .colab-df-convert {\n",
              "      background-color: #3B4455;\n",
              "      fill: #D2E3FC;\n",
              "    }\n",
              "\n",
              "    [theme=dark] .colab-df-convert:hover {\n",
              "      background-color: #434B5C;\n",
              "      box-shadow: 0px 1px 3px 1px rgba(0, 0, 0, 0.15);\n",
              "      filter: drop-shadow(0px 1px 2px rgba(0, 0, 0, 0.3));\n",
              "      fill: #FFFFFF;\n",
              "    }\n",
              "  </style>\n",
              "\n",
              "    <script>\n",
              "      const buttonEl =\n",
              "        document.querySelector('#df-94a6f970-8c17-4934-95d3-501483e8b286 button.colab-df-convert');\n",
              "      buttonEl.style.display =\n",
              "        google.colab.kernel.accessAllowed ? 'block' : 'none';\n",
              "\n",
              "      async function convertToInteractive(key) {\n",
              "        const element = document.querySelector('#df-94a6f970-8c17-4934-95d3-501483e8b286');\n",
              "        const dataTable =\n",
              "          await google.colab.kernel.invokeFunction('convertToInteractive',\n",
              "                                                    [key], {});\n",
              "        if (!dataTable) return;\n",
              "\n",
              "        const docLinkHtml = 'Like what you see? Visit the ' +\n",
              "          '<a target=\"_blank\" href=https://colab.research.google.com/notebooks/data_table.ipynb>data table notebook</a>'\n",
              "          + ' to learn more about interactive tables.';\n",
              "        element.innerHTML = '';\n",
              "        dataTable['output_type'] = 'display_data';\n",
              "        await google.colab.output.renderOutput(dataTable, element);\n",
              "        const docLink = document.createElement('div');\n",
              "        docLink.innerHTML = docLinkHtml;\n",
              "        element.appendChild(docLink);\n",
              "      }\n",
              "    </script>\n",
              "  </div>\n",
              "\n",
              "\n",
              "<div id=\"df-d4baf6e5-b570-40cc-a37b-c55ac247a230\">\n",
              "  <button class=\"colab-df-quickchart\" onclick=\"quickchart('df-d4baf6e5-b570-40cc-a37b-c55ac247a230')\"\n",
              "            title=\"Suggest charts\"\n",
              "            style=\"display:none;\">\n",
              "\n",
              "<svg xmlns=\"http://www.w3.org/2000/svg\" height=\"24px\"viewBox=\"0 0 24 24\"\n",
              "     width=\"24px\">\n",
              "    <g>\n",
              "        <path d=\"M19 3H5c-1.1 0-2 .9-2 2v14c0 1.1.9 2 2 2h14c1.1 0 2-.9 2-2V5c0-1.1-.9-2-2-2zM9 17H7v-7h2v7zm4 0h-2V7h2v10zm4 0h-2v-4h2v4z\"/>\n",
              "    </g>\n",
              "</svg>\n",
              "  </button>\n",
              "\n",
              "<style>\n",
              "  .colab-df-quickchart {\n",
              "      --bg-color: #E8F0FE;\n",
              "      --fill-color: #1967D2;\n",
              "      --hover-bg-color: #E2EBFA;\n",
              "      --hover-fill-color: #174EA6;\n",
              "      --disabled-fill-color: #AAA;\n",
              "      --disabled-bg-color: #DDD;\n",
              "  }\n",
              "\n",
              "  [theme=dark] .colab-df-quickchart {\n",
              "      --bg-color: #3B4455;\n",
              "      --fill-color: #D2E3FC;\n",
              "      --hover-bg-color: #434B5C;\n",
              "      --hover-fill-color: #FFFFFF;\n",
              "      --disabled-bg-color: #3B4455;\n",
              "      --disabled-fill-color: #666;\n",
              "  }\n",
              "\n",
              "  .colab-df-quickchart {\n",
              "    background-color: var(--bg-color);\n",
              "    border: none;\n",
              "    border-radius: 50%;\n",
              "    cursor: pointer;\n",
              "    display: none;\n",
              "    fill: var(--fill-color);\n",
              "    height: 32px;\n",
              "    padding: 0;\n",
              "    width: 32px;\n",
              "  }\n",
              "\n",
              "  .colab-df-quickchart:hover {\n",
              "    background-color: var(--hover-bg-color);\n",
              "    box-shadow: 0 1px 2px rgba(60, 64, 67, 0.3), 0 1px 3px 1px rgba(60, 64, 67, 0.15);\n",
              "    fill: var(--button-hover-fill-color);\n",
              "  }\n",
              "\n",
              "  .colab-df-quickchart-complete:disabled,\n",
              "  .colab-df-quickchart-complete:disabled:hover {\n",
              "    background-color: var(--disabled-bg-color);\n",
              "    fill: var(--disabled-fill-color);\n",
              "    box-shadow: none;\n",
              "  }\n",
              "\n",
              "  .colab-df-spinner {\n",
              "    border: 2px solid var(--fill-color);\n",
              "    border-color: transparent;\n",
              "    border-bottom-color: var(--fill-color);\n",
              "    animation:\n",
              "      spin 1s steps(1) infinite;\n",
              "  }\n",
              "\n",
              "  @keyframes spin {\n",
              "    0% {\n",
              "      border-color: transparent;\n",
              "      border-bottom-color: var(--fill-color);\n",
              "      border-left-color: var(--fill-color);\n",
              "    }\n",
              "    20% {\n",
              "      border-color: transparent;\n",
              "      border-left-color: var(--fill-color);\n",
              "      border-top-color: var(--fill-color);\n",
              "    }\n",
              "    30% {\n",
              "      border-color: transparent;\n",
              "      border-left-color: var(--fill-color);\n",
              "      border-top-color: var(--fill-color);\n",
              "      border-right-color: var(--fill-color);\n",
              "    }\n",
              "    40% {\n",
              "      border-color: transparent;\n",
              "      border-right-color: var(--fill-color);\n",
              "      border-top-color: var(--fill-color);\n",
              "    }\n",
              "    60% {\n",
              "      border-color: transparent;\n",
              "      border-right-color: var(--fill-color);\n",
              "    }\n",
              "    80% {\n",
              "      border-color: transparent;\n",
              "      border-right-color: var(--fill-color);\n",
              "      border-bottom-color: var(--fill-color);\n",
              "    }\n",
              "    90% {\n",
              "      border-color: transparent;\n",
              "      border-bottom-color: var(--fill-color);\n",
              "    }\n",
              "  }\n",
              "</style>\n",
              "\n",
              "  <script>\n",
              "    async function quickchart(key) {\n",
              "      const quickchartButtonEl =\n",
              "        document.querySelector('#' + key + ' button');\n",
              "      quickchartButtonEl.disabled = true;  // To prevent multiple clicks.\n",
              "      quickchartButtonEl.classList.add('colab-df-spinner');\n",
              "      try {\n",
              "        const charts = await google.colab.kernel.invokeFunction(\n",
              "            'suggestCharts', [key], {});\n",
              "      } catch (error) {\n",
              "        console.error('Error during call to suggestCharts:', error);\n",
              "      }\n",
              "      quickchartButtonEl.classList.remove('colab-df-spinner');\n",
              "      quickchartButtonEl.classList.add('colab-df-quickchart-complete');\n",
              "    }\n",
              "    (() => {\n",
              "      let quickchartButtonEl =\n",
              "        document.querySelector('#df-d4baf6e5-b570-40cc-a37b-c55ac247a230 button');\n",
              "      quickchartButtonEl.style.display =\n",
              "        google.colab.kernel.accessAllowed ? 'block' : 'none';\n",
              "    })();\n",
              "  </script>\n",
              "</div>\n",
              "\n",
              "    </div>\n",
              "  </div>\n"
            ],
            "application/vnd.google.colaboratory.intrinsic+json": {
              "type": "dataframe",
              "summary": "{\n  \"name\": \"top_1000_df\",\n  \"rows\": 4,\n  \"fields\": [\n    {\n      \"column\": \"Original Chattogram Sentense\",\n      \"properties\": {\n        \"dtype\": \"string\",\n        \"num_unique_values\": 4,\n        \"samples\": [\n          990,\n          \"3\",\n          \"1000\"\n        ],\n        \"semantic_type\": \"\",\n        \"description\": \"\"\n      }\n    },\n    {\n      \"column\": \"Original Chattogram language English\",\n      \"properties\": {\n        \"dtype\": \"string\",\n        \"num_unique_values\": 3,\n        \"samples\": [\n          \"109\",\n          \"ajeye roja kaliye eid tor ma \",\n          \"1\"\n        ],\n        \"semantic_type\": \"\",\n        \"description\": \"\"\n      }\n    },\n    {\n      \"column\": \"Bangali_Sentense\",\n      \"properties\": {\n        \"dtype\": \"string\",\n        \"num_unique_values\": 4,\n        \"samples\": [\n          982,\n          \"3\",\n          \"1000\"\n        ],\n        \"semantic_type\": \"\",\n        \"description\": \"\"\n      }\n    },\n    {\n      \"column\": \"English Sentense\",\n      \"properties\": {\n        \"dtype\": \"string\",\n        \"num_unique_values\": 4,\n        \"samples\": [\n          38,\n          \"2\",\n          \"39\"\n        ],\n        \"semantic_type\": \"\",\n        \"description\": \"\"\n      }\n    },\n    {\n      \"column\": \"English Maning Sentense\",\n      \"properties\": {\n        \"dtype\": \"string\",\n        \"num_unique_values\": 4,\n        \"samples\": [\n          36,\n          \"3\",\n          \"39\"\n        ],\n        \"semantic_type\": \"\",\n        \"description\": \"\"\n      }\n    }\n  ]\n}"
            }
          },
          "metadata": {},
          "execution_count": 10
        }
      ]
    },
    {
      "cell_type": "markdown",
      "source": [
        "### Select only the chattogram sentence and bangali sentence"
      ],
      "metadata": {
        "id": "0uzrnipkKBiJ"
      },
      "id": "0uzrnipkKBiJ"
    },
    {
      "cell_type": "code",
      "source": [
        "original_chattogram_Sentense=list(top_1000_df['Original Chattogram Sentense'])\n",
        "bangali_sentence=list(top_1000_df['Bangali_Sentense'])"
      ],
      "metadata": {
        "id": "hxHFrQmwy04E"
      },
      "id": "hxHFrQmwy04E",
      "execution_count": 12,
      "outputs": []
    },
    {
      "cell_type": "markdown",
      "source": [
        "## 4. Data Processing\n",
        "- Generate train and val data\n",
        "- Save chattogram and stanadrd bangla text into local disk"
      ],
      "metadata": {
        "id": "VL1kF3jIoGRx"
      },
      "id": "VL1kF3jIoGRx"
    },
    {
      "cell_type": "code",
      "source": [
        "data=[]\n",
        "# print(Original_Chattogram_Sentense)\n",
        "for i in range(len(original_chattogram_Sentense)):\n",
        "  data.append([original_chattogram_Sentense[i],bangali_sentence[i]])\n"
      ],
      "metadata": {
        "id": "LhCbruaPzEex"
      },
      "id": "LhCbruaPzEex",
      "execution_count": 13,
      "outputs": []
    },
    {
      "cell_type": "code",
      "source": [
        "data[:10]"
      ],
      "metadata": {
        "colab": {
          "base_uri": "https://localhost:8080/"
        },
        "id": "p2QVss8RSg3M",
        "outputId": "bb7ee29a-533b-4753-9e73-ff480e422226"
      },
      "id": "p2QVss8RSg3M",
      "execution_count": 14,
      "outputs": [
        {
          "output_type": "execute_result",
          "data": {
            "text/plain": [
              "[['অনেরা কডে', 'আপনারা কোথায়'],\n",
              " ['অলপল গরি এইজ্জু', 'আগোছালো করে রাখসো'],\n",
              " ['ফ্ইর বানাইবা ফানলার', 'ভিক্ষুক বানাবা মনেহয়'],\n",
              " ['আজিয়া বিইয়্যা', 'আজকে বিয়ে'],\n",
              " ['কালিয়া মেজ্জান', 'কালকে মেজবান'],\n",
              " ['যন নাই', 'যেতে নাই'],\n",
              " ['গত খাইল', 'গত কালকে'],\n",
              " ['ইতারে ধর', 'তাকে ধরো'],\n",
              " ['অনেরে তোয়ারদে', 'আপনাকে খুঁজতেসে'],\n",
              " ['আ্যাই কিত্তাম', 'আমি কী করবো']]"
            ]
          },
          "metadata": {},
          "execution_count": 14
        }
      ]
    },
    {
      "cell_type": "code",
      "execution_count": 15,
      "id": "2e819c75",
      "metadata": {
        "id": "2e819c75",
        "outputId": "a930ec1b-5c60-4817-97db-8766386e9360",
        "colab": {
          "base_uri": "https://localhost:8080/"
        }
      },
      "outputs": [
        {
          "output_type": "execute_result",
          "data": {
            "text/plain": [
              "[['সুন্দর আর পইজ্জ ফরিষ্কার বাংলাদেশ চাই।', 'সুন্দর ও পরিষ্কার বাংলাদেশ চাই'],\n",
              " ['যেডে মাইনসে স্সথির ভাত খাইত তারিবু',\n",
              "  'যেখানে মানুষ শান্তিতে ভাত খেতে পারবে'],\n",
              " ['খুদা আর দারিদ্রতা মুক্ত বাংলাদেশ চাইতাম চাই।',\n",
              "  'ক্ষুদ দারিদ্রতামুক্ত বাংলাদেশ চাই'],\n",
              " ['ভালা মাইসর হাতে ভালা বাংলাদেশ চাইতাম চাই',\n",
              "  'ভালো মানুষের হাতে বাংলাদেশ দেখতে চাই'],\n",
              " ['নিরাপদ ও শান্তি পূর্ণ বাংলাদেশ চাইতাম চাই ।',\n",
              "  'নিরাপদ ও শান্তিপূন বাংলাদেশ দেখতে চাই'],\n",
              " ['আঁই এন ওগ্গো বাংলাদেশ দেইকতামচাই জেড়ে ধনী-গরীব, ক্ষমতাবান -নিচুবান হোন ভেদাভেদ থাইকতুনো',\n",
              "  'আমি এমন একটা বাংলাদেশ দেখতে চাই যেখানে ধণী গরিব, ক্ষমতাবান নিচু কোন ভেদাভেদ থাকবে না'],\n",
              " ['উঁচুজাত-নিচুজাত কোন ভেদাভেদ থাইকতুনো;',\n",
              "  'উচু নিচু জাত কোন ভেদাভেদ থাকবে না'],\n",
              " ['নামাযত জেইল্লে ধনী-গরীব, মালিক-চাকর একফুয়ারে কাতারবন্দি অই থিয়েই এল্লে বিয়াগ্গুনে এক সমান থাকিবু,',\n",
              "  'নামাজে যেভাবে ধনী গরীব মালিক চাকর একসাথে এক কাতারে দাড়াই  সেভাবে সমানে থাকতে চাই'],\n",
              " ['দেশত শৃঙ্খলা থাকিবু কিয়র হক কিউ মারি মারি খাইতু নো,',\n",
              "  'দেশে শৃঙ্খলা থাকবে কে্উ কারো হক মারি খেতে পারবে না'],\n",
              " ['মাইনষুর নিরাপত্তা নিশ্চিত থাকিবু।', 'মানুষের নিরাপত্তা নিশ্চত থাকবে']]"
            ]
          },
          "metadata": {},
          "execution_count": 15
        }
      ],
      "source": [
        "data[-10:]"
      ]
    },
    {
      "cell_type": "code",
      "execution_count": 16,
      "id": "69549a09",
      "metadata": {
        "id": "69549a09",
        "outputId": "a71540e7-5811-454a-9227-861c4d24ebf9",
        "colab": {
          "base_uri": "https://localhost:8080/"
        }
      },
      "outputs": [
        {
          "output_type": "stream",
          "name": "stdout",
          "text": [
            "train len:  800\n",
            " val len:  200\n"
          ]
        }
      ],
      "source": [
        "train_chattogram = [i[0] for i in data[:800]]\n",
        "val_chattogram = [i[0] for i in data[800:]]\n",
        "print('train len: ',len(train_chattogram))\n",
        "print(' val len: ',len(val_chattogram))"
      ]
    },
    {
      "cell_type": "code",
      "execution_count": 17,
      "id": "5998c259",
      "metadata": {
        "id": "5998c259",
        "outputId": "b22a5cc1-4de5-4e47-e64c-eb0186e81128",
        "colab": {
          "base_uri": "https://localhost:8080/"
        }
      },
      "outputs": [
        {
          "output_type": "execute_result",
          "data": {
            "text/plain": [
              "['আই যাইর গই',\n",
              " 'হন্ডে যর দে',\n",
              " 'আই বারিত যাইর',\n",
              " 'তুই ন যাই য়',\n",
              " 'তুয়ার কী অইয়ে',\n",
              " 'আর মাথা ঘুরের',\n",
              " 'এহন কেন লার',\n",
              " 'এই হাম হনে গরিল',\n",
              " 'আই গরগিদি',\n",
              " 'অবা তুই কেন আছ']"
            ]
          },
          "metadata": {},
          "execution_count": 17
        }
      ],
      "source": [
        "val_chattogram[:10]"
      ]
    },
    {
      "cell_type": "code",
      "execution_count": 18,
      "id": "b6d45419",
      "metadata": {
        "id": "b6d45419",
        "outputId": "685f48dd-ed1a-4521-a4b9-8d32acacd1eb",
        "colab": {
          "base_uri": "https://localhost:8080/"
        }
      },
      "outputs": [
        {
          "output_type": "stream",
          "name": "stdout",
          "text": [
            "800\n",
            "200\n"
          ]
        }
      ],
      "source": [
        "train_bangla = [i[1] for i in data[:800]]\n",
        "val_bangla = [i[1] for i in data[800:]]\n",
        "print(len(train_bangla))\n",
        "print(len(val_bangla))"
      ]
    },
    {
      "cell_type": "code",
      "execution_count": 19,
      "id": "77c9615b",
      "metadata": {
        "id": "77c9615b",
        "colab": {
          "base_uri": "https://localhost:8080/"
        },
        "outputId": "66d652e7-0d0e-412c-cc34-68bd3aef442b"
      },
      "outputs": [
        {
          "output_type": "execute_result",
          "data": {
            "text/plain": [
              "['আমি চলে যাচ্ছি ',\n",
              " 'কোথায় যাচ্ছ',\n",
              " 'আমি বাড়িতে যাচ্ছি ',\n",
              " 'তুমি যেয়োনা',\n",
              " 'তোমার কী হয়েছে ',\n",
              " 'আমার মাথা ঘুরতেছে',\n",
              " 'এখন কেমন লাগতেছে ',\n",
              " 'এই কাজ কে করছে',\n",
              " 'আমি করছি ',\n",
              " 'ও বাবা তুমি কেমন আছো ']"
            ]
          },
          "metadata": {},
          "execution_count": 19
        }
      ],
      "source": [
        "val_bangla[:10]"
      ]
    },
    {
      "cell_type": "markdown",
      "source": [
        "### Saved Chattogram and standard bangla text into file"
      ],
      "metadata": {
        "id": "7KU4nC9uKUfL"
      },
      "id": "7KU4nC9uKUfL"
    },
    {
      "cell_type": "code",
      "execution_count": 20,
      "id": "054cd2c9",
      "metadata": {
        "id": "054cd2c9"
      },
      "outputs": [],
      "source": [
        "import os\n",
        "process_data_path = \"/content/drive/MyDrive/Chattogram_language/data/process_data\"\n",
        "# os.makedirs(process_data_path, exits_ok= True)\n",
        "os.makedirs(process_data_path, exist_ok = True)"
      ]
    },
    {
      "cell_type": "code",
      "execution_count": 21,
      "id": "27fc0203",
      "metadata": {
        "id": "27fc0203"
      },
      "outputs": [],
      "source": [
        "def write_txt_file(file_path, data, encoding=\"utf-8\"):\n",
        "    with open(file_path, 'w') as f:\n",
        "        for key in data:\n",
        "            if isinstance(key, list):\n",
        "                key = key[0]\n",
        "            f.write(key+\"\\n\")"
      ]
    },
    {
      "cell_type": "code",
      "execution_count": 22,
      "id": "a46ea05a",
      "metadata": {
        "id": "a46ea05a"
      },
      "outputs": [],
      "source": [
        "write_txt_file(os.path.join(process_data_path, \"chattogram_data.txt\"), train_chattogram)"
      ]
    },
    {
      "cell_type": "code",
      "execution_count": 23,
      "id": "5f3beba8",
      "metadata": {
        "id": "5f3beba8"
      },
      "outputs": [],
      "source": [
        "write_txt_file(os.path.join(process_data_path,\"bangla_data.txt\"), train_bangla)"
      ]
    },
    {
      "cell_type": "code",
      "execution_count": 24,
      "id": "ea840781",
      "metadata": {
        "id": "ea840781"
      },
      "outputs": [],
      "source": [
        "def merge_data_write_txt_file(file_path, chattogram_data, bangla_data, encoding=\"utf-8\"):\n",
        "    with open(file_path, 'w') as f:\n",
        "        for chattogram, bangla in zip(chattogram_data, bangla_data):\n",
        "#             if isinstance(key, list):\n",
        "#                 key = key[0]\n",
        "            f.write(chattogram+\"\\t\"+bangla+\"\\n\")"
      ]
    },
    {
      "cell_type": "code",
      "execution_count": 25,
      "id": "088ece19",
      "metadata": {
        "id": "088ece19"
      },
      "outputs": [],
      "source": [
        "merge_data_write_txt_file(os.path.join(process_data_path, \"merge_data.txt\"), train_chattogram, train_bangla)"
      ]
    },
    {
      "cell_type": "code",
      "execution_count": 26,
      "id": "60265503",
      "metadata": {
        "id": "60265503"
      },
      "outputs": [],
      "source": [
        "model_path = \"/content/drive/MyDrive/Chattogram_language/model\"\n",
        "os.makedirs(model_path, exist_ok = True)"
      ]
    },
    {
      "cell_type": "markdown",
      "source": [
        "## 5. Generate Tokenizer and Vocab File"
      ],
      "metadata": {
        "id": "pMCTwu0RKfjr"
      },
      "id": "pMCTwu0RKfjr"
    },
    {
      "cell_type": "code",
      "execution_count": 27,
      "id": "65467bfb",
      "metadata": {
        "id": "65467bfb"
      },
      "outputs": [],
      "source": [
        "import sentencepiece as spm\n",
        "\n",
        "def train_tokenizer(text_path=\"text.txt\", model_prefix=\"model/chattogram_model\", vocab_size=30000):\n",
        "    spm.SentencePieceTrainer.train(f'--input={text_path} --model_prefix={model_prefix} --user_defined_symbols=<sep>,<cls> --vocab_size={vocab_size}')\n",
        "    bn_sp = spm.SentencePieceProcessor()\n",
        "    bn_sp.load(os.path.join(model_path, 'chattogram_model.model'))\n"
      ]
    },
    {
      "cell_type": "code",
      "execution_count": 28,
      "id": "88cfed17",
      "metadata": {
        "id": "88cfed17"
      },
      "outputs": [],
      "source": [
        "chattogram_data_path = \"/content/drive/MyDrive/Chattogram_language/data/process_data/chattogram_data.txt\"\n",
        "bangla_data_path = \"/content/drive/MyDrive/Chattogram_language/data/process_data/bangla_data.txt\""
      ]
    },
    {
      "cell_type": "markdown",
      "source": [
        "### Generate Chattogram and standard bangla tokenizer"
      ],
      "metadata": {
        "id": "9exFr-V9KsqJ"
      },
      "id": "9exFr-V9KsqJ"
    },
    {
      "cell_type": "code",
      "execution_count": 30,
      "id": "fa3c66b0",
      "metadata": {
        "id": "fa3c66b0"
      },
      "outputs": [],
      "source": [
        "train_tokenizer(\n",
        "    text_path = chattogram_data_path,\n",
        "    model_prefix = \"/content/drive/MyDrive/Chattogram_language/model/chattogram_model\",\n",
        "    vocab_size = 968\n",
        ")"
      ]
    },
    {
      "cell_type": "code",
      "execution_count": 33,
      "id": "47994f54",
      "metadata": {
        "id": "47994f54"
      },
      "outputs": [],
      "source": [
        "train_tokenizer(\n",
        "    text_path = bangla_data_path,\n",
        "    model_prefix = \"/content/drive/MyDrive/Chattogram_language/model/bangla_model\",\n",
        "    vocab_size = 850\n",
        ")"
      ]
    },
    {
      "cell_type": "code",
      "execution_count": 35,
      "id": "946583b5",
      "metadata": {
        "id": "946583b5"
      },
      "outputs": [],
      "source": [
        "chattogram_tokenizer = spm.SentencePieceProcessor(model_file='/content/drive/MyDrive/Chattogram_language/model/chattogram_model.model')\n",
        "bangla_tokenizer = spm.SentencePieceProcessor(model_file='/content/drive/MyDrive/Chattogram_language/model/bangla_model.model')"
      ]
    },
    {
      "cell_type": "code",
      "execution_count": 36,
      "id": "1bbec599",
      "metadata": {
        "id": "1bbec599",
        "outputId": "71ef5c05-4db1-464e-c380-273b2f7df640",
        "colab": {
          "base_uri": "https://localhost:8080/"
        }
      },
      "outputs": [
        {
          "output_type": "execute_result",
          "data": {
            "text/plain": [
              "[89, 26, 167, 43, 207]"
            ]
          },
          "metadata": {},
          "execution_count": 36
        }
      ],
      "source": [
        "chattogram_tokenizer.encode(\"এত টিয়া হডে পাইয়ুম \")"
      ]
    },
    {
      "cell_type": "code",
      "execution_count": 37,
      "id": "96097394",
      "metadata": {
        "id": "96097394",
        "outputId": "d7a15d8c-360f-4425-eada-1dcf1651a5d4",
        "colab": {
          "base_uri": "https://localhost:8080/"
        }
      },
      "outputs": [
        {
          "output_type": "execute_result",
          "data": {
            "text/plain": [
              "[16, 77, 94, 83, 23, 251, 7]"
            ]
          },
          "metadata": {},
          "execution_count": 37
        }
      ],
      "source": [
        "bangla_tokenizer.encode(\"আমি আবার বিয়ে করেছি।\")"
      ]
    },
    {
      "cell_type": "code",
      "execution_count": 38,
      "id": "c6171673",
      "metadata": {
        "id": "c6171673",
        "outputId": "e22008ad-11ad-48ce-c72e-ae831ef070b4",
        "colab": {
          "base_uri": "https://localhost:8080/"
        }
      },
      "outputs": [
        {
          "output_type": "stream",
          "name": "stdout",
          "text": [
            "['▁এত', '▁টিয়া', '▁হডে', '▁প', 'াইয়ুম']\n",
            "[89, 26, 167, 43, 207]\n",
            "['▁এত', '▁', 'টি', 'য়া', '▁হ', 'ড', 'ে', '▁পাই', 'য়', 'ু', 'ম']\n",
            "[374, 10, 84, 662, 58, 620, 6, 521, 44, 99, 181]\n"
          ]
        }
      ],
      "source": [
        "print(chattogram_tokenizer.encode_as_pieces('এত টিয়া হডে পাইয়ুম '))\n",
        "print(chattogram_tokenizer.encode_as_ids('এত টিয়া হডে পাইয়ুম '))\n",
        "\n",
        "print(bangla_tokenizer.encode_as_pieces('এত টিয়া হডে পাইয়ুম '))\n",
        "print(bangla_tokenizer.encode_as_ids('এত টিয়া হডে পাইয়ুম '))"
      ]
    },
    {
      "cell_type": "markdown",
      "source": [
        "### Generate and save vocab files"
      ],
      "metadata": {
        "id": "T46RV5TkK4Gc"
      },
      "id": "T46RV5TkK4Gc"
    },
    {
      "cell_type": "code",
      "execution_count": 39,
      "id": "a1bc6a64",
      "metadata": {
        "id": "a1bc6a64"
      },
      "outputs": [],
      "source": [
        "from torchtext.vocab import vocab\n",
        "def build_vocab(sentences, tokenizer):\n",
        "    counter = Counter()\n",
        "    for sentence in sentences:\n",
        "        # print(sentence)\n",
        "        if isinstance(sentence, list):\n",
        "            sentence = sentence[0]\n",
        "        counter.update(tokenizer.encode(sentence, out_type=str))\n",
        "    print(counter)\n",
        "    return vocab(counter, specials=['<unk>', '<pad>', '<bos>', '<eos>'], special_first=True)\n"
      ]
    },
    {
      "cell_type": "code",
      "source": [],
      "metadata": {
        "id": "U2hw5L7MwcyL"
      },
      "id": "U2hw5L7MwcyL",
      "execution_count": null,
      "outputs": []
    },
    {
      "cell_type": "code",
      "execution_count": 40,
      "id": "3bb23f27",
      "metadata": {
        "id": "3bb23f27",
        "colab": {
          "base_uri": "https://localhost:8080/",
          "height": 35
        },
        "outputId": "c5a507cb-24e7-40d8-f9fc-112dafd48959"
      },
      "outputs": [
        {
          "output_type": "execute_result",
          "data": {
            "text/plain": [
              "'0.17.1+cpu'"
            ],
            "application/vnd.google.colaboratory.intrinsic+json": {
              "type": "string"
            }
          },
          "metadata": {},
          "execution_count": 40
        }
      ],
      "source": [
        "torchtext.__version__"
      ]
    },
    {
      "cell_type": "code",
      "source": [
        "print('input sentence: ',train_chattogram[0])\n",
        "chattogram_tokenizer.encode(train_chattogram[0])"
      ],
      "metadata": {
        "colab": {
          "base_uri": "https://localhost:8080/"
        },
        "id": "kIFWtLiAusLG",
        "outputId": "5a537895-0b15-47b4-ac4c-477c3047d680"
      },
      "id": "kIFWtLiAusLG",
      "execution_count": 41,
      "outputs": [
        {
          "output_type": "stream",
          "name": "stdout",
          "text": [
            "input sentence:  অনেরা কডে\n"
          ]
        },
        {
          "output_type": "execute_result",
          "data": {
            "text/plain": [
              "[442, 11, 80]"
            ]
          },
          "metadata": {},
          "execution_count": 41
        }
      ]
    },
    {
      "cell_type": "markdown",
      "source": [
        "### Merge train and val to generate a vocab"
      ],
      "metadata": {
        "id": "hjV6TiGqK1qc"
      },
      "id": "hjV6TiGqK1qc"
    },
    {
      "cell_type": "code",
      "source": [
        "full_chattogram=train_chattogram+val_chattogram\n",
        "full_bangla=train_bangla+val_bangla\n",
        "print(len(full_chattogram))\n",
        "print(len(full_bangla))"
      ],
      "metadata": {
        "colab": {
          "base_uri": "https://localhost:8080/"
        },
        "id": "JnHQl-zsK8Do",
        "outputId": "60bdd38a-6426-468a-b15e-b2d636c3fd8d"
      },
      "id": "JnHQl-zsK8Do",
      "execution_count": 42,
      "outputs": [
        {
          "output_type": "stream",
          "name": "stdout",
          "text": [
            "1000\n",
            "1000\n"
          ]
        }
      ]
    },
    {
      "cell_type": "code",
      "source": [
        "full_chattogram_vocab = build_vocab(full_chattogram, chattogram_tokenizer)\n",
        "print('len of full chattogram vocab: ',len(full_chattogram_vocab))"
      ],
      "metadata": {
        "colab": {
          "base_uri": "https://localhost:8080/"
        },
        "id": "pOLHp37lLbK8",
        "outputId": "b1231200-55f1-45f3-e636-07353a1ababf"
      },
      "id": "pOLHp37lLbK8",
      "execution_count": 43,
      "outputs": [
        {
          "output_type": "stream",
          "name": "stdout",
          "text": [
            "Counter({'র': 274, 'ত': 211, '▁ন': 164, '।': 158, 'ে': 150, '?': 141, 'া': 130, 'ন': 111, '▁আই': 104, ',': 99, 'ি': 90, '▁আর': 85, 'ম': 84, '▁না': 75, '▁': 66, '▁আ': 61, 'রে': 60, 'স': 58, '▁তুই': 58, 'য়': 56, '▁ব': 52, '▁দে': 52, '▁গ': 51, '▁হ': 51, 'ই': 50, 'ের': 50, '▁ভা': 49, '▁কী': 48, '▁এ': 47, 'ার': 47, 'ো': 47, 'ষ': 46, '▁টিয়া': 42, '▁কি': 42, 'ং': 42, '▁বা': 41, '্': 41, '▁প': 40, 'ুন': 39, 'ক': 39, '▁মা': 39, '▁অ': 37, '▁নাই': 36, '▁স': 36, '▁আরা': 35, 'ল': 34, '▁কিছু': 34, '▁গরি': 33, '▁দ': 32, '▁ক': 32, 'ু': 32, 'দে': 31, '▁চাই': 31, 'লা': 31, 'শ': 31, '▁তোয়ার': 30, '▁ত': 30, '▁গর': 29, '▁হন': 29, '▁চ': 28, '▁হই': 28, 'রি': 27, 'ব': 27, '▁কা': 27, 'ত্ত': 26, '▁শ': 25, 'দ': 25, '▁হথা': 25, 'ী': 24, '▁দাম': 24, '▁খ': 23, '▁ইবা': 23, '▁ম': 23, '▁ল': 23, '▁আরার': 23, 'গ': 23, '▁ও': 22, '▁সা': 22, '▁কেন': 21, 'ট': 21, 'লে': 21, '▁য': 20, '▁আরে': 20, '▁দি': 20, '▁ফ': 20, '▁চিটা': 20, 'উ': 19, '▁আছে': 19, 'াই': 19, '▁ভালা': 19, '্র': 19, '▁মন': 18, '▁এই': 18, '্যা': 17, '▁নাম': 17, '▁পা': 17, 'দি': 17, 'প': 17, 'গা': 17, '▁যা': 17, '▁দিন': 16, '▁মানুষ': 16, 'ঁ': 16, '▁ওয়া': 16, '▁যাই': 16, '▁লা': 16, '▁বো': 16, 'খ': 16, '▁এক': 16, '▁হা': 16, 'তাম': 16, '▁চা': 16, 'ুর': 15, 'তে': 15, 'গিন': 15, 'না': 15, '▁যে': 15, 'হ': 15, '▁এন': 15, '▁অই': 15, '▁এবে': 15, 'বা': 14, '▁আছো': 14, 'ছ': 14, '▁বিয়াক': 14, 'নে': 14, '▁ইয়ান': 14, '▁এত': 14, '▁তুর': 14, '▁লাই': 14, '্ত': 14, '▁এক্কান': 14, '▁গরন': 14, '্য': 14, '▁পরিব': 14, '▁বে': 13, '▁তুয়ার': 13, 'জি': 13, 'জ': 13, '▁হতা': 13, '▁মাথা': 13, 'ও': 13, '▁বেশ': 13, 'চ': 13, 'লাম': 13, '▁লার': 13, '▁হন্ডে': 13, 'হা': 13, '▁ইত': 13, '▁উ': 12, '▁গই': 12, '▁ফোয়া': 12, 'দ্দে': 12, 'কা': 12, '▁লই': 12, '▁অইল': 12, 'ির': 12, '▁আগে': 12, '▁হয়': 12, '▁অয়': 12, '▁এহন': 12, '▁কডে': 11, '▁বদ্দা': 11, 'বি': 11, '▁হব': 11, 'ান': 11, '▁জ': 11, '▁মাইনসে': 11, 'িয়া': 11, '▁বারি': 11, '▁মাছ': 11, 'তি': 11, 'ল্লা': 11, '▁হত': 11, '▁বিয়া': 10, '▁বাড়ি': 10, 'ইজ্জে': 10, '▁দেশ': 10, 'য়েরে': 10, 'োর': 10, '▁জন': 10, 'রা': 10, 'বে': 10, 'ইল্লে': 10, '▁ফল': 10, 'বার': 10, 'গান': 10, '▁বুঝ': 10, '▁গু': 10, 'ক্ক': 10, '▁ডা': 10, 'য়ে': 10, '▁যার': 10, '▁নেই': 10, '▁চল': 9, '▁হর': 9, '▁ই': 9, 'য়া': 9, '▁দিল': 9, 'িন': 9, '▁ভ': 9, 'ট্ট': 9, 'ড়': 9, '▁মু': 9, '▁লাগে': 9, 'োয়া': 9, 'ফ': 9, '▁কাম': 9, '▁সর': 9, '▁জা': 9, 'নি': 9, '▁দু': 9, '▁বালা': 9, '▁আছিল': 9, '▁ঘু': 9, '▁বাপ': 9, '▁ওগ্গ': 9, '▁ছা': 9, 'বাস': 9, '▁দিলা': 9, '▁বই': 9, '▁হাল': 9, '▁ওডো': 9, '▁বিয়ে': 9, 'য়ি': 9, 'গর': 9, '▁দেহ': 9, 'ক্': 9, '▁তোর': 9, 'য': 9, 'ইন্ন': 8, 'াইয়ুম': 8, '▁বিয়াকে': 8, 'লর': 8, 'টি': 8, '▁ইয়া': 8, '▁গরর': 8, 'ারে': 8, '▁ভাই': 8, '▁হডে': 8, 'তু': 8, '▁মারি': 8, 'কি': 8, '▁গরে': 8, '.': 8, '▁মার': 8, '▁কিয়া': 8, '▁জানি': 8, '▁ব্যা': 8, '▁পন্না': 8, 'নত': 8, 'ণ': 8, '▁থাক': 8, '▁ফুয়া': 8, 'লি': 8, '▁চিন': 8, 'থা': 8, '▁গান': 8, '▁গেই': 8, '▁লে': 8, 'াত': 8, 'ইগ্গ': 8, '▁কে': 8, '▁আইত': 8, '▁পোয়া': 8, 'িয়ে': 8, 'কার': 8, 'ন্ডে': 7, 'বান': 7, '’': 7, '▁মি': 7, '▁ক্যা': 7, '্যু': 7, '▁বি': 7, '▁বু': 7, 'ায়': 7, '▁পড়': 7, '▁আল্লা': 7, '▁ইতারা': 7, 'িক': 7, '▁খানা': 7, '▁মাইয়া': 7, '▁খাই': 7, 'ইলে': 7, 'ডা': 7, '▁ফাড': 7, '▁বাজার': 7, '▁ডইল্ল': 7, '▁ফরিবু': 7, '▁অনে': 7, 'ন্ড': 7, '▁পার': 7, 'দা': 7, '-': 7, 'ানি': 7, '▁অইব': 7, 'তা': 7, '▁হাম': 7, '▁পরে': 7, 'াজ': 7, '▁হাই': 7, 'িবি': 7, '▁হার': 7, 'ধ': 7, '▁ধর': 6, '▁ফা': 6, '▁অত': 6, '▁গাড়ী': 6, 'ষ্ট': 6, '▁হাত': 6, '▁চুর': 6, '▁বার': 6, '▁ছে': 6, 'ড়ি': 6, '▁পর': 6, '▁ড': 6, '▁সু': 6, 'সি': 6, 'ডে': 6, '▁ফুন': 6, '▁টাইম': 6, '▁বর': 6, '▁গাছ': 6, 'ইয়ু': 6, 'ধু': 6, '▁দর': 6, '▁ছাই': 6, 'ুম': 6, 'িস': 6, '▁বিয়াগ': 6, '▁দন': 6, '▁শিক': 6, '▁কোন': 6, '▁ফেলা': 6, '▁ভাল': 6, '▁অন': 6, '▁মাইনসের': 6, 'হার': 6, '▁আছি': 6, '▁বিয়াগ্গুন': 6, 'ইবে': 6, 'মান': 6, 'বু': 6, '▁অনের': 5, '▁অল': 5, '▁আ্': 5, 'ইত্ত': 5, 'য়সা': 5, '▁রাস্তা': 5, '▁দুই': 5, 'ডু': 5, '▁ইক্ক': 5, 'ইয়ে': 5, '▁টে': 5, 'ইয': 5, '▁ভু': 5, '▁ভে': 5, '▁ডর': 5, '▁জান': 5, 'ছে': 5, '▁দুর': 5, '▁অইয়ে': 5, 'ম্মা': 5, '▁বাইর': 5, '▁আজিয়ে': 5, 'রো': 5, 'জা': 5, '▁জিনিস': 5, '▁বদ': 5, '▁মর': 5, '▁খা': 5, '▁রে': 5, '▁মজা': 5, '▁মরি': 5, '▁চু': 5, 'ডি': 5, 'েল': 5, '▁পরি': 5, '▁তার': 5, '▁আরত': 5, 'ঢ': 5, 'দিন': 5, '▁অবস্থা': 5, '▁কারন': 5, '▁ঝ': 5, 'াম': 5, 'ইল': 5, '▁নদী': 5, '▁টান': 5, '▁পাই': 5, '▁আঁর': 5, '▁গা': 5, '▁বাই': 5, 'েট': 5, '▁বাজি': 5, '▁সি': 5, 'িলে': 5, 'তো': 5, '▁তোরে': 5, '!': 5, '▁আছ': 5, '▁হনো': 5, '▁হাইয়ুম': 5, '▁যায়': 5, '▁কিল্লাই': 5, '▁ব্য': 5, '▁গরিস': 5, '▁হম': 5, '▁এডাম': 5, '▁কীর': 5, 'ভ': 5, '▁এতে': 5, 'থ': 5, '▁ইতার': 4, 'যাই': 4, 'সা': 4, '▁ডরাই': 4, '▁ডরা': 4, 'যু': 4, 'ত্তা': 4, '▁লাইগ্গু': 4, '্ন': 4, 'ারাপ': 4, '▁উড': 4, '▁টা': 4, '▁গিইয়ে': 4, '▁তোয়ারা': 4, 'ম্ব': 4, '▁মাত': 4, 'ইবু': 4, '▁গুই': 4, 'অ': 4, '▁হেড': 4, '▁দোষ': 4, '▁চাইর': 4, 'রিবু': 4, 'উল': 4, '▁ফু': 4, 'ূল': 4, '▁ঠা': 4, '▁হস্তা': 4, '▁পিডা': 4, '▁ফিছে': 4, 'ারী': 4, '▁পাড়া': 4, 'ম্পা': 4, '্ব': 4, 'বাজার': 4, '▁ট': 4, 'গ্গা': 4, '▁রাখ': 4, 'চ্চ': 4, '▁ইস': 4, 'জে': 4, 'মেলা': 4, '▁রা': 4, '▁ফই': 4, 'ুস': 4, '▁আয়': 4, 'ইন্': 4, '▁সুখের': 4, 'ঃ': 4, '▁ভালো': 4, 'ৈ': 4, '...': 4, '▁পে': 4, '▁হু': 4, '▁হায়': 4, '▁থাহ': 4, '▁আইস': 4, 'ঙ': 4, 'িক্কে': 4, 'োচ': 4, 'ড়া': 4, '▁য়ুম': 4, 'োনা': 4, 'স্স': 4, 'িদি': 4, '▁আচ': 4, '▁তোরা': 4, '▁ইয়েন': 4, '▁পল': 4, 'ঠন': 4, '▁শু': 4, '▁ধ': 4, '▁অব': 4, 'গো': 4, 'লাই': 4, 'ৃ': 4, '▁মেজ্জা': 3, '▁গোস': 3, '▁ঐ': 3, '▁যাইব': 3, 'ন্নি': 3, 'িইয়্যে': 3, '▁পইসা': 3, '▁মাইনষে': 3, 'বাই': 3, '▁গেইল': 3, '▁জাগা': 3, '▁ফাই': 3, '▁জিনিষ': 3, 'য়ুম': 3, '▁বারো': 3, '▁যদ্দ': 3, 'জাল': 3, 'ক্কা': 3, '▁মাস্টর': 3, '▁মাল': 3, '্ডা': 3, '▁এককান': 3, 'ীর': 3, '▁হদুয়া': 3, '▁দুয়ান': 3, '▁গাতা': 3, '▁বুঝিলা': 3, '▁মেজা': 3, 'লার': 3, '▁বান্ধ': 3, '▁কুত্তা': 3, '▁কত': 3, '▁উদ্দি': 3, '▁কো': 3, '▁কিন': 3, '▁চোর': 3, '▁কন': 3, '▁বাইক্ক': 3, '▁বেচ': 3, 'ইস': 3, 'সার': 3, '▁চিক্ক': 3, 'ুরে': 3, '▁মেম্ব': 3, '▁দিবু': 3, 'ইজ্জা': 3, '▁চই': 3, 'চা': 3, 'সত': 3, 'িশ': 3, 'ছি': 3, '▁ঠি': 3, '▁গাইল': 3, '▁ইইন': 3, 'ঘ': 3, '▁দিলাম': 3, '▁খেলা': 3, 'াল': 3, '▁কোয়াল': 3, '▁ফরি': 3, '▁ঘর': 3, '▁নো': 3, '▁মাইন': 3, 'গুই': 3, 'ছা': 3, 'ইদ্দ': 3, 'িষ': 3, '▁.': 3, '▁..': 3, '▁কাল': 3, '▁ঘ': 3, '▁ছিড': 3, 'ঝ': 3, '▁রাহি': 3, 'হি': 3, 'জন': 3, '▁তোয়াই': 3, '▁বুইজ্জ': 3, '▁তোরার': 3, '▁হাইয়ু': 3, '▁মুত': 3, 'ুয়া': 3, 'প্প': 3, '▁যেন': 3, '▁নিজের': 3, 'দ্': 3, 'ফুয়া': 3, 'থি': 3, '▁আছন': 3, '▁জালা': 3, '▁হারাপ': 3, 'ূ': 3, 'দ্দি': 3, 'লদা': 3, '▁লাগিব': 3, 'ল্লে': 3, '▁য়ে': 3, '▁হাওয়': 3, '▁হরাপ': 3, '▁বুজি': 3, '▁বিয়াগ্গ': 3, 'ইয়া': 3, '▁থাম': 3, 'কত': 3, '▁কীল্লায়': 3, '▁তুরে': 3, '▁মামু': 3, 'ঞ': 3, 'ইজ্জু': 2, '▁ফ্': 2, '▁ফানলার': 2, '▁আজিয়': 2, '▁খাইল': 2, '▁কিত্তাম': 2, '▁তু': 2, 'নিবা': 2, '▁আইস্সু': 2, '▁কন্ডে': 2, '▁রফিক': 2, '▁সাব': 2, 'টা': 2, 'ধান': 2, '▁চলে': 2, '▁আস': 2, 'জ্জ্য': 2, '▁পড': 2, '▁পো': 2, '▁মশকার': 2, 'য়লা': 2, '▁গিয': 2, '▁বাইন': 2, '▁বড': 2, '▁ফড়ি': 2, '▁হারো': 2, 'টর': 2, '▁গইজ্জু': 2, '▁ঠিয়া': 2, '▁বাজের': 2, '▁সাম': 2, '▁আইয়ের': 2, '▁ঝুড়ি': 2, '▁গাল': 2, '▁বিচ': 2, '▁গরিবু': 2, 'ছিরা': 2, 'বাজি': 2, 'ানী': 2, 'লু': 2, '▁কম': 2, '▁যাবিনি': 2, 'ইন': 2, '▁যাইয়': 2, '▁বেডি': 2, 'ন্দর': 2, '▁কিয়': 2, 'স্কুল': 2, 'িয়ুস': 2, 'চিত': 2, 'খা': 2, '▁ঠে': 2, '▁তুয়ারে': 2, '▁বেড়া': 2, 'োন্দ': 2, '▁ত্যানা': 2, 'জ্জা': 2, '▁ফড়িবু': 2, '▁খাল': 2, '▁কালিয়ে': 2, '▁তো': 2, '▁কান্দে': 2, '▁ফিত': 2, '▁বাড়াই': 2, '▁ছু': 2, '▁দুয়া': 2, '▁খে': 2, 'াবি': 2, '▁আসস': 2, 'ুন্দ': 2, '▁মাতি': 2, '▁এরি': 2, '▁চিক্কার': 2, '▁থি': 2, 'মারি': 2, '▁শীত': 2, '▁ওডা': 2, '▁বিচি': 2, '▁চি': 2, '▁বাল': 2, 'গত': 2, 'মাত': 2, '▁এশত': 2, 'তাইজ্জা': 2, '▁ফা্তাইজ্জা': 2, 'ল্টি': 2, '▁খত': 2, '▁মাইনস': 2, 'রু': 2, 'োত': 2, 'ড': 2, '▁হিসাব': 2, '▁কানা': 2, '▁চো': 2, '▁জীবন': 2, '▁উন্': 2, 'বর': 2, 'েরে': 2, '▁আইস্সে': 2, '▁দইজ্জে': 2, '▁তিন': 2, 'চার': 2, '▁আইয়ে': 2, 'ইঙ্গা': 2, 'ুত': 2, '▁গেলা': 2, '▁ডাই': 2, 'ফুত': 2, '▁যেন্ডে': 2, '▁হেন্ড': 2, '▁এ্যা': 2, 'াওয়া': 2, 'াইন্দুম': 2, '▁ফেলাই': 2, 'াটর': 2, '্টা': 2, '▁ঝু': 2, '▁ডাইবার': 2, '▁লর': 2, '▁হাক্কু': 2, 'ক্কুর': 2, '▁ফিছু': 2, '▁ওস্তাদ': 2, '▁ফর': 2, 'ল্': 2, '▁বেরেক': 2, '▁বিতুর': 2, '▁হদু': 2, '▁এর': 2, '▁থিয়': 2, '▁গার': 2, 'টিক': 2, '▁ইডে': 2, '▁লাম': 2, '▁চলের': 2, '▁কই': 2, '▁গো': 2, 'খানা': 2, '▁কুইজ্জা': 2, '▁মামুরে': 2, '▁দিয়': 2, 'ভেড': 2, '▁থা': 2, '▁কম্বল': 2, 'দ্দ': 2, '▁হাইব': 2, 'সু': 2, 'ম্ম': 2, 'ইক্ক': 2, '▁ফেরা': 2, '▁থিয়্যে': 2, \"'\": 2, '▁কুরা': 2, '▁বয়': 2, '▁মাই': 2, 'গে': 2, 'রজ': 2, 'ম্': 2, 'গু': 2, '▁তুয়া': 2, '▁যায়বে': 2, '▁খাজু': 2, 'ইয়ুম': 2, '্তু': 2, '▁হাস': 2, 'ট্র': 2, '▁বানাইয়ুম': 2, '▁জাই': 2, '▁গরজ্জ': 2, 'চি': 2, 'োয়াল': 2, 'ইসসু': 2, '▁ইন': 2, '▁তাম': 2, 'স্ত': 2, 'বারে': 2, '▁চলিব': 2, '▁বাজা': 2, 'খি': 2, '▁লাইব': 2, 'দু': 2, 'য়ম': 2, 'য়েন': 2, '▁অয়ে': 2, 'ছো': 2, '▁ইসেব': 2, 'ারি': 2, '▁পু': 2, 'ৌ': 2, 'াঙ': 2, '১৬৬৬': 2, 'তির': 2, '▁ফো': 2, '৭০': 2, 'রী': 2, 'াপ': 2, '▁থাই': 2, 'পল': 1, '▁বানাই': 1, 'িইয়্য': 1, '▁কালিয়': 1, 'য়াকে': 1, 'অত': 1, '▁খাইয': 1, 'তাল': 1, 'শত': 1, 'কাল': 1, '▁কির': 1, 'ইবো': 1, 'দুয়া': 1, 'শর': 1, '▁বদ্দ': 1, 'ুক্কু': 1, 'ডর': 1, '▁গি': 1, 'হাড': 1, '▁যাইতা': 1, '▁ফড়': 1, '▁ফি': 1, 'িছু': 1, '▁ফড': 1, '▁তই': 1, '▁ফুয': 1, 'াক': 1, 'াইবার': 1, 'মদ': 1, 'ঈ': 1, '▁টিয়': 1, 'েইজ্জ': 1, 'াড়ি': 1, 'জ্জে': 1, '▁বাড়': 1, 'েঁ': 1, '▁ভূ': 1, 'িলা': 1, '▁নল': 1, '▁ইতা': 1, 'দান': 1, 'রিক্': 1, '্দা': 1, 'খত': 1, 'ানলার': 1, 'ইয়ের': 1, 'সস': 1, 'ফো': 1, '▁চলা': 1, 'ফেরা': 1, '▁অফ': 1, 'ফারে': 1, 'কুল': 1, '▁মাস্ট': 1, 'েস': 1, '▁ফইল': 1, 'শন': 1, 'ল্ল্যা': 1, '▁ফানলা': 1, '্ই': 1, 'ামছ': 1, '▁হারা': 1, '▁বুজ': 1, 'ল্লি': 1, 'এককান': 1, 'নিস': 1, 'াইজ্জা': 1, 'ইলা': 1, 'দিলা': 1, 'খান': 1, '..': 1, '▁কুর': 1, 'ছুদ': 1, '▁সিন': 1, '▁সক': 1, '্কু': 1, 'দের': 1, 'পার': 1, '▁ওস্তা': 1, '্তাদ': 1, 'লো': 1, '▁কার': 1, '▁যাবি': 1, '▁গইল্ল': 1, 'ীত': 1, 'সী': 1, '▁পিড': 1, 'ফের': 1, '▁এ্য': 1, 'ডাম': 1, 'ল্যা': 1, 'লাহ': 1, 'ক্যা': 1, '▁কুইজ্জ': 1, '▁খেল': 1, '▁কিত্তা': 1, 'ঠা': 1, 'য়াল': 1, '▁চন': 1, 'ুদ্': 1, '▁যাইত': 1, '▁দা': 1, 'ইজ্জাত': 1, '▁জম': 1, 'পি': 1, '▁জাল': 1, 'চর': 1, 'গইজ্জ': 1, 'লাইয়ে': 1, 'ওয়া': 1, 'ন্নত': 1, 'িল্ল': 1, '▁এহ': 1, 'াতি': 1, '১২': 1, 'ুদে': 1, '▁জি': 1, 'োল': 1, 'হাইয়ুম': 1, 'মাস্ট': 1, '▁ওগ্': 1, 'নের': 1, '▁হল': 1, '▁আস্': 1, 'এ': 1, 'াকি': 1, 'উন': 1, 'ৎ': 1, 'েলা': 1, '১৩৪০': 1, '১৭৬০': 1, '৮০': 1, 'শে': 1, 'জ্জ': 1, ';': 1})\n",
            "len of full chattogram vocab:  933\n"
          ]
        }
      ]
    },
    {
      "cell_type": "code",
      "source": [
        "full_bangla_vocab = build_vocab(full_bangla, bangla_tokenizer)\n",
        "print('len of full chattogram vocab: ',len(full_bangla_vocab))"
      ],
      "metadata": {
        "colab": {
          "base_uri": "https://localhost:8080/"
        },
        "id": "xwLMwpo7LsS9",
        "outputId": "0424622b-95ab-4e27-b838-c3e28c505ad7"
      },
      "id": "xwLMwpo7LsS9",
      "execution_count": 44,
      "outputs": [
        {
          "output_type": "stream",
          "name": "stdout",
          "text": [
            "Counter({'র': 170, 'ে': 161, '?': 144, '▁না': 124, '।': 118, 'ি': 112, 'ের': 95, 'ন': 95, '▁আমি': 94, 'তে': 87, '▁': 87, 'কে': 84, '▁কী': 75, 'া': 72, '▁আমা': 69, 'ত': 67, 'রা': 65, 'ো': 61, '▁ভা': 59, 'ক': 57, '▁অ': 55, 'স': 54, '▁তুমি': 53, '▁ব': 51, '▁কথা': 49, '▁ভালো': 48, '▁টাকা': 45, 'য়': 45, 'নে': 43, '▁কেন': 42, 'ই': 41, '▁মানুষ': 39, '▁হ': 38, 'ী': 36, ',': 36, '▁কিছু': 36, '▁বল': 35, 'ষা': 35, 'ার': 34, '▁মা': 33, '▁কোথায়': 32, '▁করে': 32, '▁শ': 32, '▁আমাদের': 32, 'ব': 32, '▁হবে': 31, '▁কো': 31, '▁স': 30, 'লে': 30, 'ম': 30, '▁এই': 28, '▁চট্টগ্রাম': 28, '▁যে': 27, 'লা': 27, '▁এটা': 27, 'ং': 27, 'তি': 27, '▁আর': 26, 'ল': 26, '▁এ': 25, '▁সব': 25, '▁ম': 25, '▁কে': 25, '▁আম': 25, '▁বা': 25, '▁ছেলে': 24, '▁তোমার': 24, '▁দাম': 24, 'ু': 24, '▁নেই': 24, '্': 23, '▁ও': 23, '▁ন': 23, 'টি': 23, 'দ': 23, '▁নাই': 22, '▁কেমন': 22, '▁কি': 22, '▁কাজ': 22, 'শ': 22, 'টা': 21, '▁পড়': 21, '▁কর': 21, '▁এক': 21, '▁এখন': 20, '▁বাড়ি': 20, 'ছ': 20, '▁সে': 20, '▁আ': 20, '▁আস': 20, '▁আছে': 19, '▁চল': 19, '▁দেখ': 19, '▁দিন': 19, 'দের': 19, '▁একটা': 19, 'রে': 18, '▁দি': 18, '▁ক': 18, '▁ভাই': 17, '▁কত': 17, '▁থ': 17, '▁নি': 17, 'ড়': 17, 'খ': 17, '▁ই': 17, 'না': 17, 'জা': 16, 'ছে': 16, '▁প': 16, '▁নাম': 16, 'েকে': 16, '▁করতে': 16, 'হা': 16, 'চ': 16, '▁আপনার': 15, '▁দিয়ে': 15, '▁তো': 15, 'বার': 15, 'গ': 15, 'দে': 15, '▁হয়েছে': 15, 'ও': 15, 'উ': 15, '▁তু': 15, '▁চাই': 15, '▁যাচ্ছে': 14, '▁বাবা': 14, '▁আগে': 14, '▁গর': 14, '▁কার': 14, '▁বিয়ে': 13, '▁প্র': 13, '▁বলে': 13, 'ছো': 13, 'লাম': 13, '▁ত': 13, '▁আপন': 13, '▁কষ্ট': 13, '▁হল': 13, '▁আপনা': 12, '▁পার': 12, '▁আছেন': 12, 'দি': 12, '▁গেছে': 12, 'েন': 12, 'ছি': 12, 'খান': 12, '▁তোমা': 12, 'সার': 12, '▁জন্য': 12, '▁মাছ': 12, '▁গ': 11, '▁ধর': 11, '▁হয়ে': 11, '▁সবাই': 11, '▁খ': 11, 'ুন': 11, '▁মনে': 11, '▁হয়': 11, '▁মেয়ে': 11, '▁সাথে': 11, '▁থাক': 11, '▁নাকি': 11, '▁সম': 11, 'াদ': 11, 'চ্ছে': 11, '▁চ': 11, '▁ঘু': 11, '▁বুঝ': 11, '▁তা': 10, '▁দিলে': 10, 'জ': 10, 'ট': 10, '▁জ': 10, '▁পাগল': 10, '▁মত': 10, '▁উ': 10, '▁অবস্থা': 10, '▁নিয়ে': 10, '▁যা': 10, '▁খারাপ': 10, '▁লাগ': 10, '▁যাচ্ছ': 10, '▁যাব': 10, '▁করি': 10, '▁ভয়': 9, '▁বে': 9, '▁পয়সা': 9, 'ান': 9, '▁দেশ': 9, '▁পা': 9, '▁ঝ': 9, '▁কম': 9, 'প': 9, '▁ছ': 9, 'িয়ে': 9, 'বাজার': 9, '▁ছিল': 9, '▁এমন': 9, 'ব্য': 9, 'থ': 9, 'ক্ত': 9, 'ণ': 9, 'ান্': 9, '▁আছো': 9, '▁করব': 9, 'তেছে': 9, '▁করেন': 9, 'মাথা': 9, 'বে': 9, '▁বি': 8, 'াপ': 8, '▁শুধু': 8, 'বর': 8, '▁দু': 8, '▁চোর': 8, '▁ভে': 8, '▁তোম': 8, '▁জান': 8, 'নি': 8, '▁ড': 8, 'তা': 8, 'াকা': 8, 'য়ে': 8, 'কার': 8, '▁করা': 8, '▁যাও': 8, '▁নয়': 8, '▁চিন': 8, '▁দ': 8, 'ড়া': 8, 'জি': 8, '▁বেশ': 8, '▁বলব': 8, '▁লাগতেছে': 8, 'াব': 8, '▁এত': 8, '▁বলতে': 8, '▁খু': 8, 'ষ্': 8, '▁চা': 8, 'ন্': 8, '▁আজকে': 7, 'সে': 7, 'ানে': 7, '▁পাই': 7, '▁সকাল': 7, 'ভ': 7, '▁পিছনে': 7, 'বো': 7, '▁ফ': 7, '▁খাবা': 7, '▁দোষ': 7, '▁খে': 7, 'ধ': 7, 'ৃ': 7, 'ুর': 7, '▁ডা': 7, '্যা': 7, 'সব': 7, '▁এগুলো': 7, '▁পরে': 7, '্য': 7, 'সুখ': 7, 'ীর': 7, '▁থাকবে': 7, '▁ওকে': 7, '▁কালকে': 6, '▁যাবেন': 6, '▁গেলে': 6, '▁পড়ে': 6, '▁দেখে': 6, '▁আল্লাহ': 6, '▁সা': 6, 'য়া': 6, '্রী': 6, '▁যাবে': 6, 'জন': 6, '্বা': 6, '▁উপ': 6, 'থে': 6, 'োনা': 6, '▁লাগবে': 6, '▁ঠিক': 6, '্ন': 6, 'হ': 6, 'ছেন': 6, '▁পরি': 6, 'ভাব': 6, '▁সহজ': 6, '▁ল': 6, '▁ব্যা': 6, '▁বসে': 6, 'স্ত': 6, 'াম': 6, '▁ক্ষ': 6, '▁আছি': 6, 'স্থ': 6, 'মি': 6, 'ায়': 6, '▁খুঁজ': 5, '▁আমায়': 5, '▁আসবেন': 5, '▁কই': 5, '▁করতেছে': 5, '▁দুই': 5, '▁হাত': 5, '▁পারে': 5, 'ঙ্গ': 5, '▁দিবে': 5, '্র': 5, '▁করবেন': 5, '▁রা': 5, '▁মন': 5, '▁সাম': 5, 'খন': 5, 'মের': 5, '▁পুরা': 5, '▁গাড়ী': 5, '▁সাগর': 5, 'দিন': 5, '▁কাল': 5, 'লো': 5, 'ান্ন': 5, '▁দাও': 5, 'োট': 5, '▁গাল': 5, '▁অপ': 5, 'মান': 5, 'িস': 5, 'খা': 5, 'িব': 5, '▁আসব': 5, 'াট': 5, '▁করলে': 5, '▁জা': 5, '▁দেন': 5, '▁আন': 5, '্ধ': 5, '▁ভালোবা': 5, '▁জায়গা': 5, '▁সীট': 5, '▁বু': 5, 'াই': 5, 'ামা': 5, '▁রকম': 5, 'দা': 5, '▁মামা': 5, 'র্ত': 5, '▁খাওয়া': 5, '্চ': 5, 'াজ': 5, '▁নিজের': 5, '▁মো': 5, '▁গাছ': 5, '▁খা': 5, 'াও': 5, '▁করিওনা': 5, 'ীব': 5, '▁টা': 5, 'থা': 5, '▁ভাব': 5, '▁বলতেছো': 5, 'োছ': 4, '▁রাখ': 4, 'ুক': 4, '▁বানাব': 4, '▁মনেহয়': 4, '▁মেজবান': 4, '▁এখ': 4, '▁খাবো': 4, '▁র': 4, '▁করছেন': 4, '্ত': 4, '▁রাস্তা': 4, '▁গো': 4, '▁হঠা': 4, 'ষ্টা': 4, '▁করছো': 4, '▁হইসে': 4, 'ৎ': 4, '▁কাদের': 4, '▁কাছ': 4, '▁পাব': 4, '▁এইটা': 4, '▁বেশী': 4, 'পুর': 4, '▁বাজ': 4, 'গড়া': 4, '▁গে': 4, '▁গু': 4, '▁বিচ': 4, '▁বিক্র': 4, '▁দে': 4, '▁সুন্দর': 4, 'কা': 4, '▁দোকান': 4, '▁গেছ': 4, 'াচ': 4, '▁বুঝছ': 4, '▁ঠ': 4, 'েল': 4, '▁পে': 4, '▁বাহিরে': 4, '▁পাড়': 4, '▁লা': 4, '▁দেয়': 4, 'পা': 4, '▁খেয়ে': 4, '▁শুন': 4, '▁চে': 4, '▁শীত': 4, '▁বস': 4, 'ৌ': 4, 'ির': 4, 'াশ': 4, 'োন': 4, '▁মার': 4, 'রকার': 4, 'রী': 4, '্তা': 4, '▁খেলা': 4, 'চড়া': 4, '▁এর': 4, 'ারি': 4, 'দ্র': 4, '▁সারা': 4, '▁কপাল': 4, 'রকম': 4, '▁ভর': 4, 'ওয়া': 4, '▁দাওয়া': 4, '▁বউ': 4, 'মেলা': 4, 'হীন': 4, '▁করছে': 4, '▁আশা': 4, 'কাশ': 4, 'ক্ক': 4, '▁শিক্ষ': 4, '▁কস্ট': 4, 'ূর': 4, '▁ফেল': 4, '▁জানি': 4, 'ড': 4, 'চ্ছ': 4, '▁হত': 4, '▁খাবনা': 4, '▁বলতেছ': 4, '▁তুমা': 4, '▁জানিনা': 4, '▁হবেনা': 4, '▁বলছি': 4, 'ফ': 4, 'ঠ': 4, '▁ভ': 3, '▁যান': 3, 'কালে': 3, '▁চলছে': 3, 'ফিক': 3, '▁সাহ': 3, '▁খেয়েছেন': 3, 'জে': 3, 'ধান': 3, '▁গাড়ি': 3, '▁কিন': 3, '▁যাওয়া': 3, '▁তাক': 3, '▁দিসে': 3, '▁ময়লা': 3, '▁উঠ': 3, '▁জিনি': 3, '▁আসো': 3, '▁শুক': 3, '▁থু': 3, 'মার': 3, '▁তেম': 3, 'ঁ': 3, 'নিও': 3, '▁মেরে': 3, '▁শিক্ষক': 3, 'ড়ি': 3, '▁দাওয়াত': 3, '▁স্কুলে': 3, 'বি': 3, 'সি': 3, '▁বাবাজি': 3, '▁রাখব': 3, 'ুল': 3, 'াচ্ছ': 3, 'ডাই': 3, 'ানী': 3, 'কল': 3, 'স্ট': 3, 'ুরে': 3, 'ূ': 3, '▁রো': 3, '▁করুন': 3, '▁বাড়': 3, '▁মাইরে': 3, '▁পায়': 3, '▁চুপ': 3, 'লেন': 3, '▁বদ': 3, 'র্': 3, '▁মেম্': 3, '▁করবে': 3, '্ত্র': 3, '▁পি': 3, 'মাত্র': 3, '▁সন্': 3, 'ক্স': 3, 'রু': 3, '▁হিসেব': 3, 'ন্ন': 3, '▁ধ': 3, '▁খাবি': 3, 'পাশে': 3, '▁এসে': 3, '▁সমুদ্র': 3, '▁খালী': 3, '▁যায়': 3, '▁খাই': 3, 'দার': 3, '▁শেষ': 3, '▁পড়ব': 3, '▁ঘর': 3, '▁হই': 3, '▁মারি': 3, 'নো': 3, '▁মধু': 3, 'িষ': 3, '▁ফেলে': 3, '▁ভূল': 3, '▁কা': 3, '▁প্রে': 3, '▁টান': 3, 'ঞ': 3, 'গ্র': 3, '▁গায়ে': 3, '▁চাল': 3, '▁স্': 3, '▁খড়': 3, '▁অর্থে': 3, '▁য': 3, '▁দা': 3, '▁দরকার': 3, '▁যাই': 3, 'ডা': 3, '▁খেজুর': 3, '▁হালদা': 3, '▁আব': 3, '▁সাহস': 3, '▁থাম': 3, '▁বেড়': 3, 'ঢ': 3, '▁আছ': 3, 'রাপ': 3, 'ষ': 3, 'ঘ': 3, 'ালো': 2, 'সো': 2, '▁করবো': 2, 'রাগ': 2, 'বেন': 2, '▁দেখাচ্ছ': 2, 'নিবার': 2, '▁নিমন্ত্রন': 2, 'মিট': 2, 'িং': 2, 'েব': 2, '▁কয়ট': 2, 'েছি': 2, '/': 2, 'ল্লা': 2, '▁মশকার': 2, 'োরে': 2, 'াল': 2, '▁বেলা': 2, '▁জায়গাটা': 2, '▁বারো': 2, 'ভেট': 2, '▁পকেট': 2, 'থায়': 2, '▁পরীক্ষা': 2, '▁আসছে': 2, 'ধ্যে': 2, '▁ফাক': 2, '▁গলা': 2, '▁বলো': 2, 'ড়াচ্ছ': 2, 'ংক': 2, '▁ভোট': 2, '▁জামা': 2, 'য়ো': 2, '▁উঠান': 2, '▁পাগলাম': 2, '▁শিখাচ্ছ': 2, 'াদের': 2, '▁চার': 2, '▁আক্': 2, 'ঙ্গা': 2, 'ন্ট': 2, 'রিয়া': 2, '▁,': 2, '▁বিশ': 2, 'ঙ্': 2, '▁ঘন': 2, '▁দাড়ি': 2, '▁বাকি': 2, '▁জিনিষ': 2, 'ত্র': 2, '▁শরীর': 2, '▁কোথা': 2, '▁গাছে': 2, '▁চেচা': 2, 'মে': 2, 'চি': 2, 'ছুর': 2, 'ৃথ': 2, '▁ট': 2, 'টে': 2, '▁বাধ': 2, '▁শুটক': 2, '▁শী': 2, 'ঠা': 2, 'চিত': 2, 'শত': 2, 'ঞ্চ': 2, 'কী': 2, '-': 2, '▁নিম': 2, '▁ফেরা': 2, '▁একট': 2, 'ফি': 2, 'পার': 2, '▁ঘ': 2, '▁জীবন': 2, '▁যার': 2, 'শী': 2, '▁পাওনা': 2, 'শো': 2, '▁তিন': 2, '▁গেল': 2, 'য়ত': 2, '▁আরেক': 2, '▁পক্ষ': 2, 'াত': 2, '▁খেল': 2, '▁মিষ্ট': 2, 'কির': 2, '▁অভিভাবক': 2, '▁ভাল': 2, 'াবা': 2, '▁খাওয়াইছ': 2, '▁আরেকজন': 2, '▁দিলেন': 2, 'গুন': 2, '▁ছেড়ে': 2, '▁বহ': 2, 'ুড়': 2, '▁রাখা': 2, '▁গান': 2, '▁লিখছি': 2, '▁গর্ত': 2, '্রেক': 2, '▁পর': 2, '▁মহি': 2, 'িত': 2, 'সেন': 2, 'দু': 2, 'ড়ো': 2, '▁গা': 2, '▁গড়': 2, 'ড়ে': 2, '▁কম্বল': 2, 'তো': 2, 'ুখ': 2, 'ক্ষা': 2, 'রগ': 2, 'াড়া': 2, '▁খেয়েছ': 2, 'বেনা': 2, 'িন্ত': 2, '▁কালো': 2, '▁শিক': 2, '▁চট্ট': 2, 'তেছো': 2, 'সুর': 2, '▁আস্ছ': 2, '▁মাল': 2, 'িক': 2, '▁আস্ছে': 2, 'গুলো': 2, '▁ছেলের': 2, 'মাস': 2, '▁হিসাব': 2, 'বাহ': 2, 'মা': 2, '৭০': 2, 'শে': 2, '▁আগ': 1, 'িক্ষ': 1, 'রতা': 1, '▁পিছ': 1, 'ো্': 1, '(': 1, ')': 1, '▁সকা': 1, '▁দর': 1, 'বাই': 1, 'শর': 1, '▁কয়': 1, 'েকজন': 1, 'থু': 1, 'চ্ছো': 1, 'েয়েছে': 1, 'োয': 1, 'বাজি': 1, 'তকা': 1, 'লু': 1, 'োটর': 1, 'াইকে': 1, 'াচ্ছো': 1, 'টার': 1, '▁ওর': 1, 'ানুষে': 1, '▁বেড়া': 1, 'হল': 1, 'চোর': 1, 'দ্': 1, 'সবাই': 1, 'ঈ': 1, 'াচ্ছে': 1, '▁বজ': 1, '▁ভূ': 1, 'াবেন': 1, '▁মশক': 1, 'দো': 1, 'রিক্': 1, 'ূল': 1, 'অর্থে': 1, 'িসে': 1, 'য়ল': 1, 'ৈ': 1, 'ালি': 1, 'শটি': 1, 'াইন': 1, 'িচার': 1, '▁চো': 1, 'োকা': 1, 'স্তার': 1, '▁মাইর': 1, 'আগ': 1, 'হির': 1, 'াগত': 1, 'ুট': 1, 'একটি': 1, 'পক্ষে': 1, 'রিষ': 1, 'জল': 1, 'ানা': 1, 'াড়ি': 1, 'পু': 1, 'ছিল': 1, '\\u200d': 1, 'ঁব': 1, 'ালোবা': 1, '্টা': 1, 'দ্দ': 1, '্রাইভ': 1, 'ঝে': 1, '▁মানু': 1, '▁ধা': 1, 'হে': 1, 'িট': 1, 'শা': 1, 'াপা': 1, '▁ছেড়': 1, '▁দেশট': 1, 'রো': 1, 'বদ': 1, '▁অর্থ': 1, '▁বাব': 1, 'টু': 1, 'কু': 1, 'া্': 1, 'গড়ি': 1, 'মো': 1, 'ঐ': 1, 'র্থ': 1, 'ঠে': 1, 'ড়ল': 1, '▁বিয়': 1, 'পি': 1, '▁মহ': 1, '▁করিও': 1, 'রিওনা': 1, 'িতেছ': 1, '▁আচ': 1, '▁খাওয়': 1, '▁এব': 1, '▁বড': 1, 'যা': 1, 'এ': 1, '▁জন': 1, '▁খেয়': 1, 'িতে': 1, 'োল': 1, '▁পাগলা': 1, 'েড': 1, '্টার': 1, 'াঁ': 1, '▁থা': 1, '▁শু': 1, '▁ছি': 1, '▁মেজ': 1, 'স্': 1, 'চো': 1, 'ভা': 1, 'ঙ': 1, '১৬৬৬': 1, '১৩৪০': 1, 'ালের': 1, '১৯৬৫': 1, '১৭৬০': 1, 'েম': 1, '২': 1, '৮০': 1, 'ঝ': 1, 'য': 1})\n",
            "len of full chattogram vocab:  836\n"
          ]
        }
      ]
    },
    {
      "cell_type": "markdown",
      "source": [
        "## 6. Generate Train and Val Data Loader"
      ],
      "metadata": {
        "id": "L5YqggO_O21C"
      },
      "id": "L5YqggO_O21C"
    },
    {
      "cell_type": "code",
      "source": [
        "def data_process(chattogram, bangla):\n",
        "    data = []\n",
        "    for (raw_chattogram, raw_bangla) in zip(chattogram, bangla):\n",
        "        chattogram_tensor_ = torch.tensor([full_chattogram_vocab[token] for token in chattogram_tokenizer.encode(raw_chattogram, out_type=str)],dtype=torch.long)\n",
        "        bangla_tensor_ = torch.tensor([full_bangla_vocab[token] for token in bangla_tokenizer.encode(raw_bangla, out_type=str)],dtype=torch.long)\n",
        "        data.append((chattogram_tensor_, bangla_tensor_))\n",
        "    return data"
      ],
      "metadata": {
        "id": "3FKJafZpL7Yr"
      },
      "id": "3FKJafZpL7Yr",
      "execution_count": 45,
      "outputs": []
    },
    {
      "cell_type": "code",
      "source": [
        "train_data = data_process(train_chattogram, train_bangla)"
      ],
      "metadata": {
        "id": "hJvnfaabNEu-"
      },
      "id": "hJvnfaabNEu-",
      "execution_count": 46,
      "outputs": []
    },
    {
      "cell_type": "code",
      "source": [
        "train_data[:10]"
      ],
      "metadata": {
        "colab": {
          "base_uri": "https://localhost:8080/"
        },
        "id": "QX7sdk0fNLVt",
        "outputId": "d80187d8-d6f9-425f-f28f-52ddae81b5b1"
      },
      "id": "QX7sdk0fNLVt",
      "execution_count": 47,
      "outputs": [
        {
          "output_type": "execute_result",
          "data": {
            "text/plain": [
              "[(tensor([4, 5, 6]), tensor([4, 5, 6])),\n",
              " (tensor([ 7,  8,  9, 10, 11]), tensor([ 7,  8,  9, 10, 11, 12])),\n",
              " (tensor([12, 13, 14, 15, 16, 17]), tensor([13, 14, 15, 16,  5, 17])),\n",
              " (tensor([18,  5, 19, 20,  5]), tensor([18, 19])),\n",
              " (tensor([21,  5, 22, 23]), tensor([20, 21])),\n",
              " (tensor([24, 23, 25]), tensor([22, 23, 24])),\n",
              " (tensor([26, 27, 28]), tensor([25, 26, 20])),\n",
              " (tensor([29, 30, 31]), tensor([27, 28, 29, 30])),\n",
              " (tensor([ 4, 30, 32, 33]), tensor([31, 28, 32, 23, 33])),\n",
              " (tensor([34, 35, 36]), tensor([34, 35, 36]))]"
            ]
          },
          "metadata": {},
          "execution_count": 47
        }
      ]
    },
    {
      "cell_type": "code",
      "source": [
        "val_data = data_process(val_chattogram, val_bangla)"
      ],
      "metadata": {
        "id": "DLJkiFHUMPiD"
      },
      "id": "DLJkiFHUMPiD",
      "execution_count": 48,
      "outputs": []
    },
    {
      "cell_type": "code",
      "source": [
        "val_data[:10]"
      ],
      "metadata": {
        "colab": {
          "base_uri": "https://localhost:8080/"
        },
        "id": "WywQnq2uM-tc",
        "outputId": "e6cb892a-46fd-457b-d5fd-e9d88adb2931"
      },
      "id": "WywQnq2uM-tc",
      "execution_count": 49,
      "outputs": [
        {
          "output_type": "execute_result",
          "data": {
            "text/plain": [
              "[(tensor([ 56, 374,  14,  78]), tensor([ 34, 106,  59, 670, 236])),\n",
              " (tensor([761,  24,  14,  40]), tensor([  6, 670])),\n",
              " (tensor([ 56, 380,  27, 374,  14]), tensor([ 34,  81,  23, 670, 236])),\n",
              " (tensor([218,  48, 374, 103, 243]), tensor([ 37,  22, 124, 440])),\n",
              " (tensor([121, 449, 297]), tensor([193,  35, 364])),\n",
              " (tensor([302, 397, 561,  60,  14]),\n",
              "  tensor([394,  67,  40, 779, 534,  67, 762])),\n",
              " (tensor([863,  75, 722]), tensor([ 44,  72, 733])),\n",
              " (tensor([365, 723, 643,  30,   9, 168]), tensor([181, 408, 249, 604])),\n",
              " (tensor([ 56, 411, 548, 827]), tensor([ 34, 293, 248])),\n",
              " (tensor([445,  16, 218,  75, 760]), tensor([263, 307,  37,  72, 711]))]"
            ]
          },
          "metadata": {},
          "execution_count": 49
        }
      ]
    },
    {
      "cell_type": "code",
      "execution_count": 50,
      "id": "20bea7a5",
      "metadata": {
        "id": "20bea7a5"
      },
      "outputs": [],
      "source": [
        "BATCH_SIZE = 150\n",
        "PAD_IDX = full_chattogram_vocab['<pad>']\n",
        "BOS_IDX = full_chattogram_vocab['<bos>']\n",
        "EOS_IDX = full_chattogram_vocab['<eos>']\n",
        "\n",
        "def generate_batch(data_batch):\n",
        "    chattogram_batch, bangla_batch = [], []\n",
        "    for (chattogram_item, bangla_item) in data_batch:\n",
        "        chattogram_batch.append(torch.cat([torch.tensor([BOS_IDX]), chattogram_item, torch.tensor([EOS_IDX])], dim=0))\n",
        "        bangla_batch.append(torch.cat([torch.tensor([BOS_IDX]), bangla_item, torch.tensor([EOS_IDX])], dim=0))\n",
        "    chattogram_batch = pad_sequence(chattogram_batch, padding_value=PAD_IDX)\n",
        "    bangla_batch = pad_sequence(bangla_batch, padding_value=PAD_IDX)\n",
        "    return chattogram_batch, bangla_batch\n",
        "\n",
        "train_iter = DataLoader(train_data, batch_size=BATCH_SIZE,shuffle=True, collate_fn=generate_batch)\n",
        "val_iter = DataLoader(val_data, batch_size=BATCH_SIZE,shuffle=True, collate_fn=generate_batch)"
      ]
    },
    {
      "cell_type": "code",
      "source": [
        "for batch in val_iter:\n",
        "  print(batch[0][0])"
      ],
      "metadata": {
        "colab": {
          "base_uri": "https://localhost:8080/"
        },
        "id": "4HJ49RpROI92",
        "outputId": "3f0ca626-d3e2-4b69-dd0a-da32b1909b6a"
      },
      "id": "4HJ49RpROI92",
      "execution_count": 51,
      "outputs": [
        {
          "output_type": "stream",
          "name": "stdout",
          "text": [
            "tensor([2, 2, 2, 2, 2, 2, 2, 2, 2, 2, 2, 2, 2, 2, 2, 2, 2, 2, 2, 2, 2, 2, 2, 2,\n",
            "        2, 2, 2, 2, 2, 2, 2, 2, 2, 2, 2, 2, 2, 2, 2, 2, 2, 2, 2, 2, 2, 2, 2, 2,\n",
            "        2, 2, 2, 2, 2, 2, 2, 2, 2, 2, 2, 2, 2, 2, 2, 2, 2, 2, 2, 2, 2, 2, 2, 2,\n",
            "        2, 2, 2, 2, 2, 2, 2, 2, 2, 2, 2, 2, 2, 2, 2, 2, 2, 2, 2, 2, 2, 2, 2, 2,\n",
            "        2, 2, 2, 2, 2, 2, 2, 2, 2, 2, 2, 2, 2, 2, 2, 2, 2, 2, 2, 2, 2, 2, 2, 2,\n",
            "        2, 2, 2, 2, 2, 2, 2, 2, 2, 2, 2, 2, 2, 2, 2, 2, 2, 2, 2, 2, 2, 2, 2, 2,\n",
            "        2, 2, 2, 2, 2, 2])\n",
            "tensor([2, 2, 2, 2, 2, 2, 2, 2, 2, 2, 2, 2, 2, 2, 2, 2, 2, 2, 2, 2, 2, 2, 2, 2,\n",
            "        2, 2, 2, 2, 2, 2, 2, 2, 2, 2, 2, 2, 2, 2, 2, 2, 2, 2, 2, 2, 2, 2, 2, 2,\n",
            "        2, 2])\n"
          ]
        }
      ]
    },
    {
      "cell_type": "markdown",
      "source": [
        "## 7. Implement Sequence 2 Sequence (Seq2Seq) Model using Transformer"
      ],
      "metadata": {
        "id": "_Aj0IMwsPATR"
      },
      "id": "_Aj0IMwsPATR"
    },
    {
      "cell_type": "code",
      "execution_count": 52,
      "id": "f105defe",
      "metadata": {
        "id": "f105defe"
      },
      "outputs": [],
      "source": [
        "from torch.nn import (TransformerEncoder, TransformerDecoder,\n",
        "                      TransformerEncoderLayer, TransformerDecoderLayer)\n",
        "\n",
        "\n",
        "class Seq2SeqTransformer(nn.Module):\n",
        "    def __init__(self, num_encoder_layers: int, num_decoder_layers: int,\n",
        "                 emb_size: int, src_vocab_size: int, tgt_vocab_size: int,\n",
        "                 dim_feedforward:int = 512, dropout:float = 0.1):\n",
        "        super(Seq2SeqTransformer, self).__init__()\n",
        "        encoder_layer = TransformerEncoderLayer(\n",
        "            d_model=emb_size,\n",
        "            nhead=NHEAD,\n",
        "            dim_feedforward=dim_feedforward\n",
        "            )\n",
        "        self.transformer_encoder = TransformerEncoder(\n",
        "            encoder_layer,\n",
        "            num_layers=num_encoder_layers\n",
        "            )\n",
        "        decoder_layer = TransformerDecoderLayer(\n",
        "            d_model=emb_size,\n",
        "            nhead=NHEAD,\n",
        "            dim_feedforward=dim_feedforward\n",
        "            )\n",
        "        self.transformer_decoder = TransformerDecoder(\n",
        "            decoder_layer,\n",
        "            num_layers=num_decoder_layers\n",
        "            )\n",
        "\n",
        "        self.generator = nn.Linear(emb_size, tgt_vocab_size)\n",
        "        self.src_tok_emb = TokenEmbedding(src_vocab_size, emb_size)\n",
        "        self.tgt_tok_emb = TokenEmbedding(tgt_vocab_size, emb_size)\n",
        "        self.positional_encoding = PositionalEncoding(emb_size, dropout=dropout)\n",
        "\n",
        "    def forward(self, src: Tensor, trg: Tensor, src_mask: Tensor,\n",
        "                tgt_mask: Tensor, src_padding_mask: Tensor,\n",
        "                tgt_padding_mask: Tensor, memory_key_padding_mask: Tensor):\n",
        "        src_emb = self.positional_encoding(self.src_tok_emb(src))\n",
        "        tgt_emb = self.positional_encoding(self.tgt_tok_emb(trg))\n",
        "        memory = self.transformer_encoder(src_emb, src_mask, src_padding_mask)\n",
        "        outs = self.transformer_decoder(tgt_emb, memory, tgt_mask, None,\n",
        "                                        tgt_padding_mask, memory_key_padding_mask)\n",
        "        return self.generator(outs)\n",
        "\n",
        "    def encode(self, src: Tensor, src_mask: Tensor):\n",
        "        return self.transformer_encoder(self.positional_encoding(\n",
        "                            self.src_tok_emb(src)), src_mask)\n",
        "\n",
        "    def decode(self, tgt: Tensor, memory: Tensor, tgt_mask: Tensor):\n",
        "        return self.transformer_decoder(self.positional_encoding(\n",
        "                          self.tgt_tok_emb(tgt)), memory,\n",
        "                          tgt_mask)"
      ]
    },
    {
      "cell_type": "code",
      "execution_count": 53,
      "id": "5ba0825f",
      "metadata": {
        "id": "5ba0825f"
      },
      "outputs": [],
      "source": [
        "class PositionalEncoding(nn.Module):\n",
        "    def __init__(self, emb_size: int, dropout, maxlen: int = 5000):\n",
        "        super(PositionalEncoding, self).__init__()\n",
        "        den = torch.exp(- torch.arange(0, emb_size, 2) * math.log(10000) / emb_size)\n",
        "        pos = torch.arange(0, maxlen).reshape(maxlen, 1)\n",
        "        pos_embedding = torch.zeros((maxlen, emb_size))\n",
        "        pos_embedding[:, 0::2] = torch.sin(pos * den)\n",
        "        pos_embedding[:, 1::2] = torch.cos(pos * den)\n",
        "        pos_embedding = pos_embedding.unsqueeze(-2)\n",
        "\n",
        "        self.dropout = nn.Dropout(dropout)\n",
        "        self.register_buffer('pos_embedding', pos_embedding)\n",
        "\n",
        "    def forward(self, token_embedding: Tensor):\n",
        "        return self.dropout(token_embedding +\n",
        "                            self.pos_embedding[:token_embedding.size(0),:])\n",
        "\n",
        "class TokenEmbedding(nn.Module):\n",
        "    def __init__(self, vocab_size: int, emb_size):\n",
        "        super(TokenEmbedding, self).__init__()\n",
        "        self.embedding = nn.Embedding(vocab_size, emb_size)\n",
        "        self.emb_size = emb_size\n",
        "    def forward(self, tokens: Tensor):\n",
        "        return self.embedding(tokens.long()) * math.sqrt(self.emb_size)"
      ]
    },
    {
      "cell_type": "code",
      "execution_count": 54,
      "id": "b7485ee9",
      "metadata": {
        "id": "b7485ee9"
      },
      "outputs": [],
      "source": [
        "def generate_square_subsequent_mask(sz):\n",
        "    mask = (torch.triu(torch.ones((sz, sz), device=device)) == 1).transpose(0, 1)\n",
        "    mask = mask.float().masked_fill(mask == 0, float('-inf')).masked_fill(mask == 1, float(0.0))\n",
        "    return mask\n",
        "\n",
        "def create_mask(src, tgt):\n",
        "    src_seq_len = src.shape[0]\n",
        "    tgt_seq_len = tgt.shape[0]\n",
        "\n",
        "    tgt_mask = generate_square_subsequent_mask(tgt_seq_len)\n",
        "    src_mask = torch.zeros((src_seq_len, src_seq_len), device=device).type(torch.bool)\n",
        "\n",
        "    src_padding_mask = (src == PAD_IDX).transpose(0, 1)\n",
        "    tgt_padding_mask = (tgt == PAD_IDX).transpose(0, 1)\n",
        "    return src_mask, tgt_mask, src_padding_mask, tgt_padding_mask"
      ]
    },
    {
      "cell_type": "markdown",
      "source": [
        "## 8. Define Train Parameter for Seq2Seq Model"
      ],
      "metadata": {
        "id": "-TV2jtyJRc0R"
      },
      "id": "-TV2jtyJRc0R"
    },
    {
      "cell_type": "code",
      "execution_count": 55,
      "id": "aee59d2c",
      "metadata": {
        "id": "aee59d2c",
        "colab": {
          "base_uri": "https://localhost:8080/"
        },
        "outputId": "9f0cc815-d3d8-432d-9d13-c6c636b443fb"
      },
      "outputs": [
        {
          "output_type": "stream",
          "name": "stderr",
          "text": [
            "/usr/local/lib/python3.10/dist-packages/torch/nn/modules/transformer.py:286: UserWarning: enable_nested_tensor is True, but self.use_nested_tensor is False because encoder_layer.self_attn.batch_first was not True(use batch_first for better inference performance)\n",
            "  warnings.warn(f\"enable_nested_tensor is True, but self.use_nested_tensor is False because {why_not_sparsity_fast_path}\")\n"
          ]
        }
      ],
      "source": [
        "from tqdm import tqdm\n",
        "SRC_VOCAB_SIZE = len(full_chattogram_vocab)\n",
        "TGT_VOCAB_SIZE = len(full_bangla_vocab)\n",
        "EMB_SIZE = 512\n",
        "NHEAD = 8\n",
        "FFN_HID_DIM = 512\n",
        "BATCH_SIZE = 150\n",
        "NUM_ENCODER_LAYERS = 6\n",
        "NUM_DECODER_LAYERS = 6\n",
        "NUM_EPOCHS = 300\n",
        "\n",
        "\n",
        "transformer = Seq2SeqTransformer(NUM_ENCODER_LAYERS, NUM_DECODER_LAYERS,\n",
        "                                 EMB_SIZE, SRC_VOCAB_SIZE, TGT_VOCAB_SIZE,\n",
        "                                 FFN_HID_DIM)\n",
        "\n",
        "for p in transformer.parameters():\n",
        "    if p.dim() > 1:\n",
        "        nn.init.xavier_uniform_(p)\n",
        "\n",
        "transformer = transformer.to(device)\n",
        "\n",
        "loss_fn = torch.nn.CrossEntropyLoss(ignore_index=PAD_IDX)\n",
        "\n",
        "optimizer = torch.optim.Adam(transformer.parameters(), lr=0.0001, betas=(0.9, 0.98), eps=1e-9)\n",
        "\n",
        "def train_epoch(model, train_iter, optimizer):\n",
        "    model.train()\n",
        "    losses = 0\n",
        "    for idx, (src, tgt) in enumerate(train_iter):\n",
        "#         print(\"training iter : \", idx)\n",
        "#     for idx in tqdm(range(len(train_iter))):\n",
        "#         src, tgt = train_iter[idx]\n",
        "        src = src.to(device)\n",
        "        tgt = tgt.to(device)\n",
        "\n",
        "        tgt_input = tgt[:-1, :]\n",
        "\n",
        "        src_mask, tgt_mask, src_padding_mask, tgt_padding_mask = create_mask(src, tgt_input)\n",
        "\n",
        "        logits = model(src, tgt_input, src_mask, tgt_mask,\n",
        "                                src_padding_mask, tgt_padding_mask, src_padding_mask)\n",
        "\n",
        "        optimizer.zero_grad()\n",
        "\n",
        "        tgt_out = tgt[1:,:]\n",
        "        loss = loss_fn(logits.reshape(-1, logits.shape[-1]), tgt_out.reshape(-1))\n",
        "        loss.backward()\n",
        "\n",
        "        optimizer.step()\n",
        "        losses += loss.item()\n",
        "    return losses / len(train_iter)\n"
      ]
    },
    {
      "cell_type": "code",
      "execution_count": 56,
      "id": "c2dabc04",
      "metadata": {
        "id": "c2dabc04"
      },
      "outputs": [],
      "source": [
        "def evaluate(model, val_iter):\n",
        "    model.eval()\n",
        "    losses = 0\n",
        "    for idx, (src, tgt) in (enumerate(val_iter)):\n",
        "#         print(idx)\n",
        "        src = src.to(device)\n",
        "        tgt = tgt.to(device)\n",
        "\n",
        "        tgt_input = tgt[:-1, :]\n",
        "\n",
        "        src_mask, tgt_mask, src_padding_mask, tgt_padding_mask = create_mask(src, tgt_input)\n",
        "\n",
        "        logits = model(src, tgt_input, src_mask, tgt_mask,\n",
        "                                  src_padding_mask, tgt_padding_mask, src_padding_mask)\n",
        "        tgt_out = tgt[1:,:]\n",
        "        loss = loss_fn(logits.reshape(-1, logits.shape[-1]), tgt_out.reshape(-1))\n",
        "        losses += loss.item()\n",
        "    return losses / len(val_iter)"
      ]
    },
    {
      "cell_type": "markdown",
      "source": [
        "## 9. Train Seq2Seq Transformer Model"
      ],
      "metadata": {
        "id": "-heTFR3lRt3w"
      },
      "id": "-heTFR3lRt3w"
    },
    {
      "cell_type": "code",
      "execution_count": 57,
      "id": "a130e410",
      "metadata": {
        "id": "a130e410",
        "colab": {
          "base_uri": "https://localhost:8080/"
        },
        "outputId": "5bcd1d5d-7317-4ff1-a6a2-f1eeea5c92e1"
      },
      "outputs": [
        {
          "output_type": "stream",
          "name": "stderr",
          "text": [
            "/usr/local/lib/python3.10/dist-packages/torch/nn/functional.py:5109: UserWarning: Support for mismatched key_padding_mask and attn_mask is deprecated. Use same type for both instead.\n",
            "  warnings.warn(\n"
          ]
        },
        {
          "output_type": "stream",
          "name": "stdout",
          "text": [
            "Epoch: 1, Train loss: 6.408, val loss : 6.293 Epoch time = 2.869s\n",
            "Epoch: 2, Train loss: 5.893, val loss : 6.114 Epoch time = 1.190s\n",
            "Epoch: 3, Train loss: 5.751, val loss : 6.099 Epoch time = 1.143s\n",
            "Epoch: 4, Train loss: 5.675, val loss : 5.997 Epoch time = 1.215s\n",
            "Epoch: 5, Train loss: 5.634, val loss : 5.995 Epoch time = 1.186s\n",
            "Epoch: 6, Train loss: 5.566, val loss : 5.932 Epoch time = 1.105s\n",
            "Epoch: 7, Train loss: 5.507, val loss : 5.912 Epoch time = 1.120s\n",
            "Epoch: 8, Train loss: 5.378, val loss : 5.813 Epoch time = 1.196s\n",
            "Epoch: 9, Train loss: 5.277, val loss : 5.768 Epoch time = 1.102s\n",
            "Epoch: 10, Train loss: 5.149, val loss : 5.817 Epoch time = 1.179s\n",
            "Epoch: 11, Train loss: 5.007, val loss : 5.783 Epoch time = 1.146s\n",
            "Epoch: 12, Train loss: 4.890, val loss : 5.756 Epoch time = 1.220s\n",
            "Epoch: 13, Train loss: 4.752, val loss : 5.857 Epoch time = 1.222s\n",
            "Epoch: 14, Train loss: 4.648, val loss : 5.752 Epoch time = 1.108s\n",
            "Epoch: 15, Train loss: 4.507, val loss : 5.724 Epoch time = 1.211s\n",
            "Epoch: 16, Train loss: 4.366, val loss : 5.735 Epoch time = 1.108s\n",
            "Epoch: 17, Train loss: 4.237, val loss : 5.749 Epoch time = 1.150s\n",
            "Epoch: 18, Train loss: 4.155, val loss : 5.814 Epoch time = 1.111s\n",
            "Epoch: 19, Train loss: 4.034, val loss : 5.755 Epoch time = 1.099s\n",
            "Epoch: 20, Train loss: 3.939, val loss : 5.670 Epoch time = 1.132s\n",
            "Epoch: 21, Train loss: 3.862, val loss : 5.781 Epoch time = 1.210s\n",
            "Epoch: 22, Train loss: 3.736, val loss : 5.754 Epoch time = 1.115s\n",
            "Epoch: 23, Train loss: 3.643, val loss : 5.629 Epoch time = 1.234s\n",
            "Epoch: 24, Train loss: 3.549, val loss : 5.750 Epoch time = 1.163s\n",
            "Epoch: 25, Train loss: 3.511, val loss : 5.770 Epoch time = 1.199s\n",
            "Epoch: 26, Train loss: 3.388, val loss : 5.810 Epoch time = 1.221s\n",
            "Epoch: 27, Train loss: 3.301, val loss : 5.843 Epoch time = 1.122s\n",
            "Epoch: 28, Train loss: 3.218, val loss : 5.701 Epoch time = 1.147s\n",
            "Epoch: 29, Train loss: 3.141, val loss : 5.929 Epoch time = 1.156s\n",
            "Epoch: 30, Train loss: 3.069, val loss : 5.693 Epoch time = 1.151s\n",
            "Epoch: 31, Train loss: 2.973, val loss : 5.804 Epoch time = 1.123s\n",
            "Epoch: 32, Train loss: 2.921, val loss : 5.929 Epoch time = 1.145s\n",
            "Epoch: 33, Train loss: 2.874, val loss : 5.715 Epoch time = 1.222s\n",
            "Epoch: 34, Train loss: 2.807, val loss : 5.928 Epoch time = 1.123s\n",
            "Epoch: 35, Train loss: 2.720, val loss : 5.931 Epoch time = 1.122s\n",
            "Epoch: 36, Train loss: 2.653, val loss : 6.003 Epoch time = 1.108s\n",
            "Epoch: 37, Train loss: 2.584, val loss : 5.757 Epoch time = 1.135s\n",
            "Epoch: 38, Train loss: 2.562, val loss : 5.779 Epoch time = 1.216s\n",
            "Epoch: 39, Train loss: 2.470, val loss : 5.862 Epoch time = 1.115s\n",
            "Epoch: 40, Train loss: 2.423, val loss : 5.791 Epoch time = 1.134s\n",
            "Epoch: 41, Train loss: 2.351, val loss : 5.913 Epoch time = 1.117s\n",
            "Epoch: 42, Train loss: 2.292, val loss : 5.867 Epoch time = 1.197s\n",
            "Epoch: 43, Train loss: 2.243, val loss : 5.930 Epoch time = 1.113s\n",
            "Epoch: 44, Train loss: 2.193, val loss : 5.800 Epoch time = 1.125s\n",
            "Epoch: 45, Train loss: 2.146, val loss : 5.885 Epoch time = 1.128s\n",
            "Epoch: 46, Train loss: 2.085, val loss : 5.785 Epoch time = 1.209s\n",
            "Epoch: 47, Train loss: 1.987, val loss : 5.753 Epoch time = 1.162s\n",
            "Epoch: 48, Train loss: 1.979, val loss : 5.833 Epoch time = 1.122s\n",
            "Epoch: 49, Train loss: 1.912, val loss : 5.848 Epoch time = 1.212s\n",
            "Epoch: 50, Train loss: 1.869, val loss : 6.103 Epoch time = 1.128s\n",
            "Epoch: 51, Train loss: 1.824, val loss : 5.891 Epoch time = 1.280s\n",
            "Epoch: 52, Train loss: 1.788, val loss : 5.918 Epoch time = 1.237s\n",
            "Epoch: 53, Train loss: 1.731, val loss : 5.842 Epoch time = 1.130s\n",
            "Epoch: 54, Train loss: 1.666, val loss : 6.014 Epoch time = 1.203s\n",
            "Epoch: 55, Train loss: 1.612, val loss : 5.882 Epoch time = 1.250s\n",
            "Epoch: 56, Train loss: 1.583, val loss : 5.843 Epoch time = 1.146s\n",
            "Epoch: 57, Train loss: 1.526, val loss : 5.929 Epoch time = 1.121s\n",
            "Epoch: 58, Train loss: 1.466, val loss : 5.886 Epoch time = 1.210s\n",
            "Epoch: 59, Train loss: 1.442, val loss : 5.954 Epoch time = 1.167s\n",
            "Epoch: 60, Train loss: 1.408, val loss : 5.977 Epoch time = 1.224s\n",
            "Epoch: 61, Train loss: 1.357, val loss : 5.992 Epoch time = 1.126s\n",
            "Epoch: 62, Train loss: 1.324, val loss : 6.027 Epoch time = 1.143s\n",
            "Epoch: 63, Train loss: 1.285, val loss : 6.322 Epoch time = 1.253s\n",
            "Epoch: 64, Train loss: 1.238, val loss : 6.365 Epoch time = 1.131s\n",
            "Epoch: 65, Train loss: 1.207, val loss : 5.916 Epoch time = 1.257s\n",
            "Epoch: 66, Train loss: 1.162, val loss : 6.217 Epoch time = 1.131s\n",
            "Epoch: 67, Train loss: 1.100, val loss : 6.136 Epoch time = 1.257s\n",
            "Epoch: 68, Train loss: 1.115, val loss : 6.290 Epoch time = 1.187s\n",
            "Epoch: 69, Train loss: 1.081, val loss : 5.983 Epoch time = 1.148s\n",
            "Epoch: 70, Train loss: 1.022, val loss : 5.934 Epoch time = 1.144s\n",
            "Epoch: 71, Train loss: 1.003, val loss : 6.164 Epoch time = 1.149s\n",
            "Epoch: 72, Train loss: 0.983, val loss : 5.942 Epoch time = 1.153s\n",
            "Epoch: 73, Train loss: 0.942, val loss : 6.140 Epoch time = 1.162s\n",
            "Epoch: 74, Train loss: 0.931, val loss : 6.121 Epoch time = 1.140s\n",
            "Epoch: 75, Train loss: 0.895, val loss : 6.021 Epoch time = 1.166s\n",
            "Epoch: 76, Train loss: 0.866, val loss : 6.291 Epoch time = 1.254s\n",
            "Epoch: 77, Train loss: 0.844, val loss : 6.272 Epoch time = 1.158s\n",
            "Epoch: 78, Train loss: 0.805, val loss : 6.063 Epoch time = 1.243s\n",
            "Epoch: 79, Train loss: 0.782, val loss : 5.911 Epoch time = 1.142s\n",
            "Epoch: 80, Train loss: 0.768, val loss : 5.930 Epoch time = 1.137s\n",
            "Epoch: 81, Train loss: 0.727, val loss : 6.352 Epoch time = 1.138s\n",
            "Epoch: 82, Train loss: 0.703, val loss : 6.301 Epoch time = 1.239s\n",
            "Epoch: 83, Train loss: 0.672, val loss : 6.210 Epoch time = 1.115s\n",
            "Epoch: 84, Train loss: 0.650, val loss : 6.039 Epoch time = 1.131s\n",
            "Epoch: 85, Train loss: 0.636, val loss : 6.106 Epoch time = 1.266s\n",
            "Epoch: 86, Train loss: 0.619, val loss : 6.115 Epoch time = 1.139s\n",
            "Epoch: 87, Train loss: 0.597, val loss : 6.210 Epoch time = 1.235s\n",
            "Epoch: 88, Train loss: 0.569, val loss : 6.198 Epoch time = 1.132s\n",
            "Epoch: 89, Train loss: 0.570, val loss : 6.466 Epoch time = 1.167s\n",
            "Epoch: 90, Train loss: 0.532, val loss : 6.111 Epoch time = 1.226s\n",
            "Epoch: 91, Train loss: 0.521, val loss : 6.100 Epoch time = 1.143s\n",
            "Epoch: 92, Train loss: 0.509, val loss : 6.208 Epoch time = 1.226s\n",
            "Epoch: 93, Train loss: 0.474, val loss : 6.417 Epoch time = 1.160s\n",
            "Epoch: 94, Train loss: 0.470, val loss : 6.161 Epoch time = 1.132s\n",
            "Epoch: 95, Train loss: 0.443, val loss : 6.325 Epoch time = 1.137s\n",
            "Epoch: 96, Train loss: 0.443, val loss : 6.446 Epoch time = 1.139s\n",
            "Epoch: 97, Train loss: 0.423, val loss : 6.285 Epoch time = 1.263s\n",
            "Epoch: 98, Train loss: 0.407, val loss : 6.289 Epoch time = 1.240s\n",
            "Epoch: 99, Train loss: 0.391, val loss : 6.399 Epoch time = 1.122s\n",
            "Epoch: 100, Train loss: 0.373, val loss : 6.505 Epoch time = 1.202s\n",
            "Epoch: 101, Train loss: 0.370, val loss : 6.360 Epoch time = 1.158s\n",
            "Epoch: 102, Train loss: 0.359, val loss : 6.437 Epoch time = 1.182s\n",
            "Epoch: 103, Train loss: 0.347, val loss : 6.560 Epoch time = 1.133s\n",
            "Epoch: 104, Train loss: 0.335, val loss : 6.372 Epoch time = 1.152s\n",
            "Epoch: 105, Train loss: 0.327, val loss : 6.677 Epoch time = 1.166s\n",
            "Epoch: 106, Train loss: 0.325, val loss : 6.550 Epoch time = 1.163s\n",
            "Epoch: 107, Train loss: 0.308, val loss : 6.448 Epoch time = 1.225s\n",
            "Epoch: 108, Train loss: 0.292, val loss : 6.400 Epoch time = 1.240s\n",
            "Epoch: 109, Train loss: 0.274, val loss : 6.358 Epoch time = 1.142s\n",
            "Epoch: 110, Train loss: 0.274, val loss : 6.472 Epoch time = 1.243s\n",
            "Epoch: 111, Train loss: 0.267, val loss : 6.195 Epoch time = 1.123s\n",
            "Epoch: 112, Train loss: 0.242, val loss : 6.629 Epoch time = 1.163s\n",
            "Epoch: 113, Train loss: 0.242, val loss : 6.365 Epoch time = 1.138s\n",
            "Epoch: 114, Train loss: 0.241, val loss : 6.260 Epoch time = 1.133s\n",
            "Epoch: 115, Train loss: 0.226, val loss : 6.548 Epoch time = 1.181s\n",
            "Epoch: 116, Train loss: 0.216, val loss : 6.421 Epoch time = 1.200s\n",
            "Epoch: 117, Train loss: 0.213, val loss : 6.270 Epoch time = 1.139s\n",
            "Epoch: 118, Train loss: 0.209, val loss : 6.627 Epoch time = 1.250s\n",
            "Epoch: 119, Train loss: 0.208, val loss : 6.823 Epoch time = 1.137s\n",
            "Epoch: 120, Train loss: 0.199, val loss : 6.520 Epoch time = 1.151s\n",
            "Epoch: 121, Train loss: 0.194, val loss : 6.334 Epoch time = 1.230s\n",
            "Epoch: 122, Train loss: 0.185, val loss : 6.452 Epoch time = 1.172s\n",
            "Epoch: 123, Train loss: 0.184, val loss : 6.425 Epoch time = 1.123s\n",
            "Epoch: 124, Train loss: 0.180, val loss : 6.487 Epoch time = 1.160s\n",
            "Epoch: 125, Train loss: 0.176, val loss : 6.938 Epoch time = 1.125s\n",
            "Epoch: 126, Train loss: 0.169, val loss : 6.657 Epoch time = 1.273s\n",
            "Epoch: 127, Train loss: 0.165, val loss : 6.513 Epoch time = 1.227s\n",
            "Epoch: 128, Train loss: 0.149, val loss : 6.516 Epoch time = 1.142s\n",
            "Epoch: 129, Train loss: 0.147, val loss : 6.600 Epoch time = 1.223s\n",
            "Epoch: 130, Train loss: 0.143, val loss : 6.558 Epoch time = 1.139s\n",
            "Epoch: 131, Train loss: 0.135, val loss : 6.839 Epoch time = 1.261s\n",
            "Epoch: 132, Train loss: 0.134, val loss : 6.981 Epoch time = 1.152s\n",
            "Epoch: 133, Train loss: 0.138, val loss : 6.594 Epoch time = 1.145s\n",
            "Epoch: 134, Train loss: 0.131, val loss : 6.815 Epoch time = 1.123s\n",
            "Epoch: 135, Train loss: 0.130, val loss : 6.636 Epoch time = 1.246s\n",
            "Epoch: 136, Train loss: 0.119, val loss : 6.867 Epoch time = 1.127s\n",
            "Epoch: 137, Train loss: 0.122, val loss : 6.618 Epoch time = 1.147s\n",
            "Epoch: 138, Train loss: 0.117, val loss : 6.832 Epoch time = 1.143s\n",
            "Epoch: 139, Train loss: 0.110, val loss : 6.793 Epoch time = 1.142s\n",
            "Epoch: 140, Train loss: 0.109, val loss : 6.756 Epoch time = 1.128s\n",
            "Epoch: 141, Train loss: 0.100, val loss : 6.674 Epoch time = 1.135s\n",
            "Epoch: 142, Train loss: 0.101, val loss : 6.876 Epoch time = 1.226s\n",
            "Epoch: 143, Train loss: 0.097, val loss : 7.012 Epoch time = 1.168s\n",
            "Epoch: 144, Train loss: 0.096, val loss : 6.963 Epoch time = 1.143s\n",
            "Epoch: 145, Train loss: 0.094, val loss : 6.836 Epoch time = 1.226s\n",
            "Epoch: 146, Train loss: 0.096, val loss : 7.067 Epoch time = 1.263s\n",
            "Epoch: 147, Train loss: 0.097, val loss : 6.875 Epoch time = 1.158s\n",
            "Epoch: 148, Train loss: 0.097, val loss : 6.847 Epoch time = 1.241s\n",
            "Epoch: 149, Train loss: 0.095, val loss : 6.618 Epoch time = 1.129s\n",
            "Epoch: 150, Train loss: 0.088, val loss : 6.622 Epoch time = 1.141s\n",
            "Epoch: 151, Train loss: 0.092, val loss : 6.721 Epoch time = 1.172s\n",
            "Epoch: 152, Train loss: 0.080, val loss : 6.801 Epoch time = 1.132s\n",
            "Epoch: 153, Train loss: 0.079, val loss : 6.815 Epoch time = 1.217s\n",
            "Epoch: 154, Train loss: 0.077, val loss : 6.905 Epoch time = 1.134s\n",
            "Epoch: 155, Train loss: 0.070, val loss : 6.947 Epoch time = 1.167s\n",
            "Epoch: 156, Train loss: 0.078, val loss : 7.058 Epoch time = 1.122s\n",
            "Epoch: 157, Train loss: 0.072, val loss : 7.208 Epoch time = 1.255s\n",
            "Epoch: 158, Train loss: 0.073, val loss : 7.081 Epoch time = 1.253s\n",
            "Epoch: 159, Train loss: 0.071, val loss : 7.071 Epoch time = 1.250s\n",
            "Epoch: 160, Train loss: 0.066, val loss : 7.052 Epoch time = 1.205s\n",
            "Epoch: 161, Train loss: 0.065, val loss : 7.051 Epoch time = 1.147s\n",
            "Epoch: 162, Train loss: 0.067, val loss : 6.934 Epoch time = 1.133s\n",
            "Epoch: 163, Train loss: 0.064, val loss : 7.010 Epoch time = 1.267s\n",
            "Epoch: 164, Train loss: 0.063, val loss : 6.878 Epoch time = 1.240s\n",
            "Epoch: 165, Train loss: 0.061, val loss : 6.862 Epoch time = 1.244s\n",
            "Epoch: 166, Train loss: 0.060, val loss : 6.916 Epoch time = 1.125s\n",
            "Epoch: 167, Train loss: 0.057, val loss : 6.971 Epoch time = 1.143s\n",
            "Epoch: 168, Train loss: 0.057, val loss : 6.936 Epoch time = 1.399s\n",
            "Epoch: 169, Train loss: 0.055, val loss : 7.269 Epoch time = 1.288s\n",
            "Epoch: 170, Train loss: 0.053, val loss : 7.053 Epoch time = 1.227s\n",
            "Epoch: 171, Train loss: 0.054, val loss : 7.262 Epoch time = 1.136s\n",
            "Epoch: 172, Train loss: 0.057, val loss : 6.979 Epoch time = 1.297s\n",
            "Epoch: 173, Train loss: 0.050, val loss : 7.039 Epoch time = 1.290s\n",
            "Epoch: 174, Train loss: 0.052, val loss : 6.947 Epoch time = 1.164s\n",
            "Epoch: 175, Train loss: 0.054, val loss : 6.993 Epoch time = 1.279s\n",
            "Epoch: 176, Train loss: 0.058, val loss : 7.536 Epoch time = 1.277s\n",
            "Epoch: 177, Train loss: 0.057, val loss : 7.115 Epoch time = 1.170s\n",
            "Epoch: 178, Train loss: 0.053, val loss : 7.109 Epoch time = 1.110s\n",
            "Epoch: 179, Train loss: 0.054, val loss : 7.060 Epoch time = 1.311s\n",
            "Epoch: 180, Train loss: 0.053, val loss : 7.105 Epoch time = 1.167s\n",
            "Epoch: 181, Train loss: 0.050, val loss : 7.054 Epoch time = 1.151s\n",
            "Epoch: 182, Train loss: 0.046, val loss : 7.044 Epoch time = 1.137s\n",
            "Epoch: 183, Train loss: 0.046, val loss : 6.875 Epoch time = 1.173s\n",
            "Epoch: 184, Train loss: 0.045, val loss : 7.012 Epoch time = 1.139s\n",
            "Epoch: 185, Train loss: 0.045, val loss : 7.081 Epoch time = 1.272s\n",
            "Epoch: 186, Train loss: 0.041, val loss : 7.083 Epoch time = 1.241s\n",
            "Epoch: 187, Train loss: 0.039, val loss : 7.173 Epoch time = 1.150s\n",
            "Epoch: 188, Train loss: 0.041, val loss : 7.038 Epoch time = 1.250s\n",
            "Epoch: 189, Train loss: 0.040, val loss : 7.237 Epoch time = 1.165s\n",
            "Epoch: 190, Train loss: 0.035, val loss : 7.443 Epoch time = 1.107s\n",
            "Epoch: 191, Train loss: 0.035, val loss : 7.071 Epoch time = 1.239s\n",
            "Epoch: 192, Train loss: 0.036, val loss : 7.134 Epoch time = 1.254s\n",
            "Epoch: 193, Train loss: 0.036, val loss : 7.321 Epoch time = 1.148s\n",
            "Epoch: 194, Train loss: 0.038, val loss : 7.423 Epoch time = 1.137s\n",
            "Epoch: 195, Train loss: 0.039, val loss : 7.347 Epoch time = 1.115s\n",
            "Epoch: 196, Train loss: 0.037, val loss : 7.320 Epoch time = 1.246s\n",
            "Epoch: 197, Train loss: 0.038, val loss : 7.400 Epoch time = 1.223s\n",
            "Epoch: 198, Train loss: 0.038, val loss : 7.224 Epoch time = 1.142s\n",
            "Epoch: 199, Train loss: 0.044, val loss : 7.008 Epoch time = 1.147s\n",
            "Epoch: 200, Train loss: 0.036, val loss : 7.288 Epoch time = 1.129s\n",
            "Epoch: 201, Train loss: 0.043, val loss : 7.517 Epoch time = 1.258s\n",
            "Epoch: 202, Train loss: 0.041, val loss : 7.037 Epoch time = 1.228s\n",
            "Epoch: 203, Train loss: 0.040, val loss : 7.226 Epoch time = 1.132s\n",
            "Epoch: 204, Train loss: 0.042, val loss : 7.220 Epoch time = 1.135s\n",
            "Epoch: 205, Train loss: 0.038, val loss : 7.174 Epoch time = 1.177s\n",
            "Epoch: 206, Train loss: 0.041, val loss : 7.307 Epoch time = 1.134s\n",
            "Epoch: 207, Train loss: 0.039, val loss : 7.352 Epoch time = 1.247s\n",
            "Epoch: 208, Train loss: 0.037, val loss : 7.155 Epoch time = 1.144s\n",
            "Epoch: 209, Train loss: 0.033, val loss : 7.305 Epoch time = 1.170s\n",
            "Epoch: 210, Train loss: 0.031, val loss : 7.305 Epoch time = 1.157s\n",
            "Epoch: 211, Train loss: 0.029, val loss : 7.062 Epoch time = 1.396s\n",
            "Epoch: 212, Train loss: 0.026, val loss : 7.152 Epoch time = 1.220s\n",
            "Epoch: 213, Train loss: 0.024, val loss : 7.585 Epoch time = 1.255s\n",
            "Epoch: 214, Train loss: 0.027, val loss : 7.303 Epoch time = 1.134s\n",
            "Epoch: 215, Train loss: 0.028, val loss : 7.371 Epoch time = 1.244s\n",
            "Epoch: 216, Train loss: 0.025, val loss : 7.258 Epoch time = 1.136s\n",
            "Epoch: 217, Train loss: 0.025, val loss : 7.367 Epoch time = 1.174s\n",
            "Epoch: 218, Train loss: 0.022, val loss : 7.495 Epoch time = 1.258s\n",
            "Epoch: 219, Train loss: 0.022, val loss : 7.437 Epoch time = 1.137s\n",
            "Epoch: 220, Train loss: 0.022, val loss : 7.560 Epoch time = 1.234s\n",
            "Epoch: 221, Train loss: 0.022, val loss : 7.304 Epoch time = 1.139s\n",
            "Epoch: 222, Train loss: 0.021, val loss : 7.617 Epoch time = 1.170s\n",
            "Epoch: 223, Train loss: 0.021, val loss : 7.518 Epoch time = 1.129s\n",
            "Epoch: 224, Train loss: 0.028, val loss : 7.199 Epoch time = 1.164s\n",
            "Epoch: 225, Train loss: 0.032, val loss : 7.605 Epoch time = 1.142s\n",
            "Epoch: 226, Train loss: 0.029, val loss : 7.089 Epoch time = 1.234s\n",
            "Epoch: 227, Train loss: 0.033, val loss : 7.307 Epoch time = 1.233s\n",
            "Epoch: 228, Train loss: 0.029, val loss : 7.622 Epoch time = 1.140s\n",
            "Epoch: 229, Train loss: 0.029, val loss : 7.642 Epoch time = 1.199s\n",
            "Epoch: 230, Train loss: 0.029, val loss : 7.361 Epoch time = 1.242s\n",
            "Epoch: 231, Train loss: 0.027, val loss : 7.507 Epoch time = 1.132s\n",
            "Epoch: 232, Train loss: 0.026, val loss : 7.702 Epoch time = 1.149s\n",
            "Epoch: 233, Train loss: 0.029, val loss : 7.417 Epoch time = 1.132s\n",
            "Epoch: 234, Train loss: 0.024, val loss : 7.763 Epoch time = 1.147s\n",
            "Epoch: 235, Train loss: 0.030, val loss : 7.300 Epoch time = 1.267s\n",
            "Epoch: 236, Train loss: 0.025, val loss : 7.413 Epoch time = 1.153s\n",
            "Epoch: 237, Train loss: 0.026, val loss : 7.690 Epoch time = 1.134s\n",
            "Epoch: 238, Train loss: 0.030, val loss : 7.777 Epoch time = 1.240s\n",
            "Epoch: 239, Train loss: 0.024, val loss : 7.180 Epoch time = 1.158s\n",
            "Epoch: 240, Train loss: 0.027, val loss : 8.186 Epoch time = 1.209s\n",
            "Epoch: 241, Train loss: 0.028, val loss : 7.396 Epoch time = 1.240s\n",
            "Epoch: 242, Train loss: 0.025, val loss : 7.801 Epoch time = 1.151s\n",
            "Epoch: 243, Train loss: 0.026, val loss : 7.392 Epoch time = 1.118s\n",
            "Epoch: 244, Train loss: 0.020, val loss : 7.683 Epoch time = 1.252s\n",
            "Epoch: 245, Train loss: 0.021, val loss : 7.452 Epoch time = 1.147s\n",
            "Epoch: 246, Train loss: 0.018, val loss : 7.590 Epoch time = 1.158s\n",
            "Epoch: 247, Train loss: 0.019, val loss : 7.669 Epoch time = 1.162s\n",
            "Epoch: 248, Train loss: 0.022, val loss : 7.672 Epoch time = 1.134s\n",
            "Epoch: 249, Train loss: 0.019, val loss : 7.576 Epoch time = 1.257s\n",
            "Epoch: 250, Train loss: 0.022, val loss : 7.677 Epoch time = 1.144s\n",
            "Epoch: 251, Train loss: 0.020, val loss : 7.933 Epoch time = 1.177s\n",
            "Epoch: 252, Train loss: 0.024, val loss : 7.625 Epoch time = 1.137s\n",
            "Epoch: 253, Train loss: 0.023, val loss : 7.752 Epoch time = 1.155s\n",
            "Epoch: 254, Train loss: 0.021, val loss : 7.491 Epoch time = 1.148s\n",
            "Epoch: 255, Train loss: 0.021, val loss : 7.876 Epoch time = 1.159s\n",
            "Epoch: 256, Train loss: 0.020, val loss : 7.637 Epoch time = 1.192s\n",
            "Epoch: 257, Train loss: 0.018, val loss : 7.949 Epoch time = 1.141s\n",
            "Epoch: 258, Train loss: 0.018, val loss : 7.478 Epoch time = 1.230s\n",
            "Epoch: 259, Train loss: 0.016, val loss : 7.706 Epoch time = 1.268s\n",
            "Epoch: 260, Train loss: 0.017, val loss : 7.290 Epoch time = 1.146s\n",
            "Epoch: 261, Train loss: 0.019, val loss : 7.600 Epoch time = 1.136s\n",
            "Epoch: 262, Train loss: 0.029, val loss : 7.732 Epoch time = 1.128s\n",
            "Epoch: 263, Train loss: 0.025, val loss : 7.640 Epoch time = 1.271s\n",
            "Epoch: 264, Train loss: 0.022, val loss : 7.846 Epoch time = 1.245s\n",
            "Epoch: 265, Train loss: 0.021, val loss : 7.451 Epoch time = 1.113s\n",
            "Epoch: 266, Train loss: 0.019, val loss : 8.044 Epoch time = 1.135s\n",
            "Epoch: 267, Train loss: 0.018, val loss : 7.693 Epoch time = 1.250s\n",
            "Epoch: 268, Train loss: 0.018, val loss : 7.756 Epoch time = 1.123s\n",
            "Epoch: 269, Train loss: 0.015, val loss : 8.034 Epoch time = 1.138s\n",
            "Epoch: 270, Train loss: 0.014, val loss : 7.814 Epoch time = 1.159s\n",
            "Epoch: 271, Train loss: 0.015, val loss : 8.096 Epoch time = 1.153s\n",
            "Epoch: 272, Train loss: 0.016, val loss : 7.894 Epoch time = 1.216s\n",
            "Epoch: 273, Train loss: 0.015, val loss : 7.822 Epoch time = 1.147s\n",
            "Epoch: 274, Train loss: 0.018, val loss : 7.907 Epoch time = 1.181s\n",
            "Epoch: 275, Train loss: 0.016, val loss : 7.898 Epoch time = 1.273s\n",
            "Epoch: 276, Train loss: 0.017, val loss : 7.685 Epoch time = 1.135s\n",
            "Epoch: 277, Train loss: 0.015, val loss : 7.904 Epoch time = 1.149s\n",
            "Epoch: 278, Train loss: 0.013, val loss : 7.602 Epoch time = 1.148s\n",
            "Epoch: 279, Train loss: 0.016, val loss : 7.824 Epoch time = 1.131s\n",
            "Epoch: 280, Train loss: 0.014, val loss : 7.888 Epoch time = 1.235s\n",
            "Epoch: 281, Train loss: 0.013, val loss : 7.704 Epoch time = 1.151s\n",
            "Epoch: 282, Train loss: 0.013, val loss : 7.766 Epoch time = 1.152s\n",
            "Epoch: 283, Train loss: 0.014, val loss : 7.992 Epoch time = 1.117s\n",
            "Epoch: 284, Train loss: 0.013, val loss : 7.787 Epoch time = 1.549s\n",
            "Epoch: 285, Train loss: 0.015, val loss : 7.828 Epoch time = 1.279s\n",
            "Epoch: 286, Train loss: 0.016, val loss : 7.818 Epoch time = 1.254s\n",
            "Epoch: 287, Train loss: 0.017, val loss : 8.004 Epoch time = 1.169s\n",
            "Epoch: 288, Train loss: 0.016, val loss : 7.833 Epoch time = 1.167s\n",
            "Epoch: 289, Train loss: 0.017, val loss : 8.025 Epoch time = 1.249s\n",
            "Epoch: 290, Train loss: 0.017, val loss : 7.869 Epoch time = 1.122s\n",
            "Epoch: 291, Train loss: 0.027, val loss : 7.615 Epoch time = 1.165s\n",
            "Epoch: 292, Train loss: 0.034, val loss : 7.973 Epoch time = 1.223s\n",
            "Epoch: 293, Train loss: 0.033, val loss : 8.168 Epoch time = 1.251s\n",
            "Epoch: 294, Train loss: 0.026, val loss : 7.784 Epoch time = 1.244s\n",
            "Epoch: 295, Train loss: 0.023, val loss : 7.737 Epoch time = 1.202s\n",
            "Epoch: 296, Train loss: 0.018, val loss : 7.779 Epoch time = 1.263s\n",
            "Epoch: 297, Train loss: 0.014, val loss : 7.806 Epoch time = 1.241s\n",
            "Epoch: 298, Train loss: 0.017, val loss : 7.840 Epoch time = 1.132s\n",
            "Epoch: 299, Train loss: 0.014, val loss : 7.965 Epoch time = 1.169s\n",
            "Epoch: 300, Train loss: 0.012, val loss : 7.844 Epoch time = 1.214s\n"
          ]
        }
      ],
      "source": [
        "for epoch in range(1, NUM_EPOCHS+1):\n",
        "    start_time = time.time()\n",
        "    train_loss = train_epoch(transformer, train_iter, optimizer)\n",
        "#     if epoch % 5 == 0:\n",
        "    val_loss = evaluate(transformer, val_iter)\n",
        "    end_time = time.time()\n",
        "    print((f\"Epoch: {epoch}, Train loss: {train_loss:.3f}, val loss : {val_loss:.3f} \"\n",
        "          f\"Epoch time = {(end_time - start_time):.3f}s\"))\n",
        "\n",
        "\n",
        "    # save model + checkpoint to resume training later\n",
        "    torch.save({\n",
        "      'epoch': NUM_EPOCHS,\n",
        "      'model_state_dict': transformer.state_dict(),\n",
        "      'optimizer_state_dict': optimizer.state_dict(),\n",
        "      'loss': train_loss,\n",
        "      }, '/content/drive/MyDrive/Chattogram_language/model/model_checkpoint.tar')"
      ]
    },
    {
      "cell_type": "markdown",
      "source": [
        "## 10. Evaluate Model"
      ],
      "metadata": {
        "id": "gtRbaGUbR5RB"
      },
      "id": "gtRbaGUbR5RB"
    },
    {
      "cell_type": "code",
      "execution_count": 58,
      "id": "bcc050c2",
      "metadata": {
        "id": "bcc050c2"
      },
      "outputs": [],
      "source": [
        "device = torch.device('cuda' if torch.cuda.is_available() else 'cpu')"
      ]
    },
    {
      "cell_type": "code",
      "execution_count": 59,
      "id": "83fa543b",
      "metadata": {
        "id": "83fa543b"
      },
      "outputs": [],
      "source": [
        "def greedy_decode(model, src, src_mask, max_len, start_symbol):\n",
        "    src = src.to(device)\n",
        "    src_mask = src_mask.to(device)\n",
        "    memory = model.encode(src, src_mask)\n",
        "    ys = torch.ones(1, 1).fill_(start_symbol).type(torch.long).to(device)\n",
        "    for i in range(max_len-1):\n",
        "        memory = memory.to(device)\n",
        "        memory_mask = torch.zeros(ys.shape[0], memory.shape[0]).to(device).type(torch.bool)\n",
        "        tgt_mask = (generate_square_subsequent_mask(ys.size(0))\n",
        "                                    .type(torch.bool)).to(device)\n",
        "        out = model.decode(ys, memory, tgt_mask)\n",
        "        out = out.transpose(0, 1)\n",
        "        prob = model.generator(out[:, -1])\n",
        "        _, next_word = torch.max(prob, dim = 1)\n",
        "        next_word = next_word.item()\n",
        "        ys = torch.cat([ys,torch.ones(1, 1).type_as(src.data).fill_(next_word)], dim=0)\n",
        "        if next_word == EOS_IDX:\n",
        "            break\n",
        "    return ys\n",
        "\n",
        "def translate(model, src, src_vocab, tgt_vocab, src_tokenizer):\n",
        "    model.eval()\n",
        "    tokens = [BOS_IDX] + [src_vocab.get_stoi()[tok] for tok in src_tokenizer.encode(src, out_type=str)]+ [EOS_IDX]\n",
        "    num_tokens = len(tokens)\n",
        "    src = (torch.LongTensor(tokens).reshape(num_tokens, 1) )\n",
        "    src_mask = (torch.zeros(num_tokens, num_tokens)).type(torch.bool)\n",
        "    tgt_tokens = greedy_decode(model,  src, src_mask, max_len=num_tokens + 5, start_symbol=BOS_IDX).flatten()\n",
        "    p_text = \" \".join([tgt_vocab.get_itos()[tok] for tok in tgt_tokens]).replace(\"<bos>\", \"\").replace(\"<eos>\", \"\")\n",
        "    pts = \" \".join(list(map(lambda x : x , p_text.replace(\" \", \"\").split(\"▁\"))))\n",
        "    return pts.strip()"
      ]
    },
    {
      "cell_type": "code",
      "execution_count": 60,
      "id": "6a9cfe19",
      "metadata": {
        "id": "6a9cfe19",
        "colab": {
          "base_uri": "https://localhost:8080/"
        },
        "outputId": "06ee1fa2-b702-48d6-e83c-2c03b5cafd40"
      },
      "outputs": [
        {
          "output_type": "stream",
          "name": "stdout",
          "text": [
            "input : বালা অতে টিয়া ন লাগে\n",
            "prediction: ভালো হতে টাকা পয়সা লাগে না\n"
          ]
        }
      ],
      "source": [
        "# for i in data[:10]:\n",
        "text = \"বালা অতে টিয়া ন লাগে\"\n",
        "pre = translate(transformer, text, full_chattogram_vocab, full_bangla_vocab, chattogram_tokenizer)\n",
        "print(f\"input : {text}\")\n",
        "print(f\"prediction: {pre}\")"
      ]
    },
    {
      "cell_type": "code",
      "execution_count": null,
      "id": "1b9a650a",
      "metadata": {
        "id": "1b9a650a"
      },
      "outputs": [],
      "source": [
        "# itos = ja_vocab.itos()"
      ]
    },
    {
      "cell_type": "markdown",
      "source": [
        "## 11. Save Vocab and PyTorch model in Local Storage"
      ],
      "metadata": {
        "id": "WnyBCSDWSE7A"
      },
      "id": "WnyBCSDWSE7A"
    },
    {
      "cell_type": "code",
      "execution_count": 61,
      "id": "b0285218",
      "metadata": {
        "id": "b0285218"
      },
      "outputs": [],
      "source": [
        "import pickle\n",
        "full_chattogram_vocab_pickle_file='/content/drive/MyDrive/Chattogram_language/model/full_chattogram_vocab.pkl'\n",
        "full_bangla_vocab_pickle_file='/content/drive/MyDrive/Chattogram_language/model/full_bangla_vocab.pkl'\n",
        "# open a file, where you want to store the data\n",
        "file = open(full_chattogram_vocab_pickle_file, 'wb')\n",
        "# dump information to that file\n",
        "pickle.dump(full_chattogram_vocab, file)\n",
        "file.close()\n",
        "file = open(full_bangla_vocab_pickle_file, 'wb')\n",
        "pickle.dump(full_bangla_vocab, file)\n",
        "file.close()"
      ]
    },
    {
      "cell_type": "code",
      "execution_count": 62,
      "id": "d5d2adae",
      "metadata": {
        "id": "d5d2adae"
      },
      "outputs": [],
      "source": [
        "# save model + checkpoint to resume training later\n",
        "torch.save({\n",
        "  'epoch': NUM_EPOCHS,\n",
        "  'model_state_dict': transformer.state_dict(),\n",
        "  'optimizer_state_dict': optimizer.state_dict(),\n",
        "  'loss': train_loss,\n",
        "  }, '/content/drive/MyDrive/Chattogram_language/model/seq2seq_chattogram_to_standard_bangla_model_1000_data.pt')"
      ]
    },
    {
      "cell_type": "markdown",
      "id": "daada9c8",
      "metadata": {
        "id": "daada9c8"
      },
      "source": [
        "## 13. Inference\n",
        "Here the inference script after load sentencepice train tokenizer model, vocal and train model"
      ]
    },
    {
      "cell_type": "code",
      "execution_count": 63,
      "id": "e4054145",
      "metadata": {
        "id": "e4054145"
      },
      "outputs": [],
      "source": [
        "device = torch.device('cuda' if torch.cuda.is_available() else 'cpu')"
      ]
    },
    {
      "cell_type": "code",
      "execution_count": 64,
      "id": "ac2a172d",
      "metadata": {
        "id": "ac2a172d"
      },
      "outputs": [],
      "source": [
        "chattogram_model_path='/content/drive/MyDrive/Chattogram_language/model/chattogram_model.model'\n",
        "bangla_model_path='/content/drive/MyDrive/Chattogram_language/model/bangla_model.model'\n",
        "chattogram_tokenizer = spm.SentencePieceProcessor(model_file=chattogram_model_path)\n",
        "bangla_tokenizer = spm.SentencePieceProcessor(model_file=bangla_model_path)"
      ]
    },
    {
      "cell_type": "code",
      "execution_count": 65,
      "id": "9d3e70f9",
      "metadata": {
        "id": "9d3e70f9"
      },
      "outputs": [],
      "source": [
        "chattogram_vocab_file_path='/content/drive/MyDrive/Chattogram_language/model/full_chattogram_vocab.pkl'\n",
        "file = open(chattogram_vocab_file_path, 'rb')\n",
        "chattogram_vocab = pickle.load(file)\n",
        "file.close()"
      ]
    },
    {
      "cell_type": "code",
      "execution_count": 66,
      "id": "bdaf63e1",
      "metadata": {
        "id": "bdaf63e1"
      },
      "outputs": [],
      "source": [
        "bangla_vocab_file_path='/content/drive/MyDrive/Chattogram_language/model/full_bangla_vocab.pkl'\n",
        "file = open(bangla_vocab_file_path, 'rb')\n",
        "bangla_vocal = pickle.load(file)\n",
        "file.close()"
      ]
    },
    {
      "cell_type": "code",
      "execution_count": 67,
      "id": "164aba80",
      "metadata": {
        "id": "164aba80",
        "colab": {
          "base_uri": "https://localhost:8080/"
        },
        "outputId": "225dfa51-d896-49c6-8230-c829f00f2b28"
      },
      "outputs": [
        {
          "output_type": "stream",
          "name": "stderr",
          "text": [
            "/usr/local/lib/python3.10/dist-packages/torch/nn/modules/transformer.py:286: UserWarning: enable_nested_tensor is True, but self.use_nested_tensor is False because encoder_layer.self_attn.batch_first was not True(use batch_first for better inference performance)\n",
            "  warnings.warn(f\"enable_nested_tensor is True, but self.use_nested_tensor is False because {why_not_sparsity_fast_path}\")\n"
          ]
        },
        {
          "output_type": "execute_result",
          "data": {
            "text/plain": [
              "Seq2SeqTransformer(\n",
              "  (transformer_encoder): TransformerEncoder(\n",
              "    (layers): ModuleList(\n",
              "      (0-5): 6 x TransformerEncoderLayer(\n",
              "        (self_attn): MultiheadAttention(\n",
              "          (out_proj): NonDynamicallyQuantizableLinear(in_features=512, out_features=512, bias=True)\n",
              "        )\n",
              "        (linear1): Linear(in_features=512, out_features=512, bias=True)\n",
              "        (dropout): Dropout(p=0.1, inplace=False)\n",
              "        (linear2): Linear(in_features=512, out_features=512, bias=True)\n",
              "        (norm1): LayerNorm((512,), eps=1e-05, elementwise_affine=True)\n",
              "        (norm2): LayerNorm((512,), eps=1e-05, elementwise_affine=True)\n",
              "        (dropout1): Dropout(p=0.1, inplace=False)\n",
              "        (dropout2): Dropout(p=0.1, inplace=False)\n",
              "      )\n",
              "    )\n",
              "  )\n",
              "  (transformer_decoder): TransformerDecoder(\n",
              "    (layers): ModuleList(\n",
              "      (0-5): 6 x TransformerDecoderLayer(\n",
              "        (self_attn): MultiheadAttention(\n",
              "          (out_proj): NonDynamicallyQuantizableLinear(in_features=512, out_features=512, bias=True)\n",
              "        )\n",
              "        (multihead_attn): MultiheadAttention(\n",
              "          (out_proj): NonDynamicallyQuantizableLinear(in_features=512, out_features=512, bias=True)\n",
              "        )\n",
              "        (linear1): Linear(in_features=512, out_features=512, bias=True)\n",
              "        (dropout): Dropout(p=0.1, inplace=False)\n",
              "        (linear2): Linear(in_features=512, out_features=512, bias=True)\n",
              "        (norm1): LayerNorm((512,), eps=1e-05, elementwise_affine=True)\n",
              "        (norm2): LayerNorm((512,), eps=1e-05, elementwise_affine=True)\n",
              "        (norm3): LayerNorm((512,), eps=1e-05, elementwise_affine=True)\n",
              "        (dropout1): Dropout(p=0.1, inplace=False)\n",
              "        (dropout2): Dropout(p=0.1, inplace=False)\n",
              "        (dropout3): Dropout(p=0.1, inplace=False)\n",
              "      )\n",
              "    )\n",
              "  )\n",
              "  (generator): Linear(in_features=512, out_features=836, bias=True)\n",
              "  (src_tok_emb): TokenEmbedding(\n",
              "    (embedding): Embedding(933, 512)\n",
              "  )\n",
              "  (tgt_tok_emb): TokenEmbedding(\n",
              "    (embedding): Embedding(836, 512)\n",
              "  )\n",
              "  (positional_encoding): PositionalEncoding(\n",
              "    (dropout): Dropout(p=0.1, inplace=False)\n",
              "  )\n",
              ")"
            ]
          },
          "metadata": {},
          "execution_count": 67
        }
      ],
      "source": [
        "PATH = \"/content/drive/MyDrive/Chattogram_language/model/seq2seq_chattogram_to_standard_bangla_model_1000_data.pt\"\n",
        "\n",
        "model = Seq2SeqTransformer(NUM_ENCODER_LAYERS, NUM_DECODER_LAYERS,\n",
        "                                 EMB_SIZE, SRC_VOCAB_SIZE, TGT_VOCAB_SIZE,\n",
        "                                 FFN_HID_DIM)\n",
        "model.to(device)\n",
        "checkpoint = torch.load(PATH)\n",
        "model.load_state_dict(checkpoint['model_state_dict'])\n",
        "optimizer.load_state_dict(checkpoint['optimizer_state_dict'])\n",
        "epoch = checkpoint['epoch']\n",
        "loss = checkpoint['loss']\n",
        "\n",
        "model.eval()"
      ]
    },
    {
      "cell_type": "code",
      "execution_count": 68,
      "id": "f7ffcbab",
      "metadata": {
        "id": "f7ffcbab"
      },
      "outputs": [],
      "source": [
        "\n",
        "def greedy_decode(model, src, src_mask, max_len, start_symbol):\n",
        "    src = src.to(device)\n",
        "    src_mask = src_mask.to(device)\n",
        "    memory = model.encode(src, src_mask)\n",
        "    ys = torch.ones(1, 1).fill_(start_symbol).type(torch.long).to(device)\n",
        "    for i in range(max_len-1):\n",
        "        memory = memory.to(device)\n",
        "        memory_mask = torch.zeros(ys.shape[0], memory.shape[0]).to(device).type(torch.bool)\n",
        "        tgt_mask = (generate_square_subsequent_mask(ys.size(0))\n",
        "                                    .type(torch.bool)).to(device)\n",
        "        out = model.decode(ys, memory, tgt_mask)\n",
        "        out = out.transpose(0, 1)\n",
        "        prob = model.generator(out[:, -1])\n",
        "        _, next_word = torch.max(prob, dim = 1)\n",
        "        next_word = next_word.item()\n",
        "        ys = torch.cat([ys,torch.ones(1, 1).type_as(src.data).fill_(next_word)], dim=0)\n",
        "        if next_word == EOS_IDX:\n",
        "            break\n",
        "    return ys\n",
        "\n",
        "def translate(model, src, src_vocab, tgt_vocab, src_tokenizer):\n",
        "#     model.eval()\n",
        "    tokens = [BOS_IDX] + [src_vocab.get_stoi()[tok] for tok in src_tokenizer.encode(src, out_type=str)]+ [EOS_IDX]\n",
        "    num_tokens = len(tokens)\n",
        "    src = (torch.LongTensor(tokens).reshape(num_tokens, 1) )\n",
        "    src_mask = (torch.zeros(num_tokens, num_tokens)).type(torch.bool)\n",
        "    tgt_tokens = greedy_decode(model,  src, src_mask, max_len=num_tokens + 5, start_symbol=BOS_IDX).flatten()\n",
        "    p_text = \" \".join([tgt_vocab.get_itos()[tok] for tok in tgt_tokens]).replace(\"<bos>\", \"\").replace(\"<eos>\", \"\")\n",
        "    pts = \" \".join(list(map(lambda x : x , p_text.replace(\" \", \"\").split(\"▁\"))))\n",
        "    return pts.strip()"
      ]
    },
    {
      "cell_type": "markdown",
      "source": [
        "## 14. Generate Samples with Model"
      ],
      "metadata": {
        "id": "gWQRpfi8SVnB"
      },
      "id": "gWQRpfi8SVnB"
    },
    {
      "cell_type": "code",
      "execution_count": 70,
      "id": "544fa57e",
      "metadata": {
        "id": "544fa57e",
        "colab": {
          "base_uri": "https://localhost:8080/"
        },
        "outputId": "ad0d868d-6acd-47c0-9f24-1d76b5692716"
      },
      "outputs": [
        {
          "output_type": "stream",
          "name": "stdout",
          "text": [
            "input : সুন্দর আর পইজ্জ ফরিষ্কার বাংলাদেশ চাই।\n",
            "Ground Truth : সুন্দর ও পরিষ্কার বাংলাদেশ চাই\n",
            "prediction: যদি এক কোন আক্লেল জ্ঞান নেই\n",
            "================================\n",
            "\n",
            "input : যেডে মাইনসে স্সথির ভাত খাইত তারিবু\n",
            "Ground Truth : যেখানে মানুষ শান্তিতে ভাত খেতে পারবে\n",
            "prediction: রিয়াজ উদ্দিন বাজোরে গিয়ে লাল জামা কিনতে হবে।\n",
            "================================\n",
            "\n",
            "input : খুদা আর দারিদ্রতা মুক্ত বাংলাদেশ চাইতাম চাই।\n",
            "Ground Truth : ক্ষুদ দারিদ্রতামুক্ত বাংলাদেশ চাই\n",
            "prediction: দুই শত টাকা দিয়ে আর কত রকময় নিও\n",
            "================================\n",
            "\n",
            "input : ভালা মাইসর হাতে ভালা বাংলাদেশ চাইতাম চাই\n",
            "Ground Truth : ভালো মানুষের হাতে বাংলাদেশ দেখতে চাই\n",
            "prediction: ভালোর দাম নেই\n",
            "================================\n",
            "\n",
            "input : নিরাপদ ও শান্তি পূর্ণ বাংলাদেশ চাইতাম চাই ।\n",
            "Ground Truth : নিরাপদ ও শান্তিপূন বাংলাদেশ দেখতে চাই\n",
            "prediction: ড্রাইভারে কোন আক্লেল জ্ঞান নেই\n",
            "================================\n",
            "\n",
            "input : আঁই এন ওগ্গো বাংলাদেশ দেইকতামচাই জেড়ে ধনী-গরীব, ক্ষমতাবান -নিচুবান হোন ভেদাভেদ থাইকতুনো\n",
            "Ground Truth : আমি এমন একটা বাংলাদেশ দেখতে চাই যেখানে ধণী গরিব, ক্ষমতাবান নিচু কোন ভেদাভেদ থাকবে না\n",
            "prediction: আশাা ছিলো আপনাকে নিয়ে সুখের ঘর বাধঁবো\n",
            "================================\n",
            "\n",
            "input : উঁচুজাত-নিচুজাত কোন ভেদাভেদ থাইকতুনো;\n",
            "Ground Truth : উচু নিচু জাত কোন ভেদাভেদ থাকবে না\n",
            "prediction: আশাা ছিলো আপনাকে নিয়ে সুখের ঘর বাধঁবো\n",
            "================================\n",
            "\n",
            "input : নামাযত জেইল্লে ধনী-গরীব, মালিক-চাকর একফুয়ারে কাতারবন্দি অই থিয়েই এল্লে বিয়াগ্গুনে এক সমান থাকিবু,\n",
            "Ground Truth : নামাজে যেভাবে ধনী গরীব মালিক চাকর একসাথে এক কাতারে দাড়াই  সেভাবে সমানে থাকতে চাই\n",
            "prediction: আশাা ছিলো আপনাকে নিয়ে সুখের ঘর বাধঁবো\n",
            "================================\n",
            "\n",
            "input : দেশত শৃঙ্খলা থাকিবু কিয়র হক কিউ মারি মারি খাইতু নো,\n",
            "Ground Truth : দেশে শৃঙ্খলা থাকবে কে্উ কারো হক মারি খেতে পারবে না\n",
            "prediction: বিয়ে না জমিটা পড়লে পরীক্ষায় পাশের জায়গা নেই\n",
            "================================\n",
            "\n",
            "input : মাইনষুর নিরাপত্তা নিশ্চিত থাকিবু।\n",
            "Ground Truth : মানুষের নিরাপত্তা নিশ্চত থাকবে\n",
            "prediction: কাকা কাশতে কাশতে বুকে টান ধর করে না\n",
            "================================\n",
            "\n"
          ]
        }
      ],
      "source": [
        "for i in data[-10:]:\n",
        "    # text = \"বালা অতে টিয়া ন লাগে\"\n",
        "    pre = translate(model, i[0],full_chattogram_vocab, full_bangla_vocab, chattogram_tokenizer)\n",
        "    print(f\"input : {i[0]}\")\n",
        "    print(f\"Ground Truth : {i[1]}\")\n",
        "    print(f\"prediction: {pre}\")\n",
        "    print(\"================================\\n\")"
      ]
    },
    {
      "cell_type": "code",
      "source": [
        "for i in data[:20]:\n",
        "    # text = \"বালা অতে টিয়া ন লাগে\"\n",
        "    pre = translate(model, i[0],full_chattogram_vocab, full_bangla_vocab, chattogram_tokenizer)\n",
        "    print(f\"input : {i[0]}\")\n",
        "    print(f\"Ground Truth : {i[1]}\")\n",
        "    print(f\"prediction: {pre}\")\n",
        "    print(\"================================\\n\")"
      ],
      "metadata": {
        "colab": {
          "base_uri": "https://localhost:8080/"
        },
        "id": "T5uMYiaBYGFy",
        "outputId": "b93e2bb7-3876-4b49-9fbd-9fe1a4f0c0b0"
      },
      "id": "T5uMYiaBYGFy",
      "execution_count": 71,
      "outputs": [
        {
          "output_type": "stream",
          "name": "stdout",
          "text": [
            "input : অনেরা কডে\n",
            "Ground Truth : আপনারা কোথায়\n",
            "prediction: আপনারা কোথায়\n",
            "================================\n",
            "\n",
            "input : অলপল গরি এইজ্জু\n",
            "Ground Truth : আগোছালো করে রাখসো\n",
            "prediction: আগোছালো করে রাখসো\n",
            "================================\n",
            "\n",
            "input : ফ্ইর বানাইবা ফানলার\n",
            "Ground Truth : ভিক্ষুক বানাবা মনেহয়\n",
            "prediction: ভিক্ষুক বানাবা মনেহয়\n",
            "================================\n",
            "\n",
            "input : আজিয়া বিইয়্যা\n",
            "Ground Truth : আজকে বিয়ে\n",
            "prediction: আজকে বিয়ে\n",
            "================================\n",
            "\n",
            "input : কালিয়া মেজ্জান\n",
            "Ground Truth : কালকে মেজবান\n",
            "prediction: কালকে মেজবান\n",
            "================================\n",
            "\n",
            "input : যন নাই\n",
            "Ground Truth : যেতে নাই\n",
            "prediction: যেতে নাই\n",
            "================================\n",
            "\n",
            "input : গত খাইল\n",
            "Ground Truth : গত কালকে\n",
            "prediction: গত কালকে\n",
            "================================\n",
            "\n",
            "input : ইতারে ধর\n",
            "Ground Truth : তাকে ধরো\n",
            "prediction: তাকে ধরো\n",
            "================================\n",
            "\n",
            "input : অনেরে তোয়ারদে\n",
            "Ground Truth : আপনাকে খুঁজতেসে\n",
            "prediction: আপনাকে খুঁজতেসে\n",
            "================================\n",
            "\n",
            "input : আ্যাই কিত্তাম\n",
            "Ground Truth : আমি কী করবো\n",
            "prediction: আমি কী করবো\n",
            "================================\n",
            "\n",
            "input : তুউই এন্ডে দে\n",
            "Ground Truth : তুমি এখানে যে\n",
            "prediction: তুমি এখানে যে\n",
            "================================\n",
            "\n",
            "input : গোসসা গরি ফারিবানা\n",
            "Ground Truth : রাগ করে পারবেন কী\n",
            "prediction: রাগ করে পারবেন কী\n",
            "================================\n",
            "\n",
            "input : ঐইন্না ন খাইয়ুম\n",
            "Ground Truth : এখন খাবো না\n",
            "prediction: এখন খাবো না\n",
            "================================\n",
            "\n",
            "input : আ্যাই ন ডরাই\n",
            "Ground Truth : আমি ভয় পাই না\n",
            "prediction: আমি ভয় পাই না\n",
            "================================\n",
            "\n",
            "input : ডরার দে আরে\n",
            "Ground Truth : ভয় দেখাচ্ছো আমায়\n",
            "prediction: ভয় দেখাচ্ছো আমায়\n",
            "================================\n",
            "\n",
            "input : উযু আই য না\n",
            "Ground Truth : সোজা হয়ে যান না\n",
            "prediction: সোজা হয়ে যান না\n",
            "================================\n",
            "\n",
            "input : শনিবারের দ’ত অত আইস্সুন\n",
            "Ground Truth : শনিবারের নিমন্ত্রনে আসবেন\n",
            "prediction: শনিবারের নিমন্ত্রনে আসবেন\n",
            "================================\n",
            "\n",
            "input : অনেরা বিয়াকে আইবান\n",
            "Ground Truth : আপনারা সবাই আসবেন\n",
            "prediction: আপনারা সবাই আসবেন\n",
            "================================\n",
            "\n",
            "input : বেয়াকে যর দে কন্ডে\n",
            "Ground Truth : সবাই কই যাচ্ছেন\n",
            "prediction: সবাই কই যাচ্ছেন\n",
            "================================\n",
            "\n",
            "input : বিয়ালর মিটিঅত আইবান\n",
            "Ground Truth : বিকালের মিটিং এ আসবেন\n",
            "prediction: বিকালের মিটিং এ আসবেন\n",
            "================================\n",
            "\n"
          ]
        }
      ]
    },
    {
      "cell_type": "markdown",
      "source": [
        "## 15. Save the Inference Result into CSV File"
      ],
      "metadata": {
        "id": "uwS86o8ZSg4K"
      },
      "id": "uwS86o8ZSg4K"
    },
    {
      "cell_type": "code",
      "source": [
        "import pandas as pd\n",
        "\n",
        "# Create a list of dictionaries containing the data\n",
        "data_list = []\n",
        "for i in range(1000):\n",
        "    input_text = data[i][0]  # Input Bangla text\n",
        "    ground_truth = data[i][1]  # Ground truth Standard Bangla text\n",
        "    prediction = translate(model, input_text, full_chattogram_vocab, full_bangla_vocab, chattogram_tokenizer)  # Translate input to Standard Bangla\n",
        "\n",
        "    data_list.append({\n",
        "        'Input Text': input_text,\n",
        "        'Ground Truth': ground_truth,\n",
        "        'Prediction': prediction\n",
        "    })\n",
        "\n",
        "# Create a DataFrame from the list of dictionaries\n",
        "df = pd.DataFrame(data_list)\n",
        "\n",
        "# Save DataFrame to a CSV file\n",
        "csv_file_path='/content/drive/MyDrive/Chattogram_language/logs/predictions.csv'\n",
        "df.to_csv(csv_file_path, index=False)\n",
        "\n",
        "print(\"CSV file saved successfully.\")\n"
      ],
      "metadata": {
        "colab": {
          "base_uri": "https://localhost:8080/"
        },
        "id": "bmRxpZPhU60P",
        "outputId": "7df6d08f-e957-4aac-a6ea-2206e8831dba"
      },
      "id": "bmRxpZPhU60P",
      "execution_count": 74,
      "outputs": [
        {
          "output_type": "stream",
          "name": "stdout",
          "text": [
            "CSV file saved successfully.\n"
          ]
        }
      ]
    },
    {
      "cell_type": "code",
      "source": [
        "for i in data[:20]:\n",
        "    # text = \"বালা অতে টিয়া ন লাগে\"\n",
        "    pre = translate(model, i[0],full_chattogram_vocab, full_bangla_vocab, chattogram_tokenizer)\n",
        "    print(f\"input : {i[0]}\")\n",
        "    print(f\"Ground Truth : {i[1]}\")\n",
        "    print(f\"prediction: {pre}\")\n",
        "    print(\"================================\\n\")"
      ],
      "metadata": {
        "id": "iYnF2pC8e76-",
        "colab": {
          "base_uri": "https://localhost:8080/"
        },
        "outputId": "7eb3bca0-2d16-491b-ed52-2a8c79ee7712"
      },
      "id": "iYnF2pC8e76-",
      "execution_count": 75,
      "outputs": [
        {
          "output_type": "stream",
          "name": "stdout",
          "text": [
            "input : অনেরা কডে\n",
            "Ground Truth : আপনারা কোথায়\n",
            "prediction: আপনারা কোথায়\n",
            "================================\n",
            "\n",
            "input : অলপল গরি এইজ্জু\n",
            "Ground Truth : আগোছালো করে রাখসো\n",
            "prediction: আগোছালো করে রাখসো\n",
            "================================\n",
            "\n",
            "input : ফ্ইর বানাইবা ফানলার\n",
            "Ground Truth : ভিক্ষুক বানাবা মনেহয়\n",
            "prediction: ভিক্ষুক বানাবা মনেহয়\n",
            "================================\n",
            "\n",
            "input : আজিয়া বিইয়্যা\n",
            "Ground Truth : আজকে বিয়ে\n",
            "prediction: আজকে বিয়ে\n",
            "================================\n",
            "\n",
            "input : কালিয়া মেজ্জান\n",
            "Ground Truth : কালকে মেজবান\n",
            "prediction: কালকে মেজবান\n",
            "================================\n",
            "\n",
            "input : যন নাই\n",
            "Ground Truth : যেতে নাই\n",
            "prediction: যেতে নাই\n",
            "================================\n",
            "\n",
            "input : গত খাইল\n",
            "Ground Truth : গত কালকে\n",
            "prediction: গত কালকে\n",
            "================================\n",
            "\n",
            "input : ইতারে ধর\n",
            "Ground Truth : তাকে ধরো\n",
            "prediction: তাকে ধরো\n",
            "================================\n",
            "\n",
            "input : অনেরে তোয়ারদে\n",
            "Ground Truth : আপনাকে খুঁজতেসে\n",
            "prediction: আপনাকে খুঁজতেসে\n",
            "================================\n",
            "\n",
            "input : আ্যাই কিত্তাম\n",
            "Ground Truth : আমি কী করবো\n",
            "prediction: আমি কী করবো\n",
            "================================\n",
            "\n",
            "input : তুউই এন্ডে দে\n",
            "Ground Truth : তুমি এখানে যে\n",
            "prediction: তুমি এখানে যে\n",
            "================================\n",
            "\n",
            "input : গোসসা গরি ফারিবানা\n",
            "Ground Truth : রাগ করে পারবেন কী\n",
            "prediction: রাগ করে পারবেন কী\n",
            "================================\n",
            "\n",
            "input : ঐইন্না ন খাইয়ুম\n",
            "Ground Truth : এখন খাবো না\n",
            "prediction: এখন খাবো না\n",
            "================================\n",
            "\n",
            "input : আ্যাই ন ডরাই\n",
            "Ground Truth : আমি ভয় পাই না\n",
            "prediction: আমি ভয় পাই না\n",
            "================================\n",
            "\n",
            "input : ডরার দে আরে\n",
            "Ground Truth : ভয় দেখাচ্ছো আমায়\n",
            "prediction: ভয় দেখাচ্ছো আমায়\n",
            "================================\n",
            "\n",
            "input : উযু আই য না\n",
            "Ground Truth : সোজা হয়ে যান না\n",
            "prediction: সোজা হয়ে যান না\n",
            "================================\n",
            "\n",
            "input : শনিবারের দ’ত অত আইস্সুন\n",
            "Ground Truth : শনিবারের নিমন্ত্রনে আসবেন\n",
            "prediction: শনিবারের নিমন্ত্রনে আসবেন\n",
            "================================\n",
            "\n",
            "input : অনেরা বিয়াকে আইবান\n",
            "Ground Truth : আপনারা সবাই আসবেন\n",
            "prediction: আপনারা সবাই আসবেন\n",
            "================================\n",
            "\n",
            "input : বেয়াকে যর দে কন্ডে\n",
            "Ground Truth : সবাই কই যাচ্ছেন\n",
            "prediction: সবাই কই যাচ্ছেন\n",
            "================================\n",
            "\n",
            "input : বিয়ালর মিটিঅত আইবান\n",
            "Ground Truth : বিকালের মিটিং এ আসবেন\n",
            "prediction: বিকালের মিটিং এ আসবেন\n",
            "================================\n",
            "\n"
          ]
        }
      ]
    },
    {
      "cell_type": "markdown",
      "source": [
        "## 16. Calculate Model Performance"
      ],
      "metadata": {
        "id": "bY8u_Jc_SuGJ"
      },
      "id": "bY8u_Jc_SuGJ"
    },
    {
      "cell_type": "code",
      "source": [
        "def calculate_accuracy(model, data, full_chattogram_vocab, full_bangla_vocab, chattogram_tokenizer):\n",
        "    total = 0\n",
        "    correct = 0\n",
        "\n",
        "    for i in data:\n",
        "        input_text = i[0]  # Input Bangla text\n",
        "        ground_truth = i[1]  # Ground truth Standard Bangla text\n",
        "        prediction = translate(model, i[0], full_chattogram_vocab, full_bangla_vocab, chattogram_tokenizer)  # Translate input to Standard Bangla\n",
        "\n",
        "        # Check if prediction matches ground truth\n",
        "        if prediction.strip() == ground_truth.strip():\n",
        "            correct += 1\n",
        "        total += 1\n",
        "\n",
        "    accuracy = correct / total\n",
        "    return accuracy\n"
      ],
      "metadata": {
        "id": "gjgqRRt1d9VD"
      },
      "id": "gjgqRRt1d9VD",
      "execution_count": 76,
      "outputs": []
    },
    {
      "cell_type": "code",
      "source": [
        "# Calculate accuracy of full dataset\n",
        "accuracy = calculate_accuracy(model, data, full_chattogram_vocab, full_bangla_vocab, chattogram_tokenizer)\n",
        "print(\"accuracy:\", accuracy)"
      ],
      "metadata": {
        "colab": {
          "base_uri": "https://localhost:8080/"
        },
        "id": "1zmXqn1oeJHb",
        "outputId": "aff64bae-6971-4e70-f8ce-2a431dc814dc"
      },
      "id": "1zmXqn1oeJHb",
      "execution_count": 77,
      "outputs": [
        {
          "output_type": "stream",
          "name": "stdout",
          "text": [
            "accuracy: 0.556\n"
          ]
        }
      ]
    },
    {
      "cell_type": "code",
      "source": [
        "# Calculate accuracy of full dataset\n",
        "train_accuracy = calculate_accuracy(model, data[:800], full_chattogram_vocab, full_bangla_vocab, chattogram_tokenizer)\n",
        "print(\"train accuracy:\", train_accuracy)"
      ],
      "metadata": {
        "colab": {
          "base_uri": "https://localhost:8080/"
        },
        "id": "89t0o6Z4fsAO",
        "outputId": "d535b43e-f727-4bcb-b14a-2daf68c4d9ee"
      },
      "id": "89t0o6Z4fsAO",
      "execution_count": 78,
      "outputs": [
        {
          "output_type": "stream",
          "name": "stdout",
          "text": [
            "train accuracy: 0.69\n"
          ]
        }
      ]
    },
    {
      "cell_type": "code",
      "source": [
        "# Calculate accuracy of full dataset\n",
        "val_accuracy = calculate_accuracy(model, data[800:], full_chattogram_vocab, full_bangla_vocab, chattogram_tokenizer)\n",
        "print(\"val accuracy:\", val_accuracy)"
      ],
      "metadata": {
        "colab": {
          "base_uri": "https://localhost:8080/"
        },
        "id": "2TB23nmLf0OY",
        "outputId": "a01093d0-8ad9-4d5b-e05e-192207cc8759"
      },
      "id": "2TB23nmLf0OY",
      "execution_count": 79,
      "outputs": [
        {
          "output_type": "stream",
          "name": "stdout",
          "text": [
            "val accuracy: 0.02\n"
          ]
        }
      ]
    },
    {
      "cell_type": "code",
      "execution_count": null,
      "id": "ed68c264",
      "metadata": {
        "id": "ed68c264"
      },
      "outputs": [],
      "source": []
    }
  ],
  "metadata": {
    "kernelspec": {
      "display_name": "Python 3",
      "name": "python3"
    },
    "language_info": {
      "codemirror_mode": {
        "name": "ipython",
        "version": 3
      },
      "file_extension": ".py",
      "mimetype": "text/x-python",
      "name": "python",
      "nbconvert_exporter": "python",
      "pygments_lexer": "ipython3",
      "version": "3.8.13"
    },
    "vscode": {
      "interpreter": {
        "hash": "916dbcbb3f70747c44a77c7bcd40155683ae19c65e1c03b4aa3499c5328201f1"
      }
    },
    "colab": {
      "provenance": [],
      "gpuType": "T4"
    },
    "accelerator": "GPU"
  },
  "nbformat": 4,
  "nbformat_minor": 5
}