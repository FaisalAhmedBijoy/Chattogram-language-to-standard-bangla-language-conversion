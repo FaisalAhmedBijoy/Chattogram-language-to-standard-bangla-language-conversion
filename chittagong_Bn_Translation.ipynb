{
  "cells": [
    {
      "cell_type": "markdown",
      "metadata": {
        "id": "view-in-github",
        "colab_type": "text"
      },
      "source": [
        "<a href=\"https://colab.research.google.com/github/FaisalAhmedBijoy/Chattogram-language-to-standard-bangla-language-conversion/blob/master/chittagong_Bn_Translation.ipynb\" target=\"_parent\"><img src=\"https://colab.research.google.com/assets/colab-badge.svg\" alt=\"Open In Colab\"/></a>"
      ]
    },
    {
      "cell_type": "markdown",
      "source": [
        "## 1. Import Libraries"
      ],
      "metadata": {
        "id": "qjXsmyPcJnZt"
      },
      "id": "qjXsmyPcJnZt"
    },
    {
      "cell_type": "code",
      "execution_count": 1,
      "id": "ad758c64",
      "metadata": {
        "id": "ad758c64"
      },
      "outputs": [],
      "source": [
        "import math\n",
        "import torchtext\n",
        "import torch\n",
        "import torch.nn as nn\n",
        "from torch import Tensor\n",
        "from collections import Counter\n",
        "from torchtext.vocab import Vocab\n",
        "from torch.utils.data import DataLoader\n",
        "from torch.nn.utils.rnn import pad_sequence\n",
        "\n",
        "import io\n",
        "import time\n",
        "import pickle\n",
        "import numpy as np\n",
        "import pandas as pd\n",
        "import sentencepiece as spm\n",
        "\n",
        "from torch.nn import TransformerEncoder, TransformerDecoder, TransformerEncoderLayer, TransformerDecoderLayer\n",
        "torch.manual_seed(0)\n",
        "device = torch.device('cuda' if torch.cuda.is_available() else 'cpu')"
      ]
    },
    {
      "cell_type": "code",
      "source": [
        "print('device: ',device)"
      ],
      "metadata": {
        "colab": {
          "base_uri": "https://localhost:8080/"
        },
        "id": "o735S2fNZpbS",
        "outputId": "d50627b2-6749-4a9a-a703-7362a8a30048"
      },
      "id": "o735S2fNZpbS",
      "execution_count": 2,
      "outputs": [
        {
          "output_type": "stream",
          "name": "stdout",
          "text": [
            "device:  cuda\n"
          ]
        }
      ]
    },
    {
      "cell_type": "markdown",
      "source": [
        "## 2. Access Google Drive"
      ],
      "metadata": {
        "id": "buP6RIxTmJXc"
      },
      "id": "buP6RIxTmJXc"
    },
    {
      "cell_type": "code",
      "source": [
        "from google.colab import drive\n",
        "drive.mount('/content/drive')"
      ],
      "metadata": {
        "colab": {
          "base_uri": "https://localhost:8080/"
        },
        "id": "QwYe2-6IuCmO",
        "outputId": "97f554d3-4407-4f72-a967-039d7d30ee1c"
      },
      "id": "QwYe2-6IuCmO",
      "execution_count": 3,
      "outputs": [
        {
          "output_type": "stream",
          "name": "stdout",
          "text": [
            "Mounted at /content/drive\n"
          ]
        }
      ]
    },
    {
      "cell_type": "code",
      "source": [],
      "metadata": {
        "id": "SsvDJvwdupNt"
      },
      "id": "SsvDJvwdupNt",
      "execution_count": 3,
      "outputs": []
    },
    {
      "cell_type": "markdown",
      "source": [
        "## 3. Analysis the Dataset"
      ],
      "metadata": {
        "id": "dNyjyE-fCLYU"
      },
      "id": "dNyjyE-fCLYU"
    },
    {
      "cell_type": "code",
      "source": [],
      "metadata": {
        "id": "D9CxIpUBvvv7"
      },
      "id": "D9CxIpUBvvv7",
      "execution_count": 3,
      "outputs": []
    },
    {
      "cell_type": "code",
      "source": [
        "dataset_path='/content/drive/MyDrive/chittagong_language/data/chittagong_en_bn.csv'\n",
        "df=pd.read_csv(dataset_path)\n",
        "df.head()"
      ],
      "metadata": {
        "colab": {
          "base_uri": "https://localhost:8080/",
          "height": 223
        },
        "id": "FqsVMH-dvy0z",
        "outputId": "fee60cbb-1a03-4c1e-a978-9748b7bba0b8"
      },
      "id": "FqsVMH-dvy0z",
      "execution_count": 4,
      "outputs": [
        {
          "output_type": "execute_result",
          "data": {
            "text/plain": [
              "  Original Chattogram Sentense Original Chattogram language English  \\\n",
              "0                        অনেরা                                onera   \n",
              "1                         অলপল                                olpol   \n",
              "2                         ফ্ইর                                 foir   \n",
              "3                        আজিয়া                                ajiya   \n",
              "4                       কালিয়া                               kaliya   \n",
              "\n",
              "  bangali sentence  English Sentense English Maning Sentense  \n",
              "0            আপনারা           APNARA                     YOU  \n",
              "1           আগোছালো          AGOSALO                 TIDY UP  \n",
              "2           ভিক্ষুক           BIKKUK                  CADGER  \n",
              "3              আজকে             AJKE                   TODAY  \n",
              "4             কালকে            KALKE                TOMORROW  "
            ],
            "text/html": [
              "\n",
              "  <div id=\"df-e4dfe091-d22e-41c3-a49f-7179103d62c9\" class=\"colab-df-container\">\n",
              "    <div>\n",
              "<style scoped>\n",
              "    .dataframe tbody tr th:only-of-type {\n",
              "        vertical-align: middle;\n",
              "    }\n",
              "\n",
              "    .dataframe tbody tr th {\n",
              "        vertical-align: top;\n",
              "    }\n",
              "\n",
              "    .dataframe thead th {\n",
              "        text-align: right;\n",
              "    }\n",
              "</style>\n",
              "<table border=\"1\" class=\"dataframe\">\n",
              "  <thead>\n",
              "    <tr style=\"text-align: right;\">\n",
              "      <th></th>\n",
              "      <th>Original Chattogram Sentense</th>\n",
              "      <th>Original Chattogram language English</th>\n",
              "      <th>bangali sentence</th>\n",
              "      <th>English Sentense</th>\n",
              "      <th>English Maning Sentense</th>\n",
              "    </tr>\n",
              "  </thead>\n",
              "  <tbody>\n",
              "    <tr>\n",
              "      <th>0</th>\n",
              "      <td>অনেরা</td>\n",
              "      <td>onera</td>\n",
              "      <td>আপনারা</td>\n",
              "      <td>APNARA</td>\n",
              "      <td>YOU</td>\n",
              "    </tr>\n",
              "    <tr>\n",
              "      <th>1</th>\n",
              "      <td>অলপল</td>\n",
              "      <td>olpol</td>\n",
              "      <td>আগোছালো</td>\n",
              "      <td>AGOSALO</td>\n",
              "      <td>TIDY UP</td>\n",
              "    </tr>\n",
              "    <tr>\n",
              "      <th>2</th>\n",
              "      <td>ফ্ইর</td>\n",
              "      <td>foir</td>\n",
              "      <td>ভিক্ষুক</td>\n",
              "      <td>BIKKUK</td>\n",
              "      <td>CADGER</td>\n",
              "    </tr>\n",
              "    <tr>\n",
              "      <th>3</th>\n",
              "      <td>আজিয়া</td>\n",
              "      <td>ajiya</td>\n",
              "      <td>আজকে</td>\n",
              "      <td>AJKE</td>\n",
              "      <td>TODAY</td>\n",
              "    </tr>\n",
              "    <tr>\n",
              "      <th>4</th>\n",
              "      <td>কালিয়া</td>\n",
              "      <td>kaliya</td>\n",
              "      <td>কালকে</td>\n",
              "      <td>KALKE</td>\n",
              "      <td>TOMORROW</td>\n",
              "    </tr>\n",
              "  </tbody>\n",
              "</table>\n",
              "</div>\n",
              "    <div class=\"colab-df-buttons\">\n",
              "\n",
              "  <div class=\"colab-df-container\">\n",
              "    <button class=\"colab-df-convert\" onclick=\"convertToInteractive('df-e4dfe091-d22e-41c3-a49f-7179103d62c9')\"\n",
              "            title=\"Convert this dataframe to an interactive table.\"\n",
              "            style=\"display:none;\">\n",
              "\n",
              "  <svg xmlns=\"http://www.w3.org/2000/svg\" height=\"24px\" viewBox=\"0 -960 960 960\">\n",
              "    <path d=\"M120-120v-720h720v720H120Zm60-500h600v-160H180v160Zm220 220h160v-160H400v160Zm0 220h160v-160H400v160ZM180-400h160v-160H180v160Zm440 0h160v-160H620v160ZM180-180h160v-160H180v160Zm440 0h160v-160H620v160Z\"/>\n",
              "  </svg>\n",
              "    </button>\n",
              "\n",
              "  <style>\n",
              "    .colab-df-container {\n",
              "      display:flex;\n",
              "      gap: 12px;\n",
              "    }\n",
              "\n",
              "    .colab-df-convert {\n",
              "      background-color: #E8F0FE;\n",
              "      border: none;\n",
              "      border-radius: 50%;\n",
              "      cursor: pointer;\n",
              "      display: none;\n",
              "      fill: #1967D2;\n",
              "      height: 32px;\n",
              "      padding: 0 0 0 0;\n",
              "      width: 32px;\n",
              "    }\n",
              "\n",
              "    .colab-df-convert:hover {\n",
              "      background-color: #E2EBFA;\n",
              "      box-shadow: 0px 1px 2px rgba(60, 64, 67, 0.3), 0px 1px 3px 1px rgba(60, 64, 67, 0.15);\n",
              "      fill: #174EA6;\n",
              "    }\n",
              "\n",
              "    .colab-df-buttons div {\n",
              "      margin-bottom: 4px;\n",
              "    }\n",
              "\n",
              "    [theme=dark] .colab-df-convert {\n",
              "      background-color: #3B4455;\n",
              "      fill: #D2E3FC;\n",
              "    }\n",
              "\n",
              "    [theme=dark] .colab-df-convert:hover {\n",
              "      background-color: #434B5C;\n",
              "      box-shadow: 0px 1px 3px 1px rgba(0, 0, 0, 0.15);\n",
              "      filter: drop-shadow(0px 1px 2px rgba(0, 0, 0, 0.3));\n",
              "      fill: #FFFFFF;\n",
              "    }\n",
              "  </style>\n",
              "\n",
              "    <script>\n",
              "      const buttonEl =\n",
              "        document.querySelector('#df-e4dfe091-d22e-41c3-a49f-7179103d62c9 button.colab-df-convert');\n",
              "      buttonEl.style.display =\n",
              "        google.colab.kernel.accessAllowed ? 'block' : 'none';\n",
              "\n",
              "      async function convertToInteractive(key) {\n",
              "        const element = document.querySelector('#df-e4dfe091-d22e-41c3-a49f-7179103d62c9');\n",
              "        const dataTable =\n",
              "          await google.colab.kernel.invokeFunction('convertToInteractive',\n",
              "                                                    [key], {});\n",
              "        if (!dataTable) return;\n",
              "\n",
              "        const docLinkHtml = 'Like what you see? Visit the ' +\n",
              "          '<a target=\"_blank\" href=https://colab.research.google.com/notebooks/data_table.ipynb>data table notebook</a>'\n",
              "          + ' to learn more about interactive tables.';\n",
              "        element.innerHTML = '';\n",
              "        dataTable['output_type'] = 'display_data';\n",
              "        await google.colab.output.renderOutput(dataTable, element);\n",
              "        const docLink = document.createElement('div');\n",
              "        docLink.innerHTML = docLinkHtml;\n",
              "        element.appendChild(docLink);\n",
              "      }\n",
              "    </script>\n",
              "  </div>\n",
              "\n",
              "\n",
              "<div id=\"df-254022df-1042-4468-a2e2-29c8f64f6277\">\n",
              "  <button class=\"colab-df-quickchart\" onclick=\"quickchart('df-254022df-1042-4468-a2e2-29c8f64f6277')\"\n",
              "            title=\"Suggest charts\"\n",
              "            style=\"display:none;\">\n",
              "\n",
              "<svg xmlns=\"http://www.w3.org/2000/svg\" height=\"24px\"viewBox=\"0 0 24 24\"\n",
              "     width=\"24px\">\n",
              "    <g>\n",
              "        <path d=\"M19 3H5c-1.1 0-2 .9-2 2v14c0 1.1.9 2 2 2h14c1.1 0 2-.9 2-2V5c0-1.1-.9-2-2-2zM9 17H7v-7h2v7zm4 0h-2V7h2v10zm4 0h-2v-4h2v4z\"/>\n",
              "    </g>\n",
              "</svg>\n",
              "  </button>\n",
              "\n",
              "<style>\n",
              "  .colab-df-quickchart {\n",
              "      --bg-color: #E8F0FE;\n",
              "      --fill-color: #1967D2;\n",
              "      --hover-bg-color: #E2EBFA;\n",
              "      --hover-fill-color: #174EA6;\n",
              "      --disabled-fill-color: #AAA;\n",
              "      --disabled-bg-color: #DDD;\n",
              "  }\n",
              "\n",
              "  [theme=dark] .colab-df-quickchart {\n",
              "      --bg-color: #3B4455;\n",
              "      --fill-color: #D2E3FC;\n",
              "      --hover-bg-color: #434B5C;\n",
              "      --hover-fill-color: #FFFFFF;\n",
              "      --disabled-bg-color: #3B4455;\n",
              "      --disabled-fill-color: #666;\n",
              "  }\n",
              "\n",
              "  .colab-df-quickchart {\n",
              "    background-color: var(--bg-color);\n",
              "    border: none;\n",
              "    border-radius: 50%;\n",
              "    cursor: pointer;\n",
              "    display: none;\n",
              "    fill: var(--fill-color);\n",
              "    height: 32px;\n",
              "    padding: 0;\n",
              "    width: 32px;\n",
              "  }\n",
              "\n",
              "  .colab-df-quickchart:hover {\n",
              "    background-color: var(--hover-bg-color);\n",
              "    box-shadow: 0 1px 2px rgba(60, 64, 67, 0.3), 0 1px 3px 1px rgba(60, 64, 67, 0.15);\n",
              "    fill: var(--button-hover-fill-color);\n",
              "  }\n",
              "\n",
              "  .colab-df-quickchart-complete:disabled,\n",
              "  .colab-df-quickchart-complete:disabled:hover {\n",
              "    background-color: var(--disabled-bg-color);\n",
              "    fill: var(--disabled-fill-color);\n",
              "    box-shadow: none;\n",
              "  }\n",
              "\n",
              "  .colab-df-spinner {\n",
              "    border: 2px solid var(--fill-color);\n",
              "    border-color: transparent;\n",
              "    border-bottom-color: var(--fill-color);\n",
              "    animation:\n",
              "      spin 1s steps(1) infinite;\n",
              "  }\n",
              "\n",
              "  @keyframes spin {\n",
              "    0% {\n",
              "      border-color: transparent;\n",
              "      border-bottom-color: var(--fill-color);\n",
              "      border-left-color: var(--fill-color);\n",
              "    }\n",
              "    20% {\n",
              "      border-color: transparent;\n",
              "      border-left-color: var(--fill-color);\n",
              "      border-top-color: var(--fill-color);\n",
              "    }\n",
              "    30% {\n",
              "      border-color: transparent;\n",
              "      border-left-color: var(--fill-color);\n",
              "      border-top-color: var(--fill-color);\n",
              "      border-right-color: var(--fill-color);\n",
              "    }\n",
              "    40% {\n",
              "      border-color: transparent;\n",
              "      border-right-color: var(--fill-color);\n",
              "      border-top-color: var(--fill-color);\n",
              "    }\n",
              "    60% {\n",
              "      border-color: transparent;\n",
              "      border-right-color: var(--fill-color);\n",
              "    }\n",
              "    80% {\n",
              "      border-color: transparent;\n",
              "      border-right-color: var(--fill-color);\n",
              "      border-bottom-color: var(--fill-color);\n",
              "    }\n",
              "    90% {\n",
              "      border-color: transparent;\n",
              "      border-bottom-color: var(--fill-color);\n",
              "    }\n",
              "  }\n",
              "</style>\n",
              "\n",
              "  <script>\n",
              "    async function quickchart(key) {\n",
              "      const quickchartButtonEl =\n",
              "        document.querySelector('#' + key + ' button');\n",
              "      quickchartButtonEl.disabled = true;  // To prevent multiple clicks.\n",
              "      quickchartButtonEl.classList.add('colab-df-spinner');\n",
              "      try {\n",
              "        const charts = await google.colab.kernel.invokeFunction(\n",
              "            'suggestCharts', [key], {});\n",
              "      } catch (error) {\n",
              "        console.error('Error during call to suggestCharts:', error);\n",
              "      }\n",
              "      quickchartButtonEl.classList.remove('colab-df-spinner');\n",
              "      quickchartButtonEl.classList.add('colab-df-quickchart-complete');\n",
              "    }\n",
              "    (() => {\n",
              "      let quickchartButtonEl =\n",
              "        document.querySelector('#df-254022df-1042-4468-a2e2-29c8f64f6277 button');\n",
              "      quickchartButtonEl.style.display =\n",
              "        google.colab.kernel.accessAllowed ? 'block' : 'none';\n",
              "    })();\n",
              "  </script>\n",
              "</div>\n",
              "\n",
              "    </div>\n",
              "  </div>\n"
            ],
            "application/vnd.google.colaboratory.intrinsic+json": {
              "type": "dataframe",
              "variable_name": "df",
              "summary": "{\n  \"name\": \"df\",\n  \"rows\": 1080,\n  \"fields\": [\n    {\n      \"column\": \"Original Chattogram Sentense\",\n      \"properties\": {\n        \"dtype\": \"string\",\n        \"num_unique_values\": 1068,\n        \"samples\": [\n          \"\\u09ae\\u09a8\\u09c7 \\u0997\\u09b0\\u09a8 \",\n          \"\\u09b9\\u09c7\\u09a1\\u09be\\u09ae \\u099b\\u09be\\u099b\\u09be \\u0997\\u0989\\u09b0\",\n          \"\\u0987\\u09ac\\u09c7\\u09b0 \\u0986\\u0997\\u09b0 \\u09a8\\u09be\\u09ae \\u0986\\u099b\\u09bf\\u09b2 \\u0987\\u09b8\\u09b2\\u09be\\u09ae\\u09be\\u09ac\\u09be\\u09a6, \\u09aa\\u09cd\\u09b0\\u09cb\\u099f\\u09cd\\u09b0\\u09be\\u0997\\u09cd\\u09b0\\u09be\\u09a8\\u09cd\\u09a1\\u0964 \"\n        ],\n        \"semantic_type\": \"\",\n        \"description\": \"\"\n      }\n    },\n    {\n      \"column\": \"Original Chattogram language English\",\n      \"properties\": {\n        \"dtype\": \"category\",\n        \"num_unique_values\": 109,\n        \"samples\": [\n          \"sore sore bhut ditu jaiu gui\",\n          \"tui\",\n          \"kaliya\"\n        ],\n        \"semantic_type\": \"\",\n        \"description\": \"\"\n      }\n    },\n    {\n      \"column\": \"bangali sentence \",\n      \"properties\": {\n        \"dtype\": \"string\",\n        \"num_unique_values\": 855,\n        \"samples\": [\n          \"\\u09a4\\u09c7\\u09ae\\u09b0\\u09be \\u0997\\u09c7\\u099c\\u09c7 \\u0997\\u09c1\\u099c\\u09c7\\u0981 \\u0995\\u09cb\\u09cd\\u09a5\\u09be\\u09df \\u09af\\u09be\\u099a\\u09cd\\u099b\\u09c7?\",\n          \"\\u0986\\u09ae\\u09be\\u09a6\\u09c7\\u09b0\\u0995\\u09c7 \\u09ae\\u09be\\u09b0\\u09bf\\u0993\\u09a8\\u09be\\u0964\",\n          \"\\u09aa\\u09bf\\u09a1\\u09be\\u0987\\u09b2\\u09c7 \\u09b8\\u09ac \\u09b6\\u09df\\u09a4\\u09be\\u09a8\\u09c0 \\u09ac\\u09c7\\u09b0 \\u09b9\\u0987 \\u09af\\u09be\\u09ac\\u09c7\"\n        ],\n        \"semantic_type\": \"\",\n        \"description\": \"\"\n      }\n    },\n    {\n      \"column\": \"English Sentense\",\n      \"properties\": {\n        \"dtype\": \"category\",\n        \"num_unique_values\": 38,\n        \"samples\": [\n          \"DUI SOTO TAKA DIYA AYTA KINCHI\",\n          \"aydike takan\",\n          \"KALKE\"\n        ],\n        \"semantic_type\": \"\",\n        \"description\": \"\"\n      }\n    },\n    {\n      \"column\": \"English Maning Sentense\",\n      \"properties\": {\n        \"dtype\": \"category\",\n        \"num_unique_values\": 36,\n        \"samples\": [\n          \"your name have in the poster.\",\n          \"STRAIGHT\",\n          \"HAVE ANY MONEY?\"\n        ],\n        \"semantic_type\": \"\",\n        \"description\": \"\"\n      }\n    }\n  ]\n}"
            }
          },
          "metadata": {},
          "execution_count": 4
        }
      ]
    },
    {
      "cell_type": "code",
      "source": [
        "df.info()"
      ],
      "metadata": {
        "colab": {
          "base_uri": "https://localhost:8080/"
        },
        "id": "JMVfTCAOmw9k",
        "outputId": "61affd7f-e2b1-4369-ee10-a83a8d4c799e"
      },
      "id": "JMVfTCAOmw9k",
      "execution_count": 5,
      "outputs": [
        {
          "output_type": "stream",
          "name": "stdout",
          "text": [
            "<class 'pandas.core.frame.DataFrame'>\n",
            "RangeIndex: 1080 entries, 0 to 1079\n",
            "Data columns (total 5 columns):\n",
            " #   Column                                Non-Null Count  Dtype \n",
            "---  ------                                --------------  ----- \n",
            " 0   Original Chattogram Sentense          1079 non-null   object\n",
            " 1   Original Chattogram language English  109 non-null    object\n",
            " 2   bangali sentence                      873 non-null    object\n",
            " 3   English Sentense                      39 non-null     object\n",
            " 4   English Maning Sentense               39 non-null     object\n",
            "dtypes: object(5)\n",
            "memory usage: 42.3+ KB\n"
          ]
        }
      ]
    },
    {
      "cell_type": "markdown",
      "source": [
        "### Check unique values in dataframe"
      ],
      "metadata": {
        "id": "qK4RdKxqnjwc"
      },
      "id": "qK4RdKxqnjwc"
    },
    {
      "cell_type": "code",
      "source": [
        "def report_data_types_uniques_check(df):\n",
        "    col = []\n",
        "    d_type = []\n",
        "    uniques = []\n",
        "    n_uniques = []\n",
        "\n",
        "    for i in df.columns:\n",
        "        col.append(i)\n",
        "        d_type.append(df[i].dtypes)\n",
        "        uniques.append(df[i].unique()[:5])\n",
        "        n_uniques.append(df[i].nunique())\n",
        "\n",
        "    return pd.DataFrame({'Column': col, 'd_type': d_type, 'unique_sample': uniques, 'n_uniques': n_uniques})"
      ],
      "metadata": {
        "id": "mqRtGJ2tm7z3"
      },
      "id": "mqRtGJ2tm7z3",
      "execution_count": 6,
      "outputs": []
    },
    {
      "cell_type": "code",
      "source": [
        "report_data_types_uniques_check(df)"
      ],
      "metadata": {
        "colab": {
          "base_uri": "https://localhost:8080/",
          "height": 206
        },
        "id": "zf2mchi3m-wY",
        "outputId": "94ce9a36-9805-44dd-ec71-6ef705439d56"
      },
      "id": "zf2mchi3m-wY",
      "execution_count": 7,
      "outputs": [
        {
          "output_type": "execute_result",
          "data": {
            "text/plain": [
              "                                 Column  d_type  \\\n",
              "0          Original Chattogram Sentense  object   \n",
              "1  Original Chattogram language English  object   \n",
              "2                     bangali sentence   object   \n",
              "3                      English Sentense  object   \n",
              "4               English Maning Sentense  object   \n",
              "\n",
              "                             unique_sample  n_uniques  \n",
              "0       [অনেরা, অলপল, ফ্ইর, আজিয়া, কালিয়া]       1068  \n",
              "1      [onera, olpol, foir, ajiya, kaliya]        109  \n",
              "2  [আপনারা, আগোছালো, ভিক্ষুক, আজকে, কালকে]        855  \n",
              "3   [APNARA, AGOSALO, BIKKUK, AJKE, KALKE]         38  \n",
              "4  [YOU, TIDY UP, CADGER, TODAY, TOMORROW]         36  "
            ],
            "text/html": [
              "\n",
              "  <div id=\"df-170236cf-198f-44bd-95c0-5e53f05ecda0\" class=\"colab-df-container\">\n",
              "    <div>\n",
              "<style scoped>\n",
              "    .dataframe tbody tr th:only-of-type {\n",
              "        vertical-align: middle;\n",
              "    }\n",
              "\n",
              "    .dataframe tbody tr th {\n",
              "        vertical-align: top;\n",
              "    }\n",
              "\n",
              "    .dataframe thead th {\n",
              "        text-align: right;\n",
              "    }\n",
              "</style>\n",
              "<table border=\"1\" class=\"dataframe\">\n",
              "  <thead>\n",
              "    <tr style=\"text-align: right;\">\n",
              "      <th></th>\n",
              "      <th>Column</th>\n",
              "      <th>d_type</th>\n",
              "      <th>unique_sample</th>\n",
              "      <th>n_uniques</th>\n",
              "    </tr>\n",
              "  </thead>\n",
              "  <tbody>\n",
              "    <tr>\n",
              "      <th>0</th>\n",
              "      <td>Original Chattogram Sentense</td>\n",
              "      <td>object</td>\n",
              "      <td>[অনেরা, অলপল, ফ্ইর, আজিয়া, কালিয়া]</td>\n",
              "      <td>1068</td>\n",
              "    </tr>\n",
              "    <tr>\n",
              "      <th>1</th>\n",
              "      <td>Original Chattogram language English</td>\n",
              "      <td>object</td>\n",
              "      <td>[onera, olpol, foir, ajiya, kaliya]</td>\n",
              "      <td>109</td>\n",
              "    </tr>\n",
              "    <tr>\n",
              "      <th>2</th>\n",
              "      <td>bangali sentence</td>\n",
              "      <td>object</td>\n",
              "      <td>[আপনারা, আগোছালো, ভিক্ষুক, আজকে, কালকে]</td>\n",
              "      <td>855</td>\n",
              "    </tr>\n",
              "    <tr>\n",
              "      <th>3</th>\n",
              "      <td>English Sentense</td>\n",
              "      <td>object</td>\n",
              "      <td>[APNARA, AGOSALO, BIKKUK, AJKE, KALKE]</td>\n",
              "      <td>38</td>\n",
              "    </tr>\n",
              "    <tr>\n",
              "      <th>4</th>\n",
              "      <td>English Maning Sentense</td>\n",
              "      <td>object</td>\n",
              "      <td>[YOU, TIDY UP, CADGER, TODAY, TOMORROW]</td>\n",
              "      <td>36</td>\n",
              "    </tr>\n",
              "  </tbody>\n",
              "</table>\n",
              "</div>\n",
              "    <div class=\"colab-df-buttons\">\n",
              "\n",
              "  <div class=\"colab-df-container\">\n",
              "    <button class=\"colab-df-convert\" onclick=\"convertToInteractive('df-170236cf-198f-44bd-95c0-5e53f05ecda0')\"\n",
              "            title=\"Convert this dataframe to an interactive table.\"\n",
              "            style=\"display:none;\">\n",
              "\n",
              "  <svg xmlns=\"http://www.w3.org/2000/svg\" height=\"24px\" viewBox=\"0 -960 960 960\">\n",
              "    <path d=\"M120-120v-720h720v720H120Zm60-500h600v-160H180v160Zm220 220h160v-160H400v160Zm0 220h160v-160H400v160ZM180-400h160v-160H180v160Zm440 0h160v-160H620v160ZM180-180h160v-160H180v160Zm440 0h160v-160H620v160Z\"/>\n",
              "  </svg>\n",
              "    </button>\n",
              "\n",
              "  <style>\n",
              "    .colab-df-container {\n",
              "      display:flex;\n",
              "      gap: 12px;\n",
              "    }\n",
              "\n",
              "    .colab-df-convert {\n",
              "      background-color: #E8F0FE;\n",
              "      border: none;\n",
              "      border-radius: 50%;\n",
              "      cursor: pointer;\n",
              "      display: none;\n",
              "      fill: #1967D2;\n",
              "      height: 32px;\n",
              "      padding: 0 0 0 0;\n",
              "      width: 32px;\n",
              "    }\n",
              "\n",
              "    .colab-df-convert:hover {\n",
              "      background-color: #E2EBFA;\n",
              "      box-shadow: 0px 1px 2px rgba(60, 64, 67, 0.3), 0px 1px 3px 1px rgba(60, 64, 67, 0.15);\n",
              "      fill: #174EA6;\n",
              "    }\n",
              "\n",
              "    .colab-df-buttons div {\n",
              "      margin-bottom: 4px;\n",
              "    }\n",
              "\n",
              "    [theme=dark] .colab-df-convert {\n",
              "      background-color: #3B4455;\n",
              "      fill: #D2E3FC;\n",
              "    }\n",
              "\n",
              "    [theme=dark] .colab-df-convert:hover {\n",
              "      background-color: #434B5C;\n",
              "      box-shadow: 0px 1px 3px 1px rgba(0, 0, 0, 0.15);\n",
              "      filter: drop-shadow(0px 1px 2px rgba(0, 0, 0, 0.3));\n",
              "      fill: #FFFFFF;\n",
              "    }\n",
              "  </style>\n",
              "\n",
              "    <script>\n",
              "      const buttonEl =\n",
              "        document.querySelector('#df-170236cf-198f-44bd-95c0-5e53f05ecda0 button.colab-df-convert');\n",
              "      buttonEl.style.display =\n",
              "        google.colab.kernel.accessAllowed ? 'block' : 'none';\n",
              "\n",
              "      async function convertToInteractive(key) {\n",
              "        const element = document.querySelector('#df-170236cf-198f-44bd-95c0-5e53f05ecda0');\n",
              "        const dataTable =\n",
              "          await google.colab.kernel.invokeFunction('convertToInteractive',\n",
              "                                                    [key], {});\n",
              "        if (!dataTable) return;\n",
              "\n",
              "        const docLinkHtml = 'Like what you see? Visit the ' +\n",
              "          '<a target=\"_blank\" href=https://colab.research.google.com/notebooks/data_table.ipynb>data table notebook</a>'\n",
              "          + ' to learn more about interactive tables.';\n",
              "        element.innerHTML = '';\n",
              "        dataTable['output_type'] = 'display_data';\n",
              "        await google.colab.output.renderOutput(dataTable, element);\n",
              "        const docLink = document.createElement('div');\n",
              "        docLink.innerHTML = docLinkHtml;\n",
              "        element.appendChild(docLink);\n",
              "      }\n",
              "    </script>\n",
              "  </div>\n",
              "\n",
              "\n",
              "<div id=\"df-4d7afece-f149-4737-aab6-2817a69bc571\">\n",
              "  <button class=\"colab-df-quickchart\" onclick=\"quickchart('df-4d7afece-f149-4737-aab6-2817a69bc571')\"\n",
              "            title=\"Suggest charts\"\n",
              "            style=\"display:none;\">\n",
              "\n",
              "<svg xmlns=\"http://www.w3.org/2000/svg\" height=\"24px\"viewBox=\"0 0 24 24\"\n",
              "     width=\"24px\">\n",
              "    <g>\n",
              "        <path d=\"M19 3H5c-1.1 0-2 .9-2 2v14c0 1.1.9 2 2 2h14c1.1 0 2-.9 2-2V5c0-1.1-.9-2-2-2zM9 17H7v-7h2v7zm4 0h-2V7h2v10zm4 0h-2v-4h2v4z\"/>\n",
              "    </g>\n",
              "</svg>\n",
              "  </button>\n",
              "\n",
              "<style>\n",
              "  .colab-df-quickchart {\n",
              "      --bg-color: #E8F0FE;\n",
              "      --fill-color: #1967D2;\n",
              "      --hover-bg-color: #E2EBFA;\n",
              "      --hover-fill-color: #174EA6;\n",
              "      --disabled-fill-color: #AAA;\n",
              "      --disabled-bg-color: #DDD;\n",
              "  }\n",
              "\n",
              "  [theme=dark] .colab-df-quickchart {\n",
              "      --bg-color: #3B4455;\n",
              "      --fill-color: #D2E3FC;\n",
              "      --hover-bg-color: #434B5C;\n",
              "      --hover-fill-color: #FFFFFF;\n",
              "      --disabled-bg-color: #3B4455;\n",
              "      --disabled-fill-color: #666;\n",
              "  }\n",
              "\n",
              "  .colab-df-quickchart {\n",
              "    background-color: var(--bg-color);\n",
              "    border: none;\n",
              "    border-radius: 50%;\n",
              "    cursor: pointer;\n",
              "    display: none;\n",
              "    fill: var(--fill-color);\n",
              "    height: 32px;\n",
              "    padding: 0;\n",
              "    width: 32px;\n",
              "  }\n",
              "\n",
              "  .colab-df-quickchart:hover {\n",
              "    background-color: var(--hover-bg-color);\n",
              "    box-shadow: 0 1px 2px rgba(60, 64, 67, 0.3), 0 1px 3px 1px rgba(60, 64, 67, 0.15);\n",
              "    fill: var(--button-hover-fill-color);\n",
              "  }\n",
              "\n",
              "  .colab-df-quickchart-complete:disabled,\n",
              "  .colab-df-quickchart-complete:disabled:hover {\n",
              "    background-color: var(--disabled-bg-color);\n",
              "    fill: var(--disabled-fill-color);\n",
              "    box-shadow: none;\n",
              "  }\n",
              "\n",
              "  .colab-df-spinner {\n",
              "    border: 2px solid var(--fill-color);\n",
              "    border-color: transparent;\n",
              "    border-bottom-color: var(--fill-color);\n",
              "    animation:\n",
              "      spin 1s steps(1) infinite;\n",
              "  }\n",
              "\n",
              "  @keyframes spin {\n",
              "    0% {\n",
              "      border-color: transparent;\n",
              "      border-bottom-color: var(--fill-color);\n",
              "      border-left-color: var(--fill-color);\n",
              "    }\n",
              "    20% {\n",
              "      border-color: transparent;\n",
              "      border-left-color: var(--fill-color);\n",
              "      border-top-color: var(--fill-color);\n",
              "    }\n",
              "    30% {\n",
              "      border-color: transparent;\n",
              "      border-left-color: var(--fill-color);\n",
              "      border-top-color: var(--fill-color);\n",
              "      border-right-color: var(--fill-color);\n",
              "    }\n",
              "    40% {\n",
              "      border-color: transparent;\n",
              "      border-right-color: var(--fill-color);\n",
              "      border-top-color: var(--fill-color);\n",
              "    }\n",
              "    60% {\n",
              "      border-color: transparent;\n",
              "      border-right-color: var(--fill-color);\n",
              "    }\n",
              "    80% {\n",
              "      border-color: transparent;\n",
              "      border-right-color: var(--fill-color);\n",
              "      border-bottom-color: var(--fill-color);\n",
              "    }\n",
              "    90% {\n",
              "      border-color: transparent;\n",
              "      border-bottom-color: var(--fill-color);\n",
              "    }\n",
              "  }\n",
              "</style>\n",
              "\n",
              "  <script>\n",
              "    async function quickchart(key) {\n",
              "      const quickchartButtonEl =\n",
              "        document.querySelector('#' + key + ' button');\n",
              "      quickchartButtonEl.disabled = true;  // To prevent multiple clicks.\n",
              "      quickchartButtonEl.classList.add('colab-df-spinner');\n",
              "      try {\n",
              "        const charts = await google.colab.kernel.invokeFunction(\n",
              "            'suggestCharts', [key], {});\n",
              "      } catch (error) {\n",
              "        console.error('Error during call to suggestCharts:', error);\n",
              "      }\n",
              "      quickchartButtonEl.classList.remove('colab-df-spinner');\n",
              "      quickchartButtonEl.classList.add('colab-df-quickchart-complete');\n",
              "    }\n",
              "    (() => {\n",
              "      let quickchartButtonEl =\n",
              "        document.querySelector('#df-4d7afece-f149-4737-aab6-2817a69bc571 button');\n",
              "      quickchartButtonEl.style.display =\n",
              "        google.colab.kernel.accessAllowed ? 'block' : 'none';\n",
              "    })();\n",
              "  </script>\n",
              "</div>\n",
              "\n",
              "    </div>\n",
              "  </div>\n"
            ],
            "application/vnd.google.colaboratory.intrinsic+json": {
              "type": "dataframe",
              "summary": "{\n  \"name\": \"report_data_types_uniques_check(df)\",\n  \"rows\": 5,\n  \"fields\": [\n    {\n      \"column\": \"Column\",\n      \"properties\": {\n        \"dtype\": \"string\",\n        \"num_unique_values\": 5,\n        \"samples\": [\n          \"Original Chattogram language English\",\n          \"English Maning Sentense\",\n          \"bangali sentence \"\n        ],\n        \"semantic_type\": \"\",\n        \"description\": \"\"\n      }\n    },\n    {\n      \"column\": \"d_type\",\n      \"properties\": {\n        \"dtype\": \"category\",\n        \"num_unique_values\": 1,\n        \"samples\": [\n          \"object\"\n        ],\n        \"semantic_type\": \"\",\n        \"description\": \"\"\n      }\n    },\n    {\n      \"column\": \"unique_sample\",\n      \"properties\": {\n        \"dtype\": \"object\",\n        \"semantic_type\": \"\",\n        \"description\": \"\"\n      }\n    },\n    {\n      \"column\": \"n_uniques\",\n      \"properties\": {\n        \"dtype\": \"number\",\n        \"std\": 499,\n        \"min\": 36,\n        \"max\": 1068,\n        \"num_unique_values\": 5,\n        \"samples\": [\n          109\n        ],\n        \"semantic_type\": \"\",\n        \"description\": \"\"\n      }\n    }\n  ]\n}"
            }
          },
          "metadata": {},
          "execution_count": 7
        }
      ]
    },
    {
      "cell_type": "code",
      "source": [
        "# check missing values\n",
        "df.isnull().sum()"
      ],
      "metadata": {
        "colab": {
          "base_uri": "https://localhost:8080/"
        },
        "id": "QomYiowGnFGD",
        "outputId": "a048ce9b-58d3-41ff-dcc8-ea3d51e4039d"
      },
      "id": "QomYiowGnFGD",
      "execution_count": 8,
      "outputs": [
        {
          "output_type": "execute_result",
          "data": {
            "text/plain": [
              "Original Chattogram Sentense               1\n",
              "Original Chattogram language English     971\n",
              "bangali sentence                         207\n",
              "English Sentense                        1041\n",
              "English Maning Sentense                 1041\n",
              "dtype: int64"
            ]
          },
          "metadata": {},
          "execution_count": 8
        }
      ]
    },
    {
      "cell_type": "markdown",
      "source": [
        "### Select top 800 data for the project"
      ],
      "metadata": {
        "id": "N0Kt7B_tCUy8"
      },
      "id": "N0Kt7B_tCUy8"
    },
    {
      "cell_type": "code",
      "source": [
        "top_800_df=df.head(800)\n",
        "top_800_df.head()"
      ],
      "metadata": {
        "colab": {
          "base_uri": "https://localhost:8080/",
          "height": 223
        },
        "id": "7TFNL3Pkv7Iz",
        "outputId": "d2072b65-a7f6-48a0-c6b1-d485bc0a1873"
      },
      "id": "7TFNL3Pkv7Iz",
      "execution_count": 9,
      "outputs": [
        {
          "output_type": "execute_result",
          "data": {
            "text/plain": [
              "  Original Chattogram Sentense Original Chattogram language English  \\\n",
              "0                        অনেরা                                onera   \n",
              "1                         অলপল                                olpol   \n",
              "2                         ফ্ইর                                 foir   \n",
              "3                        আজিয়া                                ajiya   \n",
              "4                       কালিয়া                               kaliya   \n",
              "\n",
              "  bangali sentence  English Sentense English Maning Sentense  \n",
              "0            আপনারা           APNARA                     YOU  \n",
              "1           আগোছালো          AGOSALO                 TIDY UP  \n",
              "2           ভিক্ষুক           BIKKUK                  CADGER  \n",
              "3              আজকে             AJKE                   TODAY  \n",
              "4             কালকে            KALKE                TOMORROW  "
            ],
            "text/html": [
              "\n",
              "  <div id=\"df-58c4b9f8-fe31-42fa-b90d-9ef75ff2fde1\" class=\"colab-df-container\">\n",
              "    <div>\n",
              "<style scoped>\n",
              "    .dataframe tbody tr th:only-of-type {\n",
              "        vertical-align: middle;\n",
              "    }\n",
              "\n",
              "    .dataframe tbody tr th {\n",
              "        vertical-align: top;\n",
              "    }\n",
              "\n",
              "    .dataframe thead th {\n",
              "        text-align: right;\n",
              "    }\n",
              "</style>\n",
              "<table border=\"1\" class=\"dataframe\">\n",
              "  <thead>\n",
              "    <tr style=\"text-align: right;\">\n",
              "      <th></th>\n",
              "      <th>Original Chattogram Sentense</th>\n",
              "      <th>Original Chattogram language English</th>\n",
              "      <th>bangali sentence</th>\n",
              "      <th>English Sentense</th>\n",
              "      <th>English Maning Sentense</th>\n",
              "    </tr>\n",
              "  </thead>\n",
              "  <tbody>\n",
              "    <tr>\n",
              "      <th>0</th>\n",
              "      <td>অনেরা</td>\n",
              "      <td>onera</td>\n",
              "      <td>আপনারা</td>\n",
              "      <td>APNARA</td>\n",
              "      <td>YOU</td>\n",
              "    </tr>\n",
              "    <tr>\n",
              "      <th>1</th>\n",
              "      <td>অলপল</td>\n",
              "      <td>olpol</td>\n",
              "      <td>আগোছালো</td>\n",
              "      <td>AGOSALO</td>\n",
              "      <td>TIDY UP</td>\n",
              "    </tr>\n",
              "    <tr>\n",
              "      <th>2</th>\n",
              "      <td>ফ্ইর</td>\n",
              "      <td>foir</td>\n",
              "      <td>ভিক্ষুক</td>\n",
              "      <td>BIKKUK</td>\n",
              "      <td>CADGER</td>\n",
              "    </tr>\n",
              "    <tr>\n",
              "      <th>3</th>\n",
              "      <td>আজিয়া</td>\n",
              "      <td>ajiya</td>\n",
              "      <td>আজকে</td>\n",
              "      <td>AJKE</td>\n",
              "      <td>TODAY</td>\n",
              "    </tr>\n",
              "    <tr>\n",
              "      <th>4</th>\n",
              "      <td>কালিয়া</td>\n",
              "      <td>kaliya</td>\n",
              "      <td>কালকে</td>\n",
              "      <td>KALKE</td>\n",
              "      <td>TOMORROW</td>\n",
              "    </tr>\n",
              "  </tbody>\n",
              "</table>\n",
              "</div>\n",
              "    <div class=\"colab-df-buttons\">\n",
              "\n",
              "  <div class=\"colab-df-container\">\n",
              "    <button class=\"colab-df-convert\" onclick=\"convertToInteractive('df-58c4b9f8-fe31-42fa-b90d-9ef75ff2fde1')\"\n",
              "            title=\"Convert this dataframe to an interactive table.\"\n",
              "            style=\"display:none;\">\n",
              "\n",
              "  <svg xmlns=\"http://www.w3.org/2000/svg\" height=\"24px\" viewBox=\"0 -960 960 960\">\n",
              "    <path d=\"M120-120v-720h720v720H120Zm60-500h600v-160H180v160Zm220 220h160v-160H400v160Zm0 220h160v-160H400v160ZM180-400h160v-160H180v160Zm440 0h160v-160H620v160ZM180-180h160v-160H180v160Zm440 0h160v-160H620v160Z\"/>\n",
              "  </svg>\n",
              "    </button>\n",
              "\n",
              "  <style>\n",
              "    .colab-df-container {\n",
              "      display:flex;\n",
              "      gap: 12px;\n",
              "    }\n",
              "\n",
              "    .colab-df-convert {\n",
              "      background-color: #E8F0FE;\n",
              "      border: none;\n",
              "      border-radius: 50%;\n",
              "      cursor: pointer;\n",
              "      display: none;\n",
              "      fill: #1967D2;\n",
              "      height: 32px;\n",
              "      padding: 0 0 0 0;\n",
              "      width: 32px;\n",
              "    }\n",
              "\n",
              "    .colab-df-convert:hover {\n",
              "      background-color: #E2EBFA;\n",
              "      box-shadow: 0px 1px 2px rgba(60, 64, 67, 0.3), 0px 1px 3px 1px rgba(60, 64, 67, 0.15);\n",
              "      fill: #174EA6;\n",
              "    }\n",
              "\n",
              "    .colab-df-buttons div {\n",
              "      margin-bottom: 4px;\n",
              "    }\n",
              "\n",
              "    [theme=dark] .colab-df-convert {\n",
              "      background-color: #3B4455;\n",
              "      fill: #D2E3FC;\n",
              "    }\n",
              "\n",
              "    [theme=dark] .colab-df-convert:hover {\n",
              "      background-color: #434B5C;\n",
              "      box-shadow: 0px 1px 3px 1px rgba(0, 0, 0, 0.15);\n",
              "      filter: drop-shadow(0px 1px 2px rgba(0, 0, 0, 0.3));\n",
              "      fill: #FFFFFF;\n",
              "    }\n",
              "  </style>\n",
              "\n",
              "    <script>\n",
              "      const buttonEl =\n",
              "        document.querySelector('#df-58c4b9f8-fe31-42fa-b90d-9ef75ff2fde1 button.colab-df-convert');\n",
              "      buttonEl.style.display =\n",
              "        google.colab.kernel.accessAllowed ? 'block' : 'none';\n",
              "\n",
              "      async function convertToInteractive(key) {\n",
              "        const element = document.querySelector('#df-58c4b9f8-fe31-42fa-b90d-9ef75ff2fde1');\n",
              "        const dataTable =\n",
              "          await google.colab.kernel.invokeFunction('convertToInteractive',\n",
              "                                                    [key], {});\n",
              "        if (!dataTable) return;\n",
              "\n",
              "        const docLinkHtml = 'Like what you see? Visit the ' +\n",
              "          '<a target=\"_blank\" href=https://colab.research.google.com/notebooks/data_table.ipynb>data table notebook</a>'\n",
              "          + ' to learn more about interactive tables.';\n",
              "        element.innerHTML = '';\n",
              "        dataTable['output_type'] = 'display_data';\n",
              "        await google.colab.output.renderOutput(dataTable, element);\n",
              "        const docLink = document.createElement('div');\n",
              "        docLink.innerHTML = docLinkHtml;\n",
              "        element.appendChild(docLink);\n",
              "      }\n",
              "    </script>\n",
              "  </div>\n",
              "\n",
              "\n",
              "<div id=\"df-e94f7e0d-7e5f-40bd-a510-29cea9e83f67\">\n",
              "  <button class=\"colab-df-quickchart\" onclick=\"quickchart('df-e94f7e0d-7e5f-40bd-a510-29cea9e83f67')\"\n",
              "            title=\"Suggest charts\"\n",
              "            style=\"display:none;\">\n",
              "\n",
              "<svg xmlns=\"http://www.w3.org/2000/svg\" height=\"24px\"viewBox=\"0 0 24 24\"\n",
              "     width=\"24px\">\n",
              "    <g>\n",
              "        <path d=\"M19 3H5c-1.1 0-2 .9-2 2v14c0 1.1.9 2 2 2h14c1.1 0 2-.9 2-2V5c0-1.1-.9-2-2-2zM9 17H7v-7h2v7zm4 0h-2V7h2v10zm4 0h-2v-4h2v4z\"/>\n",
              "    </g>\n",
              "</svg>\n",
              "  </button>\n",
              "\n",
              "<style>\n",
              "  .colab-df-quickchart {\n",
              "      --bg-color: #E8F0FE;\n",
              "      --fill-color: #1967D2;\n",
              "      --hover-bg-color: #E2EBFA;\n",
              "      --hover-fill-color: #174EA6;\n",
              "      --disabled-fill-color: #AAA;\n",
              "      --disabled-bg-color: #DDD;\n",
              "  }\n",
              "\n",
              "  [theme=dark] .colab-df-quickchart {\n",
              "      --bg-color: #3B4455;\n",
              "      --fill-color: #D2E3FC;\n",
              "      --hover-bg-color: #434B5C;\n",
              "      --hover-fill-color: #FFFFFF;\n",
              "      --disabled-bg-color: #3B4455;\n",
              "      --disabled-fill-color: #666;\n",
              "  }\n",
              "\n",
              "  .colab-df-quickchart {\n",
              "    background-color: var(--bg-color);\n",
              "    border: none;\n",
              "    border-radius: 50%;\n",
              "    cursor: pointer;\n",
              "    display: none;\n",
              "    fill: var(--fill-color);\n",
              "    height: 32px;\n",
              "    padding: 0;\n",
              "    width: 32px;\n",
              "  }\n",
              "\n",
              "  .colab-df-quickchart:hover {\n",
              "    background-color: var(--hover-bg-color);\n",
              "    box-shadow: 0 1px 2px rgba(60, 64, 67, 0.3), 0 1px 3px 1px rgba(60, 64, 67, 0.15);\n",
              "    fill: var(--button-hover-fill-color);\n",
              "  }\n",
              "\n",
              "  .colab-df-quickchart-complete:disabled,\n",
              "  .colab-df-quickchart-complete:disabled:hover {\n",
              "    background-color: var(--disabled-bg-color);\n",
              "    fill: var(--disabled-fill-color);\n",
              "    box-shadow: none;\n",
              "  }\n",
              "\n",
              "  .colab-df-spinner {\n",
              "    border: 2px solid var(--fill-color);\n",
              "    border-color: transparent;\n",
              "    border-bottom-color: var(--fill-color);\n",
              "    animation:\n",
              "      spin 1s steps(1) infinite;\n",
              "  }\n",
              "\n",
              "  @keyframes spin {\n",
              "    0% {\n",
              "      border-color: transparent;\n",
              "      border-bottom-color: var(--fill-color);\n",
              "      border-left-color: var(--fill-color);\n",
              "    }\n",
              "    20% {\n",
              "      border-color: transparent;\n",
              "      border-left-color: var(--fill-color);\n",
              "      border-top-color: var(--fill-color);\n",
              "    }\n",
              "    30% {\n",
              "      border-color: transparent;\n",
              "      border-left-color: var(--fill-color);\n",
              "      border-top-color: var(--fill-color);\n",
              "      border-right-color: var(--fill-color);\n",
              "    }\n",
              "    40% {\n",
              "      border-color: transparent;\n",
              "      border-right-color: var(--fill-color);\n",
              "      border-top-color: var(--fill-color);\n",
              "    }\n",
              "    60% {\n",
              "      border-color: transparent;\n",
              "      border-right-color: var(--fill-color);\n",
              "    }\n",
              "    80% {\n",
              "      border-color: transparent;\n",
              "      border-right-color: var(--fill-color);\n",
              "      border-bottom-color: var(--fill-color);\n",
              "    }\n",
              "    90% {\n",
              "      border-color: transparent;\n",
              "      border-bottom-color: var(--fill-color);\n",
              "    }\n",
              "  }\n",
              "</style>\n",
              "\n",
              "  <script>\n",
              "    async function quickchart(key) {\n",
              "      const quickchartButtonEl =\n",
              "        document.querySelector('#' + key + ' button');\n",
              "      quickchartButtonEl.disabled = true;  // To prevent multiple clicks.\n",
              "      quickchartButtonEl.classList.add('colab-df-spinner');\n",
              "      try {\n",
              "        const charts = await google.colab.kernel.invokeFunction(\n",
              "            'suggestCharts', [key], {});\n",
              "      } catch (error) {\n",
              "        console.error('Error during call to suggestCharts:', error);\n",
              "      }\n",
              "      quickchartButtonEl.classList.remove('colab-df-spinner');\n",
              "      quickchartButtonEl.classList.add('colab-df-quickchart-complete');\n",
              "    }\n",
              "    (() => {\n",
              "      let quickchartButtonEl =\n",
              "        document.querySelector('#df-e94f7e0d-7e5f-40bd-a510-29cea9e83f67 button');\n",
              "      quickchartButtonEl.style.display =\n",
              "        google.colab.kernel.accessAllowed ? 'block' : 'none';\n",
              "    })();\n",
              "  </script>\n",
              "</div>\n",
              "\n",
              "    </div>\n",
              "  </div>\n"
            ],
            "application/vnd.google.colaboratory.intrinsic+json": {
              "type": "dataframe",
              "variable_name": "top_800_df",
              "summary": "{\n  \"name\": \"top_800_df\",\n  \"rows\": 800,\n  \"fields\": [\n    {\n      \"column\": \"Original Chattogram Sentense\",\n      \"properties\": {\n        \"dtype\": \"string\",\n        \"num_unique_values\": 792,\n        \"samples\": [\n          \"\\u09a4\\u09c1\\u0987 \\u0995\\u09c0 \\u09b9\\u09a6\\u09cd\\u09a6\\u09c7\",\n          \"\\u0993 \\u09ae\\u09be\\u09ae\\u09c1\\u09b0\\u09c7 \\u0995\\u09c7\\u09a8 \\u0986\\u099b\\u09cb \",\n          \"\\u0986\\u0987 \\u09a8 \\u099c\\u09a8\\u09bf\"\n        ],\n        \"semantic_type\": \"\",\n        \"description\": \"\"\n      }\n    },\n    {\n      \"column\": \"Original Chattogram language English\",\n      \"properties\": {\n        \"dtype\": \"category\",\n        \"num_unique_values\": 109,\n        \"samples\": [\n          \"sore sore bhut ditu jaiu gui\",\n          \"tui\",\n          \"kaliya\"\n        ],\n        \"semantic_type\": \"\",\n        \"description\": \"\"\n      }\n    },\n    {\n      \"column\": \"bangali sentence \",\n      \"properties\": {\n        \"dtype\": \"string\",\n        \"num_unique_values\": 786,\n        \"samples\": [\n          \"\\u0986\\u09ae\\u09bf \\u0995\\u09bf\\u099b\\u09c1\\u0987 \\u099c\\u09be\\u09a8\\u09bf \\u09a8\\u09be\",\n          \"\\u09ae\\u09b6\\u0995\\u09be\\u09b0\\u09c0 \\u0995\\u09b0\\u099b\\u09cb \\u09ae\\u09a8\\u09c7\\u09b9\\u09df?\",\n          \"\\u09a6\\u09bf\\u09b8\\u09c7 \\u09a8\\u09be\\u0995\\u09bf? \\u09b2\\u09b8 \\u0995\\u09b0\\u09c7 \\u09a6\\u09bf\\u09b8\\u09c7?\"\n        ],\n        \"semantic_type\": \"\",\n        \"description\": \"\"\n      }\n    },\n    {\n      \"column\": \"English Sentense\",\n      \"properties\": {\n        \"dtype\": \"category\",\n        \"num_unique_values\": 38,\n        \"samples\": [\n          \"DUI SOTO TAKA DIYA AYTA KINCHI\",\n          \"aydike takan\",\n          \"KALKE\"\n        ],\n        \"semantic_type\": \"\",\n        \"description\": \"\"\n      }\n    },\n    {\n      \"column\": \"English Maning Sentense\",\n      \"properties\": {\n        \"dtype\": \"category\",\n        \"num_unique_values\": 36,\n        \"samples\": [\n          \"your name have in the poster.\",\n          \"STRAIGHT\",\n          \"HAVE ANY MONEY?\"\n        ],\n        \"semantic_type\": \"\",\n        \"description\": \"\"\n      }\n    }\n  ]\n}"
            }
          },
          "metadata": {},
          "execution_count": 9
        }
      ]
    },
    {
      "cell_type": "code",
      "source": [
        "top_800_df.describe()"
      ],
      "metadata": {
        "colab": {
          "base_uri": "https://localhost:8080/",
          "height": 209
        },
        "id": "pRCjA8xGC3Bj",
        "outputId": "a6e27586-0182-4ad4-f4f5-072b037b3e72"
      },
      "id": "pRCjA8xGC3Bj",
      "execution_count": 10,
      "outputs": [
        {
          "output_type": "execute_result",
          "data": {
            "text/plain": [
              "       Original Chattogram Sentense Original Chattogram language English  \\\n",
              "count                           800                                  109   \n",
              "unique                          792                                  109   \n",
              "top         ডাক চিক্কুরে পাড়া ফাডের        ajeye roja kaliye eid tor ma    \n",
              "freq                              3                                    1   \n",
              "\n",
              "        bangali sentence  English Sentense English Maning Sentense  \n",
              "count                 800               39                      39  \n",
              "unique                786               38                      36  \n",
              "top     মাইরের নাম বাবাজি            ASBEN                     YOU  \n",
              "freq                    2                2                       3  "
            ],
            "text/html": [
              "\n",
              "  <div id=\"df-c46dc65b-40c2-4fa5-a9f1-78cd53f53435\" class=\"colab-df-container\">\n",
              "    <div>\n",
              "<style scoped>\n",
              "    .dataframe tbody tr th:only-of-type {\n",
              "        vertical-align: middle;\n",
              "    }\n",
              "\n",
              "    .dataframe tbody tr th {\n",
              "        vertical-align: top;\n",
              "    }\n",
              "\n",
              "    .dataframe thead th {\n",
              "        text-align: right;\n",
              "    }\n",
              "</style>\n",
              "<table border=\"1\" class=\"dataframe\">\n",
              "  <thead>\n",
              "    <tr style=\"text-align: right;\">\n",
              "      <th></th>\n",
              "      <th>Original Chattogram Sentense</th>\n",
              "      <th>Original Chattogram language English</th>\n",
              "      <th>bangali sentence</th>\n",
              "      <th>English Sentense</th>\n",
              "      <th>English Maning Sentense</th>\n",
              "    </tr>\n",
              "  </thead>\n",
              "  <tbody>\n",
              "    <tr>\n",
              "      <th>count</th>\n",
              "      <td>800</td>\n",
              "      <td>109</td>\n",
              "      <td>800</td>\n",
              "      <td>39</td>\n",
              "      <td>39</td>\n",
              "    </tr>\n",
              "    <tr>\n",
              "      <th>unique</th>\n",
              "      <td>792</td>\n",
              "      <td>109</td>\n",
              "      <td>786</td>\n",
              "      <td>38</td>\n",
              "      <td>36</td>\n",
              "    </tr>\n",
              "    <tr>\n",
              "      <th>top</th>\n",
              "      <td>ডাক চিক্কুরে পাড়া ফাডের</td>\n",
              "      <td>ajeye roja kaliye eid tor ma</td>\n",
              "      <td>মাইরের নাম বাবাজি</td>\n",
              "      <td>ASBEN</td>\n",
              "      <td>YOU</td>\n",
              "    </tr>\n",
              "    <tr>\n",
              "      <th>freq</th>\n",
              "      <td>3</td>\n",
              "      <td>1</td>\n",
              "      <td>2</td>\n",
              "      <td>2</td>\n",
              "      <td>3</td>\n",
              "    </tr>\n",
              "  </tbody>\n",
              "</table>\n",
              "</div>\n",
              "    <div class=\"colab-df-buttons\">\n",
              "\n",
              "  <div class=\"colab-df-container\">\n",
              "    <button class=\"colab-df-convert\" onclick=\"convertToInteractive('df-c46dc65b-40c2-4fa5-a9f1-78cd53f53435')\"\n",
              "            title=\"Convert this dataframe to an interactive table.\"\n",
              "            style=\"display:none;\">\n",
              "\n",
              "  <svg xmlns=\"http://www.w3.org/2000/svg\" height=\"24px\" viewBox=\"0 -960 960 960\">\n",
              "    <path d=\"M120-120v-720h720v720H120Zm60-500h600v-160H180v160Zm220 220h160v-160H400v160Zm0 220h160v-160H400v160ZM180-400h160v-160H180v160Zm440 0h160v-160H620v160ZM180-180h160v-160H180v160Zm440 0h160v-160H620v160Z\"/>\n",
              "  </svg>\n",
              "    </button>\n",
              "\n",
              "  <style>\n",
              "    .colab-df-container {\n",
              "      display:flex;\n",
              "      gap: 12px;\n",
              "    }\n",
              "\n",
              "    .colab-df-convert {\n",
              "      background-color: #E8F0FE;\n",
              "      border: none;\n",
              "      border-radius: 50%;\n",
              "      cursor: pointer;\n",
              "      display: none;\n",
              "      fill: #1967D2;\n",
              "      height: 32px;\n",
              "      padding: 0 0 0 0;\n",
              "      width: 32px;\n",
              "    }\n",
              "\n",
              "    .colab-df-convert:hover {\n",
              "      background-color: #E2EBFA;\n",
              "      box-shadow: 0px 1px 2px rgba(60, 64, 67, 0.3), 0px 1px 3px 1px rgba(60, 64, 67, 0.15);\n",
              "      fill: #174EA6;\n",
              "    }\n",
              "\n",
              "    .colab-df-buttons div {\n",
              "      margin-bottom: 4px;\n",
              "    }\n",
              "\n",
              "    [theme=dark] .colab-df-convert {\n",
              "      background-color: #3B4455;\n",
              "      fill: #D2E3FC;\n",
              "    }\n",
              "\n",
              "    [theme=dark] .colab-df-convert:hover {\n",
              "      background-color: #434B5C;\n",
              "      box-shadow: 0px 1px 3px 1px rgba(0, 0, 0, 0.15);\n",
              "      filter: drop-shadow(0px 1px 2px rgba(0, 0, 0, 0.3));\n",
              "      fill: #FFFFFF;\n",
              "    }\n",
              "  </style>\n",
              "\n",
              "    <script>\n",
              "      const buttonEl =\n",
              "        document.querySelector('#df-c46dc65b-40c2-4fa5-a9f1-78cd53f53435 button.colab-df-convert');\n",
              "      buttonEl.style.display =\n",
              "        google.colab.kernel.accessAllowed ? 'block' : 'none';\n",
              "\n",
              "      async function convertToInteractive(key) {\n",
              "        const element = document.querySelector('#df-c46dc65b-40c2-4fa5-a9f1-78cd53f53435');\n",
              "        const dataTable =\n",
              "          await google.colab.kernel.invokeFunction('convertToInteractive',\n",
              "                                                    [key], {});\n",
              "        if (!dataTable) return;\n",
              "\n",
              "        const docLinkHtml = 'Like what you see? Visit the ' +\n",
              "          '<a target=\"_blank\" href=https://colab.research.google.com/notebooks/data_table.ipynb>data table notebook</a>'\n",
              "          + ' to learn more about interactive tables.';\n",
              "        element.innerHTML = '';\n",
              "        dataTable['output_type'] = 'display_data';\n",
              "        await google.colab.output.renderOutput(dataTable, element);\n",
              "        const docLink = document.createElement('div');\n",
              "        docLink.innerHTML = docLinkHtml;\n",
              "        element.appendChild(docLink);\n",
              "      }\n",
              "    </script>\n",
              "  </div>\n",
              "\n",
              "\n",
              "<div id=\"df-c2a00a3a-9442-43ae-a93c-a3aa420f18c8\">\n",
              "  <button class=\"colab-df-quickchart\" onclick=\"quickchart('df-c2a00a3a-9442-43ae-a93c-a3aa420f18c8')\"\n",
              "            title=\"Suggest charts\"\n",
              "            style=\"display:none;\">\n",
              "\n",
              "<svg xmlns=\"http://www.w3.org/2000/svg\" height=\"24px\"viewBox=\"0 0 24 24\"\n",
              "     width=\"24px\">\n",
              "    <g>\n",
              "        <path d=\"M19 3H5c-1.1 0-2 .9-2 2v14c0 1.1.9 2 2 2h14c1.1 0 2-.9 2-2V5c0-1.1-.9-2-2-2zM9 17H7v-7h2v7zm4 0h-2V7h2v10zm4 0h-2v-4h2v4z\"/>\n",
              "    </g>\n",
              "</svg>\n",
              "  </button>\n",
              "\n",
              "<style>\n",
              "  .colab-df-quickchart {\n",
              "      --bg-color: #E8F0FE;\n",
              "      --fill-color: #1967D2;\n",
              "      --hover-bg-color: #E2EBFA;\n",
              "      --hover-fill-color: #174EA6;\n",
              "      --disabled-fill-color: #AAA;\n",
              "      --disabled-bg-color: #DDD;\n",
              "  }\n",
              "\n",
              "  [theme=dark] .colab-df-quickchart {\n",
              "      --bg-color: #3B4455;\n",
              "      --fill-color: #D2E3FC;\n",
              "      --hover-bg-color: #434B5C;\n",
              "      --hover-fill-color: #FFFFFF;\n",
              "      --disabled-bg-color: #3B4455;\n",
              "      --disabled-fill-color: #666;\n",
              "  }\n",
              "\n",
              "  .colab-df-quickchart {\n",
              "    background-color: var(--bg-color);\n",
              "    border: none;\n",
              "    border-radius: 50%;\n",
              "    cursor: pointer;\n",
              "    display: none;\n",
              "    fill: var(--fill-color);\n",
              "    height: 32px;\n",
              "    padding: 0;\n",
              "    width: 32px;\n",
              "  }\n",
              "\n",
              "  .colab-df-quickchart:hover {\n",
              "    background-color: var(--hover-bg-color);\n",
              "    box-shadow: 0 1px 2px rgba(60, 64, 67, 0.3), 0 1px 3px 1px rgba(60, 64, 67, 0.15);\n",
              "    fill: var(--button-hover-fill-color);\n",
              "  }\n",
              "\n",
              "  .colab-df-quickchart-complete:disabled,\n",
              "  .colab-df-quickchart-complete:disabled:hover {\n",
              "    background-color: var(--disabled-bg-color);\n",
              "    fill: var(--disabled-fill-color);\n",
              "    box-shadow: none;\n",
              "  }\n",
              "\n",
              "  .colab-df-spinner {\n",
              "    border: 2px solid var(--fill-color);\n",
              "    border-color: transparent;\n",
              "    border-bottom-color: var(--fill-color);\n",
              "    animation:\n",
              "      spin 1s steps(1) infinite;\n",
              "  }\n",
              "\n",
              "  @keyframes spin {\n",
              "    0% {\n",
              "      border-color: transparent;\n",
              "      border-bottom-color: var(--fill-color);\n",
              "      border-left-color: var(--fill-color);\n",
              "    }\n",
              "    20% {\n",
              "      border-color: transparent;\n",
              "      border-left-color: var(--fill-color);\n",
              "      border-top-color: var(--fill-color);\n",
              "    }\n",
              "    30% {\n",
              "      border-color: transparent;\n",
              "      border-left-color: var(--fill-color);\n",
              "      border-top-color: var(--fill-color);\n",
              "      border-right-color: var(--fill-color);\n",
              "    }\n",
              "    40% {\n",
              "      border-color: transparent;\n",
              "      border-right-color: var(--fill-color);\n",
              "      border-top-color: var(--fill-color);\n",
              "    }\n",
              "    60% {\n",
              "      border-color: transparent;\n",
              "      border-right-color: var(--fill-color);\n",
              "    }\n",
              "    80% {\n",
              "      border-color: transparent;\n",
              "      border-right-color: var(--fill-color);\n",
              "      border-bottom-color: var(--fill-color);\n",
              "    }\n",
              "    90% {\n",
              "      border-color: transparent;\n",
              "      border-bottom-color: var(--fill-color);\n",
              "    }\n",
              "  }\n",
              "</style>\n",
              "\n",
              "  <script>\n",
              "    async function quickchart(key) {\n",
              "      const quickchartButtonEl =\n",
              "        document.querySelector('#' + key + ' button');\n",
              "      quickchartButtonEl.disabled = true;  // To prevent multiple clicks.\n",
              "      quickchartButtonEl.classList.add('colab-df-spinner');\n",
              "      try {\n",
              "        const charts = await google.colab.kernel.invokeFunction(\n",
              "            'suggestCharts', [key], {});\n",
              "      } catch (error) {\n",
              "        console.error('Error during call to suggestCharts:', error);\n",
              "      }\n",
              "      quickchartButtonEl.classList.remove('colab-df-spinner');\n",
              "      quickchartButtonEl.classList.add('colab-df-quickchart-complete');\n",
              "    }\n",
              "    (() => {\n",
              "      let quickchartButtonEl =\n",
              "        document.querySelector('#df-c2a00a3a-9442-43ae-a93c-a3aa420f18c8 button');\n",
              "      quickchartButtonEl.style.display =\n",
              "        google.colab.kernel.accessAllowed ? 'block' : 'none';\n",
              "    })();\n",
              "  </script>\n",
              "</div>\n",
              "\n",
              "    </div>\n",
              "  </div>\n"
            ],
            "application/vnd.google.colaboratory.intrinsic+json": {
              "type": "dataframe",
              "summary": "{\n  \"name\": \"top_800_df\",\n  \"rows\": 4,\n  \"fields\": [\n    {\n      \"column\": \"Original Chattogram Sentense\",\n      \"properties\": {\n        \"dtype\": \"string\",\n        \"num_unique_values\": 4,\n        \"samples\": [\n          792,\n          \"3\",\n          \"800\"\n        ],\n        \"semantic_type\": \"\",\n        \"description\": \"\"\n      }\n    },\n    {\n      \"column\": \"Original Chattogram language English\",\n      \"properties\": {\n        \"dtype\": \"string\",\n        \"num_unique_values\": 3,\n        \"samples\": [\n          \"109\",\n          \"ajeye roja kaliye eid tor ma \",\n          \"1\"\n        ],\n        \"semantic_type\": \"\",\n        \"description\": \"\"\n      }\n    },\n    {\n      \"column\": \"bangali sentence \",\n      \"properties\": {\n        \"dtype\": \"string\",\n        \"num_unique_values\": 4,\n        \"samples\": [\n          786,\n          \"2\",\n          \"800\"\n        ],\n        \"semantic_type\": \"\",\n        \"description\": \"\"\n      }\n    },\n    {\n      \"column\": \"English Sentense\",\n      \"properties\": {\n        \"dtype\": \"string\",\n        \"num_unique_values\": 4,\n        \"samples\": [\n          38,\n          \"2\",\n          \"39\"\n        ],\n        \"semantic_type\": \"\",\n        \"description\": \"\"\n      }\n    },\n    {\n      \"column\": \"English Maning Sentense\",\n      \"properties\": {\n        \"dtype\": \"string\",\n        \"num_unique_values\": 4,\n        \"samples\": [\n          36,\n          \"3\",\n          \"39\"\n        ],\n        \"semantic_type\": \"\",\n        \"description\": \"\"\n      }\n    }\n  ]\n}"
            }
          },
          "metadata": {},
          "execution_count": 10
        }
      ]
    },
    {
      "cell_type": "markdown",
      "source": [
        "### Select only the chattogram sentence and bangali sentence"
      ],
      "metadata": {
        "id": "0uzrnipkKBiJ"
      },
      "id": "0uzrnipkKBiJ"
    },
    {
      "cell_type": "code",
      "source": [
        "original_chattogram_Sentense=list(top_800_df['Original Chattogram Sentense'])\n",
        "bangali_sentence=list(top_800_df['bangali sentence '])"
      ],
      "metadata": {
        "id": "hxHFrQmwy04E"
      },
      "id": "hxHFrQmwy04E",
      "execution_count": 11,
      "outputs": []
    },
    {
      "cell_type": "markdown",
      "source": [
        "## 4. Data Processing\n",
        "- Generate train and val data\n",
        "- Save chattogram and stanadrd bangla text into local disk"
      ],
      "metadata": {
        "id": "VL1kF3jIoGRx"
      },
      "id": "VL1kF3jIoGRx"
    },
    {
      "cell_type": "code",
      "source": [
        "data=[]\n",
        "# print(Original_Chattogram_Sentense)\n",
        "for i in range(len(original_chattogram_Sentense)):\n",
        "  data.append([original_chattogram_Sentense[i],bangali_sentence[i]])\n"
      ],
      "metadata": {
        "id": "LhCbruaPzEex"
      },
      "id": "LhCbruaPzEex",
      "execution_count": 12,
      "outputs": []
    },
    {
      "cell_type": "code",
      "source": [
        "data[:10]"
      ],
      "metadata": {
        "colab": {
          "base_uri": "https://localhost:8080/"
        },
        "id": "p2QVss8RSg3M",
        "outputId": "21c9f221-501e-49b6-d61e-0ffe9354d6f3"
      },
      "id": "p2QVss8RSg3M",
      "execution_count": 13,
      "outputs": [
        {
          "output_type": "execute_result",
          "data": {
            "text/plain": [
              "[['অনেরা', 'আপনারা'],\n",
              " ['অলপল', 'আগোছালো'],\n",
              " ['ফ্ইর', 'ভিক্ষুক'],\n",
              " ['আজিয়া', 'আজকে'],\n",
              " ['কালিয়া', 'কালকে'],\n",
              " ['যন নাই', 'যেতে নাই'],\n",
              " ['গত খাইল', 'গত কালকে'],\n",
              " ['ইতারে', 'তাকে'],\n",
              " ['অনেরে', 'আপনাকে'],\n",
              " ['আ্যাই', 'আমি']]"
            ]
          },
          "metadata": {},
          "execution_count": 13
        }
      ]
    },
    {
      "cell_type": "code",
      "execution_count": 14,
      "id": "2e819c75",
      "metadata": {
        "id": "2e819c75",
        "outputId": "f602d452-ed53-43f2-9450-e422101934b0",
        "colab": {
          "base_uri": "https://localhost:8080/"
        }
      },
      "outputs": [
        {
          "output_type": "execute_result",
          "data": {
            "text/plain": [
              "[['মাচ এবে হাঠন পরিব', 'মাছ এটা কাটতে হবে'],\n",
              " ['তুই আজিয়ে আইবানা', 'তুমি আজকে আসবা'],\n",
              " ['তুর লাই হথা আছে ', 'তুর সাথে কথা আছে '],\n",
              " ['ওগ্গ মাছ লাগিব ', 'একটা মাছ লাগবে'],\n",
              " ['হালিয়ে দেহা গরবে', 'কালকে দেখা করবেন '],\n",
              " ['তোর হবর আছে ', 'তোমার বিপদ হবে'],\n",
              " ['হালিয়ে আইস্স', 'কালকে আসিয়েন'],\n",
              " ['তুই হন্ডে যর', 'তুমি কোথায় যাচ্ছ'],\n",
              " ['হানা ন হাবি', 'খাবার খাবি না'],\n",
              " ['পুটলা এবে হার', 'পলিথিন টা কার']]"
            ]
          },
          "metadata": {},
          "execution_count": 14
        }
      ],
      "source": [
        "data[-10:]"
      ]
    },
    {
      "cell_type": "code",
      "execution_count": 15,
      "id": "69549a09",
      "metadata": {
        "id": "69549a09",
        "outputId": "2b8d2a91-4c47-45ec-fac2-ac74ed4abed8",
        "colab": {
          "base_uri": "https://localhost:8080/"
        }
      },
      "outputs": [
        {
          "output_type": "stream",
          "name": "stdout",
          "text": [
            "train len:  600\n",
            " val len:  200\n"
          ]
        }
      ],
      "source": [
        "train_chattogram = [i[0] for i in data[:600]]\n",
        "val_chattogram = [i[0] for i in data[600:]]\n",
        "print('train len: ',len(train_chattogram))\n",
        "print(' val len: ',len(val_chattogram))"
      ]
    },
    {
      "cell_type": "code",
      "execution_count": 16,
      "id": "5998c259",
      "metadata": {
        "id": "5998c259",
        "outputId": "a91cda39-b03a-4e3b-c9eb-2cd808e3b890",
        "colab": {
          "base_uri": "https://localhost:8080/"
        }
      },
      "outputs": [
        {
          "output_type": "execute_result",
          "data": {
            "text/plain": [
              "['বালা অতে টিয়া ন লাগে',\n",
              " 'তোর মা তোরে ডাহের',\n",
              " 'কিল্লায় ডাহের দে',\n",
              " 'আই ন জনি',\n",
              " 'কী হর ওডোএগিন',\n",
              " 'কী হদ্দে এগিম',\n",
              " 'কিল্লায় হছোনা',\n",
              " 'আরে মামু তুই থাম',\n",
              " 'হনে হয়য়ি দে',\n",
              " 'বেশি মাতস']"
            ]
          },
          "metadata": {},
          "execution_count": 16
        }
      ],
      "source": [
        "val_chattogram[:10]"
      ]
    },
    {
      "cell_type": "code",
      "execution_count": 17,
      "id": "b6d45419",
      "metadata": {
        "id": "b6d45419",
        "outputId": "a040c302-f84c-41b7-b712-97e7f1ec75be",
        "colab": {
          "base_uri": "https://localhost:8080/"
        }
      },
      "outputs": [
        {
          "output_type": "stream",
          "name": "stdout",
          "text": [
            "600\n",
            "200\n"
          ]
        }
      ],
      "source": [
        "train_bangla = [i[1] for i in data[:600]]\n",
        "val_bangla = [i[1] for i in data[600:]]\n",
        "print(len(train_bangla))\n",
        "print(len(val_bangla))"
      ]
    },
    {
      "cell_type": "code",
      "execution_count": 18,
      "id": "77c9615b",
      "metadata": {
        "id": "77c9615b",
        "colab": {
          "base_uri": "https://localhost:8080/"
        },
        "outputId": "4f738645-6fbf-47ae-b2a8-681e099c463c"
      },
      "outputs": [
        {
          "output_type": "execute_result",
          "data": {
            "text/plain": [
              "['ভালো হতে টাকা পয়সা লাগে না',\n",
              " 'তোর আম্মু ডাকতেছে ',\n",
              " 'কেন ডাকতেছে ',\n",
              " 'আমি জানি না',\n",
              " 'কী বলছ এইসব ',\n",
              " 'কী বলছ এইসব ',\n",
              " 'কেন বলনা',\n",
              " 'আরেহ মামা থামেন',\n",
              " 'কে বলেছে?',\n",
              " 'বেশি কথা বলছ']"
            ]
          },
          "metadata": {},
          "execution_count": 18
        }
      ],
      "source": [
        "val_bangla[:10]"
      ]
    },
    {
      "cell_type": "markdown",
      "source": [
        "### Saved Chattogram and standard bangla text into file"
      ],
      "metadata": {
        "id": "7KU4nC9uKUfL"
      },
      "id": "7KU4nC9uKUfL"
    },
    {
      "cell_type": "code",
      "execution_count": 19,
      "id": "054cd2c9",
      "metadata": {
        "id": "054cd2c9"
      },
      "outputs": [],
      "source": [
        "import os\n",
        "process_data_path = \"/content/drive/MyDrive/chittagong_language/data/process_data\"\n",
        "# os.makedirs(process_data_path, exits_ok= True)\n",
        "os.makedirs(process_data_path, exist_ok = True)"
      ]
    },
    {
      "cell_type": "code",
      "execution_count": 20,
      "id": "27fc0203",
      "metadata": {
        "id": "27fc0203"
      },
      "outputs": [],
      "source": [
        "def write_txt_file(file_path, data, encoding=\"utf-8\"):\n",
        "    with open(file_path, 'w') as f:\n",
        "        for key in data:\n",
        "            if isinstance(key, list):\n",
        "                key = key[0]\n",
        "            f.write(key+\"\\n\")"
      ]
    },
    {
      "cell_type": "code",
      "execution_count": 21,
      "id": "a46ea05a",
      "metadata": {
        "id": "a46ea05a"
      },
      "outputs": [],
      "source": [
        "write_txt_file(os.path.join(process_data_path, \"chattogram_data.txt\"), train_chattogram)"
      ]
    },
    {
      "cell_type": "code",
      "execution_count": 22,
      "id": "5f3beba8",
      "metadata": {
        "id": "5f3beba8"
      },
      "outputs": [],
      "source": [
        "write_txt_file(os.path.join(process_data_path,\"bangla_data.txt\"), train_bangla)"
      ]
    },
    {
      "cell_type": "code",
      "execution_count": 23,
      "id": "ea840781",
      "metadata": {
        "id": "ea840781"
      },
      "outputs": [],
      "source": [
        "def merge_data_write_txt_file(file_path, chattogram_data, bangla_data, encoding=\"utf-8\"):\n",
        "    with open(file_path, 'w') as f:\n",
        "        for chattogram, bangla in zip(chattogram_data, bangla_data):\n",
        "#             if isinstance(key, list):\n",
        "#                 key = key[0]\n",
        "            f.write(chattogram+\"\\t\"+bangla+\"\\n\")"
      ]
    },
    {
      "cell_type": "code",
      "execution_count": 24,
      "id": "088ece19",
      "metadata": {
        "id": "088ece19"
      },
      "outputs": [],
      "source": [
        "merge_data_write_txt_file(os.path.join(process_data_path, \"merge_data.txt\"), train_chattogram, train_bangla)"
      ]
    },
    {
      "cell_type": "code",
      "execution_count": 25,
      "id": "60265503",
      "metadata": {
        "id": "60265503"
      },
      "outputs": [],
      "source": [
        "model_path = \"/content/drive/MyDrive/chittagong_language/model\"\n",
        "os.makedirs(model_path, exist_ok = True)"
      ]
    },
    {
      "cell_type": "markdown",
      "source": [
        "## 5. Generate Tokenizer and Vocab File"
      ],
      "metadata": {
        "id": "pMCTwu0RKfjr"
      },
      "id": "pMCTwu0RKfjr"
    },
    {
      "cell_type": "code",
      "execution_count": 26,
      "id": "65467bfb",
      "metadata": {
        "id": "65467bfb"
      },
      "outputs": [],
      "source": [
        "import sentencepiece as spm\n",
        "\n",
        "def train_tokenizer(text_path=\"text.txt\", model_prefix=\"model/chattogram_model\", vocab_size=30000):\n",
        "    spm.SentencePieceTrainer.train(f'--input={text_path} --model_prefix={model_prefix} --user_defined_symbols=<sep>,<cls> --vocab_size={vocab_size}')\n",
        "    bn_sp = spm.SentencePieceProcessor()\n",
        "    bn_sp.load(os.path.join(model_path, 'chattogram_model.model'))\n"
      ]
    },
    {
      "cell_type": "code",
      "execution_count": 27,
      "id": "88cfed17",
      "metadata": {
        "id": "88cfed17"
      },
      "outputs": [],
      "source": [
        "chattogram_data_path = \"/content/drive/MyDrive/chittagong_language/data/process_data/chattogram_data.txt\"\n",
        "bangla_data_path = \"/content/drive/MyDrive/chittagong_language/data/process_data/bangla_data.txt\""
      ]
    },
    {
      "cell_type": "markdown",
      "source": [
        "### Generate Chattogram and standard bangla tokenizer"
      ],
      "metadata": {
        "id": "9exFr-V9KsqJ"
      },
      "id": "9exFr-V9KsqJ"
    },
    {
      "cell_type": "code",
      "execution_count": 28,
      "id": "fa3c66b0",
      "metadata": {
        "id": "fa3c66b0"
      },
      "outputs": [],
      "source": [
        "train_tokenizer(\n",
        "    text_path = chattogram_data_path,\n",
        "    model_prefix = \"/content/drive/MyDrive/chittagong_language/model/chattogram_model\",\n",
        "    vocab_size = 961\n",
        ")"
      ]
    },
    {
      "cell_type": "code",
      "execution_count": 29,
      "id": "47994f54",
      "metadata": {
        "id": "47994f54"
      },
      "outputs": [],
      "source": [
        "train_tokenizer(\n",
        "    text_path = bangla_data_path,\n",
        "    model_prefix = \"/content/drive/MyDrive/chittagong_language/model/bangla_model\",\n",
        "    vocab_size = 840\n",
        ")"
      ]
    },
    {
      "cell_type": "code",
      "execution_count": 30,
      "id": "946583b5",
      "metadata": {
        "id": "946583b5"
      },
      "outputs": [],
      "source": [
        "chattogram_tokenizer = spm.SentencePieceProcessor(model_file='/content/drive/MyDrive/chittagong_language/model/chattogram_model.model')\n",
        "bangla_tokenizer = spm.SentencePieceProcessor(model_file='/content/drive/MyDrive/chittagong_language/model/bangla_model.model')"
      ]
    },
    {
      "cell_type": "code",
      "execution_count": 31,
      "id": "1bbec599",
      "metadata": {
        "id": "1bbec599",
        "outputId": "c05d7060-89c5-4f89-d447-3cfaaf40225b",
        "colab": {
          "base_uri": "https://localhost:8080/"
        }
      },
      "outputs": [
        {
          "output_type": "execute_result",
          "data": {
            "text/plain": [
              "[87, 23, 163, 49, 229]"
            ]
          },
          "metadata": {},
          "execution_count": 31
        }
      ],
      "source": [
        "chattogram_tokenizer.encode(\"এত টিয়া হডে পাইয়ুম \")"
      ]
    },
    {
      "cell_type": "code",
      "execution_count": 32,
      "id": "96097394",
      "metadata": {
        "id": "96097394",
        "outputId": "44d80caa-11bb-4b99-d6c1-5fefd3819674",
        "colab": {
          "base_uri": "https://localhost:8080/"
        }
      },
      "outputs": [
        {
          "output_type": "execute_result",
          "data": {
            "text/plain": [
              "[16, 72, 92, 90, 25, 274, 6]"
            ]
          },
          "metadata": {},
          "execution_count": 32
        }
      ],
      "source": [
        "bangla_tokenizer.encode(\"আমি আবার বিয়ে করেছি।\")"
      ]
    },
    {
      "cell_type": "code",
      "execution_count": 33,
      "id": "c6171673",
      "metadata": {
        "id": "c6171673",
        "outputId": "833b59f3-dbce-4790-9e9c-994c8f397539",
        "colab": {
          "base_uri": "https://localhost:8080/"
        }
      },
      "outputs": [
        {
          "output_type": "stream",
          "name": "stdout",
          "text": [
            "['▁এত', '▁টিয়া', '▁হডে', '▁প', 'াইয়ুম']\n",
            "[87, 23, 163, 49, 229]\n",
            "['▁এত', '▁', 'টি', 'য়া', '▁হ', 'ড', 'ে', '▁পাই', 'য়', 'ু', 'ম']\n",
            "[368, 10, 84, 645, 60, 603, 7, 507, 35, 105, 177]\n"
          ]
        }
      ],
      "source": [
        "print(chattogram_tokenizer.encode_as_pieces('এত টিয়া হডে পাইয়ুম '))\n",
        "print(chattogram_tokenizer.encode_as_ids('এত টিয়া হডে পাইয়ুম '))\n",
        "\n",
        "print(bangla_tokenizer.encode_as_pieces('এত টিয়া হডে পাইয়ুম '))\n",
        "print(bangla_tokenizer.encode_as_ids('এত টিয়া হডে পাইয়ুম '))"
      ]
    },
    {
      "cell_type": "markdown",
      "source": [
        "### Generate and save vocab files"
      ],
      "metadata": {
        "id": "T46RV5TkK4Gc"
      },
      "id": "T46RV5TkK4Gc"
    },
    {
      "cell_type": "code",
      "execution_count": 34,
      "id": "a1bc6a64",
      "metadata": {
        "id": "a1bc6a64"
      },
      "outputs": [],
      "source": [
        "from torchtext.vocab import vocab\n",
        "def build_vocab(sentences, tokenizer):\n",
        "    counter = Counter()\n",
        "    for sentence in sentences:\n",
        "        # print(sentence)\n",
        "        if isinstance(sentence, list):\n",
        "            sentence = sentence[0]\n",
        "        counter.update(tokenizer.encode(sentence, out_type=str))\n",
        "    print(counter)\n",
        "    return vocab(counter, specials=['<unk>', '<pad>', '<bos>', '<eos>'], special_first=True)\n"
      ]
    },
    {
      "cell_type": "code",
      "source": [],
      "metadata": {
        "id": "U2hw5L7MwcyL"
      },
      "id": "U2hw5L7MwcyL",
      "execution_count": 34,
      "outputs": []
    },
    {
      "cell_type": "code",
      "execution_count": 35,
      "id": "3bb23f27",
      "metadata": {
        "id": "3bb23f27",
        "colab": {
          "base_uri": "https://localhost:8080/",
          "height": 35
        },
        "outputId": "155bab60-ecad-415a-809e-3fea5c95d92f"
      },
      "outputs": [
        {
          "output_type": "execute_result",
          "data": {
            "text/plain": [
              "'0.16.0+cpu'"
            ],
            "application/vnd.google.colaboratory.intrinsic+json": {
              "type": "string"
            }
          },
          "metadata": {},
          "execution_count": 35
        }
      ],
      "source": [
        "torchtext.__version__"
      ]
    },
    {
      "cell_type": "code",
      "source": [
        "print('input sentence: ',train_chattogram[0])\n",
        "chattogram_tokenizer.encode(train_chattogram[0])"
      ],
      "metadata": {
        "colab": {
          "base_uri": "https://localhost:8080/"
        },
        "id": "kIFWtLiAusLG",
        "outputId": "356e5bf4-867d-448b-ebc3-aa164960cbc4"
      },
      "id": "kIFWtLiAusLG",
      "execution_count": 36,
      "outputs": [
        {
          "output_type": "stream",
          "name": "stdout",
          "text": [
            "input sentence:  অনেরা\n"
          ]
        },
        {
          "output_type": "execute_result",
          "data": {
            "text/plain": [
              "[529]"
            ]
          },
          "metadata": {},
          "execution_count": 36
        }
      ]
    },
    {
      "cell_type": "markdown",
      "source": [
        "### Merge train and val to generate a vocab"
      ],
      "metadata": {
        "id": "hjV6TiGqK1qc"
      },
      "id": "hjV6TiGqK1qc"
    },
    {
      "cell_type": "code",
      "source": [
        "full_chattogram=train_chattogram+val_chattogram\n",
        "full_bangla=train_bangla+val_bangla\n",
        "print(len(full_chattogram))\n",
        "print(len(full_bangla))"
      ],
      "metadata": {
        "colab": {
          "base_uri": "https://localhost:8080/"
        },
        "id": "JnHQl-zsK8Do",
        "outputId": "23b581f2-23ce-40f9-d452-44e33f97c709"
      },
      "id": "JnHQl-zsK8Do",
      "execution_count": 37,
      "outputs": [
        {
          "output_type": "stream",
          "name": "stdout",
          "text": [
            "800\n",
            "800\n"
          ]
        }
      ]
    },
    {
      "cell_type": "code",
      "source": [
        "full_chattogram_vocab = build_vocab(full_chattogram, chattogram_tokenizer)\n",
        "print('len of full chattogram vocab: ',len(full_chattogram_vocab))"
      ],
      "metadata": {
        "colab": {
          "base_uri": "https://localhost:8080/"
        },
        "id": "pOLHp37lLbK8",
        "outputId": "64212651-b945-4310-dabd-2fbca1d874b6"
      },
      "id": "pOLHp37lLbK8",
      "execution_count": 38,
      "outputs": [
        {
          "output_type": "stream",
          "name": "stdout",
          "text": [
            "Counter({'র': 163, '?': 130, '▁ন': 127, 'ত': 120, 'ে': 89, '।': 88, '▁আই': 71, '▁না': 66, 'ন': 54, 'া': 51, 'ি': 51, '▁আর': 51, 'ম': 50, '▁তুই': 50, 'রে': 49, ',': 49, '▁কী': 43, '▁দে': 42, '▁হ': 42, '▁টিয়া': 37, '▁এ': 36, '▁': 35, 'য়': 32, '▁আ': 32, 'ার': 30, 'ই': 29, '▁গ': 29, '▁কি': 29, 'ো': 29, '▁মা': 28, '▁নাই': 27, 'স': 27, '▁হন': 27, '▁তোয়ার': 25, '▁ব': 24, '▁হথা': 24, '▁গর': 23, '▁গরি': 22, '▁দ': 22, '▁কা': 22, '▁কিছু': 22, 'ুন': 21, 'রি': 21, '▁আরা': 21, '▁ক': 20, '▁ত': 20, 'ের': 20, 'ক': 20, '▁হই': 20, '▁প': 18, '▁ফ': 18, '▁অ': 18, '▁দি': 17, '▁আছে': 17, 'ল': 17, '▁আরে': 17, '▁ভা': 16, '▁বা': 16, '▁চ': 16, '▁ল': 16, '▁হা': 16, 'দে': 16, '▁চাই': 15, 'লা': 15, 'ু': 15, '▁এবে': 15, '▁ম': 14, '▁স': 14, 'লে': 14, '▁দাম': 14, '▁লা': 14, '▁যা': 14, '▁য': 13, '্যা': 13, 'ী': 13, 'নে': 13, '▁খ': 13, '▁এত': 13, '▁সা': 13, '▁ওয়া': 13, 'াই': 13, 'গিন': 13, 'না': 13, '▁কেন': 13, 'উ': 12, '▁তুয়ার': 12, 'দ্দে': 12, '▁ইয়ান': 12, '▁ও': 12, 'ব': 12, '▁মন': 12, '▁তুর': 12, 'হ': 12, '▁আছো': 11, '▁হব': 11, 'ত্ত': 11, 'রা': 11, 'দি': 11, 'দ': 11, '▁এই': 11, '▁মাথা': 11, 'শ': 11, '▁এন': 11, '▁হন্ডে': 11, '▁বে': 10, '▁বিয়াক': 10, '▁দিন': 10, '▁কডে': 10, 'ট': 10, '▁লই': 10, 'প': 10, '▁ফল': 10, '▁লাই': 10, '▁যাই': 10, '▁মাছ': 10, '▁এক': 10, 'ল্লা': 10, '▁নেই': 10, '▁অয়': 10, 'ছ': 9, '▁হর': 9, 'বি': 9, '▁নাম': 9, '▁গই': 9, '▁বিয়া': 9, 'ুর': 9, '▁শ': 9, '▁পা': 9, 'তে': 9, 'বার': 9, '▁বারি': 9, '▁কাম': 9, 'ও': 9, '▁এক্কান': 9, '▁আগে': 9, 'গ': 9, 'বাস': 9, '▁দিলা': 9, '▁হত': 9, '▁বিয়ে': 9, '▁পরিব': 9, '▁এহন': 9, '▁তোর': 9, '▁বদ্দা': 8, 'ইজ্জে': 8, '▁গরর': 8, '▁ফোয়া': 8, 'ারে': 8, '▁ভাই': 8, 'য়েরে': 8, '▁বাড়ি': 8, '▁হডে': 8, 'জ': 8, '▁কিয়া': 8, '▁জানি': 8, '▁দু': 8, '▁গান': 8, 'য়ে': 8, '▁বই': 8, '▁ওডো': 8, '▁কে': 8, 'তাম': 8, '▁লার': 8, '▁দেহ': 8, '▁অনে': 7, '▁ইবা': 7, '▁মানুষ': 7, 'য়া': 7, '▁দিল': 7, '▁ভ': 7, 'জি': 7, '.': 7, '▁মার': 7, 'কা': 7, '▁গু': 7, 'ক্ক': 7, '▁ফুয়া': 7, '▁ডা': 7, 'খ': 7, '▁বালা': 7, '▁যার': 7, '▁বাপ': 7, 'াইয়ুম': 7, 'চ': 7, '▁ছা': 7, 'লাম': 7, '▁আইত': 7, 'িবি': 7, '▁পোয়া': 7, '▁ডর': 6, '▁উ': 6, '্যু': 6, '▁ইয়া': 6, '▁গাড়ী': 6, '▁বু': 6, '▁ই': 6, '▁চুর': 6, '▁ছে': 6, '▁আল্লা': 6, 'ঁ': 6, '▁গরে': 6, '’': 6, 'তি': 6, '▁মাইয়া': 6, '▁বুঝ': 6, '▁মাইনসে': 6, '্': 6, '▁ডইল্ল': 6, '▁ভালা': 6, '▁আরার': 6, 'ির': 6, '▁জা': 6, 'ং': 6, 'ইয়ু': 6, '▁পার': 6, '▁দর': 6, '▁ছাই': 6, '▁বেশ': 6, '▁গরন': 6, 'ইগ্গ': 6, '▁অইব': 6, 'ষ': 6, '▁অই': 6, '▁হাম': 6, '▁চা': 6, '▁হাই': 6, '▁হয়': 6, '▁আছি': 6, '▁হার': 6, 'িয়ে': 6, '▁এতে': 6, 'ান': 5, 'য়সা': 5, 'ডু': 5, '▁দেশ': 5, 'বা': 5, '▁টে': 5, 'িন': 5, '▁মারি': 5, 'ায়': 5, '▁ড': 5, '▁হতা': 5, '▁সু': 5, 'ইল্লে': 5, 'লার': 5, '▁ফুন': 5, 'ডা': 5, '▁ফাড': 5, '▁আজিয়ে': 5, '▁বো': 5, '▁রে': 5, '▁চিন': 5, 'ুম': 5, '▁গেই': 5, 'ধু': 5, '▁ঘু': 5, '▁আরত': 5, '▁লে': 5, '▁দন': 5, '▁ওগ্গ': 5, '▁কারন': 5, 'ইলে': 5, '▁ঝ': 5, '▁নদী': 5, '▁টান': 5, '▁অন': 5, '▁হাল': 5, '▁বাজি': 5, '▁পরে': 5, 'াজ': 5, '▁তোরে': 5, '▁হনো': 5, '▁হাইয়ুম': 5, '▁যায়': 5, '▁কিল্লাই': 5, 'য়ি': 5, '▁ধর': 5, '▁গরিস': 5, '▁এডাম': 5, '▁কীর': 5, '▁ইতার': 4, '▁আ্যাই': 4, 'ইন্না': 4, '▁বিয়াকে': 4, '▁বি': 4, '▁রাস্তা': 4, '▁দুই': 4, '▁ইক্ক': 4, '▁হাত': 4, '▁উড': 4, 'ইয়ে': 4, '▁টা': 4, '▁গিইয়ে': 4, '▁ফাই': 4, 'োর': 4, '▁তোয়ারা': 4, '▁ভু': 4, 'ট্ট': 4, '▁জান': 4, '▁ইতারা': 4, '▁মাত': 4, '▁দুর': 4, '▁খানা': 4, '▁গুই': 4, '▁মু': 4, '▁হেড': 4, '▁জ': 4, 'সি': 4, 'ম্মা': 4, '▁দোষ': 4, 'গান': 4, '▁বাইর': 4, '▁চল': 4, '▁মি': 4, 'ূল': 4, 'োয়া': 4, 'রো': 4, 'ণ': 4, 'গা': 4, '▁ঠা': 4, '▁পিডা': 4, '▁ফিছে': 4, '▁মর': 4, '▁পাড়া': 4, '▁থি': 4, 'নি': 4, 'ন্ড': 4, '▁যে': 4, '▁আছিল': 4, '▁রাখ': 4, '▁মরি': 4, 'িস': 4, '▁চু': 4, 'ডি': 4, '▁তার': 4, '▁কোন': 4, 'াত': 4, 'দিন': 4, 'মেলা': 4, '▁আয়': 4, '▁সুখের': 4, 'ঃ': 4, '▁ভালো': 4, '▁ফেলা': 4, '...': 4, '▁ভাল': 4, '▁বাই': 4, 'েট': 4, '▁হায়': 4, '▁আইস': 4, 'োচ': 4, '▁আছ': 4, 'ন্ডে': 4, '▁য়ুম': 4, 'োনা': 4, '▁বিয়াগ্গুন': 4, 'গর': 4, '▁আচ': 4, '▁তোরা': 4, '▁পল': 4, '▁অনেরা': 3, '▁অল': 3, 'সা': 3, '▁ডরাই': 3, 'যু': 3, '▁ক্যান': 3, '▁ক্যা': 3, 'ইত্ত': 3, '▁লাইগ্গু': 3, '▁যাইব': 3, 'ন্ন': 3, 'ারাপ': 3, 'জ্জ্য': 3, 'ন্নি': 3, 'িইয়্যে': 3, 'ষ্ট': 3, '▁পইসা': 3, 'াল': 3, 'বাই': 3, '▁গেইল': 3, '▁জাগা': 3, '▁জিনিষ': 3, 'তু': 3, '▁বারো': 3, '▁যদ্দ': 3, '▁জন': 3, '▁বার': 3, '▁ভে': 3, 'জাল': 3, 'ড়ি': 3, '▁পড়': 3, '▁পর': 3, '▁মাস্টর': 3, 'ছে': 3, '্ডা': 3, '▁এককান': 3, 'ইবু': 3, 'জ্জা': 3, 'বে': 3, '▁হদুয়া': 3, '▁দুয়ান': 3, '▁গাতা': 3, '▁লাগে': 3, '▁ব্যা': 3, 'ডে': 3, '▁বুঝিলা': 3, '▁খাই': 3, '▁চাইর': 3, '▁ফু': 3, 'নত': 3, '▁কুত্তা': 3, '▁কত': 3, 'িয়া': 3, '▁বর': 3, '▁অইল': 3, '▁কন': 3, '▁ফরিবু': 3, '্ত': 3, '▁হস্তা': 3, '▁থাক': 3, '▁বদ': 3, 'সার': 3, '▁গাছ': 3, '▁চিক্ক': 3, 'ুরে': 3, '▁খা': 3, '▁মেম্ব': 3, '▁দিবু': 3, 'ম্পা': 3, 'ইজ্জা': 3, '▁মজা': 3, 'সত': 3, '্র': 3, 'বাজার': 3, '▁ঠি': 3, '▁ইইন': 3, 'চ্চ': 3, 'েল': 3, '▁দিলাম': 3, '▁খেলা': 3, 'দা': 3, '▁কোয়াল': 3, '▁অবস্থা': 3, '▁ঘর': 3, 'ানি': 3, '▁ফই': 3, 'গুই': 3, 'ইদ্দ': 3, 'িষ': 3, 'ৈ': 3, '▁.': 3, '▁পাই': 3, '▁..': 3, 'প্': 3, '্য': 3, '▁ঘ': 3, '▁পে': 3, '▁গা': 3, '▁ছিড': 3, '▁হু': 3, '▁সি': 3, '▁মাইনসের': 3, '▁বুইজ্জ': 3, '▁তোরার': 3, 'পি': 3, '▁জালা': 3, 'স্স': 3, '▁হারাপ': 3, 'দ্দি': 3, 'লদা': 3, '▁লাগিব': 3, '▁য়ে': 3, 'িদি': 3, '▁হাওয়': 3, 'হার': 3, '▁ইয়েন': 3, '▁থাম': 3, 'ঠন': 3, '▁কীল্লায়': 3, '▁তুরে': 3, '▁ফ্': 2, '▁আজিয়া': 2, '▁খাইল': 2, '▁তু': 2, '▁গোস': 2, '▁ঐ': 2, '▁আইস্সু': 2, '▁আইবে': 2, 'টা': 2, 'ধান': 2, '▁চলে': 2, '▁আস': 2, '▁পড': 2, '▁মশকার': 2, '▁ফানলা': 2, 'য়লা': 2, '▁গিয': 2, '▁সক': 2, '▁বাইন': 2, '▁মাইনষে': 2, '▁বড': 2, '▁ফড়ি': 2, '▁হারো': 2, 'টর': 2, '▁গইজ্জু': 2, '▁ঠিয়া': 2, 'য়ুম': 2, '▁বাজের': 2, 'রফ': 2, 'িক্ক': 2, '▁সাম': 2, '▁আইয়ের': 2, 'ক্কা': 2, '▁ঝুড়ি': 2, '▁গাল': 2, '▁বিচ': 2, '▁গরিবু': 2, 'ছিরা': 2, 'াকি': 2, 'বাজি': 2, 'ানী': 2, 'লু': 2, 'ম্ব': 2, '▁মাল': 2, 'ড়': 2, '▁যাবিনি': 2, 'িক': 2, 'ইন': 2, '▁যাইয়': 2, '▁বেডি': 2, 'অ': 2, '▁অইয়ে': 2, 'স্কুল': 2, 'িয়ুস': 2, '▁মেজা': 2, '▁পন্না': 2, '▁ঠে': 2, '▁বান্ধ': 2, 'রিবু': 2, '▁তুয়ারে': 2, '▁টাইম': 2, '▁বেড়া': 2, 'োন্দ': 2, '▁ত্যানা': 2, '▁উদ্দি': 2, '▁বাজার': 2, '▁কো': 2, '▁কিন': 2, '▁ফড়িবু': 2, '▁খাল': 2, '▁চোর': 2, 'জা': 2, '▁কালিয়ে': 2, '▁তো': 2, '▁কান্দে': 2, '▁ফিত': 2, '▁জিনিস': 2, '▁বাইক্ক': 2, '▁বাড়াই': 2, '▁ছু': 2, '▁বেচ': 2, '▁দুয়া': 2, '▁আসস': 2, 'ুন্দ': 2, '▁মাতি': 2, '▁নল': 2, 'ইস': 2, '▁এরি': 2, 'ারী': 2, 'লি': 2, '▁সর': 2, '▁চিক্কার': 2, '▁কিত্তা': 2, '▁পান': 2, 'মারি': 2, '▁শীত': 2, '▁চিটা': 2, '▁ওডা': 2, '▁বিচি': 2, 'চা': 2, '▁ধ': 2, '▁চি': 2, 'ছি': 2, '▁এশত': 2, 'তাইজ্জা': 2, '▁ফা্তাইজ্জা': 2, 'থা': 2, '▁গাইল': 2, 'ল্টি': 2, '▁খত': 2, 'গ্গা': 2, 'রু': 2, 'টি': 2, 'োত': 2, 'ড': 2, '▁হিসাব': 2, '▁কানা': 2, '▁চো': 2, '▁জীবন': 2, '▁উন্': 2, '▁পরি': 2, 'েরে': 2, '▁আইস্সে': 2, '▁দইজ্জে': 2, '▁ঢ': 2, 'কি': 2, '▁তিন': 2, '▁ফরি': 2, 'জে': 2, '▁নো': 2, '▁আইয়ে': 2, 'ইঙ্গা': 2, '-': 2, '▁গেলা': 2, '▁ডাই': 2, 'ফুত': 2, 'ছা': 2, '▁যেন্ডে': 2, '▁হেন্ড': 2, 'ুস': 2, 'ইল': 2, '▁এ্যা': 2, 'াওয়া': 2, 'াইন্দুম': 2, '▁আঁর': 2, '▁ফেলাই': 2, 'াটর': 2, '▁ঝু': 2, '▁ডাইবার': 2, '▁লর': 2, '▁রাহি': 2, '▁হাক্কু': 2, 'ক্কুর': 2, '▁ফিছু': 2, 'হি': 2, '▁ওস্তাদ': 2, 'ফ': 2, '▁ফর': 2, '▁বেরেক': 2, '▁বিতুর': 2, '▁হদু': 2, '▁এর': 2, '▁থাহ': 2, 'তা': 2, 'টিক': 2, '▁ইডে': 2, '▁লাম': 2, '▁চলের': 2, 'ঙ': 2, '▁তোয়াই': 2, '▁কুইজ্জা': 2, '▁মামুরে': 2, '▁দিয়': 2, '▁হাইয়ু': 2, '▁মুত': 2, 'ুয়া': 2, 'ভেড': 2, '▁কম্বল': 2, 'দ্দ': 2, '▁হাইব': 2, 'তো': 2, '▁নিজের': 2, 'ইক্ক': 2, '▁ফেরা': 2, 'য়্যে': 2, \"'\": 2, '▁কুরা': 2, '▁বয়': 2, '▁মাই': 2, 'ড়া': 2, 'থি': 2, 'রজ': 2, '্ন': 2, '▁যায়বে': 2, '▁খাজু': 2, 'ইয়ুম': 2, '▁হাস': 2, 'ইবে': 2, '▁বানাইয়ুম': 2, '▁জাই': 2, 'ল্লে': 2, '▁গরজ্জ': 2, 'হা': 2, 'চি': 2, 'োয়াল': 2, '▁হরাপ': 2, 'ইসসু': 2, 'মান': 2, '▁বুজি': 2, '▁বিয়াগ্গ': 2, '▁তাম': 2, '▁হম': 2, 'ভ': 2, '▁চলিব': 2, '▁বাজা': 2, '▁লাইব': 2, '▁শু': 2, 'য়েন': 2, '▁অয়ে': 2, 'গো': 2, '▁মামু': 2, '▁ইসেব': 2, 'থ': 2, 'পল': 1, '▁কালিয়': 1, 'বান': 1, 'য়াকে': 1, '/': 1, 'আইব': 1, '▁খাইয': 1, 'তাল': 1, 'শত': 1, '▁পো': 1, '▁কির': 1, 'ইবো': 1, 'দুয়া': 1, 'শর': 1, '▁বদ্দ': 1, '্যাই': 1, '▁আ্': 1, 'ইয': 1, 'ুক্কু': 1, 'ডর': 1, '▁গি': 1, 'হাড': 1, '▁যাইতা': 1, '▁ফড়': 1, '▁ফি': 1, '▁কম': 1, 'িছু': 1, '▁ফড': 1, '▁অত': 1, 'ন্দর': 1, 'ীর': 1, '▁কিয়': 1, '▁তই': 1, 'চিত': 1, 'খা': 1, '▁ফুয': 1, 'াক': 1, 'উল': 1, 'াইবার': 1, 'মদ': 1, 'লের': 1, 'ত্তা': 1, 'ঈ': 1, '▁টিয়': 1, '▁ফো': 1, 'াড়ি': 1, 'জ্জে': 1, '▁বাড়': 1, 'েঁ': 1, '▁ভূ': 1, '▁খে': 1, 'াবি': 1, 'িলা': 1, '▁ইতা': 1, 'দান': 1, 'রিক্': 1, '্দা': 1, 'খত': 1, '▁চই': 1, 'ইয়ের': 1, 'ুই': 1, '্ব': 1, '▁বাল': 1, 'িশ': 1, 'গত': 1, 'মাত': 1, 'সস': 1, 'ফো': 1, '▁চলা': 1, 'ফেরা': 1, '▁ট': 1, '▁মাইনস': 1, '▁অফ': 1, 'ফারে': 1, '▁ইস': 1, 'কুল': 1, '▁মাস্ট': 1, 'ঘ': 1, 'েস': 1, '▁ফইল': 1, 'বর': 1, 'ল্ল্যা': 1, '▁বিয়াগ': 1, '▁শিক': 1, '্ই': 1, 'ামছ': 1, '▁হারা': 1, '▁বুজ': 1, 'ল্লি': 1, 'চার': 1, 'ুত': 1, 'এককান': 1, 'নিস': 1, '▁মাইন': 1, 'াইজ্জা': 1, 'াম': 1, '▁বাইন্': 1, 'ইলা': 1, 'দিলা': 1, 'খান': 1, '..': 1, '▁কাল': 1, '্টা': 1, '▁কুর': 1, 'ছুদ': 1, 'ঝ': 1, '▁সিন': 1, 'ল্': 1, '্কু': 1, 'দের': 1, '▁থিয়': 1, '▁গার': 1, 'পার': 1, 'জন': 1, '▁কই': 1, '▁ওস্তা': 1, '্তাদ': 1, 'লো': 1, '▁গো': 1, '▁কার': 1, 'খানা': 1, '▁যাবি': 1, '▁গইল্ল': 1, 'িলে': 1, '▁থাই': 1, 'ীত': 1, 'সী': 1, '▁থা': 1, '▁যেন': 1, '▁মাইজ্জ': 1, 'সু': 1, 'ম্ম': 1, '▁পিড': 1, '!': 1, 'দ্': 1, 'ফের': 1, 'ফুয়া': 1, '▁এ্য': 1, 'ডাম': 1, 'ল্যা': 1, 'লাহ': 1, 'ক্যা': 1, '▁কুইজ্জ': 1, '▁খেল': 1, 'গু': 1, '▁তুয়া': 1, 'ঠা': 1, '্তু': 1, 'য়াল': 1, 'ূ': 1, '▁চন': 1, 'ুদ্': 1, '▁যাইত': 1, 'ট্র': 1, '▁ব্য': 1, '▁দা': 1, 'ইজ্জাত': 1, '▁জম': 1, '▁জাল': 1, 'চর': 1, 'গইজ্জ': 1, 'লাইয়ে': 1, 'মের': 1, 'ওয়া': 1, 'ন্নত': 1, '▁ইন': 1, 'িল্ল': 1, 'ন্দ': 1, '▁ইত': 1, 'স্ত': 1, '▁এহ': 1, 'ইয়া': 1, 'াতি': 1, 'কত': 1, '১২': 1, 'ুদে': 1, '▁জি': 1, 'োল': 1, 'হাইয়ুম': 1, 'ক্': 1, 'খি': 1, 'মাস্ট': 1, '▁ওগ্': 1, 'দু': 1, 'য়ম': 1, 'কার': 1, 'নের': 1, '▁চলত': 1, '▁অব': 1, '▁হল': 1, 'ছো': 1, '▁আস্': 1, 'এ': 1, 'বু': 1, 'ারি': 1, 'লাই': 1, '▁ফা': 1, 'ধ': 1, '▁পু': 1})\n",
            "len of full chattogram vocab:  906\n"
          ]
        }
      ]
    },
    {
      "cell_type": "code",
      "source": [
        "full_bangla_vocab = build_vocab(full_bangla, bangla_tokenizer)\n",
        "print('len of full chattogram vocab: ',len(full_bangla_vocab))"
      ],
      "metadata": {
        "colab": {
          "base_uri": "https://localhost:8080/"
        },
        "id": "xwLMwpo7LsS9",
        "outputId": "45c08444-000e-4e97-ccbd-edbc365762c8"
      },
      "id": "xwLMwpo7LsS9",
      "execution_count": 39,
      "outputs": [
        {
          "output_type": "stream",
          "name": "stdout",
          "text": [
            "Counter({'?': 136, '।': 121, 'ে': 117, 'র': 112, '▁না': 98, '▁কী': 69, '▁আমি': 65, 'কে': 60, 'ি': 59, '▁আমা': 57, 'ন': 52, '▁': 51, 'ত': 51, 'ের': 50, 'তে': 48, '▁তুমি': 46, '▁টাকা': 42, '▁কেন': 41, 'রা': 40, '▁কথা': 39, 'ো': 37, 'া': 31, '▁ব': 31, '▁বল': 30, 'ই': 30, '▁ভালো': 27, '▁কোথায়': 27, '▁কিছু': 27, '▁করে': 26, 'ক': 26, ',': 26, 'স': 26, 'য়': 24, '▁ভা': 23, '▁মা': 23, '▁অ': 23, '▁ম': 23, '▁এটা': 22, '▁এ': 22, '▁কো': 22, 'ী': 21, '▁এই': 21, '▁তোমার': 21, '▁কে': 21, '▁নেই': 21, '▁ছেলে': 20, 'ার': 20, '▁কাজ': 19, 'লে': 18, '▁চল': 18, '▁হবে': 18, '▁কর': 18, '▁আর': 18, '▁কত': 17, 'নে': 17, '▁বাড়ি': 17, 'দের': 17, '▁দাম': 17, '▁যে': 16, '▁নাই': 16, '▁এখন': 16, '▁আছে': 16, '▁সব': 16, '▁ও': 16, '▁আস': 16, '▁কেমন': 15, 'ছ': 15, '▁তো': 15, 'টা': 15, '▁মানুষ': 15, '▁ন': 15, '▁আম': 15, '▁এক': 15, 'ছে': 14, '▁হ': 14, '▁থ': 14, '▁দি': 14, '▁দিন': 14, '▁ক': 14, '▁একটা': 14, 'ম': 14, 'না': 14, '▁তু': 14, '▁স': 13, '▁ভাই': 13, '▁খ': 13, '▁দিয়ে': 13, 'েকে': 13, 'ছো': 13, 'টি': 13, '▁আমাদের': 13, 'দি': 12, '▁পড়': 12, '▁কার': 12, '▁কি': 11, 'রে': 11, '▁আপনার': 11, '▁দেখ': 11, 'ড়': 11, '▁বিয়ে': 11, 'খান': 11, '▁আ': 11, 'ল': 11, 'ও': 11, 'সার': 11, '▁মাছ': 11, 'লা': 10, '▁শ': 10, '▁নাম': 10, 'জা': 10, 'বার': 10, '▁মেয়ে': 10, '▁পাগল': 10, 'দ': 10, '▁হয়েছে': 10, '▁তোমা': 10, '▁আপনি': 10, 'ব': 10, '▁করতে': 10, '▁যাব': 10, '▁পয়সা': 9, 'েন': 9, '▁বলে': 9, '▁দিলে': 9, '▁যাচ্ছে': 9, '▁ঝ': 9, '▁নি': 9, '▁মনে': 9, '▁সাথে': 9, '▁বাবা': 9, '▁নিয়ে': 9, '▁যা': 9, '▁গর': 9, '▁করব': 9, '▁জন্য': 9, '▁কষ্ট': 9, '▁সবাই': 8, '▁আছেন': 8, '▁বে': 8, 'াপ': 8, '▁তোম': 8, '্': 8, 'ছি': 8, 'জ': 8, 'লাম': 8, '▁থাক': 8, '▁নাকি': 8, 'ু': 8, '▁হয়ে': 8, '▁বুঝ': 8, 'ণ': 8, '▁বলব': 8, '▁করেন': 8, 'মাথা': 8, '▁আজকে': 7, '▁আপনাকে': 7, '▁ভয়': 7, '▁শুধু': 7, 'বর': 7, '▁প': 7, '▁সকাল': 7, '▁গেছে': 7, '▁পিছনে': 7, '▁চোর': 7, '▁কম': 7, '▁হয়': 7, '▁জ': 7, '▁দোষ': 7, '▁আগে': 7, '▁অবস্থা': 7, 'উ': 7, '▁এগুলো': 7, '▁পরে': 7, 'ড়া': 7, '▁এমন': 7, '▁পার': 7, '▁ধর': 7, '▁চ': 7, '▁ওকে': 7, '▁লাগতেছে': 7, '▁এত': 7, 'তেছে': 7, '▁কালকে': 6, '▁গ': 6, '▁যাবেন': 6, '▁প্র': 6, '▁দু': 6, '▁গেলে': 6, '▁ভে': 6, '▁সে': 6, '▁দেখে': 6, '▁আল্লাহ': 6, '▁জান': 6, 'ং': 6, '▁যাবে': 6, 'ট': 6, '▁বি': 6, '▁ত': 6, '▁ছ': 6, 'িয়ে': 6, '▁যাও': 6, 'ুর': 6, '▁বা': 6, '▁লাগবে': 6, 'সব': 6, '▁দ': 6, '▁ঠিক': 6, '▁খারাপ': 6, '▁ব্যা': 6, 'সুখ': 6, '▁হল': 6, 'চ': 6, '▁আছো': 6, '▁করি': 6, '▁তা': 5, '▁পাই': 5, '▁আসবেন': 5, '▁দুই': 5, '▁দেশ': 5, '▁দিবে': 5, '▁করবেন': 5, '▁সাম': 5, '▁ফ': 5, 'কা': 5, 'প': 5, 'ুন': 5, 'াদ': 5, '▁গাড়ী': 5, '▁সাগর': 5, 'দিন': 5, '▁দাও': 5, 'থে': 5, '▁অপ': 5, 'োনা': 5, '▁ডা': 5, 'িস': 5, '▁চিন': 5, '▁আসব': 5, 'াট': 5, 'ছেন': 5, '▁দেন': 5, '▁ভালোবা': 5, '▁সীট': 5, '▁বু': 5, '▁বসে': 5, 'াই': 5, '▁রকম': 5, '▁যাচ্ছ': 5, '▁মামা': 5, 'হা': 5, '▁বেশ': 5, '▁আছি': 5, 'াব': 5, '▁করিওনা': 5, '▁টা': 5, '▁ভাব': 5, '▁বলতেছো': 5, '▁করছেন': 4, '▁করছো': 4, 'ভ': 4, '▁হইসে': 4, 'ঙ্গ': 4, '▁কাদের': 4, '▁পাব': 4, '▁এইটা': 4, '▁পা': 4, 'বো': 4, '▁গু': 4, 'নি': 4, '▁বিচ': 4, '▁কই': 4, '▁ড': 4, '্রী': 4, '▁খাবা': 4, '▁গেছ': 4, 'দে': 4, 'মের': 4, '▁বুঝছ': 4, '▁খে': 4, '্বা': 4, '▁ঠ': 4, '▁পে': 4, 'ধ': 4, '▁সম': 4, '▁বাহিরে': 4, 'চো': 4, '▁পাড়': 4, '▁উ': 4, '▁কাল': 4, 'ান্ন': 4, 'য়ে': 4, 'কার': 4, '▁গাল': 4, '▁চে': 4, '▁নয়': 4, '▁শীত': 4, '▁বস': 4, '্যা': 4, 'সে': 4, 'বাজার': 4, 'শে': 4, '▁রাখ': 4, 'তি': 4, '▁ঘু': 4, '▁খেলা': 4, 'চড়া': 4, '▁পরি': 4, 'ভাব': 4, '▁কপাল': 4, '▁করলে': 4, 'রকম': 4, 'ওয়া': 4, '▁দাওয়া': 4, 'মেলা': 4, '▁জা': 4, 'হীন': 4, '▁ল': 4, 'থ': 4, 'গ': 4, 'স্ত': 4, '▁খাওয়া': 4, '▁ফেল': 4, 'জি': 4, '▁জানি': 4, 'ান্': 4, '▁বলতেছ': 4, 'াও': 4, 'মি': 4, '▁তুমা': 4, 'ীব': 4, '▁জানিনা': 4, 'থা': 4, '▁করতেছে': 4, '▁হবেনা': 4, 'ায়': 4, '▁আপনারা': 3, '▁ভ': 3, '/': 3, '▁খেয়েছেন': 3, 'জে': 3, 'ধান': 3, '▁গাড়ি': 3, '▁রাস্তা': 3, '▁গো': 3, '▁তাক': 3, '▁দিসে': 3, '▁হাত': 3, '▁ময়লা': 3, '▁উঠ': 3, '▁পারে': 3, '▁হঠাৎ': 3, '▁পড়ে': 3, '▁কাছ': 3, '▁বেশী': 3, '▁বাজ': 3, '▁আসো': 3, '▁শুক': 3, 'গড়া': 3, '▁থু': 3, 'মার': 3, 'নিও': 3, '▁মেরে': 3, '▁শিক্ষক': 3, '▁সা': 3, 'য়া': 3, '▁বিক্র': 3, '▁দে': 3, '▁দাওয়াত': 3, '▁সুন্দর': 3, '▁স্কুলে': 3, 'তা': 3, '▁দোকান': 3, 'বি': 3, 'াকা': 3, 'সি': 3, 'েল': 3, '▁বাবাজি': 3, '▁রাখব': 3, 'ডাই': 3, 'স্ট': 3, '▁লা': 3, 'লো': 3, '▁করুন': 3, '▁উপ': 3, '▁মাইরে': 3, 'চ্ছে': 3, '▁চুপ': 3, '▁র': 3, 'লেন': 3, 'োট': 3, '▁বদ': 3, 'মান': 3, '▁আপনা': 3, '▁শুন': 3, '▁মেম্': 3, '▁করবে': 3, 'খা': 3, '▁চট্টগ্রাম': 3, 'ির': 3, '▁পি': 3, '▁মার': 3, '▁ছিল': 3, 'রকার': 3, '▁খাবি': 3, 'পাশে': 3, '▁সমুদ্র': 3, '▁খালী': 3, '▁লাগ': 3, '▁শেষ': 3, 'ারি': 3, '▁সারা': 3, '▁পড়ব': 3, '▁ঘর': 3, '▁ভর': 3, '▁বউ': 3, '▁খাবো': 3, '্য': 3, '▁আন': 3, '▁করছে': 3, '▁আশা': 3, '▁বানাব': 3, '▁মধু': 3, 'িষ': 3, '▁ফেলে': 3, '▁প্রে': 3, '▁টান': 3, '▁জায়গা': 3, 'কাশ': 3, 'ক্ক': 3, '▁খুঁজ': 3, '▁অর্থে': 3, 'র্ত': 3, 'াম': 3, '▁থাকবে': 3, 'াজ': 3, '▁গাছ': 3, '▁যাই': 3, 'ডা': 3, '▁খাবনা': 3, '▁হালদা': 3, '▁সাহস': 3, '▁বলতে': 3, '▁চাই': 3, '▁খু': 3, '▁থাম': 3, '▁বলছি': 3, 'আগোছালো': 2, 'ুক': 2, '▁রাগ': 2, 'আসছেন': 2, '▁কয়ট': 2, '▁কিন': 2, 'েছি': 2, '▁যাওয়া': 2, 'ল্লা': 2, 'ান': 2, 'ষ্টা': 2, '▁মশকার': 2, '▁মনেহয়': 2, 'োরে': 2, 'াল': 2, '▁বেলা': 2, '▁জায়গাটা': 2, 'পুর': 2, '▁বারো': 2, '্র': 2, 'ভেট': 2, '▁রা': 2, 'ফি': 2, '▁পকেট': 2, '▁তেম': 2, '▁গে': 2, 'ঁ': 2, 'থায়': 2, '▁মন': 2, 'োগ': 2, '▁পরীক্ষা': 2, 'মু': 2, 'ধ্যে': 2, '▁ফাক': 2, '▁গলা': 2, '▁বলো': 2, 'ড়াচ্ছ': 2, 'ড়ি': 2, '▁মেজ': 2, 'ংক': 2, '▁ভোট': 2, '▁জামা': 2, 'খন': 2, 'য়ো': 2, 'াচ': 2, '▁উঠান': 2, '▁পাগলাম': 2, '▁শিখাচ্ছ': 2, '▁চার': 2, 'ুল': 2, 'াচ্ছ': 2, '▁পুরা': 2, 'ানী': 2, '▁আক্': 2, 'ঙ্গা': 2, 'ুরে': 2, 'ন্ট': 2, 'রিয়া': 2, '▁দেয়': 2, '▁,': 2, 'ূ': 2, '▁বিশ': 2, 'ৃ': 2, 'খ': 2, '▁ঘন': 2, '▁দাড়ি': 2, 'াচ্ছে': 2, '▁বাকি': 2, '▁জিনিষ': 2, '▁বাড়': 2, 'পা': 2, '▁খেয়ে': 2, 'রী': 2, '▁পায়': 2, '▁কোথা': 2, '▁করা': 2, '▁চেচা': 2, 'মে': 2, 'চি': 2, 'ছুর': 2, 'ৃথ': 2, '▁ট': 2, 'টে': 2, '্ত্র': 2, 'ৌ': 2, '▁বাধ': 2, '▁শুটক': 2, '▁শী': 2, '▁চি': 2, 'ঠা': 2, 'শত': 2, 'ঞ্চ': 2, 'িব': 2, 'মাত্র': 2, '▁সন্': 2, 'ক্স': 2, 'োন': 2, '-': 2, '▁নিম': 2, '্ন': 2, '▁ফেরা': 2, '▁একট': 2, 'রু': 2, 'পার': 2, '▁হিসেব': 2, '▁ঘ': 2, 'ষা': 2, '▁জীবন': 2, '▁ই': 2, '▁যার': 2, '▁এসে': 2, '▁যায়': 2, '▁খাই': 2, '▁পাওনা': 2, 'দার': 2, 'দ্র': 2, '▁তিন': 2, '▁সহজ': 2, '▁গেল': 2, '▁হই': 2, '▁পক্ষ': 2, 'াত': 2, '▁খেল': 2, '▁মারি': 2, '▁মিষ্ট': 2, 'কির': 2, 'ক্ত': 2, 'নো': 2, '্ধ': 2, '▁অভিভাবক': 2, '▁খাওয়াইছ': 2, '▁আরেকজন': 2, '▁ভূল': 2, '▁দিলেন': 2, '▁ছেড়ে': 2, '▁বহ': 2, 'ুড়': 2, '▁গান': 2, '▁লিখছি': 2, '▁গর্ত': 2, '্রেক': 2, '▁গায়ে': 2, '▁মহি': 2, '▁চাল': 2, 'িত': 2, '▁যান': 2, 'ামা': 2, 'সেন': 2, 'ড়ো': 2, '▁গড়': 2, 'ড়ে': 2, 'ূর': 2, '▁কম্বল': 2, '্চ': 2, '▁য': 2, 'ুখ': 2, '▁নিজের': 2, '▁ক্ষ': 2, 'ক্ষা': 2, '▁মোরগ': 2, 'াঁ': 2, '▁খেয়েছ': 2, 'চ্ছ': 2, '▁হত': 2, '▁খেজুর': 2, 'বেনা': 2, '▁কালো': 2, '▁শিক': 2, '▁আব': 2, '▁আস্ছ': 2, '▁আস্ছে': 2, 'গুলো': 2, 'বে': 2, '▁ছেলের': 2, '▁বেড়': 2, '▁আছ': 2, 'ষ্': 2, '▁হিসাব': 2, 'বাহ': 2, 'হ': 2, '▁দেখা': 2, 'িন': 2, '▁চা': 2, 'িক্ষ': 1, 'োজা': 1, '্ত': 1, 'রতা': 1, '▁পিছ': 1, '▁হঠা': 1, 'ো্': 1, '(': 1, ')': 1, '▁সকা': 1, '▁দর': 1, 'বাই': 1, 'শর': 1, '▁জিনি': 1, 'বেন': 1, '▁কয়': 1, 'েকজন': 1, 'থু': 1, 'চ্ছো': 1, 'েয়েছে': 1, 'োয': 1, '▁আসছে': 1, 'বাজি': 1, 'তকা': 1, 'লু': 1, 'োটর': 1, 'াইকে': 1, 'বান': 1, 'াচ্ছো': 1, 'জন': 1, 'টার': 1, '▁ওর': 1, 'াদের': 1, 'ানুষে': 1, '▁বেড়া': 1, 'কল': 1, 'হল': 1, 'দ্': 1, 'সবাই': 1, '▁রো': 1, 'ঈ': 1, 'ঙ্': 1, 'ত্র': 1, '▁বজ': 1, '▁ভূ': 1, 'াবেন': 1, '▁মশক': 1, 'দো': 1, 'রিক্': 1, 'ূল': 1, '▁গাছে': 1, 'র্': 1, 'অর্থে': 1, '▁সাহ': 1, 'িসে': 1, 'য়ল': 1, 'ৈ': 1, 'ৎ': 1, 'ালি': 1, 'শটি': 1, 'াশ': 1, 'কী': 1, 'াইন': 1, 'হজ': 1, 'িচার': 1, '▁চো': 1, 'ন্ন': 1, '▁ধ': 1, 'োকা': 1, '্তা': 1, 'শী': 1, '▁এর': 1, 'শো': 1, 'স্তার': 1, '▁মাইর': 1, 'হির': 1, 'াগত': 1, 'য়ত': 1, 'ুট': 1, 'একটি': 1, 'পক্ষে': 1, '▁আরেক': 1, 'রিষ': 1, 'জল': 1, 'ব্য': 1, 'ানা': 1, 'াড়ি': 1, 'পু': 1, 'ছিল': 1, '▁ভাল': 1, 'াবা': 1, '\\u200d': 1, '▁কা': 1, 'ঁব': 1, 'ালোবা': 1, 'গুন': 1, '্টা': 1, 'দ্দ': 1, '্রাইভ': 1, 'ঞ': 1, 'ঝে': 1, 'গ্র': 1, '▁মানু': 1, '▁ধা': 1, '▁পর': 1, 'হে': 1, 'িট': 1, 'শা': 1, 'াপা': 1, '▁ছেড়': 1, '▁স্': 1, 'দু': 1, '▁গা': 1, 'দা': 1, '্দ': 1, '▁শিক্ষ': 1, 'রো': 1, 'সো': 1, 'বদ': 1, '▁অর্থ': 1, '▁বাব': 1, 'টু': 1, 'কু': 1, 'তো': 1, 'া্': 1, 'গড়ি': 1, 'েম': 1, 'ড': 1, 'ঐ': 1, 'র্থ': 1, 'ঠে': 1, 'লী': 1, 'িন্ত': 1, '▁চট্ট': 1, 'তেছো': 1, '▁দা': 1, '▁বিয়': 1, 'পি': 1, '▁মহ': 1, 'সুর': 1, '▁করিও': 1, 'রিওনা': 1, '▁মাল': 1, 'িক': 1, 'িতেছ': 1, '▁আচ': 1, '▁খাওয়': 1, '▁এব': 1, '▁বড': 1, 'স্থ': 1, 'যা': 1, 'এ': 1, '▁জন': 1, '▁খেয়': 1, 'িতে': 1, 'ঢ': 1, 'োল': 1, '▁পাগলা': 1, 'েড': 1, 'মাস': 1, '্টার': 1, '▁থা': 1, '▁শু': 1, 'রাপ': 1, '▁ছি': 1, 'স্': 1, '▁জানে': 1, 'ভা': 1, 'ষ': 1, '▁খাব': 1, 'মা': 1, 'শ': 1, 'বা': 1})\n",
            "len of full chattogram vocab:  806\n"
          ]
        }
      ]
    },
    {
      "cell_type": "markdown",
      "source": [
        "## 6. Generate Train and Val Data Loader"
      ],
      "metadata": {
        "id": "L5YqggO_O21C"
      },
      "id": "L5YqggO_O21C"
    },
    {
      "cell_type": "code",
      "source": [
        "def data_process(chattogram, bangla):\n",
        "    data = []\n",
        "    for (raw_chattogram, raw_bangla) in zip(chattogram, bangla):\n",
        "        chattogram_tensor_ = torch.tensor([full_chattogram_vocab[token] for token in chattogram_tokenizer.encode(raw_chattogram, out_type=str)],dtype=torch.long)\n",
        "        bangla_tensor_ = torch.tensor([full_bangla_vocab[token] for token in bangla_tokenizer.encode(raw_bangla, out_type=str)],dtype=torch.long)\n",
        "        data.append((chattogram_tensor_, bangla_tensor_))\n",
        "    return data"
      ],
      "metadata": {
        "id": "3FKJafZpL7Yr"
      },
      "id": "3FKJafZpL7Yr",
      "execution_count": 40,
      "outputs": []
    },
    {
      "cell_type": "code",
      "source": [
        "train_data = data_process(train_chattogram, train_bangla)"
      ],
      "metadata": {
        "id": "hJvnfaabNEu-"
      },
      "id": "hJvnfaabNEu-",
      "execution_count": 41,
      "outputs": []
    },
    {
      "cell_type": "code",
      "source": [
        "train_data[:10]"
      ],
      "metadata": {
        "colab": {
          "base_uri": "https://localhost:8080/"
        },
        "id": "QX7sdk0fNLVt",
        "outputId": "31ee7fd9-d1a5-4715-9b83-f86ceab634d0"
      },
      "id": "QX7sdk0fNLVt",
      "execution_count": 42,
      "outputs": [
        {
          "output_type": "execute_result",
          "data": {
            "text/plain": [
              "[(tensor([4]), tensor([4])),\n",
              " (tensor([5, 6]), tensor([5, 6])),\n",
              " (tensor([7, 8, 9]), tensor([7, 8, 9])),\n",
              " (tensor([10]), tensor([10])),\n",
              " (tensor([11, 12]), tensor([11])),\n",
              " (tensor([13, 14, 15]), tensor([12, 13, 14])),\n",
              " (tensor([16, 17, 18]), tensor([15, 16, 11])),\n",
              " (tensor([19, 20]), tensor([17, 18])),\n",
              " (tensor([21, 22]), tensor([19])),\n",
              " (tensor([23]), tensor([20]))]"
            ]
          },
          "metadata": {},
          "execution_count": 42
        }
      ]
    },
    {
      "cell_type": "code",
      "source": [
        "val_data = data_process(val_chattogram, val_bangla)"
      ],
      "metadata": {
        "id": "DLJkiFHUMPiD"
      },
      "id": "DLJkiFHUMPiD",
      "execution_count": 43,
      "outputs": []
    },
    {
      "cell_type": "code",
      "source": [
        "val_data[:10]"
      ],
      "metadata": {
        "colab": {
          "base_uri": "https://localhost:8080/"
        },
        "id": "WywQnq2uM-tc",
        "outputId": "e32044d0-567c-40b8-d98f-6f4358d14f17"
      },
      "id": "WywQnq2uM-tc",
      "execution_count": 44,
      "outputs": [
        {
          "output_type": "execute_result",
          "data": {
            "text/plain": [
              "[(tensor([506, 275, 269,  71,  30, 300]),\n",
              "  tensor([ 39,  58,  13,  55,  56, 523,  63,  26])),\n",
              " (tensor([877, 299, 748, 444, 518, 113]),\n",
              "  tensor([ 94, 121, 324, 198, 209, 425, 130, 745])),\n",
              " (tensor([ 85, 584, 223, 444, 518, 113, 131]), tensor([247, 425, 130, 745])),\n",
              " (tensor([ 37,  30, 185,  49]), tensor([ 20, 690,  26])),\n",
              " (tensor([438,  75, 686, 898, 317]), tensor([150, 160,  49, 145, 462])),\n",
              " (tensor([438, 251, 126, 289, 540,  49,  54]),\n",
              "  tensor([150, 160,  49, 145, 462])),\n",
              " (tensor([ 85, 584, 223, 251,  66, 789]), tensor([247, 160, 706])),\n",
              " (tensor([428, 893, 199, 862]), tensor([274,  63, 794, 661, 771, 144])),\n",
              " (tensor([636,  20, 783, 784, 131]), tensor([221, 152,  46,  38])),\n",
              " (tensor([543,  49, 250, 178]), tensor([711, 208, 159, 160,  49]))]"
            ]
          },
          "metadata": {},
          "execution_count": 44
        }
      ]
    },
    {
      "cell_type": "code",
      "execution_count": 46,
      "id": "20bea7a5",
      "metadata": {
        "id": "20bea7a5"
      },
      "outputs": [],
      "source": [
        "BATCH_SIZE = 150\n",
        "PAD_IDX = full_chattogram_vocab['<pad>']\n",
        "BOS_IDX = full_chattogram_vocab['<bos>']\n",
        "EOS_IDX = full_chattogram_vocab['<eos>']\n",
        "\n",
        "def generate_batch(data_batch):\n",
        "    chattogram_batch, bangla_batch = [], []\n",
        "    for (chattogram_item, bangla_item) in data_batch:\n",
        "        chattogram_batch.append(torch.cat([torch.tensor([BOS_IDX]), chattogram_item, torch.tensor([EOS_IDX])], dim=0))\n",
        "        bangla_batch.append(torch.cat([torch.tensor([BOS_IDX]), bangla_item, torch.tensor([EOS_IDX])], dim=0))\n",
        "    chattogram_batch = pad_sequence(chattogram_batch, padding_value=PAD_IDX)\n",
        "    bangla_batch = pad_sequence(bangla_batch, padding_value=PAD_IDX)\n",
        "    return chattogram_batch, bangla_batch\n",
        "\n",
        "train_iter = DataLoader(train_data, batch_size=BATCH_SIZE,shuffle=True, collate_fn=generate_batch)\n",
        "val_iter = DataLoader(val_data, batch_size=BATCH_SIZE,shuffle=True, collate_fn=generate_batch)"
      ]
    },
    {
      "cell_type": "code",
      "source": [
        "for batch in val_iter:\n",
        "  print(batch[0][0])"
      ],
      "metadata": {
        "colab": {
          "base_uri": "https://localhost:8080/"
        },
        "id": "4HJ49RpROI92",
        "outputId": "bcc715e2-5d78-4abb-ba28-e3f6347f868a"
      },
      "id": "4HJ49RpROI92",
      "execution_count": 47,
      "outputs": [
        {
          "output_type": "stream",
          "name": "stdout",
          "text": [
            "tensor([2, 2, 2, 2, 2, 2, 2, 2, 2, 2, 2, 2, 2, 2, 2, 2, 2, 2, 2, 2, 2, 2, 2, 2,\n",
            "        2, 2, 2, 2, 2, 2, 2, 2, 2, 2, 2, 2, 2, 2, 2, 2, 2, 2, 2, 2, 2, 2, 2, 2,\n",
            "        2, 2, 2, 2, 2, 2, 2, 2, 2, 2, 2, 2, 2, 2, 2, 2, 2, 2, 2, 2, 2, 2, 2, 2,\n",
            "        2, 2, 2, 2, 2, 2, 2, 2, 2, 2, 2, 2, 2, 2, 2, 2, 2, 2, 2, 2, 2, 2, 2, 2,\n",
            "        2, 2, 2, 2, 2, 2, 2, 2, 2, 2, 2, 2, 2, 2, 2, 2, 2, 2, 2, 2, 2, 2, 2, 2,\n",
            "        2, 2, 2, 2, 2, 2, 2, 2, 2, 2, 2, 2, 2, 2, 2, 2, 2, 2, 2, 2, 2, 2, 2, 2,\n",
            "        2, 2, 2, 2, 2, 2])\n",
            "tensor([2, 2, 2, 2, 2, 2, 2, 2, 2, 2, 2, 2, 2, 2, 2, 2, 2, 2, 2, 2, 2, 2, 2, 2,\n",
            "        2, 2, 2, 2, 2, 2, 2, 2, 2, 2, 2, 2, 2, 2, 2, 2, 2, 2, 2, 2, 2, 2, 2, 2,\n",
            "        2, 2])\n"
          ]
        }
      ]
    },
    {
      "cell_type": "markdown",
      "source": [
        "## 7. Implement Sequence 2 Sequence (Seq2Seq) Model using Transformer"
      ],
      "metadata": {
        "id": "_Aj0IMwsPATR"
      },
      "id": "_Aj0IMwsPATR"
    },
    {
      "cell_type": "code",
      "execution_count": 48,
      "id": "f105defe",
      "metadata": {
        "id": "f105defe"
      },
      "outputs": [],
      "source": [
        "from torch.nn import (TransformerEncoder, TransformerDecoder,\n",
        "                      TransformerEncoderLayer, TransformerDecoderLayer)\n",
        "\n",
        "\n",
        "class Seq2SeqTransformer(nn.Module):\n",
        "    def __init__(self, num_encoder_layers: int, num_decoder_layers: int,\n",
        "                 emb_size: int, src_vocab_size: int, tgt_vocab_size: int,\n",
        "                 dim_feedforward:int = 512, dropout:float = 0.1):\n",
        "        super(Seq2SeqTransformer, self).__init__()\n",
        "        encoder_layer = TransformerEncoderLayer(\n",
        "            d_model=emb_size,\n",
        "            nhead=NHEAD,\n",
        "            dim_feedforward=dim_feedforward\n",
        "            )\n",
        "        self.transformer_encoder = TransformerEncoder(\n",
        "            encoder_layer,\n",
        "            num_layers=num_encoder_layers\n",
        "            )\n",
        "        decoder_layer = TransformerDecoderLayer(\n",
        "            d_model=emb_size,\n",
        "            nhead=NHEAD,\n",
        "            dim_feedforward=dim_feedforward\n",
        "            )\n",
        "        self.transformer_decoder = TransformerDecoder(\n",
        "            decoder_layer,\n",
        "            num_layers=num_decoder_layers\n",
        "            )\n",
        "\n",
        "        self.generator = nn.Linear(emb_size, tgt_vocab_size)\n",
        "        self.src_tok_emb = TokenEmbedding(src_vocab_size, emb_size)\n",
        "        self.tgt_tok_emb = TokenEmbedding(tgt_vocab_size, emb_size)\n",
        "        self.positional_encoding = PositionalEncoding(emb_size, dropout=dropout)\n",
        "\n",
        "    def forward(self, src: Tensor, trg: Tensor, src_mask: Tensor,\n",
        "                tgt_mask: Tensor, src_padding_mask: Tensor,\n",
        "                tgt_padding_mask: Tensor, memory_key_padding_mask: Tensor):\n",
        "        src_emb = self.positional_encoding(self.src_tok_emb(src))\n",
        "        tgt_emb = self.positional_encoding(self.tgt_tok_emb(trg))\n",
        "        memory = self.transformer_encoder(src_emb, src_mask, src_padding_mask)\n",
        "        outs = self.transformer_decoder(tgt_emb, memory, tgt_mask, None,\n",
        "                                        tgt_padding_mask, memory_key_padding_mask)\n",
        "        return self.generator(outs)\n",
        "\n",
        "    def encode(self, src: Tensor, src_mask: Tensor):\n",
        "        return self.transformer_encoder(self.positional_encoding(\n",
        "                            self.src_tok_emb(src)), src_mask)\n",
        "\n",
        "    def decode(self, tgt: Tensor, memory: Tensor, tgt_mask: Tensor):\n",
        "        return self.transformer_decoder(self.positional_encoding(\n",
        "                          self.tgt_tok_emb(tgt)), memory,\n",
        "                          tgt_mask)"
      ]
    },
    {
      "cell_type": "code",
      "execution_count": 49,
      "id": "5ba0825f",
      "metadata": {
        "id": "5ba0825f"
      },
      "outputs": [],
      "source": [
        "class PositionalEncoding(nn.Module):\n",
        "    def __init__(self, emb_size: int, dropout, maxlen: int = 5000):\n",
        "        super(PositionalEncoding, self).__init__()\n",
        "        den = torch.exp(- torch.arange(0, emb_size, 2) * math.log(10000) / emb_size)\n",
        "        pos = torch.arange(0, maxlen).reshape(maxlen, 1)\n",
        "        pos_embedding = torch.zeros((maxlen, emb_size))\n",
        "        pos_embedding[:, 0::2] = torch.sin(pos * den)\n",
        "        pos_embedding[:, 1::2] = torch.cos(pos * den)\n",
        "        pos_embedding = pos_embedding.unsqueeze(-2)\n",
        "\n",
        "        self.dropout = nn.Dropout(dropout)\n",
        "        self.register_buffer('pos_embedding', pos_embedding)\n",
        "\n",
        "    def forward(self, token_embedding: Tensor):\n",
        "        return self.dropout(token_embedding +\n",
        "                            self.pos_embedding[:token_embedding.size(0),:])\n",
        "\n",
        "class TokenEmbedding(nn.Module):\n",
        "    def __init__(self, vocab_size: int, emb_size):\n",
        "        super(TokenEmbedding, self).__init__()\n",
        "        self.embedding = nn.Embedding(vocab_size, emb_size)\n",
        "        self.emb_size = emb_size\n",
        "    def forward(self, tokens: Tensor):\n",
        "        return self.embedding(tokens.long()) * math.sqrt(self.emb_size)"
      ]
    },
    {
      "cell_type": "code",
      "execution_count": 50,
      "id": "b7485ee9",
      "metadata": {
        "id": "b7485ee9"
      },
      "outputs": [],
      "source": [
        "def generate_square_subsequent_mask(sz):\n",
        "    mask = (torch.triu(torch.ones((sz, sz), device=device)) == 1).transpose(0, 1)\n",
        "    mask = mask.float().masked_fill(mask == 0, float('-inf')).masked_fill(mask == 1, float(0.0))\n",
        "    return mask\n",
        "\n",
        "def create_mask(src, tgt):\n",
        "    src_seq_len = src.shape[0]\n",
        "    tgt_seq_len = tgt.shape[0]\n",
        "\n",
        "    tgt_mask = generate_square_subsequent_mask(tgt_seq_len)\n",
        "    src_mask = torch.zeros((src_seq_len, src_seq_len), device=device).type(torch.bool)\n",
        "\n",
        "    src_padding_mask = (src == PAD_IDX).transpose(0, 1)\n",
        "    tgt_padding_mask = (tgt == PAD_IDX).transpose(0, 1)\n",
        "    return src_mask, tgt_mask, src_padding_mask, tgt_padding_mask"
      ]
    },
    {
      "cell_type": "markdown",
      "source": [
        "## 8. Define Train Parameter for Seq2Seq Model"
      ],
      "metadata": {
        "id": "-TV2jtyJRc0R"
      },
      "id": "-TV2jtyJRc0R"
    },
    {
      "cell_type": "code",
      "execution_count": 51,
      "id": "aee59d2c",
      "metadata": {
        "id": "aee59d2c",
        "colab": {
          "base_uri": "https://localhost:8080/"
        },
        "outputId": "01b72ea7-c788-429e-b644-08178457b291"
      },
      "outputs": [
        {
          "output_type": "stream",
          "name": "stderr",
          "text": [
            "/usr/local/lib/python3.10/dist-packages/torch/nn/modules/transformer.py:282: UserWarning: enable_nested_tensor is True, but self.use_nested_tensor is False because encoder_layer.self_attn.batch_first was not True(use batch_first for better inference performance)\n",
            "  warnings.warn(f\"enable_nested_tensor is True, but self.use_nested_tensor is False because {why_not_sparsity_fast_path}\")\n"
          ]
        }
      ],
      "source": [
        "from tqdm import tqdm\n",
        "SRC_VOCAB_SIZE = len(full_chattogram_vocab)\n",
        "TGT_VOCAB_SIZE = len(full_bangla_vocab)\n",
        "EMB_SIZE = 512\n",
        "NHEAD = 8\n",
        "FFN_HID_DIM = 512\n",
        "BATCH_SIZE = 150\n",
        "NUM_ENCODER_LAYERS = 6\n",
        "NUM_DECODER_LAYERS = 6\n",
        "NUM_EPOCHS = 300\n",
        "\n",
        "\n",
        "transformer = Seq2SeqTransformer(NUM_ENCODER_LAYERS, NUM_DECODER_LAYERS,\n",
        "                                 EMB_SIZE, SRC_VOCAB_SIZE, TGT_VOCAB_SIZE,\n",
        "                                 FFN_HID_DIM)\n",
        "\n",
        "for p in transformer.parameters():\n",
        "    if p.dim() > 1:\n",
        "        nn.init.xavier_uniform_(p)\n",
        "\n",
        "transformer = transformer.to(device)\n",
        "\n",
        "loss_fn = torch.nn.CrossEntropyLoss(ignore_index=PAD_IDX)\n",
        "\n",
        "optimizer = torch.optim.Adam(transformer.parameters(), lr=0.0001, betas=(0.9, 0.98), eps=1e-9)\n",
        "\n",
        "def train_epoch(model, train_iter, optimizer):\n",
        "    model.train()\n",
        "    losses = 0\n",
        "    for idx, (src, tgt) in enumerate(train_iter):\n",
        "#         print(\"training iter : \", idx)\n",
        "#     for idx in tqdm(range(len(train_iter))):\n",
        "#         src, tgt = train_iter[idx]\n",
        "        src = src.to(device)\n",
        "        tgt = tgt.to(device)\n",
        "\n",
        "        tgt_input = tgt[:-1, :]\n",
        "\n",
        "        src_mask, tgt_mask, src_padding_mask, tgt_padding_mask = create_mask(src, tgt_input)\n",
        "\n",
        "        logits = model(src, tgt_input, src_mask, tgt_mask,\n",
        "                                src_padding_mask, tgt_padding_mask, src_padding_mask)\n",
        "\n",
        "        optimizer.zero_grad()\n",
        "\n",
        "        tgt_out = tgt[1:,:]\n",
        "        loss = loss_fn(logits.reshape(-1, logits.shape[-1]), tgt_out.reshape(-1))\n",
        "        loss.backward()\n",
        "\n",
        "        optimizer.step()\n",
        "        losses += loss.item()\n",
        "    return losses / len(train_iter)\n"
      ]
    },
    {
      "cell_type": "code",
      "execution_count": 52,
      "id": "c2dabc04",
      "metadata": {
        "id": "c2dabc04"
      },
      "outputs": [],
      "source": [
        "def evaluate(model, val_iter):\n",
        "    model.eval()\n",
        "    losses = 0\n",
        "    for idx, (src, tgt) in (enumerate(val_iter)):\n",
        "#         print(idx)\n",
        "        src = src.to(device)\n",
        "        tgt = tgt.to(device)\n",
        "\n",
        "        tgt_input = tgt[:-1, :]\n",
        "\n",
        "        src_mask, tgt_mask, src_padding_mask, tgt_padding_mask = create_mask(src, tgt_input)\n",
        "\n",
        "        logits = model(src, tgt_input, src_mask, tgt_mask,\n",
        "                                  src_padding_mask, tgt_padding_mask, src_padding_mask)\n",
        "        tgt_out = tgt[1:,:]\n",
        "        loss = loss_fn(logits.reshape(-1, logits.shape[-1]), tgt_out.reshape(-1))\n",
        "        losses += loss.item()\n",
        "    return losses / len(val_iter)"
      ]
    },
    {
      "cell_type": "markdown",
      "source": [
        "## 9. Train Seq2Seq Transformer Model"
      ],
      "metadata": {
        "id": "-heTFR3lRt3w"
      },
      "id": "-heTFR3lRt3w"
    },
    {
      "cell_type": "code",
      "execution_count": 53,
      "id": "a130e410",
      "metadata": {
        "id": "a130e410",
        "colab": {
          "base_uri": "https://localhost:8080/"
        },
        "outputId": "22034c93-50c1-4949-86df-df45448b0aa9"
      },
      "outputs": [
        {
          "output_type": "stream",
          "name": "stderr",
          "text": [
            "/usr/local/lib/python3.10/dist-packages/torch/nn/functional.py:5076: UserWarning: Support for mismatched key_padding_mask and attn_mask is deprecated. Use same type for both instead.\n",
            "  warnings.warn(\n"
          ]
        },
        {
          "output_type": "stream",
          "name": "stdout",
          "text": [
            "Epoch: 1, Train loss: 6.480, val loss : 6.055 Epoch time = 2.070s\n",
            "Epoch: 2, Train loss: 6.001, val loss : 5.772 Epoch time = 0.867s\n",
            "Epoch: 3, Train loss: 5.848, val loss : 5.654 Epoch time = 0.897s\n",
            "Epoch: 4, Train loss: 5.767, val loss : 5.605 Epoch time = 0.801s\n",
            "Epoch: 5, Train loss: 5.702, val loss : 5.570 Epoch time = 0.911s\n",
            "Epoch: 6, Train loss: 5.657, val loss : 5.532 Epoch time = 0.795s\n",
            "Epoch: 7, Train loss: 5.615, val loss : 5.568 Epoch time = 0.790s\n",
            "Epoch: 8, Train loss: 5.584, val loss : 5.468 Epoch time = 0.804s\n",
            "Epoch: 9, Train loss: 5.545, val loss : 5.538 Epoch time = 0.908s\n",
            "Epoch: 10, Train loss: 5.499, val loss : 5.435 Epoch time = 0.814s\n",
            "Epoch: 11, Train loss: 5.404, val loss : 5.385 Epoch time = 0.835s\n",
            "Epoch: 12, Train loss: 5.313, val loss : 5.254 Epoch time = 0.894s\n",
            "Epoch: 13, Train loss: 5.184, val loss : 5.167 Epoch time = 0.805s\n",
            "Epoch: 14, Train loss: 5.065, val loss : 5.279 Epoch time = 0.892s\n",
            "Epoch: 15, Train loss: 4.958, val loss : 5.030 Epoch time = 0.834s\n",
            "Epoch: 16, Train loss: 4.833, val loss : 5.017 Epoch time = 0.891s\n",
            "Epoch: 17, Train loss: 4.709, val loss : 5.011 Epoch time = 0.897s\n",
            "Epoch: 18, Train loss: 4.579, val loss : 4.859 Epoch time = 0.817s\n",
            "Epoch: 19, Train loss: 4.462, val loss : 4.936 Epoch time = 0.923s\n",
            "Epoch: 20, Train loss: 4.343, val loss : 4.867 Epoch time = 0.826s\n",
            "Epoch: 21, Train loss: 4.227, val loss : 4.834 Epoch time = 0.903s\n",
            "Epoch: 22, Train loss: 4.121, val loss : 4.858 Epoch time = 0.828s\n",
            "Epoch: 23, Train loss: 4.014, val loss : 4.795 Epoch time = 0.921s\n",
            "Epoch: 24, Train loss: 3.900, val loss : 4.768 Epoch time = 0.850s\n",
            "Epoch: 25, Train loss: 3.822, val loss : 4.830 Epoch time = 0.921s\n",
            "Epoch: 26, Train loss: 3.705, val loss : 4.650 Epoch time = 0.818s\n",
            "Epoch: 27, Train loss: 3.621, val loss : 4.786 Epoch time = 0.880s\n",
            "Epoch: 28, Train loss: 3.541, val loss : 4.826 Epoch time = 0.816s\n",
            "Epoch: 29, Train loss: 3.457, val loss : 4.738 Epoch time = 0.948s\n",
            "Epoch: 30, Train loss: 3.382, val loss : 4.740 Epoch time = 0.830s\n",
            "Epoch: 31, Train loss: 3.312, val loss : 4.718 Epoch time = 0.993s\n",
            "Epoch: 32, Train loss: 3.223, val loss : 4.756 Epoch time = 0.843s\n",
            "Epoch: 33, Train loss: 3.165, val loss : 4.650 Epoch time = 0.845s\n",
            "Epoch: 34, Train loss: 3.094, val loss : 4.588 Epoch time = 0.851s\n",
            "Epoch: 35, Train loss: 3.004, val loss : 4.666 Epoch time = 0.926s\n",
            "Epoch: 36, Train loss: 2.947, val loss : 4.776 Epoch time = 0.844s\n",
            "Epoch: 37, Train loss: 2.854, val loss : 4.642 Epoch time = 0.901s\n",
            "Epoch: 38, Train loss: 2.794, val loss : 4.691 Epoch time = 0.827s\n",
            "Epoch: 39, Train loss: 2.744, val loss : 4.656 Epoch time = 0.944s\n",
            "Epoch: 40, Train loss: 2.682, val loss : 4.749 Epoch time = 0.850s\n",
            "Epoch: 41, Train loss: 2.629, val loss : 4.604 Epoch time = 0.917s\n",
            "Epoch: 42, Train loss: 2.549, val loss : 4.641 Epoch time = 0.850s\n",
            "Epoch: 43, Train loss: 2.500, val loss : 4.613 Epoch time = 0.920s\n",
            "Epoch: 44, Train loss: 2.433, val loss : 4.556 Epoch time = 0.939s\n",
            "Epoch: 45, Train loss: 2.391, val loss : 4.701 Epoch time = 0.921s\n",
            "Epoch: 46, Train loss: 2.323, val loss : 4.622 Epoch time = 0.846s\n",
            "Epoch: 47, Train loss: 2.272, val loss : 4.674 Epoch time = 0.989s\n",
            "Epoch: 48, Train loss: 2.216, val loss : 4.567 Epoch time = 0.864s\n",
            "Epoch: 49, Train loss: 2.170, val loss : 4.523 Epoch time = 0.965s\n",
            "Epoch: 50, Train loss: 2.119, val loss : 4.636 Epoch time = 0.869s\n",
            "Epoch: 51, Train loss: 2.090, val loss : 4.770 Epoch time = 0.953s\n",
            "Epoch: 52, Train loss: 2.037, val loss : 4.611 Epoch time = 0.945s\n",
            "Epoch: 53, Train loss: 1.979, val loss : 4.546 Epoch time = 0.936s\n",
            "Epoch: 54, Train loss: 1.925, val loss : 4.532 Epoch time = 0.973s\n",
            "Epoch: 55, Train loss: 1.866, val loss : 4.614 Epoch time = 0.989s\n",
            "Epoch: 56, Train loss: 1.835, val loss : 4.593 Epoch time = 0.866s\n",
            "Epoch: 57, Train loss: 1.781, val loss : 4.506 Epoch time = 0.946s\n",
            "Epoch: 58, Train loss: 1.723, val loss : 4.675 Epoch time = 0.868s\n",
            "Epoch: 59, Train loss: 1.680, val loss : 4.567 Epoch time = 0.964s\n",
            "Epoch: 60, Train loss: 1.638, val loss : 4.645 Epoch time = 0.886s\n",
            "Epoch: 61, Train loss: 1.592, val loss : 4.589 Epoch time = 0.984s\n",
            "Epoch: 62, Train loss: 1.552, val loss : 4.537 Epoch time = 0.879s\n",
            "Epoch: 63, Train loss: 1.516, val loss : 4.796 Epoch time = 0.940s\n",
            "Epoch: 64, Train loss: 1.474, val loss : 4.576 Epoch time = 0.964s\n",
            "Epoch: 65, Train loss: 1.454, val loss : 4.673 Epoch time = 0.871s\n",
            "Epoch: 66, Train loss: 1.398, val loss : 4.621 Epoch time = 0.865s\n",
            "Epoch: 67, Train loss: 1.380, val loss : 4.683 Epoch time = 0.866s\n",
            "Epoch: 68, Train loss: 1.324, val loss : 4.593 Epoch time = 0.933s\n",
            "Epoch: 69, Train loss: 1.297, val loss : 4.553 Epoch time = 0.874s\n",
            "Epoch: 70, Train loss: 1.264, val loss : 4.525 Epoch time = 0.873s\n",
            "Epoch: 71, Train loss: 1.228, val loss : 4.558 Epoch time = 0.866s\n",
            "Epoch: 72, Train loss: 1.193, val loss : 4.674 Epoch time = 0.861s\n",
            "Epoch: 73, Train loss: 1.164, val loss : 4.802 Epoch time = 0.944s\n",
            "Epoch: 74, Train loss: 1.119, val loss : 4.744 Epoch time = 0.870s\n",
            "Epoch: 75, Train loss: 1.087, val loss : 4.757 Epoch time = 0.885s\n",
            "Epoch: 76, Train loss: 1.054, val loss : 4.604 Epoch time = 0.846s\n",
            "Epoch: 77, Train loss: 1.014, val loss : 4.557 Epoch time = 0.855s\n",
            "Epoch: 78, Train loss: 0.991, val loss : 4.836 Epoch time = 0.941s\n",
            "Epoch: 79, Train loss: 0.964, val loss : 4.696 Epoch time = 0.872s\n",
            "Epoch: 80, Train loss: 0.925, val loss : 4.548 Epoch time = 0.941s\n",
            "Epoch: 81, Train loss: 0.898, val loss : 4.694 Epoch time = 0.883s\n",
            "Epoch: 82, Train loss: 0.867, val loss : 4.826 Epoch time = 0.929s\n",
            "Epoch: 83, Train loss: 0.864, val loss : 4.769 Epoch time = 0.877s\n",
            "Epoch: 84, Train loss: 0.816, val loss : 4.571 Epoch time = 0.941s\n",
            "Epoch: 85, Train loss: 0.784, val loss : 4.691 Epoch time = 0.870s\n",
            "Epoch: 86, Train loss: 0.773, val loss : 4.806 Epoch time = 0.945s\n",
            "Epoch: 87, Train loss: 0.746, val loss : 4.863 Epoch time = 0.939s\n",
            "Epoch: 88, Train loss: 0.728, val loss : 4.603 Epoch time = 0.881s\n",
            "Epoch: 89, Train loss: 0.702, val loss : 4.635 Epoch time = 0.953s\n",
            "Epoch: 90, Train loss: 0.672, val loss : 4.766 Epoch time = 0.860s\n",
            "Epoch: 91, Train loss: 0.661, val loss : 4.722 Epoch time = 0.910s\n",
            "Epoch: 92, Train loss: 0.640, val loss : 4.822 Epoch time = 0.867s\n",
            "Epoch: 93, Train loss: 0.616, val loss : 4.838 Epoch time = 0.944s\n",
            "Epoch: 94, Train loss: 0.595, val loss : 4.702 Epoch time = 0.874s\n",
            "Epoch: 95, Train loss: 0.577, val loss : 4.808 Epoch time = 0.955s\n",
            "Epoch: 96, Train loss: 0.569, val loss : 4.797 Epoch time = 0.864s\n",
            "Epoch: 97, Train loss: 0.549, val loss : 4.785 Epoch time = 0.942s\n",
            "Epoch: 98, Train loss: 0.526, val loss : 4.923 Epoch time = 0.933s\n",
            "Epoch: 99, Train loss: 0.511, val loss : 4.740 Epoch time = 0.875s\n",
            "Epoch: 100, Train loss: 0.493, val loss : 4.724 Epoch time = 0.963s\n",
            "Epoch: 101, Train loss: 0.473, val loss : 4.919 Epoch time = 0.872s\n",
            "Epoch: 102, Train loss: 0.453, val loss : 4.929 Epoch time = 0.950s\n",
            "Epoch: 103, Train loss: 0.450, val loss : 4.821 Epoch time = 0.857s\n",
            "Epoch: 104, Train loss: 0.432, val loss : 4.942 Epoch time = 0.922s\n",
            "Epoch: 105, Train loss: 0.414, val loss : 4.889 Epoch time = 0.875s\n",
            "Epoch: 106, Train loss: 0.397, val loss : 5.075 Epoch time = 0.947s\n",
            "Epoch: 107, Train loss: 0.388, val loss : 4.838 Epoch time = 0.853s\n",
            "Epoch: 108, Train loss: 0.374, val loss : 4.732 Epoch time = 0.924s\n",
            "Epoch: 109, Train loss: 0.363, val loss : 4.937 Epoch time = 0.844s\n",
            "Epoch: 110, Train loss: 0.349, val loss : 4.895 Epoch time = 0.966s\n",
            "Epoch: 111, Train loss: 0.334, val loss : 4.941 Epoch time = 0.860s\n",
            "Epoch: 112, Train loss: 0.333, val loss : 4.744 Epoch time = 0.928s\n",
            "Epoch: 113, Train loss: 0.322, val loss : 4.795 Epoch time = 0.867s\n",
            "Epoch: 114, Train loss: 0.309, val loss : 4.858 Epoch time = 0.983s\n",
            "Epoch: 115, Train loss: 0.296, val loss : 4.817 Epoch time = 0.889s\n",
            "Epoch: 116, Train loss: 0.289, val loss : 4.909 Epoch time = 0.934s\n",
            "Epoch: 117, Train loss: 0.275, val loss : 4.820 Epoch time = 0.862s\n",
            "Epoch: 118, Train loss: 0.287, val loss : 4.961 Epoch time = 0.934s\n",
            "Epoch: 119, Train loss: 0.265, val loss : 4.898 Epoch time = 0.981s\n",
            "Epoch: 120, Train loss: 0.256, val loss : 4.799 Epoch time = 0.869s\n",
            "Epoch: 121, Train loss: 0.247, val loss : 4.964 Epoch time = 0.960s\n",
            "Epoch: 122, Train loss: 0.240, val loss : 4.969 Epoch time = 0.851s\n",
            "Epoch: 123, Train loss: 0.232, val loss : 5.017 Epoch time = 0.950s\n",
            "Epoch: 124, Train loss: 0.226, val loss : 4.967 Epoch time = 0.880s\n",
            "Epoch: 125, Train loss: 0.215, val loss : 4.764 Epoch time = 0.924s\n",
            "Epoch: 126, Train loss: 0.219, val loss : 5.026 Epoch time = 0.850s\n",
            "Epoch: 127, Train loss: 0.216, val loss : 5.127 Epoch time = 0.915s\n",
            "Epoch: 128, Train loss: 0.199, val loss : 4.762 Epoch time = 0.874s\n",
            "Epoch: 129, Train loss: 0.197, val loss : 5.061 Epoch time = 0.951s\n",
            "Epoch: 130, Train loss: 0.192, val loss : 5.061 Epoch time = 0.855s\n",
            "Epoch: 131, Train loss: 0.180, val loss : 5.087 Epoch time = 0.883s\n",
            "Epoch: 132, Train loss: 0.181, val loss : 5.147 Epoch time = 0.943s\n",
            "Epoch: 133, Train loss: 0.172, val loss : 5.019 Epoch time = 0.882s\n",
            "Epoch: 134, Train loss: 0.163, val loss : 5.060 Epoch time = 0.875s\n",
            "Epoch: 135, Train loss: 0.159, val loss : 4.907 Epoch time = 0.862s\n",
            "Epoch: 136, Train loss: 0.155, val loss : 4.931 Epoch time = 0.951s\n",
            "Epoch: 137, Train loss: 0.154, val loss : 4.991 Epoch time = 0.863s\n",
            "Epoch: 138, Train loss: 0.146, val loss : 5.119 Epoch time = 0.959s\n",
            "Epoch: 139, Train loss: 0.142, val loss : 4.971 Epoch time = 0.956s\n",
            "Epoch: 140, Train loss: 0.139, val loss : 4.995 Epoch time = 0.928s\n",
            "Epoch: 141, Train loss: 0.137, val loss : 5.217 Epoch time = 0.874s\n",
            "Epoch: 142, Train loss: 0.127, val loss : 5.072 Epoch time = 0.891s\n",
            "Epoch: 143, Train loss: 0.133, val loss : 5.105 Epoch time = 0.844s\n",
            "Epoch: 144, Train loss: 0.128, val loss : 5.117 Epoch time = 0.916s\n",
            "Epoch: 145, Train loss: 0.129, val loss : 5.012 Epoch time = 0.860s\n",
            "Epoch: 146, Train loss: 0.118, val loss : 5.207 Epoch time = 0.969s\n",
            "Epoch: 147, Train loss: 0.119, val loss : 5.101 Epoch time = 0.884s\n",
            "Epoch: 148, Train loss: 0.112, val loss : 5.211 Epoch time = 0.877s\n",
            "Epoch: 149, Train loss: 0.110, val loss : 5.034 Epoch time = 0.876s\n",
            "Epoch: 150, Train loss: 0.109, val loss : 5.030 Epoch time = 0.966s\n",
            "Epoch: 151, Train loss: 0.102, val loss : 5.180 Epoch time = 0.972s\n",
            "Epoch: 152, Train loss: 0.103, val loss : 5.071 Epoch time = 0.865s\n",
            "Epoch: 153, Train loss: 0.106, val loss : 5.256 Epoch time = 0.869s\n",
            "Epoch: 154, Train loss: 0.096, val loss : 5.067 Epoch time = 0.855s\n",
            "Epoch: 155, Train loss: 0.096, val loss : 5.194 Epoch time = 0.971s\n",
            "Epoch: 156, Train loss: 0.090, val loss : 5.237 Epoch time = 0.989s\n",
            "Epoch: 157, Train loss: 0.094, val loss : 5.066 Epoch time = 0.863s\n",
            "Epoch: 158, Train loss: 0.089, val loss : 5.339 Epoch time = 0.945s\n",
            "Epoch: 159, Train loss: 0.085, val loss : 5.350 Epoch time = 0.855s\n",
            "Epoch: 160, Train loss: 0.085, val loss : 5.163 Epoch time = 0.988s\n",
            "Epoch: 161, Train loss: 0.084, val loss : 5.102 Epoch time = 0.848s\n",
            "Epoch: 162, Train loss: 0.082, val loss : 5.156 Epoch time = 0.880s\n",
            "Epoch: 163, Train loss: 0.078, val loss : 5.039 Epoch time = 0.865s\n",
            "Epoch: 164, Train loss: 0.079, val loss : 5.332 Epoch time = 0.919s\n",
            "Epoch: 165, Train loss: 0.075, val loss : 5.271 Epoch time = 0.886s\n",
            "Epoch: 166, Train loss: 0.080, val loss : 5.222 Epoch time = 0.942s\n",
            "Epoch: 167, Train loss: 0.076, val loss : 5.055 Epoch time = 0.921s\n",
            "Epoch: 168, Train loss: 0.073, val loss : 5.311 Epoch time = 0.861s\n",
            "Epoch: 169, Train loss: 0.072, val loss : 5.245 Epoch time = 0.930s\n",
            "Epoch: 170, Train loss: 0.067, val loss : 5.298 Epoch time = 0.850s\n",
            "Epoch: 171, Train loss: 0.070, val loss : 5.207 Epoch time = 0.951s\n",
            "Epoch: 172, Train loss: 0.068, val loss : 5.377 Epoch time = 0.883s\n",
            "Epoch: 173, Train loss: 0.067, val loss : 5.237 Epoch time = 0.948s\n",
            "Epoch: 174, Train loss: 0.066, val loss : 5.425 Epoch time = 0.856s\n",
            "Epoch: 175, Train loss: 0.059, val loss : 5.483 Epoch time = 0.942s\n",
            "Epoch: 176, Train loss: 0.061, val loss : 5.339 Epoch time = 0.868s\n",
            "Epoch: 177, Train loss: 0.062, val loss : 5.432 Epoch time = 0.996s\n",
            "Epoch: 178, Train loss: 0.057, val loss : 5.409 Epoch time = 0.930s\n",
            "Epoch: 179, Train loss: 0.054, val loss : 5.376 Epoch time = 0.879s\n",
            "Epoch: 180, Train loss: 0.055, val loss : 5.333 Epoch time = 0.957s\n",
            "Epoch: 181, Train loss: 0.056, val loss : 5.452 Epoch time = 0.884s\n",
            "Epoch: 182, Train loss: 0.051, val loss : 5.483 Epoch time = 0.967s\n",
            "Epoch: 183, Train loss: 0.051, val loss : 5.346 Epoch time = 0.878s\n",
            "Epoch: 184, Train loss: 0.051, val loss : 5.261 Epoch time = 0.938s\n",
            "Epoch: 185, Train loss: 0.049, val loss : 5.289 Epoch time = 0.873s\n",
            "Epoch: 186, Train loss: 0.048, val loss : 5.497 Epoch time = 0.870s\n",
            "Epoch: 187, Train loss: 0.050, val loss : 5.411 Epoch time = 0.890s\n",
            "Epoch: 188, Train loss: 0.046, val loss : 5.583 Epoch time = 0.967s\n",
            "Epoch: 189, Train loss: 0.048, val loss : 5.278 Epoch time = 0.934s\n",
            "Epoch: 190, Train loss: 0.044, val loss : 5.278 Epoch time = 0.872s\n",
            "Epoch: 191, Train loss: 0.048, val loss : 5.469 Epoch time = 0.965s\n",
            "Epoch: 192, Train loss: 0.046, val loss : 5.582 Epoch time = 0.866s\n",
            "Epoch: 193, Train loss: 0.047, val loss : 5.408 Epoch time = 0.939s\n",
            "Epoch: 194, Train loss: 0.048, val loss : 5.214 Epoch time = 0.859s\n",
            "Epoch: 195, Train loss: 0.042, val loss : 5.441 Epoch time = 0.931s\n",
            "Epoch: 196, Train loss: 0.046, val loss : 5.372 Epoch time = 0.896s\n",
            "Epoch: 197, Train loss: 0.045, val loss : 5.513 Epoch time = 0.916s\n",
            "Epoch: 198, Train loss: 0.039, val loss : 5.286 Epoch time = 0.957s\n",
            "Epoch: 199, Train loss: 0.041, val loss : 5.535 Epoch time = 0.971s\n",
            "Epoch: 200, Train loss: 0.041, val loss : 5.426 Epoch time = 0.970s\n",
            "Epoch: 201, Train loss: 0.041, val loss : 5.454 Epoch time = 0.864s\n",
            "Epoch: 202, Train loss: 0.038, val loss : 5.528 Epoch time = 0.861s\n",
            "Epoch: 203, Train loss: 0.037, val loss : 5.727 Epoch time = 0.971s\n",
            "Epoch: 204, Train loss: 0.035, val loss : 5.637 Epoch time = 0.858s\n",
            "Epoch: 205, Train loss: 0.036, val loss : 5.588 Epoch time = 0.960s\n",
            "Epoch: 206, Train loss: 0.036, val loss : 5.607 Epoch time = 0.871s\n",
            "Epoch: 207, Train loss: 0.037, val loss : 5.541 Epoch time = 0.931s\n",
            "Epoch: 208, Train loss: 0.039, val loss : 5.536 Epoch time = 0.871s\n",
            "Epoch: 209, Train loss: 0.035, val loss : 5.473 Epoch time = 0.932s\n",
            "Epoch: 210, Train loss: 0.034, val loss : 5.397 Epoch time = 0.896s\n",
            "Epoch: 211, Train loss: 0.033, val loss : 5.601 Epoch time = 0.874s\n",
            "Epoch: 212, Train loss: 0.029, val loss : 5.630 Epoch time = 0.874s\n",
            "Epoch: 213, Train loss: 0.031, val loss : 5.348 Epoch time = 0.945s\n",
            "Epoch: 214, Train loss: 0.033, val loss : 5.856 Epoch time = 0.969s\n",
            "Epoch: 215, Train loss: 0.031, val loss : 5.319 Epoch time = 0.874s\n",
            "Epoch: 216, Train loss: 0.029, val loss : 5.595 Epoch time = 0.948s\n",
            "Epoch: 217, Train loss: 0.029, val loss : 5.527 Epoch time = 0.854s\n",
            "Epoch: 218, Train loss: 0.026, val loss : 5.486 Epoch time = 0.966s\n",
            "Epoch: 219, Train loss: 0.028, val loss : 5.769 Epoch time = 0.878s\n",
            "Epoch: 220, Train loss: 0.030, val loss : 5.358 Epoch time = 0.957s\n",
            "Epoch: 221, Train loss: 0.028, val loss : 5.781 Epoch time = 0.875s\n",
            "Epoch: 222, Train loss: 0.031, val loss : 5.436 Epoch time = 0.940s\n",
            "Epoch: 223, Train loss: 0.029, val loss : 5.605 Epoch time = 0.865s\n",
            "Epoch: 224, Train loss: 0.028, val loss : 5.591 Epoch time = 1.008s\n",
            "Epoch: 225, Train loss: 0.030, val loss : 5.894 Epoch time = 0.861s\n",
            "Epoch: 226, Train loss: 0.025, val loss : 5.660 Epoch time = 0.947s\n",
            "Epoch: 227, Train loss: 0.024, val loss : 5.720 Epoch time = 0.858s\n",
            "Epoch: 228, Train loss: 0.030, val loss : 5.933 Epoch time = 0.917s\n",
            "Epoch: 229, Train loss: 0.026, val loss : 5.456 Epoch time = 0.882s\n",
            "Epoch: 230, Train loss: 0.029, val loss : 5.615 Epoch time = 0.920s\n",
            "Epoch: 231, Train loss: 0.026, val loss : 5.593 Epoch time = 0.849s\n",
            "Epoch: 232, Train loss: 0.025, val loss : 5.990 Epoch time = 0.969s\n",
            "Epoch: 233, Train loss: 0.025, val loss : 5.607 Epoch time = 0.868s\n",
            "Epoch: 234, Train loss: 0.025, val loss : 5.734 Epoch time = 0.875s\n",
            "Epoch: 235, Train loss: 0.027, val loss : 5.739 Epoch time = 0.934s\n",
            "Epoch: 236, Train loss: 0.023, val loss : 5.670 Epoch time = 0.900s\n",
            "Epoch: 237, Train loss: 0.025, val loss : 5.590 Epoch time = 0.867s\n",
            "Epoch: 238, Train loss: 0.026, val loss : 5.884 Epoch time = 0.883s\n",
            "Epoch: 239, Train loss: 0.025, val loss : 5.658 Epoch time = 0.932s\n",
            "Epoch: 240, Train loss: 0.026, val loss : 5.821 Epoch time = 0.881s\n",
            "Epoch: 241, Train loss: 0.024, val loss : 5.709 Epoch time = 0.940s\n",
            "Epoch: 242, Train loss: 0.022, val loss : 5.924 Epoch time = 0.868s\n",
            "Epoch: 243, Train loss: 0.021, val loss : 5.813 Epoch time = 0.949s\n",
            "Epoch: 244, Train loss: 0.023, val loss : 5.776 Epoch time = 0.869s\n",
            "Epoch: 245, Train loss: 0.023, val loss : 6.011 Epoch time = 0.948s\n",
            "Epoch: 246, Train loss: 0.023, val loss : 5.725 Epoch time = 0.870s\n",
            "Epoch: 247, Train loss: 0.024, val loss : 5.863 Epoch time = 0.919s\n",
            "Epoch: 248, Train loss: 0.023, val loss : 5.685 Epoch time = 0.872s\n",
            "Epoch: 249, Train loss: 0.026, val loss : 5.703 Epoch time = 0.943s\n",
            "Epoch: 250, Train loss: 0.020, val loss : 5.857 Epoch time = 0.877s\n",
            "Epoch: 251, Train loss: 0.021, val loss : 5.537 Epoch time = 0.890s\n",
            "Epoch: 252, Train loss: 0.020, val loss : 5.985 Epoch time = 0.877s\n",
            "Epoch: 253, Train loss: 0.017, val loss : 5.895 Epoch time = 0.951s\n",
            "Epoch: 254, Train loss: 0.019, val loss : 5.767 Epoch time = 0.859s\n",
            "Epoch: 255, Train loss: 0.021, val loss : 5.969 Epoch time = 0.943s\n",
            "Epoch: 256, Train loss: 0.020, val loss : 5.937 Epoch time = 0.862s\n",
            "Epoch: 257, Train loss: 0.019, val loss : 5.817 Epoch time = 0.958s\n",
            "Epoch: 258, Train loss: 0.018, val loss : 5.955 Epoch time = 0.857s\n",
            "Epoch: 259, Train loss: 0.018, val loss : 6.294 Epoch time = 0.944s\n",
            "Epoch: 260, Train loss: 0.017, val loss : 5.819 Epoch time = 0.939s\n",
            "Epoch: 261, Train loss: 0.016, val loss : 5.793 Epoch time = 0.877s\n",
            "Epoch: 262, Train loss: 0.020, val loss : 5.875 Epoch time = 0.931s\n",
            "Epoch: 263, Train loss: 0.020, val loss : 5.746 Epoch time = 0.906s\n",
            "Epoch: 264, Train loss: 0.019, val loss : 5.892 Epoch time = 0.929s\n",
            "Epoch: 265, Train loss: 0.020, val loss : 5.895 Epoch time = 0.861s\n",
            "Epoch: 266, Train loss: 0.017, val loss : 5.762 Epoch time = 0.966s\n",
            "Epoch: 267, Train loss: 0.018, val loss : 6.010 Epoch time = 0.942s\n",
            "Epoch: 268, Train loss: 0.017, val loss : 5.842 Epoch time = 0.872s\n",
            "Epoch: 269, Train loss: 0.017, val loss : 6.163 Epoch time = 0.972s\n",
            "Epoch: 270, Train loss: 0.017, val loss : 5.973 Epoch time = 0.876s\n",
            "Epoch: 271, Train loss: 0.017, val loss : 5.904 Epoch time = 0.939s\n",
            "Epoch: 272, Train loss: 0.020, val loss : 5.820 Epoch time = 0.884s\n",
            "Epoch: 273, Train loss: 0.019, val loss : 5.779 Epoch time = 0.856s\n",
            "Epoch: 274, Train loss: 0.021, val loss : 5.916 Epoch time = 0.870s\n",
            "Epoch: 275, Train loss: 0.019, val loss : 5.719 Epoch time = 0.949s\n",
            "Epoch: 276, Train loss: 0.016, val loss : 6.116 Epoch time = 0.876s\n",
            "Epoch: 277, Train loss: 0.019, val loss : 5.629 Epoch time = 0.909s\n",
            "Epoch: 278, Train loss: 0.016, val loss : 5.969 Epoch time = 0.951s\n",
            "Epoch: 279, Train loss: 0.014, val loss : 5.804 Epoch time = 0.874s\n",
            "Epoch: 280, Train loss: 0.014, val loss : 6.207 Epoch time = 0.945s\n",
            "Epoch: 281, Train loss: 0.015, val loss : 5.908 Epoch time = 0.858s\n",
            "Epoch: 282, Train loss: 0.014, val loss : 5.821 Epoch time = 0.848s\n",
            "Epoch: 283, Train loss: 0.016, val loss : 6.168 Epoch time = 0.958s\n",
            "Epoch: 284, Train loss: 0.012, val loss : 5.847 Epoch time = 0.872s\n",
            "Epoch: 285, Train loss: 0.013, val loss : 5.851 Epoch time = 0.853s\n",
            "Epoch: 286, Train loss: 0.014, val loss : 6.217 Epoch time = 0.972s\n",
            "Epoch: 287, Train loss: 0.014, val loss : 5.924 Epoch time = 0.876s\n",
            "Epoch: 288, Train loss: 0.015, val loss : 5.884 Epoch time = 0.896s\n",
            "Epoch: 289, Train loss: 0.016, val loss : 5.910 Epoch time = 0.869s\n",
            "Epoch: 290, Train loss: 0.013, val loss : 5.853 Epoch time = 0.938s\n",
            "Epoch: 291, Train loss: 0.015, val loss : 6.019 Epoch time = 0.872s\n",
            "Epoch: 292, Train loss: 0.014, val loss : 5.929 Epoch time = 0.885s\n",
            "Epoch: 293, Train loss: 0.014, val loss : 6.443 Epoch time = 0.947s\n",
            "Epoch: 294, Train loss: 0.012, val loss : 6.102 Epoch time = 0.930s\n",
            "Epoch: 295, Train loss: 0.013, val loss : 6.233 Epoch time = 0.884s\n",
            "Epoch: 296, Train loss: 0.014, val loss : 5.779 Epoch time = 0.904s\n",
            "Epoch: 297, Train loss: 0.014, val loss : 5.940 Epoch time = 0.870s\n",
            "Epoch: 298, Train loss: 0.014, val loss : 6.179 Epoch time = 0.927s\n",
            "Epoch: 299, Train loss: 0.013, val loss : 5.953 Epoch time = 0.862s\n",
            "Epoch: 300, Train loss: 0.012, val loss : 5.937 Epoch time = 0.892s\n"
          ]
        }
      ],
      "source": [
        "for epoch in range(1, NUM_EPOCHS+1):\n",
        "    start_time = time.time()\n",
        "    train_loss = train_epoch(transformer, train_iter, optimizer)\n",
        "#     if epoch % 5 == 0:\n",
        "    val_loss = evaluate(transformer, val_iter)\n",
        "    end_time = time.time()\n",
        "    print((f\"Epoch: {epoch}, Train loss: {train_loss:.3f}, val loss : {val_loss:.3f} \"\n",
        "          f\"Epoch time = {(end_time - start_time):.3f}s\"))\n",
        "\n",
        "\n",
        "    # save model + checkpoint to resume training later\n",
        "    torch.save({\n",
        "      'epoch': NUM_EPOCHS,\n",
        "      'model_state_dict': transformer.state_dict(),\n",
        "      'optimizer_state_dict': optimizer.state_dict(),\n",
        "      'loss': train_loss,\n",
        "      }, '/content/drive/MyDrive/chittagong_language/model/model_checkpoint.tar')"
      ]
    },
    {
      "cell_type": "markdown",
      "source": [
        "## 10. Evaluate Model"
      ],
      "metadata": {
        "id": "gtRbaGUbR5RB"
      },
      "id": "gtRbaGUbR5RB"
    },
    {
      "cell_type": "code",
      "execution_count": 54,
      "id": "bcc050c2",
      "metadata": {
        "id": "bcc050c2"
      },
      "outputs": [],
      "source": [
        "device = torch.device('cuda' if torch.cuda.is_available() else 'cpu')"
      ]
    },
    {
      "cell_type": "code",
      "execution_count": 56,
      "id": "83fa543b",
      "metadata": {
        "id": "83fa543b"
      },
      "outputs": [],
      "source": [
        "def greedy_decode(model, src, src_mask, max_len, start_symbol):\n",
        "    src = src.to(device)\n",
        "    src_mask = src_mask.to(device)\n",
        "    memory = model.encode(src, src_mask)\n",
        "    ys = torch.ones(1, 1).fill_(start_symbol).type(torch.long).to(device)\n",
        "    for i in range(max_len-1):\n",
        "        memory = memory.to(device)\n",
        "        memory_mask = torch.zeros(ys.shape[0], memory.shape[0]).to(device).type(torch.bool)\n",
        "        tgt_mask = (generate_square_subsequent_mask(ys.size(0))\n",
        "                                    .type(torch.bool)).to(device)\n",
        "        out = model.decode(ys, memory, tgt_mask)\n",
        "        out = out.transpose(0, 1)\n",
        "        prob = model.generator(out[:, -1])\n",
        "        _, next_word = torch.max(prob, dim = 1)\n",
        "        next_word = next_word.item()\n",
        "        ys = torch.cat([ys,torch.ones(1, 1).type_as(src.data).fill_(next_word)], dim=0)\n",
        "        if next_word == EOS_IDX:\n",
        "            break\n",
        "    return ys\n",
        "\n",
        "def translate(model, src, src_vocab, tgt_vocab, src_tokenizer):\n",
        "    model.eval()\n",
        "    tokens = [BOS_IDX] + [src_vocab.get_stoi()[tok] for tok in src_tokenizer.encode(src, out_type=str)]+ [EOS_IDX]\n",
        "    num_tokens = len(tokens)\n",
        "    src = (torch.LongTensor(tokens).reshape(num_tokens, 1) )\n",
        "    src_mask = (torch.zeros(num_tokens, num_tokens)).type(torch.bool)\n",
        "    tgt_tokens = greedy_decode(model,  src, src_mask, max_len=num_tokens + 5, start_symbol=BOS_IDX).flatten()\n",
        "    p_text = \" \".join([tgt_vocab.get_itos()[tok] for tok in tgt_tokens]).replace(\"<bos>\", \"\").replace(\"<eos>\", \"\")\n",
        "    pts = \" \".join(list(map(lambda x : x , p_text.replace(\" \", \"\").split(\"▁\"))))\n",
        "    return pts.strip()"
      ]
    },
    {
      "cell_type": "code",
      "execution_count": 57,
      "id": "6a9cfe19",
      "metadata": {
        "id": "6a9cfe19",
        "colab": {
          "base_uri": "https://localhost:8080/"
        },
        "outputId": "dcde3168-b93f-49e4-c14e-0fb657d1abd7"
      },
      "outputs": [
        {
          "output_type": "stream",
          "name": "stdout",
          "text": [
            "input : বালা অতে টিয়া ন লাগে\n",
            "prediction: টাকা পয়সার হিসেব কই\n"
          ]
        }
      ],
      "source": [
        "# for i in data[:10]:\n",
        "text = \"বালা অতে টিয়া ন লাগে\"\n",
        "pre = translate(transformer, text, full_chattogram_vocab, full_bangla_vocab, chattogram_tokenizer)\n",
        "print(f\"input : {text}\")\n",
        "print(f\"prediction: {pre}\")"
      ]
    },
    {
      "cell_type": "code",
      "execution_count": null,
      "id": "1b9a650a",
      "metadata": {
        "id": "1b9a650a"
      },
      "outputs": [],
      "source": [
        "# itos = ja_vocab.itos()"
      ]
    },
    {
      "cell_type": "markdown",
      "source": [
        "## 11. Save Vocab and PyTorch model in Local Storage"
      ],
      "metadata": {
        "id": "WnyBCSDWSE7A"
      },
      "id": "WnyBCSDWSE7A"
    },
    {
      "cell_type": "code",
      "execution_count": 58,
      "id": "b0285218",
      "metadata": {
        "id": "b0285218"
      },
      "outputs": [],
      "source": [
        "import pickle\n",
        "full_chattogram_vocab_pickle_file='/content/drive/MyDrive/chittagong_language/model/full_chattogram_vocab.pkl'\n",
        "full_bangla_vocab_pickle_file='/content/drive/MyDrive/chittagong_language/model/full_bangla_vocab.pkl'\n",
        "# open a file, where you want to store the data\n",
        "file = open(full_chattogram_vocab_pickle_file, 'wb')\n",
        "# dump information to that file\n",
        "pickle.dump(full_chattogram_vocab, file)\n",
        "file.close()\n",
        "file = open(full_bangla_vocab_pickle_file, 'wb')\n",
        "pickle.dump(full_bangla_vocab, file)\n",
        "file.close()"
      ]
    },
    {
      "cell_type": "code",
      "execution_count": 59,
      "id": "d5d2adae",
      "metadata": {
        "id": "d5d2adae"
      },
      "outputs": [],
      "source": [
        "# save model + checkpoint to resume training later\n",
        "torch.save({\n",
        "  'epoch': NUM_EPOCHS,\n",
        "  'model_state_dict': transformer.state_dict(),\n",
        "  'optimizer_state_dict': optimizer.state_dict(),\n",
        "  'loss': train_loss,\n",
        "  }, '/content/drive/MyDrive/chittagong_language/model/seq2seq_model_checkpoint.pt')"
      ]
    },
    {
      "cell_type": "markdown",
      "id": "daada9c8",
      "metadata": {
        "id": "daada9c8"
      },
      "source": [
        "## 13. Inference\n",
        "Here the inference script after load sentencepice train tokenizer model, vocal and train model"
      ]
    },
    {
      "cell_type": "code",
      "execution_count": null,
      "id": "e4054145",
      "metadata": {
        "id": "e4054145"
      },
      "outputs": [],
      "source": [
        "device = torch.device('cuda' if torch.cuda.is_available() else 'cpu')"
      ]
    },
    {
      "cell_type": "code",
      "execution_count": 60,
      "id": "ac2a172d",
      "metadata": {
        "id": "ac2a172d"
      },
      "outputs": [],
      "source": [
        "chattogram_model_path='/content/drive/MyDrive/chittagong_language/model/chattogram_model.model'\n",
        "bangla_model_path='/content/drive/MyDrive/chittagong_language/model/bangla_model.model'\n",
        "chattogram_tokenizer = spm.SentencePieceProcessor(model_file=chattogram_model_path)\n",
        "bangla_tokenizer = spm.SentencePieceProcessor(model_file=bangla_model_path)"
      ]
    },
    {
      "cell_type": "code",
      "execution_count": 61,
      "id": "9d3e70f9",
      "metadata": {
        "id": "9d3e70f9"
      },
      "outputs": [],
      "source": [
        "chattogram_vocab_file_path='/content/drive/MyDrive/chittagong_language/model/full_chattogram_vocab.pkl'\n",
        "file = open(chattogram_vocab_file_path, 'rb')\n",
        "chattogram_vocab = pickle.load(file)\n",
        "file.close()"
      ]
    },
    {
      "cell_type": "code",
      "execution_count": 62,
      "id": "bdaf63e1",
      "metadata": {
        "id": "bdaf63e1"
      },
      "outputs": [],
      "source": [
        "bangla_vocab_file_path='/content/drive/MyDrive/chittagong_language/model/full_bangla_vocab.pkl'\n",
        "file = open(bangla_vocab_file_path, 'rb')\n",
        "bangla_vocal = pickle.load(file)\n",
        "file.close()"
      ]
    },
    {
      "cell_type": "code",
      "execution_count": 64,
      "id": "164aba80",
      "metadata": {
        "id": "164aba80",
        "colab": {
          "base_uri": "https://localhost:8080/"
        },
        "outputId": "ff70d948-632f-4744-ee3a-52fa95d73ac6"
      },
      "outputs": [
        {
          "output_type": "execute_result",
          "data": {
            "text/plain": [
              "Seq2SeqTransformer(\n",
              "  (transformer_encoder): TransformerEncoder(\n",
              "    (layers): ModuleList(\n",
              "      (0-5): 6 x TransformerEncoderLayer(\n",
              "        (self_attn): MultiheadAttention(\n",
              "          (out_proj): NonDynamicallyQuantizableLinear(in_features=512, out_features=512, bias=True)\n",
              "        )\n",
              "        (linear1): Linear(in_features=512, out_features=512, bias=True)\n",
              "        (dropout): Dropout(p=0.1, inplace=False)\n",
              "        (linear2): Linear(in_features=512, out_features=512, bias=True)\n",
              "        (norm1): LayerNorm((512,), eps=1e-05, elementwise_affine=True)\n",
              "        (norm2): LayerNorm((512,), eps=1e-05, elementwise_affine=True)\n",
              "        (dropout1): Dropout(p=0.1, inplace=False)\n",
              "        (dropout2): Dropout(p=0.1, inplace=False)\n",
              "      )\n",
              "    )\n",
              "  )\n",
              "  (transformer_decoder): TransformerDecoder(\n",
              "    (layers): ModuleList(\n",
              "      (0-5): 6 x TransformerDecoderLayer(\n",
              "        (self_attn): MultiheadAttention(\n",
              "          (out_proj): NonDynamicallyQuantizableLinear(in_features=512, out_features=512, bias=True)\n",
              "        )\n",
              "        (multihead_attn): MultiheadAttention(\n",
              "          (out_proj): NonDynamicallyQuantizableLinear(in_features=512, out_features=512, bias=True)\n",
              "        )\n",
              "        (linear1): Linear(in_features=512, out_features=512, bias=True)\n",
              "        (dropout): Dropout(p=0.1, inplace=False)\n",
              "        (linear2): Linear(in_features=512, out_features=512, bias=True)\n",
              "        (norm1): LayerNorm((512,), eps=1e-05, elementwise_affine=True)\n",
              "        (norm2): LayerNorm((512,), eps=1e-05, elementwise_affine=True)\n",
              "        (norm3): LayerNorm((512,), eps=1e-05, elementwise_affine=True)\n",
              "        (dropout1): Dropout(p=0.1, inplace=False)\n",
              "        (dropout2): Dropout(p=0.1, inplace=False)\n",
              "        (dropout3): Dropout(p=0.1, inplace=False)\n",
              "      )\n",
              "    )\n",
              "  )\n",
              "  (generator): Linear(in_features=512, out_features=806, bias=True)\n",
              "  (src_tok_emb): TokenEmbedding(\n",
              "    (embedding): Embedding(906, 512)\n",
              "  )\n",
              "  (tgt_tok_emb): TokenEmbedding(\n",
              "    (embedding): Embedding(806, 512)\n",
              "  )\n",
              "  (positional_encoding): PositionalEncoding(\n",
              "    (dropout): Dropout(p=0.1, inplace=False)\n",
              "  )\n",
              ")"
            ]
          },
          "metadata": {},
          "execution_count": 64
        }
      ],
      "source": [
        "PATH = \"/content/drive/MyDrive/chittagong_language/model/seq2seq_model_checkpoint.pt\"\n",
        "\n",
        "model = Seq2SeqTransformer(NUM_ENCODER_LAYERS, NUM_DECODER_LAYERS,\n",
        "                                 EMB_SIZE, SRC_VOCAB_SIZE, TGT_VOCAB_SIZE,\n",
        "                                 FFN_HID_DIM)\n",
        "model.to(device)\n",
        "checkpoint = torch.load(PATH)\n",
        "model.load_state_dict(checkpoint['model_state_dict'])\n",
        "optimizer.load_state_dict(checkpoint['optimizer_state_dict'])\n",
        "epoch = checkpoint['epoch']\n",
        "loss = checkpoint['loss']\n",
        "\n",
        "model.eval()"
      ]
    },
    {
      "cell_type": "code",
      "execution_count": 66,
      "id": "f7ffcbab",
      "metadata": {
        "id": "f7ffcbab"
      },
      "outputs": [],
      "source": [
        "\n",
        "def greedy_decode(model, src, src_mask, max_len, start_symbol):\n",
        "    src = src.to(device)\n",
        "    src_mask = src_mask.to(device)\n",
        "    memory = model.encode(src, src_mask)\n",
        "    ys = torch.ones(1, 1).fill_(start_symbol).type(torch.long).to(device)\n",
        "    for i in range(max_len-1):\n",
        "        memory = memory.to(device)\n",
        "        memory_mask = torch.zeros(ys.shape[0], memory.shape[0]).to(device).type(torch.bool)\n",
        "        tgt_mask = (generate_square_subsequent_mask(ys.size(0))\n",
        "                                    .type(torch.bool)).to(device)\n",
        "        out = model.decode(ys, memory, tgt_mask)\n",
        "        out = out.transpose(0, 1)\n",
        "        prob = model.generator(out[:, -1])\n",
        "        _, next_word = torch.max(prob, dim = 1)\n",
        "        next_word = next_word.item()\n",
        "        ys = torch.cat([ys,torch.ones(1, 1).type_as(src.data).fill_(next_word)], dim=0)\n",
        "        if next_word == EOS_IDX:\n",
        "            break\n",
        "    return ys\n",
        "\n",
        "def translate(model, src, src_vocab, tgt_vocab, src_tokenizer):\n",
        "#     model.eval()\n",
        "    tokens = [BOS_IDX] + [src_vocab.get_stoi()[tok] for tok in src_tokenizer.encode(src, out_type=str)]+ [EOS_IDX]\n",
        "    num_tokens = len(tokens)\n",
        "    src = (torch.LongTensor(tokens).reshape(num_tokens, 1) )\n",
        "    src_mask = (torch.zeros(num_tokens, num_tokens)).type(torch.bool)\n",
        "    tgt_tokens = greedy_decode(model,  src, src_mask, max_len=num_tokens + 5, start_symbol=BOS_IDX).flatten()\n",
        "    p_text = \" \".join([tgt_vocab.get_itos()[tok] for tok in tgt_tokens]).replace(\"<bos>\", \"\").replace(\"<eos>\", \"\")\n",
        "    pts = \" \".join(list(map(lambda x : x , p_text.replace(\" \", \"\").split(\"▁\"))))\n",
        "    return pts.strip()"
      ]
    },
    {
      "cell_type": "markdown",
      "source": [
        "## 14. Generate Samples with Model"
      ],
      "metadata": {
        "id": "gWQRpfi8SVnB"
      },
      "id": "gWQRpfi8SVnB"
    },
    {
      "cell_type": "code",
      "execution_count": 67,
      "id": "544fa57e",
      "metadata": {
        "id": "544fa57e",
        "colab": {
          "base_uri": "https://localhost:8080/"
        },
        "outputId": "8a8dc072-ad3a-4c40-f125-e0b3763c6eb2"
      },
      "outputs": [
        {
          "output_type": "stream",
          "name": "stdout",
          "text": [
            "input : মাচ এবে হাঠন পরিব\n",
            "Ground Truth : মাছ এটা কাটতে হবে\n",
            "prediction: ওকে ধরতে হবে\n",
            "================================\n",
            "\n",
            "input : তুই আজিয়ে আইবানা\n",
            "Ground Truth : তুমি আজকে আসবা\n",
            "prediction: আমি তুমি বল।\n",
            "================================\n",
            "\n",
            "input : তুর লাই হথা আছে \n",
            "Ground Truth : তুর সাথে কথা আছে \n",
            "prediction: কথা আছে তুর সাথে\n",
            "================================\n",
            "\n",
            "input : ওগ্গ মাছ লাগিব \n",
            "Ground Truth : একটা মাছ লাগবে\n",
            "prediction: একটা বড় মাছ লাগবে\n",
            "================================\n",
            "\n",
            "input : হালিয়ে দেহা গরবে\n",
            "Ground Truth : কালকে দেখা করবেন \n",
            "prediction: এই যে, আপনাার হাট আসতে হবে\n",
            "================================\n",
            "\n",
            "input : তোর হবর আছে \n",
            "Ground Truth : তোমার বিপদ হবে\n",
            "prediction: তোমার খবর আছে\n",
            "================================\n",
            "\n",
            "input : হালিয়ে আইস্স\n",
            "Ground Truth : কালকে আসিয়েন\n",
            "prediction: আমি যাই\n",
            "================================\n",
            "\n",
            "input : তুই হন্ডে যর\n",
            "Ground Truth : তুমি কোথায় যাচ্ছ\n",
            "prediction: তুমি কোথায় যাচ্ছো?\n",
            "================================\n",
            "\n",
            "input : হানা ন হাবি\n",
            "Ground Truth : খাবার খাবি না\n",
            "prediction: কাকা না\n",
            "================================\n",
            "\n",
            "input : পুটলা এবে হার\n",
            "Ground Truth : পলিথিন টা কার\n",
            "prediction: এটা কার মেয়ে টা কী\n",
            "================================\n",
            "\n"
          ]
        }
      ],
      "source": [
        "for i in data[-10:]:\n",
        "    text = \"বালা অতে টিয়া ন লাগে\"\n",
        "    pre = translate(model, i[0],full_chattogram_vocab, full_bangla_vocab, chattogram_tokenizer)\n",
        "    print(f\"input : {i[0]}\")\n",
        "    print(f\"Ground Truth : {i[1]}\")\n",
        "    print(f\"prediction: {pre}\")\n",
        "    print(\"================================\\n\")"
      ]
    },
    {
      "cell_type": "code",
      "source": [
        "for i in data[:20]:\n",
        "    text = \"বালা অতে টিয়া ন লাগে\"\n",
        "    pre = translate(model, i[0],full_chattogram_vocab, full_bangla_vocab, chattogram_tokenizer)\n",
        "    print(f\"input : {i[0]}\")\n",
        "    print(f\"Ground Truth : {i[1]}\")\n",
        "    print(f\"prediction: {pre}\")\n",
        "    print(\"================================\\n\")"
      ],
      "metadata": {
        "colab": {
          "base_uri": "https://localhost:8080/"
        },
        "id": "T5uMYiaBYGFy",
        "outputId": "b35c6bfd-eb62-4af6-f85e-56d001bdd56b"
      },
      "id": "T5uMYiaBYGFy",
      "execution_count": 68,
      "outputs": [
        {
          "output_type": "stream",
          "name": "stdout",
          "text": [
            "input : অনেরা\n",
            "Ground Truth : আপনারা\n",
            "prediction: আপনারা\n",
            "================================\n",
            "\n",
            "input : অলপল\n",
            "Ground Truth : আগোছালো\n",
            "prediction: আগোছালো\n",
            "================================\n",
            "\n",
            "input : ফ্ইর\n",
            "Ground Truth : ভিক্ষুক\n",
            "prediction: ভিক্ষুক\n",
            "================================\n",
            "\n",
            "input : আজিয়া\n",
            "Ground Truth : আজকে\n",
            "prediction: আজকে\n",
            "================================\n",
            "\n",
            "input : কালিয়া\n",
            "Ground Truth : কালকে\n",
            "prediction: কালকে\n",
            "================================\n",
            "\n",
            "input : যন নাই\n",
            "Ground Truth : যেতে নাই\n",
            "prediction: যেতে নাই\n",
            "================================\n",
            "\n",
            "input : গত খাইল\n",
            "Ground Truth : গত কালকে\n",
            "prediction: গত কালকে\n",
            "================================\n",
            "\n",
            "input : ইতারে\n",
            "Ground Truth : তাকে\n",
            "prediction: তাকে\n",
            "================================\n",
            "\n",
            "input : অনেরে\n",
            "Ground Truth : আপনাকে\n",
            "prediction: আপনাকে\n",
            "================================\n",
            "\n",
            "input : আ্যাই\n",
            "Ground Truth : আমি\n",
            "prediction: আমি\n",
            "================================\n",
            "\n",
            "input : তুউই\n",
            "Ground Truth : তুমি\n",
            "prediction: তুমি\n",
            "================================\n",
            "\n",
            "input : গোসসা\n",
            "Ground Truth : রাগ\n",
            "prediction: রাগ\n",
            "================================\n",
            "\n",
            "input : ঐইন্না\n",
            "Ground Truth : এখন\n",
            "prediction: এখন\n",
            "================================\n",
            "\n",
            "input : আ্যাই ন ডরাই\n",
            "Ground Truth : আমি ভয় পাই না\n",
            "prediction: আমি ভয় পাই না\n",
            "================================\n",
            "\n",
            "input : ডর\n",
            "Ground Truth : ভয়\n",
            "prediction: ভয়\n",
            "================================\n",
            "\n",
            "input : উযু\n",
            "Ground Truth : সোজা\n",
            "prediction: সোজা\n",
            "================================\n",
            "\n",
            "input : আইস্সুন\n",
            "Ground Truth : আসবেন/আসছেন\n",
            "prediction: আসবেন/আসছেন\n",
            "================================\n",
            "\n",
            "input : অনেরা বিয়াকে আইবান\n",
            "Ground Truth : আপনারা সবাই আসবেন\n",
            "prediction: আপনারা সবাই আসবেন\n",
            "================================\n",
            "\n",
            "input : বেয়াকে\n",
            "Ground Truth : সবাই\n",
            "prediction: সবাই\n",
            "================================\n",
            "\n",
            "input : আইবেন/আইবান\n",
            "Ground Truth : আসবেন\n",
            "prediction: আসবেন\n",
            "================================\n",
            "\n"
          ]
        }
      ]
    },
    {
      "cell_type": "markdown",
      "source": [
        "## 15. Save the Inference Result into CSV File"
      ],
      "metadata": {
        "id": "uwS86o8ZSg4K"
      },
      "id": "uwS86o8ZSg4K"
    },
    {
      "cell_type": "code",
      "source": [
        "import pandas as pd\n",
        "\n",
        "# Create a list of dictionaries containing the data\n",
        "data_list = []\n",
        "for i in range(800):\n",
        "    input_text = data[i][0]  # Input Bangla text\n",
        "    ground_truth = data[i][1]  # Ground truth Standard Bangla text\n",
        "    prediction = translate(model, input_text, full_chattogram_vocab, full_bangla_vocab, chattogram_tokenizer)  # Translate input to Standard Bangla\n",
        "\n",
        "    data_list.append({\n",
        "        'Input Text': input_text,\n",
        "        'Ground Truth': ground_truth,\n",
        "        'Prediction': prediction\n",
        "    })\n",
        "\n",
        "# Create a DataFrame from the list of dictionaries\n",
        "df = pd.DataFrame(data_list)\n",
        "\n",
        "# Save DataFrame to a CSV file\n",
        "csv_file_path='/content/drive/MyDrive/chittagong_language/logs/predictions.csv'\n",
        "df.to_csv(csv_file_path, index=False)\n",
        "\n",
        "print(\"CSV file saved successfully.\")\n"
      ],
      "metadata": {
        "colab": {
          "base_uri": "https://localhost:8080/"
        },
        "id": "bmRxpZPhU60P",
        "outputId": "a40591cc-3bbb-4178-a6ff-ca0e0d5e0b73"
      },
      "id": "bmRxpZPhU60P",
      "execution_count": 69,
      "outputs": [
        {
          "output_type": "stream",
          "name": "stdout",
          "text": [
            "CSV file saved successfully.\n"
          ]
        }
      ]
    },
    {
      "cell_type": "code",
      "source": [
        "for i in data[:20]:\n",
        "    text = \"বালা অতে টিয়া ন লাগে\"\n",
        "    pre = translate(model, i[0],full_chattogram_vocab, full_bangla_vocab, chattogram_tokenizer)\n",
        "    print(f\"input : {i[0]}\")\n",
        "    print(f\"Ground Truth : {i[1]}\")\n",
        "    print(f\"prediction: {pre}\")\n",
        "    print(\"================================\\n\")"
      ],
      "metadata": {
        "id": "iYnF2pC8e76-",
        "colab": {
          "base_uri": "https://localhost:8080/"
        },
        "outputId": "5d50910c-fa40-4d8f-933e-8515ad5e8c37"
      },
      "id": "iYnF2pC8e76-",
      "execution_count": 70,
      "outputs": [
        {
          "output_type": "stream",
          "name": "stdout",
          "text": [
            "input : অনেরা\n",
            "Ground Truth : আপনারা\n",
            "prediction: আপনারা\n",
            "================================\n",
            "\n",
            "input : অলপল\n",
            "Ground Truth : আগোছালো\n",
            "prediction: আগোছালো\n",
            "================================\n",
            "\n",
            "input : ফ্ইর\n",
            "Ground Truth : ভিক্ষুক\n",
            "prediction: ভিক্ষুক\n",
            "================================\n",
            "\n",
            "input : আজিয়া\n",
            "Ground Truth : আজকে\n",
            "prediction: আজকে\n",
            "================================\n",
            "\n",
            "input : কালিয়া\n",
            "Ground Truth : কালকে\n",
            "prediction: কালকে\n",
            "================================\n",
            "\n",
            "input : যন নাই\n",
            "Ground Truth : যেতে নাই\n",
            "prediction: যেতে নাই\n",
            "================================\n",
            "\n",
            "input : গত খাইল\n",
            "Ground Truth : গত কালকে\n",
            "prediction: গত কালকে\n",
            "================================\n",
            "\n",
            "input : ইতারে\n",
            "Ground Truth : তাকে\n",
            "prediction: তাকে\n",
            "================================\n",
            "\n",
            "input : অনেরে\n",
            "Ground Truth : আপনাকে\n",
            "prediction: আপনাকে\n",
            "================================\n",
            "\n",
            "input : আ্যাই\n",
            "Ground Truth : আমি\n",
            "prediction: আমি\n",
            "================================\n",
            "\n",
            "input : তুউই\n",
            "Ground Truth : তুমি\n",
            "prediction: তুমি\n",
            "================================\n",
            "\n",
            "input : গোসসা\n",
            "Ground Truth : রাগ\n",
            "prediction: রাগ\n",
            "================================\n",
            "\n",
            "input : ঐইন্না\n",
            "Ground Truth : এখন\n",
            "prediction: এখন\n",
            "================================\n",
            "\n",
            "input : আ্যাই ন ডরাই\n",
            "Ground Truth : আমি ভয় পাই না\n",
            "prediction: আমি ভয় পাই না\n",
            "================================\n",
            "\n",
            "input : ডর\n",
            "Ground Truth : ভয়\n",
            "prediction: ভয়\n",
            "================================\n",
            "\n",
            "input : উযু\n",
            "Ground Truth : সোজা\n",
            "prediction: সোজা\n",
            "================================\n",
            "\n",
            "input : আইস্সুন\n",
            "Ground Truth : আসবেন/আসছেন\n",
            "prediction: আসবেন/আসছেন\n",
            "================================\n",
            "\n",
            "input : অনেরা বিয়াকে আইবান\n",
            "Ground Truth : আপনারা সবাই আসবেন\n",
            "prediction: আপনারা সবাই আসবেন\n",
            "================================\n",
            "\n",
            "input : বেয়াকে\n",
            "Ground Truth : সবাই\n",
            "prediction: সবাই\n",
            "================================\n",
            "\n",
            "input : আইবেন/আইবান\n",
            "Ground Truth : আসবেন\n",
            "prediction: আসবেন\n",
            "================================\n",
            "\n"
          ]
        }
      ]
    },
    {
      "cell_type": "markdown",
      "source": [
        "## 16. Calculate Model Performance"
      ],
      "metadata": {
        "id": "bY8u_Jc_SuGJ"
      },
      "id": "bY8u_Jc_SuGJ"
    },
    {
      "cell_type": "code",
      "source": [
        "def calculate_accuracy(model, data, full_chattogram_vocab, full_bangla_vocab, chattogram_tokenizer):\n",
        "    total = 0\n",
        "    correct = 0\n",
        "\n",
        "    for i in data:\n",
        "        input_text = i[0]  # Input Bangla text\n",
        "        ground_truth = i[1]  # Ground truth Standard Bangla text\n",
        "        prediction = translate(model, i[0], full_chattogram_vocab, full_bangla_vocab, chattogram_tokenizer)  # Translate input to Standard Bangla\n",
        "\n",
        "        # Check if prediction matches ground truth\n",
        "        if prediction.strip() == ground_truth.strip():\n",
        "            correct += 1\n",
        "        total += 1\n",
        "\n",
        "    accuracy = correct / total\n",
        "    return accuracy\n"
      ],
      "metadata": {
        "id": "gjgqRRt1d9VD"
      },
      "id": "gjgqRRt1d9VD",
      "execution_count": 71,
      "outputs": []
    },
    {
      "cell_type": "code",
      "source": [
        "# Calculate accuracy of full dataset\n",
        "accuracy = calculate_accuracy(model, data, full_chattogram_vocab, full_bangla_vocab, chattogram_tokenizer)\n",
        "print(\"accuracy:\", accuracy)"
      ],
      "metadata": {
        "colab": {
          "base_uri": "https://localhost:8080/"
        },
        "id": "1zmXqn1oeJHb",
        "outputId": "0993d564-8074-4a64-aea5-394c04a819b4"
      },
      "id": "1zmXqn1oeJHb",
      "execution_count": 72,
      "outputs": [
        {
          "output_type": "stream",
          "name": "stdout",
          "text": [
            "accuracy: 0.50375\n"
          ]
        }
      ]
    },
    {
      "cell_type": "code",
      "source": [
        "# Calculate accuracy of full dataset\n",
        "train_accuracy = calculate_accuracy(model, data[:600], full_chattogram_vocab, full_bangla_vocab, chattogram_tokenizer)\n",
        "print(\"train accuracy:\", train_accuracy)"
      ],
      "metadata": {
        "colab": {
          "base_uri": "https://localhost:8080/"
        },
        "id": "89t0o6Z4fsAO",
        "outputId": "3a717aaf-f0dd-415b-c459-0e30357d1df0"
      },
      "id": "89t0o6Z4fsAO",
      "execution_count": 73,
      "outputs": [
        {
          "output_type": "stream",
          "name": "stdout",
          "text": [
            "train accuracy: 0.6666666666666666\n"
          ]
        }
      ]
    },
    {
      "cell_type": "code",
      "source": [
        "# Calculate accuracy of full dataset\n",
        "val_accuracy = calculate_accuracy(model, data[600:], full_chattogram_vocab, full_bangla_vocab, chattogram_tokenizer)\n",
        "print(\"val accuracy:\", val_accuracy)"
      ],
      "metadata": {
        "colab": {
          "base_uri": "https://localhost:8080/"
        },
        "id": "2TB23nmLf0OY",
        "outputId": "e038f6de-04c2-4373-f85a-d066fb98a4f7"
      },
      "id": "2TB23nmLf0OY",
      "execution_count": 74,
      "outputs": [
        {
          "output_type": "stream",
          "name": "stdout",
          "text": [
            "val accuracy: 0.015\n"
          ]
        }
      ]
    },
    {
      "cell_type": "code",
      "execution_count": null,
      "id": "ed68c264",
      "metadata": {
        "id": "ed68c264"
      },
      "outputs": [],
      "source": []
    }
  ],
  "metadata": {
    "kernelspec": {
      "display_name": "Python 3",
      "name": "python3"
    },
    "language_info": {
      "codemirror_mode": {
        "name": "ipython",
        "version": 3
      },
      "file_extension": ".py",
      "mimetype": "text/x-python",
      "name": "python",
      "nbconvert_exporter": "python",
      "pygments_lexer": "ipython3",
      "version": "3.8.13"
    },
    "vscode": {
      "interpreter": {
        "hash": "916dbcbb3f70747c44a77c7bcd40155683ae19c65e1c03b4aa3499c5328201f1"
      }
    },
    "colab": {
      "provenance": [],
      "gpuType": "T4",
      "toc_visible": true,
      "include_colab_link": true
    },
    "accelerator": "GPU"
  },
  "nbformat": 4,
  "nbformat_minor": 5
}